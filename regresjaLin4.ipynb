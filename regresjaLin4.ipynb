{
  "nbformat": 4,
  "nbformat_minor": 0,
  "metadata": {
    "colab": {
      "name": "regresjaLin4.ipynb",
      "provenance": [],
      "collapsed_sections": [],
      "authorship_tag": "ABX9TyNlf/KL4A+qjvN77IdjKZRe",
      "include_colab_link": true
    },
    "kernelspec": {
      "name": "python3",
      "display_name": "Python 3"
    }
  },
  "cells": [
    {
      "cell_type": "markdown",
      "metadata": {
        "id": "view-in-github",
        "colab_type": "text"
      },
      "source": [
        "<a href=\"https://colab.research.google.com/github/ciepielajan/SDA_SMOG_Wawelski/blob/main/regresjaLin4.ipynb\" target=\"_parent\"><img src=\"https://colab.research.google.com/assets/colab-badge.svg\" alt=\"Open In Colab\"/></a>"
      ]
    },
    {
      "cell_type": "code",
      "metadata": {
        "id": "NEjouxe1CNIZ"
      },
      "source": [
        "import pandas as pd\n",
        "import numpy as np\n",
        "import matplotlib.pyplot as plt\n",
        "from sklearn.linear_model import LinearRegression\n",
        "# from google.colab import files\n",
        "# uploaded = files.upload()"
      ],
      "execution_count": null,
      "outputs": []
    },
    {
      "cell_type": "code",
      "metadata": {
        "id": "ssp53UMXCtPW",
        "colab": {
          "base_uri": "https://localhost:8080/",
          "height": 204
        },
        "outputId": "711f0dd5-e5df-4c49-ecca-7e12eb443543"
      },
      "source": [
        "df = pd.read_csv('fires_thefts.csv')\n",
        "df.head()"
      ],
      "execution_count": null,
      "outputs": [
        {
          "output_type": "execute_result",
          "data": {
            "text/html": [
              "<div>\n",
              "<style scoped>\n",
              "    .dataframe tbody tr th:only-of-type {\n",
              "        vertical-align: middle;\n",
              "    }\n",
              "\n",
              "    .dataframe tbody tr th {\n",
              "        vertical-align: top;\n",
              "    }\n",
              "\n",
              "    .dataframe thead th {\n",
              "        text-align: right;\n",
              "    }\n",
              "</style>\n",
              "<table border=\"1\" class=\"dataframe\">\n",
              "  <thead>\n",
              "    <tr style=\"text-align: right;\">\n",
              "      <th></th>\n",
              "      <th>fires</th>\n",
              "      <th>thefts</th>\n",
              "    </tr>\n",
              "  </thead>\n",
              "  <tbody>\n",
              "    <tr>\n",
              "      <th>0</th>\n",
              "      <td>6.2</td>\n",
              "      <td>29</td>\n",
              "    </tr>\n",
              "    <tr>\n",
              "      <th>1</th>\n",
              "      <td>9.5</td>\n",
              "      <td>44</td>\n",
              "    </tr>\n",
              "    <tr>\n",
              "      <th>2</th>\n",
              "      <td>10.5</td>\n",
              "      <td>36</td>\n",
              "    </tr>\n",
              "    <tr>\n",
              "      <th>3</th>\n",
              "      <td>7.7</td>\n",
              "      <td>37</td>\n",
              "    </tr>\n",
              "    <tr>\n",
              "      <th>4</th>\n",
              "      <td>8.6</td>\n",
              "      <td>53</td>\n",
              "    </tr>\n",
              "  </tbody>\n",
              "</table>\n",
              "</div>"
            ],
            "text/plain": [
              "   fires  thefts\n",
              "0    6.2      29\n",
              "1    9.5      44\n",
              "2   10.5      36\n",
              "3    7.7      37\n",
              "4    8.6      53"
            ]
          },
          "metadata": {
            "tags": []
          },
          "execution_count": 654
        }
      ]
    },
    {
      "cell_type": "code",
      "metadata": {
        "id": "gOXaiTOoDDZb",
        "colab": {
          "base_uri": "https://localhost:8080/"
        },
        "outputId": "453b382c-9dfd-46f1-ccdd-bb1d198a113f"
      },
      "source": [
        "df.shape"
      ],
      "execution_count": null,
      "outputs": [
        {
          "output_type": "execute_result",
          "data": {
            "text/plain": [
              "(42, 2)"
            ]
          },
          "metadata": {
            "tags": []
          },
          "execution_count": 655
        }
      ]
    },
    {
      "cell_type": "code",
      "metadata": {
        "id": "j-uu2hkgDHxP"
      },
      "source": [
        "X = df['fires'].values \n",
        "Y = df['thefts'].values"
      ],
      "execution_count": null,
      "outputs": []
    },
    {
      "cell_type": "code",
      "metadata": {
        "id": "ThDFQ322Uf8N",
        "colab": {
          "base_uri": "https://localhost:8080/",
          "height": 265
        },
        "outputId": "9a4e8727-3b78-4e1b-aeaa-40cbafd65440"
      },
      "source": [
        "fig = plt.figure()\n",
        "plt.scatter(df['fires'], df['thefts'])\n",
        "plt.show()"
      ],
      "execution_count": null,
      "outputs": [
        {
          "output_type": "display_data",
          "data": {
            "image/png": "[encoded data removed]",
            "text/plain": [
              "<Figure size 432x288 with 1 Axes>"
            ]
          },
          "metadata": {
            "tags": [],
            "needs_background": "light"
          }
        }
      ]
    },
    {
      "cell_type": "code",
      "metadata": {
        "id": "KGCgJsj-VTYX"
      },
      "source": [
        "learning_rate = 0.001\n",
        "max_iteration = 100"
      ],
      "execution_count": null,
      "outputs": []
    },
    {
      "cell_type": "code",
      "metadata": {
        "id": "n4TuoAO6VYno"
      },
      "source": [
        "a = 0\n",
        "b = 0"
      ],
      "execution_count": null,
      "outputs": []
    },
    {
      "cell_type": "code",
      "metadata": {
        "id": "Jq5cRU48VdZ-"
      },
      "source": [
        "def hyp (a, b, X) :\n",
        "  return a * X + b"
      ],
      "execution_count": null,
      "outputs": []
    },
    {
      "cell_type": "code",
      "metadata": {
        "id": "byOkh0NyVjTh"
      },
      "source": [
        "# srednia z kwadratów odchyleń\n",
        "def loss (a, b, X, Y) :\n",
        "  return np.average(np.square(Y - hyp(a, b, X))) / 2"
      ],
      "execution_count": null,
      "outputs": []
    },
    {
      "cell_type": "code",
      "metadata": {
        "id": "TGsgyemX6Z2p",
        "colab": {
          "base_uri": "https://localhost:8080/"
        },
        "outputId": "095e2b70-3429-4116-c52a-48ed0a3eeadc"
      },
      "source": [
        "koszt = loss(2.13, 0.70, X, Y )\n",
        "koszt"
      ],
      "execution_count": null,
      "outputs": [
        {
          "output_type": "execute_result",
          "data": {
            "text/plain": [
              "228.41420441666665"
            ]
          },
          "metadata": {
            "tags": []
          },
          "execution_count": 683
        }
      ]
    },
    {
      "cell_type": "code",
      "metadata": {
        "id": "HQfukvpdVp_9"
      },
      "source": [
        "def gradient (a, b, X, Y) :\n",
        "  da = - np.average((Y - hyp(a, b, X)) * X)\n",
        "  db = - np.average(Y - hyp(a, b, X))\n",
        "  return (da, db)"
      ],
      "execution_count": null,
      "outputs": []
    },
    {
      "cell_type": "code",
      "metadata": {
        "id": "X7kIgk3FVu6x"
      },
      "source": [
        "def gradient_descent (a, b, X, Y, learning_rate, max_iteration) :\n",
        "  for i in range(max_iteration) :\n",
        "    da, db = gradient (a, b, X, Y)\n",
        "    a -= learning_rate * da\n",
        "    b -= learning_rate * db\n",
        "    if i % 10 == 0 :\n",
        "      print ('iteration : ', i, ' loss : ', loss(a, b, X, Y)) \n",
        "  return (a, b)"
      ],
      "execution_count": null,
      "outputs": []
    },
    {
      "cell_type": "code",
      "metadata": {
        "id": "JFfaM59FV6iG",
        "colab": {
          "base_uri": "https://localhost:8080/"
        },
        "outputId": "a5bf6a47-793b-479a-8f54-3824cb087fb3"
      },
      "source": [
        "a, b = gradient_descent (a, b, X, Y, learning_rate, max_iteration) "
      ],
      "execution_count": null,
      "outputs": [
        {
          "output_type": "stream",
          "text": [
            "iteration :  0  loss :  563.3205018558992\n",
            "iteration :  10  loss :  232.52116141433734\n",
            "iteration :  20  loss :  231.18606226101608\n",
            "iteration :  30  loss :  230.81825847675304\n",
            "iteration :  40  loss :  230.455902674828\n",
            "iteration :  50  loss :  230.09615979428045\n",
            "iteration :  60  loss :  229.73900286642498\n",
            "iteration :  70  loss :  229.38441327876842\n",
            "iteration :  80  loss :  229.03237257650827\n",
            "iteration :  90  loss :  228.68286243756998\n"
          ],
          "name": "stdout"
        }
      ]
    },
    {
      "cell_type": "code",
      "metadata": {
        "id": "38KPXJrFV_yp",
        "colab": {
          "base_uri": "https://localhost:8080/"
        },
        "outputId": "799c643b-e865-4951-d9e2-2044711748b9"
      },
      "source": [
        "a,b"
      ],
      "execution_count": null,
      "outputs": [
        {
          "output_type": "execute_result",
          "data": {
            "text/plain": [
              "(2.133896187123637, 0.7072529358445983)"
            ]
          },
          "metadata": {
            "tags": []
          },
          "execution_count": 666
        }
      ]
    },
    {
      "cell_type": "code",
      "metadata": {
        "id": "lucUDa5VWL6f"
      },
      "source": [
        "np_a, np_b = np.polyfit(X, Y, 1)"
      ],
      "execution_count": null,
      "outputs": []
    },
    {
      "cell_type": "code",
      "metadata": {
        "id": "eClT3N-QWQIH",
        "colab": {
          "base_uri": "https://localhost:8080/"
        },
        "outputId": "f98de3d3-6d0d-4a24-9fe1-4472a6aea2be"
      },
      "source": [
        "np_a, np_b"
      ],
      "execution_count": null,
      "outputs": [
        {
          "output_type": "execute_result",
          "data": {
            "text/plain": [
              "(1.3134560049239132, 16.995157232739572)"
            ]
          },
          "metadata": {
            "tags": []
          },
          "execution_count": 668
        }
      ]
    },
    {
      "cell_type": "code",
      "metadata": {
        "id": "_f-2B5YBWX4E",
        "colab": {
          "base_uri": "https://localhost:8080/",
          "height": 312
        },
        "outputId": "e63eb426-adce-431c-9035-b6c82493e43f"
      },
      "source": [
        "fig = plt.figure()\n",
        "\n",
        "# Generate data for plotting Line\n",
        "x = np.arange(0, 40)\n",
        "y = [a * x_i + b for x_i in x]\n",
        "\n",
        "# Generate data for plotting Line Numpy Linear Regression\n",
        "np_x = np.arange(0, 40)\n",
        "np_y = [np_a * x_i + np_b for x_i in np_x]\n",
        "\n",
        "# plot data and best-fit lines\n",
        "plt.plot(X, Y, 'o', x, y, '-', np_x, np_y, '--')\n",
        "plt.legend(loc='upper left', labels=['data points', 'best-fit line', 'numpy line'])\n",
        "\n",
        "fig.suptitle('Linear Regression : Expected Marks vs Hours of Study', fontsize=18)\n",
        "plt.xlabel('Hours of Study', fontsize=14)\n",
        "plt.ylabel('Expected Marks', fontsize=14)\n",
        "plt.show()"
      ],
      "execution_count": null,
      "outputs": [
        {
          "output_type": "display_data",
          "data": {
            "image/png": "[encoded data removed]",
            "text/plain": [
              "<Figure size 432x288 with 1 Axes>"
            ]
          },
          "metadata": {
            "tags": [],
            "needs_background": "light"
          }
        }
      ]
    },
    {
      "cell_type": "code",
      "metadata": {
        "id": "ewGGhgxVi6o_"
      },
      "source": [
        "# C = df[['fires']]\n",
        "# D = df['thefts']\n"
      ],
      "execution_count": null,
      "outputs": []
    },
    {
      "cell_type": "code",
      "metadata": {
        "id": "dVklNI1ijtto"
      },
      "source": [
        "# model = LinearRegression()\n",
        "# model.fit(C, D)"
      ],
      "execution_count": null,
      "outputs": []
    },
    {
      "cell_type": "code",
      "metadata": {
        "id": "NZN1u0zalKKT"
      },
      "source": [
        "# model.intercept_"
      ],
      "execution_count": null,
      "outputs": []
    },
    {
      "cell_type": "code",
      "metadata": {
        "id": "eDP0lY35lOYQ"
      },
      "source": [
        "# model.coef_"
      ],
      "execution_count": null,
      "outputs": []
    },
    {
      "cell_type": "code",
      "metadata": {
        "id": "ofdXS8Syo3Ri"
      },
      "source": [
        "learning_rate1 = 0.001\n",
        "max_iteration1 = 100"
      ],
      "execution_count": null,
      "outputs": []
    },
    {
      "cell_type": "code",
      "metadata": {
        "id": "yB7TfmpYt7fE"
      },
      "source": [
        "C= df['fires'].values \n",
        "D = df['thefts'].values"
      ],
      "execution_count": null,
      "outputs": []
    },
    {
      "cell_type": "code",
      "metadata": {
        "id": "Ioozat93pDlx"
      },
      "source": [
        "a1 = 1.3134560049239132\n",
        "b1 = 16.995157232739572"
      ],
      "execution_count": null,
      "outputs": []
    },
    {
      "cell_type": "code",
      "metadata": {
        "id": "S-vvZXsRpPAz"
      },
      "source": [
        "def hyp1 (a1, b1, C) :\n",
        "  return a1 * C + b1"
      ],
      "execution_count": null,
      "outputs": []
    },
    {
      "cell_type": "code",
      "metadata": {
        "id": "UNBwlNHMpbk2"
      },
      "source": [
        "def loss1 (a1, b1, C, D) :\n",
        "  return np.average(np.square(D - hyp1(a1, b1, C))) / 2"
      ],
      "execution_count": null,
      "outputs": []
    },
    {
      "cell_type": "code",
      "metadata": {
        "id": "XM7_nOlerV6D",
        "colab": {
          "base_uri": "https://localhost:8080/"
        },
        "outputId": "13c3efaa-5e23-4b88-aa38-77496a53ff89"
      },
      "source": [
        "result = loss1(a1, b1, C, D)\n",
        "print(result)"
      ],
      "execution_count": null,
      "outputs": [
        {
          "output_type": "stream",
          "text": [
            "180.4100782065511\n"
          ],
          "name": "stdout"
        }
      ]
    },
    {
      "cell_type": "code",
      "metadata": {
        "id": "1R6g9WbDpu46"
      },
      "source": [
        "def gradient1 (a1, b1, C, D) :\n",
        "  da1 = - np.average((D - hyp1(a1, b1, C)) * C)\n",
        "  db1 = - np.average(D - hyp1(a1, b1, C))\n",
        "  return (da1, db1)"
      ],
      "execution_count": null,
      "outputs": []
    },
    {
      "cell_type": "code",
      "metadata": {
        "id": "5joQcKMYp_ZZ"
      },
      "source": [
        "def gradient_descent1 (a1, b1, C, D, learning_rate1, max_iteration1) :\n",
        "  for i in range(max_iteration) :\n",
        "    da1, db1 = gradient1 (a1, b1, C, D)\n",
        "    a1 -= learning_rate1 * da1\n",
        "    b1 -= learning_rate1 * db1\n",
        "    if i % 10 == 0 :\n",
        "      print ('iteration : ', i, ' loss : ', loss1(a1, b1, C, D)) \n",
        "  return (a1, b1)"
      ],
      "execution_count": null,
      "outputs": []
    },
    {
      "cell_type": "code",
      "metadata": {
        "id": "YKIyCTz4qrnN",
        "colab": {
          "base_uri": "https://localhost:8080/"
        },
        "outputId": "6f311d78-2f21-4fbe-8cae-a0542b1973ec"
      },
      "source": [
        "a1, b1 = gradient_descent1 (a1, b1, C, D, learning_rate1, max_iteration1) "
      ],
      "execution_count": null,
      "outputs": [
        {
          "output_type": "stream",
          "text": [
            "iteration :  0  loss :  180.4100782065511\n",
            "iteration :  10  loss :  180.4100782065511\n",
            "iteration :  20  loss :  180.4100782065511\n",
            "iteration :  30  loss :  180.4100782065511\n",
            "iteration :  40  loss :  180.4100782065511\n",
            "iteration :  50  loss :  180.4100782065511\n",
            "iteration :  60  loss :  180.4100782065511\n",
            "iteration :  70  loss :  180.4100782065511\n",
            "iteration :  80  loss :  180.4100782065511\n",
            "iteration :  90  loss :  180.4100782065511\n"
          ],
          "name": "stdout"
        }
      ]
    }
  ]
}