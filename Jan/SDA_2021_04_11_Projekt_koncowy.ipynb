{
  "nbformat": 4,
  "nbformat_minor": 0,
  "metadata": {
    "colab": {
      "name": "SDA 2021.04.11 Projekt koncowy.ipynb",
      "provenance": [],
      "authorship_tag": "ABX9TyMqJJKmf6TBM87cdqRf6xb8",
      "include_colab_link": true
    },
    "kernelspec": {
      "name": "python3",
      "display_name": "Python 3"
    },
    "language_info": {
      "name": "python"
    }
  },
  "cells": [
    {
      "cell_type": "markdown",
      "metadata": {
        "id": "view-in-github",
        "colab_type": "text"
      },
      "source": [
        "<a href=\"https://colab.research.google.com/github/ciepielajan/SDA_SMOG_Wawelski/blob/main/Jan/SDA_2021_04_11_Projekt_koncowy.ipynb\" target=\"_parent\"><img src=\"https://colab.research.google.com/assets/colab-badge.svg\" alt=\"Open In Colab\"/></a>"
      ]
    },
    {
      "cell_type": "markdown",
      "metadata": {
        "id": "IMilnEK_M3f6"
      },
      "source": [
        "1 Załadowanie plików\n",
        "\n",
        "\n",
        "\n",
        "\n",
        "\n"
      ]
    },
    {
      "cell_type": "code",
      "metadata": {
        "id": "2qTk0xZQM3gM"
      },
      "source": [
        ""
      ],
      "execution_count": null,
      "outputs": []
    },
    {
      "cell_type": "code",
      "metadata": {
        "id": "rsOqBe2KpQUZ"
      },
      "source": [
        "import numpy as np\n",
        "import pandas as pd\n",
        "import matplotlib.pyplot as plt\n",
        "import glob"
      ],
      "execution_count": 1,
      "outputs": []
    },
    {
      "cell_type": "code",
      "metadata": {
        "colab": {
          "base_uri": "https://localhost:8080/"
        },
        "id": "Tk1La0pOqiey",
        "outputId": "89d15f8c-04d8-4531-c6df-dca7a1ad709c"
      },
      "source": [
        "!gdown --id \"186S03hFJ67K4eV1BWb2_6lZxAYG7dBM4\""
      ],
      "execution_count": 2,
      "outputs": [
        {
          "output_type": "stream",
          "text": [
            "Downloading...\n",
            "From: https://drive.google.com/uc?id=186S03hFJ67K4eV1BWb2_6lZxAYG7dBM4\n",
            "To: /content/archive.zip\n",
            "\r0.00B [00:00, ?B/s]\r2.39MB [00:00, 73.8MB/s]\n"
          ],
          "name": "stdout"
        }
      ]
    },
    {
      "cell_type": "code",
      "metadata": {
        "id": "8wy7HR98ux4V"
      },
      "source": [
        "!unzip -q \"archive.zip\" -d data/"
      ],
      "execution_count": 3,
      "outputs": []
    },
    {
      "cell_type": "code",
      "metadata": {
        "id": "TaB_Z51qpXFz",
        "colab": {
          "base_uri": "https://localhost:8080/"
        },
        "outputId": "4a9fd5f4-f9f7-47a5-c73f-19f9a62582fa"
      },
      "source": [
        "all_file_names = glob.glob(\"data/*2017.csv\")\n",
        "all_file_names = sorted(all_file_names)\n",
        "for counter, file in enumerate(all_file_names):\n",
        "    print(counter, file)"
      ],
      "execution_count": 4,
      "outputs": [
        {
          "output_type": "stream",
          "text": [
            "0 data/april-2017.csv\n",
            "1 data/august-2017.csv\n",
            "2 data/december-2017.csv\n",
            "3 data/february-2017.csv\n",
            "4 data/january-2017.csv\n",
            "5 data/july-2017.csv\n",
            "6 data/june-2017.csv\n",
            "7 data/march-2017.csv\n",
            "8 data/may-2017.csv\n",
            "9 data/november-2017.csv\n",
            "10 data/october-2017.csv\n",
            "11 data/september-2017.csv\n"
          ],
          "name": "stdout"
        }
      ]
    },
    {
      "cell_type": "code",
      "metadata": {
        "id": "mDpWELEPpfLf"
      },
      "source": [
        "jan = pd.read_csv(all_file_names[4])\n",
        "feb = pd.read_csv(all_file_names[3])\n",
        "mar = pd.read_csv(all_file_names[7])\n",
        "apr = pd.read_csv(all_file_names[0])\n",
        "may = pd.read_csv(all_file_names[8])\n",
        "jun = pd.read_csv(all_file_names[6])\n",
        "jul = pd.read_csv(all_file_names[5])\n",
        "aug = pd.read_csv(all_file_names[1])\n",
        "sep = pd.read_csv(all_file_names[11])\n",
        "octo = pd.read_csv(all_file_names[10])\n",
        "nov = pd.read_csv(all_file_names[9])\n",
        "dec = pd.read_csv(all_file_names[2])"
      ],
      "execution_count": 5,
      "outputs": []
    },
    {
      "cell_type": "code",
      "metadata": {
        "colab": {
          "base_uri": "https://localhost:8080/",
          "height": 146
        },
        "id": "2T5SDlp1yufC",
        "outputId": "210fe0f8-f8d3-49b4-d085-a4e4798b0468"
      },
      "source": [
        "dec.head(1)"
      ],
      "execution_count": 6,
      "outputs": [
        {
          "output_type": "execute_result",
          "data": {
            "text/html": [
              "<div>\n",
              "<style scoped>\n",
              "    .dataframe tbody tr th:only-of-type {\n",
              "        vertical-align: middle;\n",
              "    }\n",
              "\n",
              "    .dataframe tbody tr th {\n",
              "        vertical-align: top;\n",
              "    }\n",
              "\n",
              "    .dataframe thead th {\n",
              "        text-align: right;\n",
              "    }\n",
              "</style>\n",
              "<table border=\"1\" class=\"dataframe\">\n",
              "  <thead>\n",
              "    <tr style=\"text-align: right;\">\n",
              "      <th></th>\n",
              "      <th>UTC time</th>\n",
              "      <th>3_temperature</th>\n",
              "      <th>3_humidity</th>\n",
              "      <th>3_pressure</th>\n",
              "      <th>3_pm1</th>\n",
              "      <th>3_pm25</th>\n",
              "      <th>3_pm10</th>\n",
              "      <th>140_temperature</th>\n",
              "      <th>140_humidity</th>\n",
              "      <th>140_pressure</th>\n",
              "      <th>140_pm1</th>\n",
              "      <th>140_pm25</th>\n",
              "      <th>140_pm10</th>\n",
              "      <th>142_temperature</th>\n",
              "      <th>142_humidity</th>\n",
              "      <th>142_pressure</th>\n",
              "      <th>142_pm1</th>\n",
              "      <th>142_pm25</th>\n",
              "      <th>142_pm10</th>\n",
              "      <th>147_temperature</th>\n",
              "      <th>147_humidity</th>\n",
              "      <th>147_pressure</th>\n",
              "      <th>147_pm1</th>\n",
              "      <th>147_pm25</th>\n",
              "      <th>147_pm10</th>\n",
              "      <th>169_temperature</th>\n",
              "      <th>169_humidity</th>\n",
              "      <th>169_pressure</th>\n",
              "      <th>169_pm1</th>\n",
              "      <th>169_pm25</th>\n",
              "      <th>169_pm10</th>\n",
              "      <th>170_temperature</th>\n",
              "      <th>170_humidity</th>\n",
              "      <th>170_pressure</th>\n",
              "      <th>170_pm1</th>\n",
              "      <th>170_pm25</th>\n",
              "      <th>170_pm10</th>\n",
              "      <th>171_temperature</th>\n",
              "      <th>171_humidity</th>\n",
              "      <th>171_pressure</th>\n",
              "      <th>...</th>\n",
              "      <th>228_pressure</th>\n",
              "      <th>228_pm1</th>\n",
              "      <th>228_pm25</th>\n",
              "      <th>228_pm10</th>\n",
              "      <th>263_temperature</th>\n",
              "      <th>263_humidity</th>\n",
              "      <th>263_pressure</th>\n",
              "      <th>263_pm1</th>\n",
              "      <th>263_pm25</th>\n",
              "      <th>263_pm10</th>\n",
              "      <th>622_temperature</th>\n",
              "      <th>622_humidity</th>\n",
              "      <th>622_pressure</th>\n",
              "      <th>622_pm1</th>\n",
              "      <th>622_pm25</th>\n",
              "      <th>622_pm10</th>\n",
              "      <th>713_temperature</th>\n",
              "      <th>713_humidity</th>\n",
              "      <th>713_pressure</th>\n",
              "      <th>713_pm1</th>\n",
              "      <th>713_pm25</th>\n",
              "      <th>713_pm10</th>\n",
              "      <th>808_temperature</th>\n",
              "      <th>808_humidity</th>\n",
              "      <th>808_pressure</th>\n",
              "      <th>808_pm1</th>\n",
              "      <th>808_pm25</th>\n",
              "      <th>808_pm10</th>\n",
              "      <th>857_temperature</th>\n",
              "      <th>857_humidity</th>\n",
              "      <th>857_pressure</th>\n",
              "      <th>857_pm1</th>\n",
              "      <th>857_pm25</th>\n",
              "      <th>857_pm10</th>\n",
              "      <th>895_temperature</th>\n",
              "      <th>895_humidity</th>\n",
              "      <th>895_pressure</th>\n",
              "      <th>895_pm1</th>\n",
              "      <th>895_pm25</th>\n",
              "      <th>895_pm10</th>\n",
              "    </tr>\n",
              "  </thead>\n",
              "  <tbody>\n",
              "    <tr>\n",
              "      <th>0</th>\n",
              "      <td>2017-12-01T00:00:00</td>\n",
              "      <td>NaN</td>\n",
              "      <td>NaN</td>\n",
              "      <td>NaN</td>\n",
              "      <td>NaN</td>\n",
              "      <td>NaN</td>\n",
              "      <td>NaN</td>\n",
              "      <td>0</td>\n",
              "      <td>96</td>\n",
              "      <td>100542</td>\n",
              "      <td>39</td>\n",
              "      <td>38</td>\n",
              "      <td>68</td>\n",
              "      <td>NaN</td>\n",
              "      <td>NaN</td>\n",
              "      <td>NaN</td>\n",
              "      <td>NaN</td>\n",
              "      <td>NaN</td>\n",
              "      <td>NaN</td>\n",
              "      <td>NaN</td>\n",
              "      <td>NaN</td>\n",
              "      <td>NaN</td>\n",
              "      <td>NaN</td>\n",
              "      <td>NaN</td>\n",
              "      <td>NaN</td>\n",
              "      <td>-11.0</td>\n",
              "      <td>70.0</td>\n",
              "      <td>100479.0</td>\n",
              "      <td>25.0</td>\n",
              "      <td>23.0</td>\n",
              "      <td>40.0</td>\n",
              "      <td>0.0</td>\n",
              "      <td>72.0</td>\n",
              "      <td>100527.0</td>\n",
              "      <td>29.0</td>\n",
              "      <td>28.0</td>\n",
              "      <td>48.0</td>\n",
              "      <td>0</td>\n",
              "      <td>96</td>\n",
              "      <td>100531</td>\n",
              "      <td>...</td>\n",
              "      <td>100616.0</td>\n",
              "      <td>27.0</td>\n",
              "      <td>25.0</td>\n",
              "      <td>41.0</td>\n",
              "      <td>0.0</td>\n",
              "      <td>97.0</td>\n",
              "      <td>100602.0</td>\n",
              "      <td>25.0</td>\n",
              "      <td>21.0</td>\n",
              "      <td>35.0</td>\n",
              "      <td>0</td>\n",
              "      <td>97</td>\n",
              "      <td>100810</td>\n",
              "      <td>34</td>\n",
              "      <td>33</td>\n",
              "      <td>62</td>\n",
              "      <td>5.0</td>\n",
              "      <td>97.0</td>\n",
              "      <td>100036.0</td>\n",
              "      <td>12.0</td>\n",
              "      <td>10.0</td>\n",
              "      <td>18.0</td>\n",
              "      <td>NaN</td>\n",
              "      <td>NaN</td>\n",
              "      <td>NaN</td>\n",
              "      <td>NaN</td>\n",
              "      <td>NaN</td>\n",
              "      <td>NaN</td>\n",
              "      <td>0</td>\n",
              "      <td>88</td>\n",
              "      <td>100554</td>\n",
              "      <td>32</td>\n",
              "      <td>33</td>\n",
              "      <td>74</td>\n",
              "      <td>0</td>\n",
              "      <td>94</td>\n",
              "      <td>100607</td>\n",
              "      <td>34</td>\n",
              "      <td>36</td>\n",
              "      <td>66</td>\n",
              "    </tr>\n",
              "  </tbody>\n",
              "</table>\n",
              "<p>1 rows × 337 columns</p>\n",
              "</div>"
            ],
            "text/plain": [
              "              UTC time  3_temperature  3_humidity  ...  895_pm1  895_pm25  895_pm10\n",
              "0  2017-12-01T00:00:00            NaN         NaN  ...       34        36        66\n",
              "\n",
              "[1 rows x 337 columns]"
            ]
          },
          "metadata": {
            "tags": []
          },
          "execution_count": 6
        }
      ]
    },
    {
      "cell_type": "code",
      "metadata": {
        "id": "HhWVqMvJ17lZ"
      },
      "source": [
        "sensors = pd.read_csv(\"data/sensor_locations.csv\")"
      ],
      "execution_count": 7,
      "outputs": []
    },
    {
      "cell_type": "code",
      "metadata": {
        "colab": {
          "base_uri": "https://localhost:8080/",
          "height": 142
        },
        "id": "mVMao3Y64ap_",
        "outputId": "e6371734-2a1e-490d-ab9d-d62bf7c9a3c9"
      },
      "source": [
        "sensors[:3]"
      ],
      "execution_count": 8,
      "outputs": [
        {
          "output_type": "execute_result",
          "data": {
            "text/html": [
              "<div>\n",
              "<style scoped>\n",
              "    .dataframe tbody tr th:only-of-type {\n",
              "        vertical-align: middle;\n",
              "    }\n",
              "\n",
              "    .dataframe tbody tr th {\n",
              "        vertical-align: top;\n",
              "    }\n",
              "\n",
              "    .dataframe thead th {\n",
              "        text-align: right;\n",
              "    }\n",
              "</style>\n",
              "<table border=\"1\" class=\"dataframe\">\n",
              "  <thead>\n",
              "    <tr style=\"text-align: right;\">\n",
              "      <th></th>\n",
              "      <th>id</th>\n",
              "      <th>latitude</th>\n",
              "      <th>longitude</th>\n",
              "    </tr>\n",
              "  </thead>\n",
              "  <tbody>\n",
              "    <tr>\n",
              "      <th>0</th>\n",
              "      <td>3</td>\n",
              "      <td>50.057748</td>\n",
              "      <td>19.961375</td>\n",
              "    </tr>\n",
              "    <tr>\n",
              "      <th>1</th>\n",
              "      <td>140</td>\n",
              "      <td>50.057747</td>\n",
              "      <td>19.961374</td>\n",
              "    </tr>\n",
              "    <tr>\n",
              "      <th>2</th>\n",
              "      <td>142</td>\n",
              "      <td>50.084816</td>\n",
              "      <td>19.878066</td>\n",
              "    </tr>\n",
              "  </tbody>\n",
              "</table>\n",
              "</div>"
            ],
            "text/plain": [
              "    id   latitude  longitude\n",
              "0    3  50.057748  19.961375\n",
              "1  140  50.057747  19.961374\n",
              "2  142  50.084816  19.878066"
            ]
          },
          "metadata": {
            "tags": []
          },
          "execution_count": 8
        }
      ]
    },
    {
      "cell_type": "markdown",
      "metadata": {
        "id": "mw6td8DtM3gM"
      },
      "source": [
        "2 Połączenie wszystkich df\n"
      ]
    },
    {
      "cell_type": "code",
      "metadata": {
        "id": "Q3HhESL2NR0T"
      },
      "source": [
        ""
      ],
      "execution_count": 8,
      "outputs": []
    },
    {
      "cell_type": "code",
      "metadata": {
        "id": "vYg-u53OpiQV"
      },
      "source": [
        "year = pd.concat([jan, feb, mar, apr, may, jun, jul, aug, sep, octo, nov, dec])"
      ],
      "execution_count": 9,
      "outputs": []
    },
    {
      "cell_type": "code",
      "metadata": {
        "colab": {
          "base_uri": "https://localhost:8080/"
        },
        "id": "aAtjVCTv3jkp",
        "outputId": "debb9973-50a3-4f4c-c7c2-f6bf77230a58"
      },
      "source": [
        "year.shape"
      ],
      "execution_count": 10,
      "outputs": [
        {
          "output_type": "execute_result",
          "data": {
            "text/plain": [
              "(8593, 337)"
            ]
          },
          "metadata": {
            "tags": []
          },
          "execution_count": 10
        }
      ]
    },
    {
      "cell_type": "code",
      "metadata": {
        "colab": {
          "base_uri": "https://localhost:8080/",
          "height": 194
        },
        "id": "7Mkn67Lmy1De",
        "outputId": "c873c646-1556-4187-f5b7-34228407a4f0"
      },
      "source": [
        "year.head(2)"
      ],
      "execution_count": 11,
      "outputs": [
        {
          "output_type": "execute_result",
          "data": {
            "text/html": [
              "<div>\n",
              "<style scoped>\n",
              "    .dataframe tbody tr th:only-of-type {\n",
              "        vertical-align: middle;\n",
              "    }\n",
              "\n",
              "    .dataframe tbody tr th {\n",
              "        vertical-align: top;\n",
              "    }\n",
              "\n",
              "    .dataframe thead th {\n",
              "        text-align: right;\n",
              "    }\n",
              "</style>\n",
              "<table border=\"1\" class=\"dataframe\">\n",
              "  <thead>\n",
              "    <tr style=\"text-align: right;\">\n",
              "      <th></th>\n",
              "      <th>UTC time</th>\n",
              "      <th>3_temperature</th>\n",
              "      <th>3_humidity</th>\n",
              "      <th>3_pressure</th>\n",
              "      <th>3_pm1</th>\n",
              "      <th>3_pm25</th>\n",
              "      <th>3_pm10</th>\n",
              "      <th>140_temperature</th>\n",
              "      <th>140_humidity</th>\n",
              "      <th>140_pressure</th>\n",
              "      <th>140_pm1</th>\n",
              "      <th>140_pm25</th>\n",
              "      <th>140_pm10</th>\n",
              "      <th>142_temperature</th>\n",
              "      <th>142_humidity</th>\n",
              "      <th>142_pressure</th>\n",
              "      <th>142_pm1</th>\n",
              "      <th>142_pm25</th>\n",
              "      <th>142_pm10</th>\n",
              "      <th>147_temperature</th>\n",
              "      <th>147_humidity</th>\n",
              "      <th>147_pressure</th>\n",
              "      <th>147_pm1</th>\n",
              "      <th>147_pm25</th>\n",
              "      <th>147_pm10</th>\n",
              "      <th>169_temperature</th>\n",
              "      <th>169_humidity</th>\n",
              "      <th>169_pressure</th>\n",
              "      <th>169_pm1</th>\n",
              "      <th>169_pm25</th>\n",
              "      <th>169_pm10</th>\n",
              "      <th>170_temperature</th>\n",
              "      <th>170_humidity</th>\n",
              "      <th>170_pressure</th>\n",
              "      <th>170_pm1</th>\n",
              "      <th>170_pm25</th>\n",
              "      <th>170_pm10</th>\n",
              "      <th>171_temperature</th>\n",
              "      <th>171_humidity</th>\n",
              "      <th>171_pressure</th>\n",
              "      <th>...</th>\n",
              "      <th>228_pressure</th>\n",
              "      <th>228_pm1</th>\n",
              "      <th>228_pm25</th>\n",
              "      <th>228_pm10</th>\n",
              "      <th>263_temperature</th>\n",
              "      <th>263_humidity</th>\n",
              "      <th>263_pressure</th>\n",
              "      <th>263_pm1</th>\n",
              "      <th>263_pm25</th>\n",
              "      <th>263_pm10</th>\n",
              "      <th>622_temperature</th>\n",
              "      <th>622_humidity</th>\n",
              "      <th>622_pressure</th>\n",
              "      <th>622_pm1</th>\n",
              "      <th>622_pm25</th>\n",
              "      <th>622_pm10</th>\n",
              "      <th>713_temperature</th>\n",
              "      <th>713_humidity</th>\n",
              "      <th>713_pressure</th>\n",
              "      <th>713_pm1</th>\n",
              "      <th>713_pm25</th>\n",
              "      <th>713_pm10</th>\n",
              "      <th>808_temperature</th>\n",
              "      <th>808_humidity</th>\n",
              "      <th>808_pressure</th>\n",
              "      <th>808_pm1</th>\n",
              "      <th>808_pm25</th>\n",
              "      <th>808_pm10</th>\n",
              "      <th>857_temperature</th>\n",
              "      <th>857_humidity</th>\n",
              "      <th>857_pressure</th>\n",
              "      <th>857_pm1</th>\n",
              "      <th>857_pm25</th>\n",
              "      <th>857_pm10</th>\n",
              "      <th>895_temperature</th>\n",
              "      <th>895_humidity</th>\n",
              "      <th>895_pressure</th>\n",
              "      <th>895_pm1</th>\n",
              "      <th>895_pm25</th>\n",
              "      <th>895_pm10</th>\n",
              "    </tr>\n",
              "  </thead>\n",
              "  <tbody>\n",
              "    <tr>\n",
              "      <th>0</th>\n",
              "      <td>2017-01-01T00:00:00</td>\n",
              "      <td>NaN</td>\n",
              "      <td>NaN</td>\n",
              "      <td>NaN</td>\n",
              "      <td>NaN</td>\n",
              "      <td>NaN</td>\n",
              "      <td>NaN</td>\n",
              "      <td>NaN</td>\n",
              "      <td>NaN</td>\n",
              "      <td>NaN</td>\n",
              "      <td>NaN</td>\n",
              "      <td>NaN</td>\n",
              "      <td>NaN</td>\n",
              "      <td>-4.0</td>\n",
              "      <td>68.0</td>\n",
              "      <td>102279.0</td>\n",
              "      <td>115.0</td>\n",
              "      <td>127.0</td>\n",
              "      <td>196.0</td>\n",
              "      <td>-3.0</td>\n",
              "      <td>57.0</td>\n",
              "      <td>102505.0</td>\n",
              "      <td>196.0</td>\n",
              "      <td>222.0</td>\n",
              "      <td>346.0</td>\n",
              "      <td>0.0</td>\n",
              "      <td>49.0</td>\n",
              "      <td>102689.0</td>\n",
              "      <td>124.0</td>\n",
              "      <td>145.0</td>\n",
              "      <td>229.0</td>\n",
              "      <td>2.0</td>\n",
              "      <td>25.0</td>\n",
              "      <td>102379.0</td>\n",
              "      <td>148.0</td>\n",
              "      <td>176.0</td>\n",
              "      <td>277.0</td>\n",
              "      <td>1.0</td>\n",
              "      <td>27.0</td>\n",
              "      <td>102437.0</td>\n",
              "      <td>...</td>\n",
              "      <td>102253.0</td>\n",
              "      <td>184.0</td>\n",
              "      <td>218.0</td>\n",
              "      <td>322.0</td>\n",
              "      <td>0.0</td>\n",
              "      <td>54.0</td>\n",
              "      <td>101672.0</td>\n",
              "      <td>137.0</td>\n",
              "      <td>153.0</td>\n",
              "      <td>235.0</td>\n",
              "      <td>NaN</td>\n",
              "      <td>NaN</td>\n",
              "      <td>NaN</td>\n",
              "      <td>NaN</td>\n",
              "      <td>NaN</td>\n",
              "      <td>NaN</td>\n",
              "      <td>NaN</td>\n",
              "      <td>NaN</td>\n",
              "      <td>NaN</td>\n",
              "      <td>NaN</td>\n",
              "      <td>NaN</td>\n",
              "      <td>NaN</td>\n",
              "      <td>NaN</td>\n",
              "      <td>NaN</td>\n",
              "      <td>NaN</td>\n",
              "      <td>NaN</td>\n",
              "      <td>NaN</td>\n",
              "      <td>NaN</td>\n",
              "      <td>NaN</td>\n",
              "      <td>NaN</td>\n",
              "      <td>NaN</td>\n",
              "      <td>NaN</td>\n",
              "      <td>NaN</td>\n",
              "      <td>NaN</td>\n",
              "      <td>NaN</td>\n",
              "      <td>NaN</td>\n",
              "      <td>NaN</td>\n",
              "      <td>NaN</td>\n",
              "      <td>NaN</td>\n",
              "      <td>NaN</td>\n",
              "    </tr>\n",
              "    <tr>\n",
              "      <th>1</th>\n",
              "      <td>2017-01-01T01:00:00</td>\n",
              "      <td>NaN</td>\n",
              "      <td>NaN</td>\n",
              "      <td>NaN</td>\n",
              "      <td>NaN</td>\n",
              "      <td>NaN</td>\n",
              "      <td>NaN</td>\n",
              "      <td>NaN</td>\n",
              "      <td>NaN</td>\n",
              "      <td>NaN</td>\n",
              "      <td>NaN</td>\n",
              "      <td>NaN</td>\n",
              "      <td>NaN</td>\n",
              "      <td>-5.0</td>\n",
              "      <td>68.0</td>\n",
              "      <td>102228.0</td>\n",
              "      <td>105.0</td>\n",
              "      <td>116.0</td>\n",
              "      <td>180.0</td>\n",
              "      <td>-3.0</td>\n",
              "      <td>56.0</td>\n",
              "      <td>102454.0</td>\n",
              "      <td>187.0</td>\n",
              "      <td>211.0</td>\n",
              "      <td>330.0</td>\n",
              "      <td>0.0</td>\n",
              "      <td>49.0</td>\n",
              "      <td>102635.0</td>\n",
              "      <td>124.0</td>\n",
              "      <td>145.0</td>\n",
              "      <td>230.0</td>\n",
              "      <td>1.0</td>\n",
              "      <td>25.0</td>\n",
              "      <td>102325.0</td>\n",
              "      <td>131.0</td>\n",
              "      <td>156.0</td>\n",
              "      <td>247.0</td>\n",
              "      <td>0.0</td>\n",
              "      <td>27.0</td>\n",
              "      <td>102387.0</td>\n",
              "      <td>...</td>\n",
              "      <td>102201.0</td>\n",
              "      <td>146.0</td>\n",
              "      <td>169.0</td>\n",
              "      <td>250.0</td>\n",
              "      <td>0.0</td>\n",
              "      <td>52.0</td>\n",
              "      <td>101623.0</td>\n",
              "      <td>119.0</td>\n",
              "      <td>132.0</td>\n",
              "      <td>203.0</td>\n",
              "      <td>NaN</td>\n",
              "      <td>NaN</td>\n",
              "      <td>NaN</td>\n",
              "      <td>NaN</td>\n",
              "      <td>NaN</td>\n",
              "      <td>NaN</td>\n",
              "      <td>NaN</td>\n",
              "      <td>NaN</td>\n",
              "      <td>NaN</td>\n",
              "      <td>NaN</td>\n",
              "      <td>NaN</td>\n",
              "      <td>NaN</td>\n",
              "      <td>NaN</td>\n",
              "      <td>NaN</td>\n",
              "      <td>NaN</td>\n",
              "      <td>NaN</td>\n",
              "      <td>NaN</td>\n",
              "      <td>NaN</td>\n",
              "      <td>NaN</td>\n",
              "      <td>NaN</td>\n",
              "      <td>NaN</td>\n",
              "      <td>NaN</td>\n",
              "      <td>NaN</td>\n",
              "      <td>NaN</td>\n",
              "      <td>NaN</td>\n",
              "      <td>NaN</td>\n",
              "      <td>NaN</td>\n",
              "      <td>NaN</td>\n",
              "      <td>NaN</td>\n",
              "      <td>NaN</td>\n",
              "    </tr>\n",
              "  </tbody>\n",
              "</table>\n",
              "<p>2 rows × 337 columns</p>\n",
              "</div>"
            ],
            "text/plain": [
              "              UTC time  3_temperature  3_humidity  ...  895_pm1  895_pm25  895_pm10\n",
              "0  2017-01-01T00:00:00            NaN         NaN  ...      NaN       NaN       NaN\n",
              "1  2017-01-01T01:00:00            NaN         NaN  ...      NaN       NaN       NaN\n",
              "\n",
              "[2 rows x 337 columns]"
            ]
          },
          "metadata": {
            "tags": []
          },
          "execution_count": 11
        }
      ]
    },
    {
      "cell_type": "code",
      "metadata": {
        "id": "AR-jARvdEQIN"
      },
      "source": [
        ""
      ],
      "execution_count": 11,
      "outputs": []
    },
    {
      "cell_type": "markdown",
      "metadata": {
        "id": "0WrvKWmkEqnN"
      },
      "source": [
        "3 Transformacja df\n",
        "\n",
        "\n",
        "\n",
        "\n",
        "\n"
      ]
    },
    {
      "cell_type": "code",
      "metadata": {
        "id": "meojC3k6Mo9S"
      },
      "source": [
        ""
      ],
      "execution_count": 11,
      "outputs": []
    },
    {
      "cell_type": "code",
      "metadata": {
        "colab": {
          "base_uri": "https://localhost:8080/",
          "height": 310
        },
        "id": "RG3I4sFE6y-p",
        "outputId": "4c3e97db-a4b9-41af-ace0-97d56c626cb6"
      },
      "source": [
        "year[\"UTC time\"] = pd.to_datetime(year[\"UTC time\"], format=\"%Y-%m-%dT%H:%M:%S\")\n",
        "year[:3]"
      ],
      "execution_count": 12,
      "outputs": [
        {
          "output_type": "execute_result",
          "data": {
            "text/html": [
              "<div>\n",
              "<style scoped>\n",
              "    .dataframe tbody tr th:only-of-type {\n",
              "        vertical-align: middle;\n",
              "    }\n",
              "\n",
              "    .dataframe tbody tr th {\n",
              "        vertical-align: top;\n",
              "    }\n",
              "\n",
              "    .dataframe thead th {\n",
              "        text-align: right;\n",
              "    }\n",
              "</style>\n",
              "<table border=\"1\" class=\"dataframe\">\n",
              "  <thead>\n",
              "    <tr style=\"text-align: right;\">\n",
              "      <th></th>\n",
              "      <th>UTC time</th>\n",
              "      <th>3_temperature</th>\n",
              "      <th>3_humidity</th>\n",
              "      <th>3_pressure</th>\n",
              "      <th>3_pm1</th>\n",
              "      <th>3_pm25</th>\n",
              "      <th>3_pm10</th>\n",
              "      <th>140_temperature</th>\n",
              "      <th>140_humidity</th>\n",
              "      <th>140_pressure</th>\n",
              "      <th>140_pm1</th>\n",
              "      <th>140_pm25</th>\n",
              "      <th>140_pm10</th>\n",
              "      <th>142_temperature</th>\n",
              "      <th>142_humidity</th>\n",
              "      <th>142_pressure</th>\n",
              "      <th>142_pm1</th>\n",
              "      <th>142_pm25</th>\n",
              "      <th>142_pm10</th>\n",
              "      <th>147_temperature</th>\n",
              "      <th>147_humidity</th>\n",
              "      <th>147_pressure</th>\n",
              "      <th>147_pm1</th>\n",
              "      <th>147_pm25</th>\n",
              "      <th>147_pm10</th>\n",
              "      <th>169_temperature</th>\n",
              "      <th>169_humidity</th>\n",
              "      <th>169_pressure</th>\n",
              "      <th>169_pm1</th>\n",
              "      <th>169_pm25</th>\n",
              "      <th>169_pm10</th>\n",
              "      <th>170_temperature</th>\n",
              "      <th>170_humidity</th>\n",
              "      <th>170_pressure</th>\n",
              "      <th>170_pm1</th>\n",
              "      <th>170_pm25</th>\n",
              "      <th>170_pm10</th>\n",
              "      <th>171_temperature</th>\n",
              "      <th>171_humidity</th>\n",
              "      <th>171_pressure</th>\n",
              "      <th>...</th>\n",
              "      <th>228_pressure</th>\n",
              "      <th>228_pm1</th>\n",
              "      <th>228_pm25</th>\n",
              "      <th>228_pm10</th>\n",
              "      <th>263_temperature</th>\n",
              "      <th>263_humidity</th>\n",
              "      <th>263_pressure</th>\n",
              "      <th>263_pm1</th>\n",
              "      <th>263_pm25</th>\n",
              "      <th>263_pm10</th>\n",
              "      <th>622_temperature</th>\n",
              "      <th>622_humidity</th>\n",
              "      <th>622_pressure</th>\n",
              "      <th>622_pm1</th>\n",
              "      <th>622_pm25</th>\n",
              "      <th>622_pm10</th>\n",
              "      <th>713_temperature</th>\n",
              "      <th>713_humidity</th>\n",
              "      <th>713_pressure</th>\n",
              "      <th>713_pm1</th>\n",
              "      <th>713_pm25</th>\n",
              "      <th>713_pm10</th>\n",
              "      <th>808_temperature</th>\n",
              "      <th>808_humidity</th>\n",
              "      <th>808_pressure</th>\n",
              "      <th>808_pm1</th>\n",
              "      <th>808_pm25</th>\n",
              "      <th>808_pm10</th>\n",
              "      <th>857_temperature</th>\n",
              "      <th>857_humidity</th>\n",
              "      <th>857_pressure</th>\n",
              "      <th>857_pm1</th>\n",
              "      <th>857_pm25</th>\n",
              "      <th>857_pm10</th>\n",
              "      <th>895_temperature</th>\n",
              "      <th>895_humidity</th>\n",
              "      <th>895_pressure</th>\n",
              "      <th>895_pm1</th>\n",
              "      <th>895_pm25</th>\n",
              "      <th>895_pm10</th>\n",
              "    </tr>\n",
              "  </thead>\n",
              "  <tbody>\n",
              "    <tr>\n",
              "      <th>0</th>\n",
              "      <td>2017-01-01 00:00:00</td>\n",
              "      <td>NaN</td>\n",
              "      <td>NaN</td>\n",
              "      <td>NaN</td>\n",
              "      <td>NaN</td>\n",
              "      <td>NaN</td>\n",
              "      <td>NaN</td>\n",
              "      <td>NaN</td>\n",
              "      <td>NaN</td>\n",
              "      <td>NaN</td>\n",
              "      <td>NaN</td>\n",
              "      <td>NaN</td>\n",
              "      <td>NaN</td>\n",
              "      <td>-4.0</td>\n",
              "      <td>68.0</td>\n",
              "      <td>102279.0</td>\n",
              "      <td>115.0</td>\n",
              "      <td>127.0</td>\n",
              "      <td>196.0</td>\n",
              "      <td>-3.0</td>\n",
              "      <td>57.0</td>\n",
              "      <td>102505.0</td>\n",
              "      <td>196.0</td>\n",
              "      <td>222.0</td>\n",
              "      <td>346.0</td>\n",
              "      <td>0.0</td>\n",
              "      <td>49.0</td>\n",
              "      <td>102689.0</td>\n",
              "      <td>124.0</td>\n",
              "      <td>145.0</td>\n",
              "      <td>229.0</td>\n",
              "      <td>2.0</td>\n",
              "      <td>25.0</td>\n",
              "      <td>102379.0</td>\n",
              "      <td>148.0</td>\n",
              "      <td>176.0</td>\n",
              "      <td>277.0</td>\n",
              "      <td>1.0</td>\n",
              "      <td>27.0</td>\n",
              "      <td>102437.0</td>\n",
              "      <td>...</td>\n",
              "      <td>102253.0</td>\n",
              "      <td>184.0</td>\n",
              "      <td>218.0</td>\n",
              "      <td>322.0</td>\n",
              "      <td>0.0</td>\n",
              "      <td>54.0</td>\n",
              "      <td>101672.0</td>\n",
              "      <td>137.0</td>\n",
              "      <td>153.0</td>\n",
              "      <td>235.0</td>\n",
              "      <td>NaN</td>\n",
              "      <td>NaN</td>\n",
              "      <td>NaN</td>\n",
              "      <td>NaN</td>\n",
              "      <td>NaN</td>\n",
              "      <td>NaN</td>\n",
              "      <td>NaN</td>\n",
              "      <td>NaN</td>\n",
              "      <td>NaN</td>\n",
              "      <td>NaN</td>\n",
              "      <td>NaN</td>\n",
              "      <td>NaN</td>\n",
              "      <td>NaN</td>\n",
              "      <td>NaN</td>\n",
              "      <td>NaN</td>\n",
              "      <td>NaN</td>\n",
              "      <td>NaN</td>\n",
              "      <td>NaN</td>\n",
              "      <td>NaN</td>\n",
              "      <td>NaN</td>\n",
              "      <td>NaN</td>\n",
              "      <td>NaN</td>\n",
              "      <td>NaN</td>\n",
              "      <td>NaN</td>\n",
              "      <td>NaN</td>\n",
              "      <td>NaN</td>\n",
              "      <td>NaN</td>\n",
              "      <td>NaN</td>\n",
              "      <td>NaN</td>\n",
              "      <td>NaN</td>\n",
              "    </tr>\n",
              "    <tr>\n",
              "      <th>1</th>\n",
              "      <td>2017-01-01 01:00:00</td>\n",
              "      <td>NaN</td>\n",
              "      <td>NaN</td>\n",
              "      <td>NaN</td>\n",
              "      <td>NaN</td>\n",
              "      <td>NaN</td>\n",
              "      <td>NaN</td>\n",
              "      <td>NaN</td>\n",
              "      <td>NaN</td>\n",
              "      <td>NaN</td>\n",
              "      <td>NaN</td>\n",
              "      <td>NaN</td>\n",
              "      <td>NaN</td>\n",
              "      <td>-5.0</td>\n",
              "      <td>68.0</td>\n",
              "      <td>102228.0</td>\n",
              "      <td>105.0</td>\n",
              "      <td>116.0</td>\n",
              "      <td>180.0</td>\n",
              "      <td>-3.0</td>\n",
              "      <td>56.0</td>\n",
              "      <td>102454.0</td>\n",
              "      <td>187.0</td>\n",
              "      <td>211.0</td>\n",
              "      <td>330.0</td>\n",
              "      <td>0.0</td>\n",
              "      <td>49.0</td>\n",
              "      <td>102635.0</td>\n",
              "      <td>124.0</td>\n",
              "      <td>145.0</td>\n",
              "      <td>230.0</td>\n",
              "      <td>1.0</td>\n",
              "      <td>25.0</td>\n",
              "      <td>102325.0</td>\n",
              "      <td>131.0</td>\n",
              "      <td>156.0</td>\n",
              "      <td>247.0</td>\n",
              "      <td>0.0</td>\n",
              "      <td>27.0</td>\n",
              "      <td>102387.0</td>\n",
              "      <td>...</td>\n",
              "      <td>102201.0</td>\n",
              "      <td>146.0</td>\n",
              "      <td>169.0</td>\n",
              "      <td>250.0</td>\n",
              "      <td>0.0</td>\n",
              "      <td>52.0</td>\n",
              "      <td>101623.0</td>\n",
              "      <td>119.0</td>\n",
              "      <td>132.0</td>\n",
              "      <td>203.0</td>\n",
              "      <td>NaN</td>\n",
              "      <td>NaN</td>\n",
              "      <td>NaN</td>\n",
              "      <td>NaN</td>\n",
              "      <td>NaN</td>\n",
              "      <td>NaN</td>\n",
              "      <td>NaN</td>\n",
              "      <td>NaN</td>\n",
              "      <td>NaN</td>\n",
              "      <td>NaN</td>\n",
              "      <td>NaN</td>\n",
              "      <td>NaN</td>\n",
              "      <td>NaN</td>\n",
              "      <td>NaN</td>\n",
              "      <td>NaN</td>\n",
              "      <td>NaN</td>\n",
              "      <td>NaN</td>\n",
              "      <td>NaN</td>\n",
              "      <td>NaN</td>\n",
              "      <td>NaN</td>\n",
              "      <td>NaN</td>\n",
              "      <td>NaN</td>\n",
              "      <td>NaN</td>\n",
              "      <td>NaN</td>\n",
              "      <td>NaN</td>\n",
              "      <td>NaN</td>\n",
              "      <td>NaN</td>\n",
              "      <td>NaN</td>\n",
              "      <td>NaN</td>\n",
              "      <td>NaN</td>\n",
              "    </tr>\n",
              "    <tr>\n",
              "      <th>2</th>\n",
              "      <td>2017-01-01 02:00:00</td>\n",
              "      <td>NaN</td>\n",
              "      <td>NaN</td>\n",
              "      <td>NaN</td>\n",
              "      <td>NaN</td>\n",
              "      <td>NaN</td>\n",
              "      <td>NaN</td>\n",
              "      <td>NaN</td>\n",
              "      <td>NaN</td>\n",
              "      <td>NaN</td>\n",
              "      <td>NaN</td>\n",
              "      <td>NaN</td>\n",
              "      <td>NaN</td>\n",
              "      <td>-5.0</td>\n",
              "      <td>66.0</td>\n",
              "      <td>102149.0</td>\n",
              "      <td>110.0</td>\n",
              "      <td>121.0</td>\n",
              "      <td>189.0</td>\n",
              "      <td>-4.0</td>\n",
              "      <td>55.0</td>\n",
              "      <td>102375.0</td>\n",
              "      <td>187.0</td>\n",
              "      <td>212.0</td>\n",
              "      <td>333.0</td>\n",
              "      <td>0.0</td>\n",
              "      <td>49.0</td>\n",
              "      <td>102558.0</td>\n",
              "      <td>108.0</td>\n",
              "      <td>125.0</td>\n",
              "      <td>201.0</td>\n",
              "      <td>1.0</td>\n",
              "      <td>24.0</td>\n",
              "      <td>102244.0</td>\n",
              "      <td>108.0</td>\n",
              "      <td>127.0</td>\n",
              "      <td>203.0</td>\n",
              "      <td>1.0</td>\n",
              "      <td>27.0</td>\n",
              "      <td>102310.0</td>\n",
              "      <td>...</td>\n",
              "      <td>102119.0</td>\n",
              "      <td>138.0</td>\n",
              "      <td>160.0</td>\n",
              "      <td>237.0</td>\n",
              "      <td>0.0</td>\n",
              "      <td>49.0</td>\n",
              "      <td>101536.0</td>\n",
              "      <td>97.0</td>\n",
              "      <td>105.0</td>\n",
              "      <td>162.0</td>\n",
              "      <td>NaN</td>\n",
              "      <td>NaN</td>\n",
              "      <td>NaN</td>\n",
              "      <td>NaN</td>\n",
              "      <td>NaN</td>\n",
              "      <td>NaN</td>\n",
              "      <td>NaN</td>\n",
              "      <td>NaN</td>\n",
              "      <td>NaN</td>\n",
              "      <td>NaN</td>\n",
              "      <td>NaN</td>\n",
              "      <td>NaN</td>\n",
              "      <td>NaN</td>\n",
              "      <td>NaN</td>\n",
              "      <td>NaN</td>\n",
              "      <td>NaN</td>\n",
              "      <td>NaN</td>\n",
              "      <td>NaN</td>\n",
              "      <td>NaN</td>\n",
              "      <td>NaN</td>\n",
              "      <td>NaN</td>\n",
              "      <td>NaN</td>\n",
              "      <td>NaN</td>\n",
              "      <td>NaN</td>\n",
              "      <td>NaN</td>\n",
              "      <td>NaN</td>\n",
              "      <td>NaN</td>\n",
              "      <td>NaN</td>\n",
              "      <td>NaN</td>\n",
              "      <td>NaN</td>\n",
              "    </tr>\n",
              "  </tbody>\n",
              "</table>\n",
              "<p>3 rows × 337 columns</p>\n",
              "</div>"
            ],
            "text/plain": [
              "             UTC time  3_temperature  3_humidity  ...  895_pm1  895_pm25  895_pm10\n",
              "0 2017-01-01 00:00:00            NaN         NaN  ...      NaN       NaN       NaN\n",
              "1 2017-01-01 01:00:00            NaN         NaN  ...      NaN       NaN       NaN\n",
              "2 2017-01-01 02:00:00            NaN         NaN  ...      NaN       NaN       NaN\n",
              "\n",
              "[3 rows x 337 columns]"
            ]
          },
          "metadata": {
            "tags": []
          },
          "execution_count": 12
        }
      ]
    },
    {
      "cell_type": "code",
      "metadata": {
        "colab": {
          "base_uri": "https://localhost:8080/",
          "height": 341
        },
        "id": "KOLa1-XF2aYw",
        "outputId": "fb596ec5-18de-4099-dcca-57e579af8f9b"
      },
      "source": [
        "year = year.set_index(\"UTC time\")\n",
        "year[:3]"
      ],
      "execution_count": 13,
      "outputs": [
        {
          "output_type": "execute_result",
          "data": {
            "text/html": [
              "<div>\n",
              "<style scoped>\n",
              "    .dataframe tbody tr th:only-of-type {\n",
              "        vertical-align: middle;\n",
              "    }\n",
              "\n",
              "    .dataframe tbody tr th {\n",
              "        vertical-align: top;\n",
              "    }\n",
              "\n",
              "    .dataframe thead th {\n",
              "        text-align: right;\n",
              "    }\n",
              "</style>\n",
              "<table border=\"1\" class=\"dataframe\">\n",
              "  <thead>\n",
              "    <tr style=\"text-align: right;\">\n",
              "      <th></th>\n",
              "      <th>3_temperature</th>\n",
              "      <th>3_humidity</th>\n",
              "      <th>3_pressure</th>\n",
              "      <th>3_pm1</th>\n",
              "      <th>3_pm25</th>\n",
              "      <th>3_pm10</th>\n",
              "      <th>140_temperature</th>\n",
              "      <th>140_humidity</th>\n",
              "      <th>140_pressure</th>\n",
              "      <th>140_pm1</th>\n",
              "      <th>140_pm25</th>\n",
              "      <th>140_pm10</th>\n",
              "      <th>142_temperature</th>\n",
              "      <th>142_humidity</th>\n",
              "      <th>142_pressure</th>\n",
              "      <th>142_pm1</th>\n",
              "      <th>142_pm25</th>\n",
              "      <th>142_pm10</th>\n",
              "      <th>147_temperature</th>\n",
              "      <th>147_humidity</th>\n",
              "      <th>147_pressure</th>\n",
              "      <th>147_pm1</th>\n",
              "      <th>147_pm25</th>\n",
              "      <th>147_pm10</th>\n",
              "      <th>169_temperature</th>\n",
              "      <th>169_humidity</th>\n",
              "      <th>169_pressure</th>\n",
              "      <th>169_pm1</th>\n",
              "      <th>169_pm25</th>\n",
              "      <th>169_pm10</th>\n",
              "      <th>170_temperature</th>\n",
              "      <th>170_humidity</th>\n",
              "      <th>170_pressure</th>\n",
              "      <th>170_pm1</th>\n",
              "      <th>170_pm25</th>\n",
              "      <th>170_pm10</th>\n",
              "      <th>171_temperature</th>\n",
              "      <th>171_humidity</th>\n",
              "      <th>171_pressure</th>\n",
              "      <th>171_pm1</th>\n",
              "      <th>...</th>\n",
              "      <th>228_pressure</th>\n",
              "      <th>228_pm1</th>\n",
              "      <th>228_pm25</th>\n",
              "      <th>228_pm10</th>\n",
              "      <th>263_temperature</th>\n",
              "      <th>263_humidity</th>\n",
              "      <th>263_pressure</th>\n",
              "      <th>263_pm1</th>\n",
              "      <th>263_pm25</th>\n",
              "      <th>263_pm10</th>\n",
              "      <th>622_temperature</th>\n",
              "      <th>622_humidity</th>\n",
              "      <th>622_pressure</th>\n",
              "      <th>622_pm1</th>\n",
              "      <th>622_pm25</th>\n",
              "      <th>622_pm10</th>\n",
              "      <th>713_temperature</th>\n",
              "      <th>713_humidity</th>\n",
              "      <th>713_pressure</th>\n",
              "      <th>713_pm1</th>\n",
              "      <th>713_pm25</th>\n",
              "      <th>713_pm10</th>\n",
              "      <th>808_temperature</th>\n",
              "      <th>808_humidity</th>\n",
              "      <th>808_pressure</th>\n",
              "      <th>808_pm1</th>\n",
              "      <th>808_pm25</th>\n",
              "      <th>808_pm10</th>\n",
              "      <th>857_temperature</th>\n",
              "      <th>857_humidity</th>\n",
              "      <th>857_pressure</th>\n",
              "      <th>857_pm1</th>\n",
              "      <th>857_pm25</th>\n",
              "      <th>857_pm10</th>\n",
              "      <th>895_temperature</th>\n",
              "      <th>895_humidity</th>\n",
              "      <th>895_pressure</th>\n",
              "      <th>895_pm1</th>\n",
              "      <th>895_pm25</th>\n",
              "      <th>895_pm10</th>\n",
              "    </tr>\n",
              "    <tr>\n",
              "      <th>UTC time</th>\n",
              "      <th></th>\n",
              "      <th></th>\n",
              "      <th></th>\n",
              "      <th></th>\n",
              "      <th></th>\n",
              "      <th></th>\n",
              "      <th></th>\n",
              "      <th></th>\n",
              "      <th></th>\n",
              "      <th></th>\n",
              "      <th></th>\n",
              "      <th></th>\n",
              "      <th></th>\n",
              "      <th></th>\n",
              "      <th></th>\n",
              "      <th></th>\n",
              "      <th></th>\n",
              "      <th></th>\n",
              "      <th></th>\n",
              "      <th></th>\n",
              "      <th></th>\n",
              "      <th></th>\n",
              "      <th></th>\n",
              "      <th></th>\n",
              "      <th></th>\n",
              "      <th></th>\n",
              "      <th></th>\n",
              "      <th></th>\n",
              "      <th></th>\n",
              "      <th></th>\n",
              "      <th></th>\n",
              "      <th></th>\n",
              "      <th></th>\n",
              "      <th></th>\n",
              "      <th></th>\n",
              "      <th></th>\n",
              "      <th></th>\n",
              "      <th></th>\n",
              "      <th></th>\n",
              "      <th></th>\n",
              "      <th></th>\n",
              "      <th></th>\n",
              "      <th></th>\n",
              "      <th></th>\n",
              "      <th></th>\n",
              "      <th></th>\n",
              "      <th></th>\n",
              "      <th></th>\n",
              "      <th></th>\n",
              "      <th></th>\n",
              "      <th></th>\n",
              "      <th></th>\n",
              "      <th></th>\n",
              "      <th></th>\n",
              "      <th></th>\n",
              "      <th></th>\n",
              "      <th></th>\n",
              "      <th></th>\n",
              "      <th></th>\n",
              "      <th></th>\n",
              "      <th></th>\n",
              "      <th></th>\n",
              "      <th></th>\n",
              "      <th></th>\n",
              "      <th></th>\n",
              "      <th></th>\n",
              "      <th></th>\n",
              "      <th></th>\n",
              "      <th></th>\n",
              "      <th></th>\n",
              "      <th></th>\n",
              "      <th></th>\n",
              "      <th></th>\n",
              "      <th></th>\n",
              "      <th></th>\n",
              "      <th></th>\n",
              "      <th></th>\n",
              "      <th></th>\n",
              "      <th></th>\n",
              "      <th></th>\n",
              "      <th></th>\n",
              "    </tr>\n",
              "  </thead>\n",
              "  <tbody>\n",
              "    <tr>\n",
              "      <th>2017-01-01 00:00:00</th>\n",
              "      <td>NaN</td>\n",
              "      <td>NaN</td>\n",
              "      <td>NaN</td>\n",
              "      <td>NaN</td>\n",
              "      <td>NaN</td>\n",
              "      <td>NaN</td>\n",
              "      <td>NaN</td>\n",
              "      <td>NaN</td>\n",
              "      <td>NaN</td>\n",
              "      <td>NaN</td>\n",
              "      <td>NaN</td>\n",
              "      <td>NaN</td>\n",
              "      <td>-4.0</td>\n",
              "      <td>68.0</td>\n",
              "      <td>102279.0</td>\n",
              "      <td>115.0</td>\n",
              "      <td>127.0</td>\n",
              "      <td>196.0</td>\n",
              "      <td>-3.0</td>\n",
              "      <td>57.0</td>\n",
              "      <td>102505.0</td>\n",
              "      <td>196.0</td>\n",
              "      <td>222.0</td>\n",
              "      <td>346.0</td>\n",
              "      <td>0.0</td>\n",
              "      <td>49.0</td>\n",
              "      <td>102689.0</td>\n",
              "      <td>124.0</td>\n",
              "      <td>145.0</td>\n",
              "      <td>229.0</td>\n",
              "      <td>2.0</td>\n",
              "      <td>25.0</td>\n",
              "      <td>102379.0</td>\n",
              "      <td>148.0</td>\n",
              "      <td>176.0</td>\n",
              "      <td>277.0</td>\n",
              "      <td>1.0</td>\n",
              "      <td>27.0</td>\n",
              "      <td>102437.0</td>\n",
              "      <td>147.0</td>\n",
              "      <td>...</td>\n",
              "      <td>102253.0</td>\n",
              "      <td>184.0</td>\n",
              "      <td>218.0</td>\n",
              "      <td>322.0</td>\n",
              "      <td>0.0</td>\n",
              "      <td>54.0</td>\n",
              "      <td>101672.0</td>\n",
              "      <td>137.0</td>\n",
              "      <td>153.0</td>\n",
              "      <td>235.0</td>\n",
              "      <td>NaN</td>\n",
              "      <td>NaN</td>\n",
              "      <td>NaN</td>\n",
              "      <td>NaN</td>\n",
              "      <td>NaN</td>\n",
              "      <td>NaN</td>\n",
              "      <td>NaN</td>\n",
              "      <td>NaN</td>\n",
              "      <td>NaN</td>\n",
              "      <td>NaN</td>\n",
              "      <td>NaN</td>\n",
              "      <td>NaN</td>\n",
              "      <td>NaN</td>\n",
              "      <td>NaN</td>\n",
              "      <td>NaN</td>\n",
              "      <td>NaN</td>\n",
              "      <td>NaN</td>\n",
              "      <td>NaN</td>\n",
              "      <td>NaN</td>\n",
              "      <td>NaN</td>\n",
              "      <td>NaN</td>\n",
              "      <td>NaN</td>\n",
              "      <td>NaN</td>\n",
              "      <td>NaN</td>\n",
              "      <td>NaN</td>\n",
              "      <td>NaN</td>\n",
              "      <td>NaN</td>\n",
              "      <td>NaN</td>\n",
              "      <td>NaN</td>\n",
              "      <td>NaN</td>\n",
              "    </tr>\n",
              "    <tr>\n",
              "      <th>2017-01-01 01:00:00</th>\n",
              "      <td>NaN</td>\n",
              "      <td>NaN</td>\n",
              "      <td>NaN</td>\n",
              "      <td>NaN</td>\n",
              "      <td>NaN</td>\n",
              "      <td>NaN</td>\n",
              "      <td>NaN</td>\n",
              "      <td>NaN</td>\n",
              "      <td>NaN</td>\n",
              "      <td>NaN</td>\n",
              "      <td>NaN</td>\n",
              "      <td>NaN</td>\n",
              "      <td>-5.0</td>\n",
              "      <td>68.0</td>\n",
              "      <td>102228.0</td>\n",
              "      <td>105.0</td>\n",
              "      <td>116.0</td>\n",
              "      <td>180.0</td>\n",
              "      <td>-3.0</td>\n",
              "      <td>56.0</td>\n",
              "      <td>102454.0</td>\n",
              "      <td>187.0</td>\n",
              "      <td>211.0</td>\n",
              "      <td>330.0</td>\n",
              "      <td>0.0</td>\n",
              "      <td>49.0</td>\n",
              "      <td>102635.0</td>\n",
              "      <td>124.0</td>\n",
              "      <td>145.0</td>\n",
              "      <td>230.0</td>\n",
              "      <td>1.0</td>\n",
              "      <td>25.0</td>\n",
              "      <td>102325.0</td>\n",
              "      <td>131.0</td>\n",
              "      <td>156.0</td>\n",
              "      <td>247.0</td>\n",
              "      <td>0.0</td>\n",
              "      <td>27.0</td>\n",
              "      <td>102387.0</td>\n",
              "      <td>129.0</td>\n",
              "      <td>...</td>\n",
              "      <td>102201.0</td>\n",
              "      <td>146.0</td>\n",
              "      <td>169.0</td>\n",
              "      <td>250.0</td>\n",
              "      <td>0.0</td>\n",
              "      <td>52.0</td>\n",
              "      <td>101623.0</td>\n",
              "      <td>119.0</td>\n",
              "      <td>132.0</td>\n",
              "      <td>203.0</td>\n",
              "      <td>NaN</td>\n",
              "      <td>NaN</td>\n",
              "      <td>NaN</td>\n",
              "      <td>NaN</td>\n",
              "      <td>NaN</td>\n",
              "      <td>NaN</td>\n",
              "      <td>NaN</td>\n",
              "      <td>NaN</td>\n",
              "      <td>NaN</td>\n",
              "      <td>NaN</td>\n",
              "      <td>NaN</td>\n",
              "      <td>NaN</td>\n",
              "      <td>NaN</td>\n",
              "      <td>NaN</td>\n",
              "      <td>NaN</td>\n",
              "      <td>NaN</td>\n",
              "      <td>NaN</td>\n",
              "      <td>NaN</td>\n",
              "      <td>NaN</td>\n",
              "      <td>NaN</td>\n",
              "      <td>NaN</td>\n",
              "      <td>NaN</td>\n",
              "      <td>NaN</td>\n",
              "      <td>NaN</td>\n",
              "      <td>NaN</td>\n",
              "      <td>NaN</td>\n",
              "      <td>NaN</td>\n",
              "      <td>NaN</td>\n",
              "      <td>NaN</td>\n",
              "      <td>NaN</td>\n",
              "    </tr>\n",
              "    <tr>\n",
              "      <th>2017-01-01 02:00:00</th>\n",
              "      <td>NaN</td>\n",
              "      <td>NaN</td>\n",
              "      <td>NaN</td>\n",
              "      <td>NaN</td>\n",
              "      <td>NaN</td>\n",
              "      <td>NaN</td>\n",
              "      <td>NaN</td>\n",
              "      <td>NaN</td>\n",
              "      <td>NaN</td>\n",
              "      <td>NaN</td>\n",
              "      <td>NaN</td>\n",
              "      <td>NaN</td>\n",
              "      <td>-5.0</td>\n",
              "      <td>66.0</td>\n",
              "      <td>102149.0</td>\n",
              "      <td>110.0</td>\n",
              "      <td>121.0</td>\n",
              "      <td>189.0</td>\n",
              "      <td>-4.0</td>\n",
              "      <td>55.0</td>\n",
              "      <td>102375.0</td>\n",
              "      <td>187.0</td>\n",
              "      <td>212.0</td>\n",
              "      <td>333.0</td>\n",
              "      <td>0.0</td>\n",
              "      <td>49.0</td>\n",
              "      <td>102558.0</td>\n",
              "      <td>108.0</td>\n",
              "      <td>125.0</td>\n",
              "      <td>201.0</td>\n",
              "      <td>1.0</td>\n",
              "      <td>24.0</td>\n",
              "      <td>102244.0</td>\n",
              "      <td>108.0</td>\n",
              "      <td>127.0</td>\n",
              "      <td>203.0</td>\n",
              "      <td>1.0</td>\n",
              "      <td>27.0</td>\n",
              "      <td>102310.0</td>\n",
              "      <td>134.0</td>\n",
              "      <td>...</td>\n",
              "      <td>102119.0</td>\n",
              "      <td>138.0</td>\n",
              "      <td>160.0</td>\n",
              "      <td>237.0</td>\n",
              "      <td>0.0</td>\n",
              "      <td>49.0</td>\n",
              "      <td>101536.0</td>\n",
              "      <td>97.0</td>\n",
              "      <td>105.0</td>\n",
              "      <td>162.0</td>\n",
              "      <td>NaN</td>\n",
              "      <td>NaN</td>\n",
              "      <td>NaN</td>\n",
              "      <td>NaN</td>\n",
              "      <td>NaN</td>\n",
              "      <td>NaN</td>\n",
              "      <td>NaN</td>\n",
              "      <td>NaN</td>\n",
              "      <td>NaN</td>\n",
              "      <td>NaN</td>\n",
              "      <td>NaN</td>\n",
              "      <td>NaN</td>\n",
              "      <td>NaN</td>\n",
              "      <td>NaN</td>\n",
              "      <td>NaN</td>\n",
              "      <td>NaN</td>\n",
              "      <td>NaN</td>\n",
              "      <td>NaN</td>\n",
              "      <td>NaN</td>\n",
              "      <td>NaN</td>\n",
              "      <td>NaN</td>\n",
              "      <td>NaN</td>\n",
              "      <td>NaN</td>\n",
              "      <td>NaN</td>\n",
              "      <td>NaN</td>\n",
              "      <td>NaN</td>\n",
              "      <td>NaN</td>\n",
              "      <td>NaN</td>\n",
              "      <td>NaN</td>\n",
              "      <td>NaN</td>\n",
              "    </tr>\n",
              "  </tbody>\n",
              "</table>\n",
              "<p>3 rows × 336 columns</p>\n",
              "</div>"
            ],
            "text/plain": [
              "                     3_temperature  3_humidity  ...  895_pm25  895_pm10\n",
              "UTC time                                        ...                    \n",
              "2017-01-01 00:00:00            NaN         NaN  ...       NaN       NaN\n",
              "2017-01-01 01:00:00            NaN         NaN  ...       NaN       NaN\n",
              "2017-01-01 02:00:00            NaN         NaN  ...       NaN       NaN\n",
              "\n",
              "[3 rows x 336 columns]"
            ]
          },
          "metadata": {
            "tags": []
          },
          "execution_count": 13
        }
      ]
    },
    {
      "cell_type": "code",
      "metadata": {
        "colab": {
          "base_uri": "https://localhost:8080/"
        },
        "id": "_TrHXps18H9_",
        "outputId": "62d93e31-8eb1-438b-bdfc-2ca0f42b7eb9"
      },
      "source": [
        "year.index[:3]"
      ],
      "execution_count": 14,
      "outputs": [
        {
          "output_type": "execute_result",
          "data": {
            "text/plain": [
              "DatetimeIndex(['2017-01-01 00:00:00', '2017-01-01 01:00:00',\n",
              "               '2017-01-01 02:00:00'],\n",
              "              dtype='datetime64[ns]', name='UTC time', freq=None)"
            ]
          },
          "metadata": {
            "tags": []
          },
          "execution_count": 14
        }
      ]
    },
    {
      "cell_type": "code",
      "metadata": {
        "id": "jD5VXGqM1dl8"
      },
      "source": [
        "new_df = pd.DataFrame()"
      ],
      "execution_count": 28,
      "outputs": []
    },
    {
      "cell_type": "code",
      "metadata": {
        "id": "7mdTqpXuwc2j"
      },
      "source": [
        "for i in year.groupby(year.columns.str.split('_').str[0], axis=1):\n",
        "  old = i[1].columns\n",
        "  new = i[1].columns.str.split(\"_\").str[1]\n",
        "  zmiana = { k:v  for k,v in zip(old,new)}\n",
        "  i[1].rename(columns=zmiana,inplace=True)\n",
        "  i[1][\"id\"] = i[0]\n",
        "  new_df = new_df.append(i[1])\n",
        "  # print(i[1])"
      ],
      "execution_count": 29,
      "outputs": []
    },
    {
      "cell_type": "code",
      "metadata": {
        "colab": {
          "base_uri": "https://localhost:8080/",
          "height": 173
        },
        "id": "6aihjSrQ1ubw",
        "outputId": "bb03b0eb-32e6-4966-fcab-e0ae0cba90b1"
      },
      "source": [
        "new_df[:3]"
      ],
      "execution_count": 30,
      "outputs": [
        {
          "output_type": "execute_result",
          "data": {
            "text/html": [
              "<div>\n",
              "<style scoped>\n",
              "    .dataframe tbody tr th:only-of-type {\n",
              "        vertical-align: middle;\n",
              "    }\n",
              "\n",
              "    .dataframe tbody tr th {\n",
              "        vertical-align: top;\n",
              "    }\n",
              "\n",
              "    .dataframe thead th {\n",
              "        text-align: right;\n",
              "    }\n",
              "</style>\n",
              "<table border=\"1\" class=\"dataframe\">\n",
              "  <thead>\n",
              "    <tr style=\"text-align: right;\">\n",
              "      <th></th>\n",
              "      <th>temperature</th>\n",
              "      <th>humidity</th>\n",
              "      <th>pressure</th>\n",
              "      <th>pm1</th>\n",
              "      <th>pm25</th>\n",
              "      <th>pm10</th>\n",
              "      <th>id</th>\n",
              "    </tr>\n",
              "    <tr>\n",
              "      <th>UTC time</th>\n",
              "      <th></th>\n",
              "      <th></th>\n",
              "      <th></th>\n",
              "      <th></th>\n",
              "      <th></th>\n",
              "      <th></th>\n",
              "      <th></th>\n",
              "    </tr>\n",
              "  </thead>\n",
              "  <tbody>\n",
              "    <tr>\n",
              "      <th>2017-01-01 00:00:00</th>\n",
              "      <td>NaN</td>\n",
              "      <td>NaN</td>\n",
              "      <td>NaN</td>\n",
              "      <td>NaN</td>\n",
              "      <td>NaN</td>\n",
              "      <td>NaN</td>\n",
              "      <td>140</td>\n",
              "    </tr>\n",
              "    <tr>\n",
              "      <th>2017-01-01 01:00:00</th>\n",
              "      <td>NaN</td>\n",
              "      <td>NaN</td>\n",
              "      <td>NaN</td>\n",
              "      <td>NaN</td>\n",
              "      <td>NaN</td>\n",
              "      <td>NaN</td>\n",
              "      <td>140</td>\n",
              "    </tr>\n",
              "    <tr>\n",
              "      <th>2017-01-01 02:00:00</th>\n",
              "      <td>NaN</td>\n",
              "      <td>NaN</td>\n",
              "      <td>NaN</td>\n",
              "      <td>NaN</td>\n",
              "      <td>NaN</td>\n",
              "      <td>NaN</td>\n",
              "      <td>140</td>\n",
              "    </tr>\n",
              "  </tbody>\n",
              "</table>\n",
              "</div>"
            ],
            "text/plain": [
              "                     temperature  humidity  pressure  pm1  pm25  pm10   id\n",
              "UTC time                                                                  \n",
              "2017-01-01 00:00:00          NaN       NaN       NaN  NaN   NaN   NaN  140\n",
              "2017-01-01 01:00:00          NaN       NaN       NaN  NaN   NaN   NaN  140\n",
              "2017-01-01 02:00:00          NaN       NaN       NaN  NaN   NaN   NaN  140"
            ]
          },
          "metadata": {
            "tags": []
          },
          "execution_count": 30
        }
      ]
    },
    {
      "cell_type": "markdown",
      "metadata": {
        "id": "PfVy-4_ovkAU"
      },
      "source": [
        "3.2 Połaczenie wartości z konkretnymi lokalizacjami wg ID sensoru"
      ]
    },
    {
      "cell_type": "code",
      "metadata": {
        "id": "8t9n8Zx-_WlP"
      },
      "source": [
        "new_df[\"id\"] = new_df[\"id\"].astype(int)\n",
        "sensors[\"id\"] = sensors[\"id\"].astype(int)"
      ],
      "execution_count": 31,
      "outputs": []
    },
    {
      "cell_type": "code",
      "metadata": {
        "id": "DI8n7ii6xQ7t"
      },
      "source": [
        "new_df = new_df.reset_index()"
      ],
      "execution_count": 32,
      "outputs": []
    },
    {
      "cell_type": "code",
      "metadata": {
        "colab": {
          "base_uri": "https://localhost:8080/",
          "height": 419
        },
        "id": "IcF0GxDiACiK",
        "outputId": "1fcf5fb4-da57-4cf2-813e-c69b3843e11f"
      },
      "source": [
        "geo_df = new_df.merge(sensors, how='left', on='id')\n",
        "geo_df[:3]"
      ],
      "execution_count": 33,
      "outputs": [
        {
          "output_type": "execute_result",
          "data": {
            "text/html": [
              "<div>\n",
              "<style scoped>\n",
              "    .dataframe tbody tr th:only-of-type {\n",
              "        vertical-align: middle;\n",
              "    }\n",
              "\n",
              "    .dataframe tbody tr th {\n",
              "        vertical-align: top;\n",
              "    }\n",
              "\n",
              "    .dataframe thead th {\n",
              "        text-align: right;\n",
              "    }\n",
              "</style>\n",
              "<table border=\"1\" class=\"dataframe\">\n",
              "  <thead>\n",
              "    <tr style=\"text-align: right;\">\n",
              "      <th></th>\n",
              "      <th>UTC time</th>\n",
              "      <th>temperature</th>\n",
              "      <th>humidity</th>\n",
              "      <th>pressure</th>\n",
              "      <th>pm1</th>\n",
              "      <th>pm25</th>\n",
              "      <th>pm10</th>\n",
              "      <th>id</th>\n",
              "      <th>latitude</th>\n",
              "      <th>longitude</th>\n",
              "    </tr>\n",
              "  </thead>\n",
              "  <tbody>\n",
              "    <tr>\n",
              "      <th>0</th>\n",
              "      <td>2017-01-01 00:00:00</td>\n",
              "      <td>NaN</td>\n",
              "      <td>NaN</td>\n",
              "      <td>NaN</td>\n",
              "      <td>NaN</td>\n",
              "      <td>NaN</td>\n",
              "      <td>NaN</td>\n",
              "      <td>140</td>\n",
              "      <td>50.057747</td>\n",
              "      <td>19.961374</td>\n",
              "    </tr>\n",
              "    <tr>\n",
              "      <th>1</th>\n",
              "      <td>2017-01-01 01:00:00</td>\n",
              "      <td>NaN</td>\n",
              "      <td>NaN</td>\n",
              "      <td>NaN</td>\n",
              "      <td>NaN</td>\n",
              "      <td>NaN</td>\n",
              "      <td>NaN</td>\n",
              "      <td>140</td>\n",
              "      <td>50.057747</td>\n",
              "      <td>19.961374</td>\n",
              "    </tr>\n",
              "    <tr>\n",
              "      <th>2</th>\n",
              "      <td>2017-01-01 02:00:00</td>\n",
              "      <td>NaN</td>\n",
              "      <td>NaN</td>\n",
              "      <td>NaN</td>\n",
              "      <td>NaN</td>\n",
              "      <td>NaN</td>\n",
              "      <td>NaN</td>\n",
              "      <td>140</td>\n",
              "      <td>50.057747</td>\n",
              "      <td>19.961374</td>\n",
              "    </tr>\n",
              "    <tr>\n",
              "      <th>3</th>\n",
              "      <td>2017-01-01 03:00:00</td>\n",
              "      <td>NaN</td>\n",
              "      <td>NaN</td>\n",
              "      <td>NaN</td>\n",
              "      <td>NaN</td>\n",
              "      <td>NaN</td>\n",
              "      <td>NaN</td>\n",
              "      <td>140</td>\n",
              "      <td>50.057747</td>\n",
              "      <td>19.961374</td>\n",
              "    </tr>\n",
              "    <tr>\n",
              "      <th>4</th>\n",
              "      <td>2017-01-01 04:00:00</td>\n",
              "      <td>NaN</td>\n",
              "      <td>NaN</td>\n",
              "      <td>NaN</td>\n",
              "      <td>NaN</td>\n",
              "      <td>NaN</td>\n",
              "      <td>NaN</td>\n",
              "      <td>140</td>\n",
              "      <td>50.057747</td>\n",
              "      <td>19.961374</td>\n",
              "    </tr>\n",
              "    <tr>\n",
              "      <th>...</th>\n",
              "      <td>...</td>\n",
              "      <td>...</td>\n",
              "      <td>...</td>\n",
              "      <td>...</td>\n",
              "      <td>...</td>\n",
              "      <td>...</td>\n",
              "      <td>...</td>\n",
              "      <td>...</td>\n",
              "      <td>...</td>\n",
              "      <td>...</td>\n",
              "    </tr>\n",
              "    <tr>\n",
              "      <th>481203</th>\n",
              "      <td>2017-12-24 20:00:00</td>\n",
              "      <td>5.0</td>\n",
              "      <td>85.0</td>\n",
              "      <td>101798.0</td>\n",
              "      <td>13.0</td>\n",
              "      <td>15.0</td>\n",
              "      <td>26.0</td>\n",
              "      <td>895</td>\n",
              "      <td>50.084966</td>\n",
              "      <td>19.877998</td>\n",
              "    </tr>\n",
              "    <tr>\n",
              "      <th>481204</th>\n",
              "      <td>2017-12-24 21:00:00</td>\n",
              "      <td>5.0</td>\n",
              "      <td>85.0</td>\n",
              "      <td>101840.0</td>\n",
              "      <td>12.0</td>\n",
              "      <td>13.0</td>\n",
              "      <td>23.0</td>\n",
              "      <td>895</td>\n",
              "      <td>50.084966</td>\n",
              "      <td>19.877998</td>\n",
              "    </tr>\n",
              "    <tr>\n",
              "      <th>481205</th>\n",
              "      <td>2017-12-24 22:00:00</td>\n",
              "      <td>5.0</td>\n",
              "      <td>82.0</td>\n",
              "      <td>101839.0</td>\n",
              "      <td>10.0</td>\n",
              "      <td>12.0</td>\n",
              "      <td>21.0</td>\n",
              "      <td>895</td>\n",
              "      <td>50.084966</td>\n",
              "      <td>19.877998</td>\n",
              "    </tr>\n",
              "    <tr>\n",
              "      <th>481206</th>\n",
              "      <td>2017-12-24 23:00:00</td>\n",
              "      <td>5.0</td>\n",
              "      <td>85.0</td>\n",
              "      <td>101837.0</td>\n",
              "      <td>10.0</td>\n",
              "      <td>12.0</td>\n",
              "      <td>21.0</td>\n",
              "      <td>895</td>\n",
              "      <td>50.084966</td>\n",
              "      <td>19.877998</td>\n",
              "    </tr>\n",
              "    <tr>\n",
              "      <th>481207</th>\n",
              "      <td>2017-12-25 00:00:00</td>\n",
              "      <td>5.0</td>\n",
              "      <td>85.0</td>\n",
              "      <td>101840.0</td>\n",
              "      <td>10.0</td>\n",
              "      <td>11.0</td>\n",
              "      <td>20.0</td>\n",
              "      <td>895</td>\n",
              "      <td>50.084966</td>\n",
              "      <td>19.877998</td>\n",
              "    </tr>\n",
              "  </tbody>\n",
              "</table>\n",
              "<p>481208 rows × 10 columns</p>\n",
              "</div>"
            ],
            "text/plain": [
              "                  UTC time  temperature  humidity  ...   id   latitude  longitude\n",
              "0      2017-01-01 00:00:00          NaN       NaN  ...  140  50.057747  19.961374\n",
              "1      2017-01-01 01:00:00          NaN       NaN  ...  140  50.057747  19.961374\n",
              "2      2017-01-01 02:00:00          NaN       NaN  ...  140  50.057747  19.961374\n",
              "3      2017-01-01 03:00:00          NaN       NaN  ...  140  50.057747  19.961374\n",
              "4      2017-01-01 04:00:00          NaN       NaN  ...  140  50.057747  19.961374\n",
              "...                    ...          ...       ...  ...  ...        ...        ...\n",
              "481203 2017-12-24 20:00:00          5.0      85.0  ...  895  50.084966  19.877998\n",
              "481204 2017-12-24 21:00:00          5.0      85.0  ...  895  50.084966  19.877998\n",
              "481205 2017-12-24 22:00:00          5.0      82.0  ...  895  50.084966  19.877998\n",
              "481206 2017-12-24 23:00:00          5.0      85.0  ...  895  50.084966  19.877998\n",
              "481207 2017-12-25 00:00:00          5.0      85.0  ...  895  50.084966  19.877998\n",
              "\n",
              "[481208 rows x 10 columns]"
            ]
          },
          "metadata": {
            "tags": []
          },
          "execution_count": 33
        }
      ]
    },
    {
      "cell_type": "markdown",
      "metadata": {
        "id": "ujhorkRKNi6T"
      },
      "source": [
        "4 EDA"
      ]
    },
    {
      "cell_type": "code",
      "metadata": {
        "id": "hUG45xbsPwKA",
        "outputId": "85595a7d-cf3c-4846-fa4b-81a624236ebe",
        "colab": {
          "base_uri": "https://localhost:8080/"
        }
      },
      "source": [
        "geo_df.shape"
      ],
      "execution_count": 34,
      "outputs": [
        {
          "output_type": "execute_result",
          "data": {
            "text/plain": [
              "(481208, 10)"
            ]
          },
          "metadata": {
            "tags": []
          },
          "execution_count": 34
        }
      ]
    },
    {
      "cell_type": "markdown",
      "metadata": {
        "id": "G5UWKq6CMnW_"
      },
      "source": [
        "4.1. Ile jest Nan w danych kolumnach"
      ]
    },
    {
      "cell_type": "code",
      "metadata": {
        "id": "wPbLeGZ8Pwkv",
        "outputId": "19bcc9e1-f0c7-45a9-b3e5-865e4b3cdeec",
        "colab": {
          "base_uri": "https://localhost:8080/"
        }
      },
      "source": [
        "geo_df.isnull().sum()"
      ],
      "execution_count": 35,
      "outputs": [
        {
          "output_type": "execute_result",
          "data": {
            "text/plain": [
              "UTC time            0\n",
              "temperature    109558\n",
              "humidity       109638\n",
              "pressure       172529\n",
              "pm1             92854\n",
              "pm25            92835\n",
              "pm10            92832\n",
              "id                  0\n",
              "latitude            0\n",
              "longitude           0\n",
              "dtype: int64"
            ]
          },
          "metadata": {
            "tags": []
          },
          "execution_count": 35
        }
      ]
    },
    {
      "cell_type": "markdown",
      "metadata": {
        "id": "B91m2T3-NzDj"
      },
      "source": [
        "4.2. Czy można znaleźć brakujące dane lub czymś je zastąpić"
      ]
    },
    {
      "cell_type": "code",
      "metadata": {
        "id": "krfssficPw4e",
        "outputId": "d3cf73a9-79a7-4a47-bc96-b6db6e347a74",
        "colab": {
          "base_uri": "https://localhost:8080/"
        }
      },
      "source": [
        "geo_df = geo_df.dropna()\n",
        "geo_df.shape"
      ],
      "execution_count": 36,
      "outputs": [
        {
          "output_type": "execute_result",
          "data": {
            "text/plain": [
              "(291754, 10)"
            ]
          },
          "metadata": {
            "tags": []
          },
          "execution_count": 36
        }
      ]
    },
    {
      "cell_type": "markdown",
      "metadata": {
        "id": "mDG8xpp-N3As"
      },
      "source": [
        "5 Zmiana danych na kategoryczne - Rozbicie TimeSeries na dzień, miesiąc etc\n"
      ]
    },
    {
      "cell_type": "code",
      "metadata": {
        "id": "vClZhiO-Ep43"
      },
      "source": [
        "import warnings\n",
        "warnings.filterwarnings(\"ignore\")"
      ],
      "execution_count": 38,
      "outputs": []
    },
    {
      "cell_type": "code",
      "metadata": {
        "id": "lxS1akJMwPGJ",
        "outputId": "b66fdb68-4d06-4254-b35f-881dc8f30afe",
        "colab": {
          "base_uri": "https://localhost:8080/",
          "height": 419
        }
      },
      "source": [
        "geo_df[\"M\"] = geo_df[\"UTC time\"].dt.month\n",
        "geo_df[\"D\"] = geo_df[\"UTC time\"].dt.day\n",
        "geo_df[\"H\"] = geo_df[\"UTC time\"].dt.hour\n",
        "# geo_df[\"Week\"] = geo_df[\"UTC time\"].dt.week\n",
        "# geo_df[\"day of  Week\"] = geo_df[\"UTC time\"].dt.dayofweek\n",
        "# geo_df[\"Weekend\"] = geo_df[\"UTC time\"].dt.dayofweek.apply(lambda x: \"1\" if x in [5,6] else \"0\"   )\n",
        "# geo_df[\"day of  Year\"] = geo_df[\"UTC time\"].dt.dayofyear\n",
        "# geo_df[\"Quorter\"] = geo_df[\"UTC time\"].dt.quarter\n",
        "geo_df"
      ],
      "execution_count": 39,
      "outputs": [
        {
          "output_type": "execute_result",
          "data": {
            "text/html": [
              "<div>\n",
              "<style scoped>\n",
              "    .dataframe tbody tr th:only-of-type {\n",
              "        vertical-align: middle;\n",
              "    }\n",
              "\n",
              "    .dataframe tbody tr th {\n",
              "        vertical-align: top;\n",
              "    }\n",
              "\n",
              "    .dataframe thead th {\n",
              "        text-align: right;\n",
              "    }\n",
              "</style>\n",
              "<table border=\"1\" class=\"dataframe\">\n",
              "  <thead>\n",
              "    <tr style=\"text-align: right;\">\n",
              "      <th></th>\n",
              "      <th>UTC time</th>\n",
              "      <th>temperature</th>\n",
              "      <th>humidity</th>\n",
              "      <th>pressure</th>\n",
              "      <th>pm1</th>\n",
              "      <th>pm25</th>\n",
              "      <th>pm10</th>\n",
              "      <th>id</th>\n",
              "      <th>latitude</th>\n",
              "      <th>longitude</th>\n",
              "      <th>M</th>\n",
              "      <th>D</th>\n",
              "      <th>H</th>\n",
              "    </tr>\n",
              "  </thead>\n",
              "  <tbody>\n",
              "    <tr>\n",
              "      <th>1811</th>\n",
              "      <td>2017-03-17 11:00:00</td>\n",
              "      <td>12.0</td>\n",
              "      <td>44.0</td>\n",
              "      <td>101244.0</td>\n",
              "      <td>16.0</td>\n",
              "      <td>10.0</td>\n",
              "      <td>22.0</td>\n",
              "      <td>140</td>\n",
              "      <td>50.057747</td>\n",
              "      <td>19.961374</td>\n",
              "      <td>3</td>\n",
              "      <td>17</td>\n",
              "      <td>11</td>\n",
              "    </tr>\n",
              "    <tr>\n",
              "      <th>1812</th>\n",
              "      <td>2017-03-17 12:00:00</td>\n",
              "      <td>12.0</td>\n",
              "      <td>45.0</td>\n",
              "      <td>101147.0</td>\n",
              "      <td>18.0</td>\n",
              "      <td>12.0</td>\n",
              "      <td>26.0</td>\n",
              "      <td>140</td>\n",
              "      <td>50.057747</td>\n",
              "      <td>19.961374</td>\n",
              "      <td>3</td>\n",
              "      <td>17</td>\n",
              "      <td>12</td>\n",
              "    </tr>\n",
              "    <tr>\n",
              "      <th>1813</th>\n",
              "      <td>2017-03-17 13:00:00</td>\n",
              "      <td>12.0</td>\n",
              "      <td>43.0</td>\n",
              "      <td>101049.0</td>\n",
              "      <td>18.0</td>\n",
              "      <td>12.0</td>\n",
              "      <td>26.0</td>\n",
              "      <td>140</td>\n",
              "      <td>50.057747</td>\n",
              "      <td>19.961374</td>\n",
              "      <td>3</td>\n",
              "      <td>17</td>\n",
              "      <td>13</td>\n",
              "    </tr>\n",
              "    <tr>\n",
              "      <th>1814</th>\n",
              "      <td>2017-03-17 14:00:00</td>\n",
              "      <td>12.0</td>\n",
              "      <td>45.0</td>\n",
              "      <td>100930.0</td>\n",
              "      <td>23.0</td>\n",
              "      <td>17.0</td>\n",
              "      <td>32.0</td>\n",
              "      <td>140</td>\n",
              "      <td>50.057747</td>\n",
              "      <td>19.961374</td>\n",
              "      <td>3</td>\n",
              "      <td>17</td>\n",
              "      <td>14</td>\n",
              "    </tr>\n",
              "    <tr>\n",
              "      <th>1815</th>\n",
              "      <td>2017-03-17 15:00:00</td>\n",
              "      <td>12.0</td>\n",
              "      <td>50.0</td>\n",
              "      <td>100873.0</td>\n",
              "      <td>29.0</td>\n",
              "      <td>24.0</td>\n",
              "      <td>45.0</td>\n",
              "      <td>140</td>\n",
              "      <td>50.057747</td>\n",
              "      <td>19.961374</td>\n",
              "      <td>3</td>\n",
              "      <td>17</td>\n",
              "      <td>15</td>\n",
              "    </tr>\n",
              "    <tr>\n",
              "      <th>...</th>\n",
              "      <td>...</td>\n",
              "      <td>...</td>\n",
              "      <td>...</td>\n",
              "      <td>...</td>\n",
              "      <td>...</td>\n",
              "      <td>...</td>\n",
              "      <td>...</td>\n",
              "      <td>...</td>\n",
              "      <td>...</td>\n",
              "      <td>...</td>\n",
              "      <td>...</td>\n",
              "      <td>...</td>\n",
              "      <td>...</td>\n",
              "    </tr>\n",
              "    <tr>\n",
              "      <th>481203</th>\n",
              "      <td>2017-12-24 20:00:00</td>\n",
              "      <td>5.0</td>\n",
              "      <td>85.0</td>\n",
              "      <td>101798.0</td>\n",
              "      <td>13.0</td>\n",
              "      <td>15.0</td>\n",
              "      <td>26.0</td>\n",
              "      <td>895</td>\n",
              "      <td>50.084966</td>\n",
              "      <td>19.877998</td>\n",
              "      <td>12</td>\n",
              "      <td>24</td>\n",
              "      <td>20</td>\n",
              "    </tr>\n",
              "    <tr>\n",
              "      <th>481204</th>\n",
              "      <td>2017-12-24 21:00:00</td>\n",
              "      <td>5.0</td>\n",
              "      <td>85.0</td>\n",
              "      <td>101840.0</td>\n",
              "      <td>12.0</td>\n",
              "      <td>13.0</td>\n",
              "      <td>23.0</td>\n",
              "      <td>895</td>\n",
              "      <td>50.084966</td>\n",
              "      <td>19.877998</td>\n",
              "      <td>12</td>\n",
              "      <td>24</td>\n",
              "      <td>21</td>\n",
              "    </tr>\n",
              "    <tr>\n",
              "      <th>481205</th>\n",
              "      <td>2017-12-24 22:00:00</td>\n",
              "      <td>5.0</td>\n",
              "      <td>82.0</td>\n",
              "      <td>101839.0</td>\n",
              "      <td>10.0</td>\n",
              "      <td>12.0</td>\n",
              "      <td>21.0</td>\n",
              "      <td>895</td>\n",
              "      <td>50.084966</td>\n",
              "      <td>19.877998</td>\n",
              "      <td>12</td>\n",
              "      <td>24</td>\n",
              "      <td>22</td>\n",
              "    </tr>\n",
              "    <tr>\n",
              "      <th>481206</th>\n",
              "      <td>2017-12-24 23:00:00</td>\n",
              "      <td>5.0</td>\n",
              "      <td>85.0</td>\n",
              "      <td>101837.0</td>\n",
              "      <td>10.0</td>\n",
              "      <td>12.0</td>\n",
              "      <td>21.0</td>\n",
              "      <td>895</td>\n",
              "      <td>50.084966</td>\n",
              "      <td>19.877998</td>\n",
              "      <td>12</td>\n",
              "      <td>24</td>\n",
              "      <td>23</td>\n",
              "    </tr>\n",
              "    <tr>\n",
              "      <th>481207</th>\n",
              "      <td>2017-12-25 00:00:00</td>\n",
              "      <td>5.0</td>\n",
              "      <td>85.0</td>\n",
              "      <td>101840.0</td>\n",
              "      <td>10.0</td>\n",
              "      <td>11.0</td>\n",
              "      <td>20.0</td>\n",
              "      <td>895</td>\n",
              "      <td>50.084966</td>\n",
              "      <td>19.877998</td>\n",
              "      <td>12</td>\n",
              "      <td>25</td>\n",
              "      <td>0</td>\n",
              "    </tr>\n",
              "  </tbody>\n",
              "</table>\n",
              "<p>291754 rows × 13 columns</p>\n",
              "</div>"
            ],
            "text/plain": [
              "                  UTC time  temperature  humidity  ...   M   D   H\n",
              "1811   2017-03-17 11:00:00         12.0      44.0  ...   3  17  11\n",
              "1812   2017-03-17 12:00:00         12.0      45.0  ...   3  17  12\n",
              "1813   2017-03-17 13:00:00         12.0      43.0  ...   3  17  13\n",
              "1814   2017-03-17 14:00:00         12.0      45.0  ...   3  17  14\n",
              "1815   2017-03-17 15:00:00         12.0      50.0  ...   3  17  15\n",
              "...                    ...          ...       ...  ...  ..  ..  ..\n",
              "481203 2017-12-24 20:00:00          5.0      85.0  ...  12  24  20\n",
              "481204 2017-12-24 21:00:00          5.0      85.0  ...  12  24  21\n",
              "481205 2017-12-24 22:00:00          5.0      82.0  ...  12  24  22\n",
              "481206 2017-12-24 23:00:00          5.0      85.0  ...  12  24  23\n",
              "481207 2017-12-25 00:00:00          5.0      85.0  ...  12  25   0\n",
              "\n",
              "[291754 rows x 13 columns]"
            ]
          },
          "metadata": {
            "tags": []
          },
          "execution_count": 39
        }
      ]
    },
    {
      "cell_type": "markdown",
      "metadata": {
        "id": "WaZ4Ze2DOLfa"
      },
      "source": [
        "6 Normalizacja współrzędnych - Standard scaller lub wzór (-50x1000)"
      ]
    },
    {
      "cell_type": "code",
      "metadata": {
        "id": "7GpDP_YuPySD"
      },
      "source": [
        ""
      ],
      "execution_count": null,
      "outputs": []
    },
    {
      "cell_type": "markdown",
      "metadata": {
        "id": "d-PEXM0IOR-W"
      },
      "source": [
        "7 Predykcja - szukanie najlepszego modelu"
      ]
    },
    {
      "cell_type": "code",
      "metadata": {
        "id": "noqhRJv8w4Q0"
      },
      "source": [
        ""
      ],
      "execution_count": null,
      "outputs": []
    },
    {
      "cell_type": "markdown",
      "metadata": {
        "id": "XG3jrtUmt3bf"
      },
      "source": [
        "7.1 Regression"
      ]
    },
    {
      "cell_type": "code",
      "metadata": {
        "id": "dFTNtS3qt2mv",
        "outputId": "ef7c04d2-a53d-4ba1-c56b-81b72207b333",
        "colab": {
          "base_uri": "https://localhost:8080/",
          "height": 142
        }
      },
      "source": [
        "X = geo_df[[\"temperature\",\t\"humidity\",\"pressure\",\"latitude\",\"longitude\",\"M\",\"D\",\t\"H\"]]\n",
        "X[:3]"
      ],
      "execution_count": 40,
      "outputs": [
        {
          "output_type": "execute_result",
          "data": {
            "text/html": [
              "<div>\n",
              "<style scoped>\n",
              "    .dataframe tbody tr th:only-of-type {\n",
              "        vertical-align: middle;\n",
              "    }\n",
              "\n",
              "    .dataframe tbody tr th {\n",
              "        vertical-align: top;\n",
              "    }\n",
              "\n",
              "    .dataframe thead th {\n",
              "        text-align: right;\n",
              "    }\n",
              "</style>\n",
              "<table border=\"1\" class=\"dataframe\">\n",
              "  <thead>\n",
              "    <tr style=\"text-align: right;\">\n",
              "      <th></th>\n",
              "      <th>temperature</th>\n",
              "      <th>humidity</th>\n",
              "      <th>pressure</th>\n",
              "      <th>latitude</th>\n",
              "      <th>longitude</th>\n",
              "      <th>M</th>\n",
              "      <th>D</th>\n",
              "      <th>H</th>\n",
              "    </tr>\n",
              "  </thead>\n",
              "  <tbody>\n",
              "    <tr>\n",
              "      <th>1811</th>\n",
              "      <td>12.0</td>\n",
              "      <td>44.0</td>\n",
              "      <td>101244.0</td>\n",
              "      <td>50.057747</td>\n",
              "      <td>19.961374</td>\n",
              "      <td>3</td>\n",
              "      <td>17</td>\n",
              "      <td>11</td>\n",
              "    </tr>\n",
              "    <tr>\n",
              "      <th>1812</th>\n",
              "      <td>12.0</td>\n",
              "      <td>45.0</td>\n",
              "      <td>101147.0</td>\n",
              "      <td>50.057747</td>\n",
              "      <td>19.961374</td>\n",
              "      <td>3</td>\n",
              "      <td>17</td>\n",
              "      <td>12</td>\n",
              "    </tr>\n",
              "    <tr>\n",
              "      <th>1813</th>\n",
              "      <td>12.0</td>\n",
              "      <td>43.0</td>\n",
              "      <td>101049.0</td>\n",
              "      <td>50.057747</td>\n",
              "      <td>19.961374</td>\n",
              "      <td>3</td>\n",
              "      <td>17</td>\n",
              "      <td>13</td>\n",
              "    </tr>\n",
              "  </tbody>\n",
              "</table>\n",
              "</div>"
            ],
            "text/plain": [
              "      temperature  humidity  pressure   latitude  longitude  M   D   H\n",
              "1811         12.0      44.0  101244.0  50.057747  19.961374  3  17  11\n",
              "1812         12.0      45.0  101147.0  50.057747  19.961374  3  17  12\n",
              "1813         12.0      43.0  101049.0  50.057747  19.961374  3  17  13"
            ]
          },
          "metadata": {
            "tags": []
          },
          "execution_count": 40
        }
      ]
    },
    {
      "cell_type": "code",
      "metadata": {
        "id": "gc1UzTM4yM4O",
        "outputId": "f5659d57-3202-41bd-9e59-32107768a319",
        "colab": {
          "base_uri": "https://localhost:8080/"
        }
      },
      "source": [
        "y = geo_df[\"pm10\"]\n",
        "y[:3]"
      ],
      "execution_count": 41,
      "outputs": [
        {
          "output_type": "execute_result",
          "data": {
            "text/plain": [
              "1811    22.0\n",
              "1812    26.0\n",
              "1813    26.0\n",
              "Name: pm10, dtype: float64"
            ]
          },
          "metadata": {
            "tags": []
          },
          "execution_count": 41
        }
      ]
    },
    {
      "cell_type": "code",
      "metadata": {
        "id": "1o-RPbvkyTV6"
      },
      "source": [
        ""
      ],
      "execution_count": null,
      "outputs": []
    },
    {
      "cell_type": "markdown",
      "metadata": {
        "id": "D60GqlxhOUMG"
      },
      "source": [
        "7.1.1 Regresja liniowa"
      ]
    },
    {
      "cell_type": "code",
      "metadata": {
        "id": "NfUwYDbQP79C"
      },
      "source": [
        ""
      ],
      "execution_count": null,
      "outputs": []
    },
    {
      "cell_type": "markdown",
      "metadata": {
        "id": "MbsHrIh-OXlb"
      },
      "source": [
        "7.1.1.2 Regresja liniowa Podstawowy model"
      ]
    },
    {
      "cell_type": "code",
      "metadata": {
        "id": "OCA89ei3yvUc"
      },
      "source": [
        ""
      ],
      "execution_count": null,
      "outputs": []
    },
    {
      "cell_type": "markdown",
      "metadata": {
        "id": "wuHC9ob1OaPC"
      },
      "source": [
        "7.1.1.3 Regresja liniowa - Dostrajanie modelu np grid search"
      ]
    },
    {
      "cell_type": "code",
      "metadata": {
        "id": "0xxaTVDxOM4u"
      },
      "source": [
        ""
      ],
      "execution_count": null,
      "outputs": []
    },
    {
      "cell_type": "markdown",
      "metadata": {
        "id": "XWDXUxqftTTg"
      },
      "source": [
        "7.1.2.1 RandomForestRegressor()"
      ]
    },
    {
      "cell_type": "code",
      "metadata": {
        "id": "3pNmzvbuytTX"
      },
      "source": [
        "from sklearn.ensemble import RandomForestRegressor"
      ],
      "execution_count": 43,
      "outputs": []
    },
    {
      "cell_type": "markdown",
      "metadata": {
        "id": "monpY8fQtY4S"
      },
      "source": [
        "7.1.2.2 RandomForestRegressor() - Podstawowy model"
      ]
    },
    {
      "cell_type": "code",
      "metadata": {
        "id": "Dbm1ZGpvP8aS",
        "colab": {
          "base_uri": "https://localhost:8080/"
        },
        "outputId": "458783a2-5670-4a39-e29b-1effa2c9901f"
      },
      "source": [
        "model = RandomForestRegressor()\n",
        "model.fit(X, y)"
      ],
      "execution_count": 44,
      "outputs": [
        {
          "output_type": "execute_result",
          "data": {
            "text/plain": [
              "RandomForestRegressor(bootstrap=True, ccp_alpha=0.0, criterion='mse',\n",
              "                      max_depth=None, max_features='auto', max_leaf_nodes=None,\n",
              "                      max_samples=None, min_impurity_decrease=0.0,\n",
              "                      min_impurity_split=None, min_samples_leaf=1,\n",
              "                      min_samples_split=2, min_weight_fraction_leaf=0.0,\n",
              "                      n_estimators=100, n_jobs=None, oob_score=False,\n",
              "                      random_state=None, verbose=0, warm_start=False)"
            ]
          },
          "metadata": {
            "tags": []
          },
          "execution_count": 44
        }
      ]
    },
    {
      "cell_type": "code",
      "metadata": {
        "id": "j3E8bhIZzEnV",
        "outputId": "729e8366-9cad-427e-b1cc-b5af4c8252b9",
        "colab": {
          "base_uri": "https://localhost:8080/",
          "height": 80
        }
      },
      "source": [
        "#wygenerowanie danych do testowej predykcji\n",
        "val_1812 = geo_df[[\"temperature\",\t\"humidity\",\"pressure\",\"latitude\",\"longitude\",\"M\",\"D\",\t\"H\"]].iloc[1812].values\n",
        "df_predict = pd.DataFrame([val_1812], columns=[\"temperature\",\t\"humidity\",\"pressure\",\"latitude\",\"longitude\",\"M\",\"D\",\t\"H\"])\n",
        "df_predict"
      ],
      "execution_count": 70,
      "outputs": [
        {
          "output_type": "execute_result",
          "data": {
            "text/html": [
              "<div>\n",
              "<style scoped>\n",
              "    .dataframe tbody tr th:only-of-type {\n",
              "        vertical-align: middle;\n",
              "    }\n",
              "\n",
              "    .dataframe tbody tr th {\n",
              "        vertical-align: top;\n",
              "    }\n",
              "\n",
              "    .dataframe thead th {\n",
              "        text-align: right;\n",
              "    }\n",
              "</style>\n",
              "<table border=\"1\" class=\"dataframe\">\n",
              "  <thead>\n",
              "    <tr style=\"text-align: right;\">\n",
              "      <th></th>\n",
              "      <th>temperature</th>\n",
              "      <th>humidity</th>\n",
              "      <th>pressure</th>\n",
              "      <th>latitude</th>\n",
              "      <th>longitude</th>\n",
              "      <th>M</th>\n",
              "      <th>D</th>\n",
              "      <th>H</th>\n",
              "    </tr>\n",
              "  </thead>\n",
              "  <tbody>\n",
              "    <tr>\n",
              "      <th>0</th>\n",
              "      <td>24.0</td>\n",
              "      <td>37.0</td>\n",
              "      <td>101792.0</td>\n",
              "      <td>50.057747</td>\n",
              "      <td>19.961374</td>\n",
              "      <td>6.0</td>\n",
              "      <td>3.0</td>\n",
              "      <td>11.0</td>\n",
              "    </tr>\n",
              "  </tbody>\n",
              "</table>\n",
              "</div>"
            ],
            "text/plain": [
              "   temperature  humidity  pressure   latitude  longitude    M    D     H\n",
              "0         24.0      37.0  101792.0  50.057747  19.961374  6.0  3.0  11.0"
            ]
          },
          "metadata": {
            "tags": []
          },
          "execution_count": 70
        }
      ]
    },
    {
      "cell_type": "code",
      "metadata": {
        "id": "XJhjKg_MYgS7",
        "outputId": "3717c056-dd2e-4543-bc7a-2fd7b943a386",
        "colab": {
          "base_uri": "https://localhost:8080/"
        }
      },
      "source": [
        "#przewidziało\n",
        "prediction = model.predict(df_predict)\n",
        "prediction"
      ],
      "execution_count": 71,
      "outputs": [
        {
          "output_type": "execute_result",
          "data": {
            "text/plain": [
              "array([6.37])"
            ]
          },
          "metadata": {
            "tags": []
          },
          "execution_count": 71
        }
      ]
    },
    {
      "cell_type": "code",
      "metadata": {
        "id": "iOmnCCnuuZAT",
        "colab": {
          "base_uri": "https://localhost:8080/"
        },
        "outputId": "29b55bfb-75a7-4985-c596-83578cc1a08b"
      },
      "source": [
        "#powinno być\n",
        "geo_df[\"pm10\"].iloc[1812]"
      ],
      "execution_count": 72,
      "outputs": [
        {
          "output_type": "execute_result",
          "data": {
            "text/plain": [
              "6.0"
            ]
          },
          "metadata": {
            "tags": []
          },
          "execution_count": 72
        }
      ]
    },
    {
      "cell_type": "code",
      "metadata": {
        "id": "_d0mTUphtirk"
      },
      "source": [
        ""
      ],
      "execution_count": null,
      "outputs": []
    },
    {
      "cell_type": "markdown",
      "metadata": {
        "id": "kD9wCioMtZ48"
      },
      "source": [
        "7.1.2.3 RandomForestRegressor() - Dostrajanie modelu np grid search"
      ]
    },
    {
      "cell_type": "code",
      "metadata": {
        "id": "JhGOOm8RtYRt"
      },
      "source": [
        ""
      ],
      "execution_count": null,
      "outputs": []
    },
    {
      "cell_type": "markdown",
      "metadata": {
        "id": "lvfiLzq5OfIg"
      },
      "source": [
        "7.2 Predykcja TimeSeries"
      ]
    },
    {
      "cell_type": "markdown",
      "metadata": {
        "id": "l6KCw_2SOfIh"
      },
      "source": [
        "7.2.1 arima (pmd arima auto-arima)"
      ]
    },
    {
      "cell_type": "code",
      "metadata": {
        "id": "hTvBowL4P97v"
      },
      "source": [
        ""
      ],
      "execution_count": null,
      "outputs": []
    },
    {
      "cell_type": "markdown",
      "metadata": {
        "id": "uRSBwPR5OfIh"
      },
      "source": [
        "7.2.2 Profet"
      ]
    },
    {
      "cell_type": "code",
      "metadata": {
        "id": "Bsht7x1nP-e8"
      },
      "source": [
        ""
      ],
      "execution_count": null,
      "outputs": []
    },
    {
      "cell_type": "markdown",
      "metadata": {
        "id": "dntbn1WkO3ON"
      },
      "source": [
        "7.3 RNN"
      ]
    },
    {
      "cell_type": "markdown",
      "metadata": {
        "id": "kvAN_gcpO8M6"
      },
      "source": [
        "7.3.1 LSTM"
      ]
    },
    {
      "cell_type": "markdown",
      "metadata": {
        "id": "LIR6c_aIPBdr"
      },
      "source": [
        "7.3.1.1 LSTM - Podstawowy"
      ]
    },
    {
      "cell_type": "code",
      "metadata": {
        "id": "trd82TNnQAyE"
      },
      "source": [
        ""
      ],
      "execution_count": null,
      "outputs": []
    },
    {
      "cell_type": "markdown",
      "metadata": {
        "id": "7FBa-UbePKRd"
      },
      "source": [
        "7.3.1.2 LSTM - Dwukierunkowy"
      ]
    },
    {
      "cell_type": "code",
      "metadata": {
        "id": "Oj9sOcTdQBHi"
      },
      "source": [
        ""
      ],
      "execution_count": null,
      "outputs": []
    },
    {
      "cell_type": "markdown",
      "metadata": {
        "id": "nqvZ7zvXO_df"
      },
      "source": [
        "7.3.2 GRU"
      ]
    },
    {
      "cell_type": "markdown",
      "metadata": {
        "id": "kmW_GE0bPP3x"
      },
      "source": [
        "7.3.2.1 GRU - Podstawowy"
      ]
    },
    {
      "cell_type": "code",
      "metadata": {
        "id": "1oWlqvPZQB7z"
      },
      "source": [
        ""
      ],
      "execution_count": null,
      "outputs": []
    },
    {
      "cell_type": "markdown",
      "metadata": {
        "id": "C4mv3Q_yPP8i"
      },
      "source": [
        "7.3.2.2 GRU - Dwukierunkowy"
      ]
    },
    {
      "cell_type": "code",
      "metadata": {
        "id": "f3NyIUHpQCOn"
      },
      "source": [
        ""
      ],
      "execution_count": null,
      "outputs": []
    },
    {
      "cell_type": "markdown",
      "metadata": {
        "id": "Yf8s4-ewPdF0"
      },
      "source": [
        "8 Zestawienie wyników predykcji - wybranie najlepszego modelu do predykcji "
      ]
    },
    {
      "cell_type": "code",
      "metadata": {
        "id": "XdZeeXF1QC6J"
      },
      "source": [
        ""
      ],
      "execution_count": null,
      "outputs": []
    },
    {
      "cell_type": "markdown",
      "metadata": {
        "id": "TKTt5h8XO-qd"
      },
      "source": [
        "9 Obliczenie predykcji dla nowej daty dla wszystkich punktów pomiarowych np 2018.01.21"
      ]
    },
    {
      "cell_type": "code",
      "metadata": {
        "id": "9RacaaGwQDSc"
      },
      "source": [
        ""
      ],
      "execution_count": null,
      "outputs": []
    },
    {
      "cell_type": "markdown",
      "metadata": {
        "id": "Wvio7k18O1WT"
      },
      "source": [
        "10 Prototyp"
      ]
    },
    {
      "cell_type": "markdown",
      "metadata": {
        "id": "wpYGoXd1Pk4b"
      },
      "source": [
        "10.1 Utworzenie siatki punktów w na terenie całego krakowa zlokalizowanych co 500m"
      ]
    },
    {
      "cell_type": "code",
      "metadata": {
        "id": "P4tNABLZQD8I"
      },
      "source": [
        ""
      ],
      "execution_count": null,
      "outputs": []
    },
    {
      "cell_type": "markdown",
      "metadata": {
        "id": "UQTsxe_rPrSS"
      },
      "source": [
        "10.2 Obliczenie predykcji dla wszystkich stacji pomiarowych dla 2018.01.21"
      ]
    },
    {
      "cell_type": "code",
      "metadata": {
        "id": "gZcYI37SQEc5"
      },
      "source": [
        ""
      ],
      "execution_count": null,
      "outputs": []
    },
    {
      "cell_type": "markdown",
      "metadata": {
        "id": "2IcTz82GPs34"
      },
      "source": [
        "10.3 Utworzenie modelu K-najbliższych sąsiadów -regression (odległość, haversine distance- odległość km )"
      ]
    },
    {
      "cell_type": "code",
      "metadata": {
        "id": "sv2Dm3AtOfZS"
      },
      "source": [
        ""
      ],
      "execution_count": null,
      "outputs": []
    }
  ]
}