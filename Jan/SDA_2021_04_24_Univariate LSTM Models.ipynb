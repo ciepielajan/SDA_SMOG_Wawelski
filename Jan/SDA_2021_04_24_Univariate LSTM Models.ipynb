{
  "nbformat": 4,
  "nbformat_minor": 0,
  "metadata": {
    "colab": {
      "name": "SDA_2021_04_24_LSTM-Multiple Parallel.ipynb",
      "provenance": [],
      "authorship_tag": "ABX9TyOpKDRF3ZEBz01MH1q2FDEA",
      "include_colab_link": true
    },
    "kernelspec": {
      "name": "python3",
      "display_name": "Python 3"
    },
    "language_info": {
      "name": "python"
    }
  },
  "cells": [
    {
      "cell_type": "markdown",
      "metadata": {
        "id": "view-in-github",
        "colab_type": "text"
      },
      "source": [
        "<a href=\"https://colab.research.google.com/github/ciepielajan/SDA_SMOG_Wawelski/blob/main/Jan/SDA_2021_04_24_Univariate%20LSTM%20Models.ipynb\" target=\"_parent\"><img src=\"https://colab.research.google.com/assets/colab-badge.svg\" alt=\"Open In Colab\"/></a>"
      ]
    },
    {
      "cell_type": "markdown",
      "metadata": {
        "id": "p5crOTqk5ul-"
      },
      "source": [
        "# Zastosowanie `Univariate LSTM Models` \n",
        "\n",
        "https://machinelearningmastery.com/how-to-develop-lstm-models-for-time-series-forecasting/"
      ]
    },
    {
      "cell_type": "markdown",
      "metadata": {
        "id": "xTVFilVwWSCU"
      },
      "source": [
        "Możliwości:\n",
        "1. `Multiple Parallel` - zastosowanie jednego modelu LSTM dla wszystkich sensorów korzystajac z wielu równoległych obserwacji \n",
        "* 1. `Multiple Parallel` tylko dla pm10\n",
        "* 2. `Multiple Parallel + Multivariate`  pm10 + dodatkowe parametry (np: temp, ciśnienie, srednia krocząca obserwacji, zaludnienie itd)\n",
        "* minus - duża ilość braków danych, każdy sensor zaczynał działanie w innym czasie. konieczność sztucznego uzupełeniania brakujacych wartości\n",
        "* `do sprawdzenia` - może do modelu mozna wrzucić Nulle jako 0 (brak obserwacji) ??\n",
        "2. zastosowanie jednego modelu LSTM dla każdego z sensora osobno:\n",
        "* 1.  `Univariate ` - samo pm10\n",
        "* 2.  `Multivariate` - pm10 + dodatkowe parametry (np: temp, ćiśnienie, srednia krocząca obserwacji, zaludnienie itd)\n",
        "\n",
        "---\n",
        "\n",
        "założenia:\n",
        "* implementacja modelu `LSTM - Multiple Parallel`\n",
        "* time series zawiera braki pomiarów dla niektórych sensorów. \n",
        "* * aby przetestować działanie LSTM używamy \"ułatwienia\" uzupełniajac brakujące obserwacje metodą `.interpolate()`, z parametrami `method='linear', axis=1`\n",
        "* * *  aby wyniki były najbardziej zbliżone do prawdziwych można zastosować model K-najbliższych dla lokazliacji sensorów. \n",
        "* *  * drugą możliwością jest rezygnacja z interpolacji brakujacych obserwacji i obliczanie modelu LSTM dla każdego sensora osobno na okresie czasowym z którego sa wszystkie obserwacje. "
      ]
    },
    {
      "cell_type": "code",
      "metadata": {
        "id": "93NJwGzWNYiw"
      },
      "source": [
        "import warnings\n",
        "warnings.filterwarnings(\"ignore\")\n",
        "import numpy as np\n",
        "import pandas as pd\n",
        "import matplotlib.pyplot as plt\n",
        "import glob"
      ],
      "execution_count": 3,
      "outputs": []
    },
    {
      "cell_type": "code",
      "metadata": {
        "colab": {
          "base_uri": "https://localhost:8080/"
        },
        "id": "S0x_t54SNiNx",
        "outputId": "aaa06cb6-1549-4021-e2ad-b289f9f839dc"
      },
      "source": [
        "# !gdown --id \"186S03hFJ67K4eV1BWb2_6lZxAYG7dBM4\"\n",
        "# !unzip -q \"archive.zip\" -d data/\n",
        "all_file_names = glob.glob(\"data/*2017.csv\")\n",
        "all_file_names = sorted(all_file_names)\n",
        "\n",
        "jan = pd.read_csv(all_file_names[4])\n",
        "feb = pd.read_csv(all_file_names[3])\n",
        "mar = pd.read_csv(all_file_names[7])\n",
        "apr = pd.read_csv(all_file_names[0])\n",
        "may = pd.read_csv(all_file_names[8])\n",
        "jun = pd.read_csv(all_file_names[6])\n",
        "jul = pd.read_csv(all_file_names[5])\n",
        "aug = pd.read_csv(all_file_names[1])\n",
        "sep = pd.read_csv(all_file_names[11])\n",
        "octo = pd.read_csv(all_file_names[10])\n",
        "nov = pd.read_csv(all_file_names[9])\n",
        "dec = pd.read_csv(all_file_names[2])\n",
        "\n",
        "year = pd.concat([jan, feb, mar, apr, may, jun, jul, aug, sep, octo, nov, dec])\n",
        "year[\"UTC time\"] = pd.to_datetime(year[\"UTC time\"], format=\"%Y-%m-%dT%H:%M:%S\")\n",
        "year = year.set_index(\"UTC time\")\n",
        "year.shape"
      ],
      "execution_count": 32,
      "outputs": [
        {
          "output_type": "execute_result",
          "data": {
            "text/plain": [
              "(8593, 336)"
            ]
          },
          "metadata": {
            "tags": []
          },
          "execution_count": 32
        }
      ]
    },
    {
      "cell_type": "code",
      "metadata": {
        "colab": {
          "base_uri": "https://localhost:8080/",
          "height": 269
        },
        "id": "Y-rFG8LzN8_R",
        "outputId": "1ece0f5a-658b-408c-8019-81999f24c3ff"
      },
      "source": [
        "year.head(2)"
      ],
      "execution_count": 33,
      "outputs": [
        {
          "output_type": "execute_result",
          "data": {
            "text/html": [
              "<div>\n",
              "<style scoped>\n",
              "    .dataframe tbody tr th:only-of-type {\n",
              "        vertical-align: middle;\n",
              "    }\n",
              "\n",
              "    .dataframe tbody tr th {\n",
              "        vertical-align: top;\n",
              "    }\n",
              "\n",
              "    .dataframe thead th {\n",
              "        text-align: right;\n",
              "    }\n",
              "</style>\n",
              "<table border=\"1\" class=\"dataframe\">\n",
              "  <thead>\n",
              "    <tr style=\"text-align: right;\">\n",
              "      <th></th>\n",
              "      <th>3_temperature</th>\n",
              "      <th>3_humidity</th>\n",
              "      <th>3_pressure</th>\n",
              "      <th>3_pm1</th>\n",
              "      <th>3_pm25</th>\n",
              "      <th>3_pm10</th>\n",
              "      <th>140_temperature</th>\n",
              "      <th>140_humidity</th>\n",
              "      <th>140_pressure</th>\n",
              "      <th>140_pm1</th>\n",
              "      <th>140_pm25</th>\n",
              "      <th>140_pm10</th>\n",
              "      <th>142_temperature</th>\n",
              "      <th>142_humidity</th>\n",
              "      <th>142_pressure</th>\n",
              "      <th>142_pm1</th>\n",
              "      <th>142_pm25</th>\n",
              "      <th>142_pm10</th>\n",
              "      <th>147_temperature</th>\n",
              "      <th>147_humidity</th>\n",
              "      <th>147_pressure</th>\n",
              "      <th>147_pm1</th>\n",
              "      <th>147_pm25</th>\n",
              "      <th>147_pm10</th>\n",
              "      <th>169_temperature</th>\n",
              "      <th>169_humidity</th>\n",
              "      <th>169_pressure</th>\n",
              "      <th>169_pm1</th>\n",
              "      <th>169_pm25</th>\n",
              "      <th>169_pm10</th>\n",
              "      <th>170_temperature</th>\n",
              "      <th>170_humidity</th>\n",
              "      <th>170_pressure</th>\n",
              "      <th>170_pm1</th>\n",
              "      <th>170_pm25</th>\n",
              "      <th>170_pm10</th>\n",
              "      <th>171_temperature</th>\n",
              "      <th>171_humidity</th>\n",
              "      <th>171_pressure</th>\n",
              "      <th>171_pm1</th>\n",
              "      <th>...</th>\n",
              "      <th>228_pressure</th>\n",
              "      <th>228_pm1</th>\n",
              "      <th>228_pm25</th>\n",
              "      <th>228_pm10</th>\n",
              "      <th>263_temperature</th>\n",
              "      <th>263_humidity</th>\n",
              "      <th>263_pressure</th>\n",
              "      <th>263_pm1</th>\n",
              "      <th>263_pm25</th>\n",
              "      <th>263_pm10</th>\n",
              "      <th>622_temperature</th>\n",
              "      <th>622_humidity</th>\n",
              "      <th>622_pressure</th>\n",
              "      <th>622_pm1</th>\n",
              "      <th>622_pm25</th>\n",
              "      <th>622_pm10</th>\n",
              "      <th>713_temperature</th>\n",
              "      <th>713_humidity</th>\n",
              "      <th>713_pressure</th>\n",
              "      <th>713_pm1</th>\n",
              "      <th>713_pm25</th>\n",
              "      <th>713_pm10</th>\n",
              "      <th>808_temperature</th>\n",
              "      <th>808_humidity</th>\n",
              "      <th>808_pressure</th>\n",
              "      <th>808_pm1</th>\n",
              "      <th>808_pm25</th>\n",
              "      <th>808_pm10</th>\n",
              "      <th>857_temperature</th>\n",
              "      <th>857_humidity</th>\n",
              "      <th>857_pressure</th>\n",
              "      <th>857_pm1</th>\n",
              "      <th>857_pm25</th>\n",
              "      <th>857_pm10</th>\n",
              "      <th>895_temperature</th>\n",
              "      <th>895_humidity</th>\n",
              "      <th>895_pressure</th>\n",
              "      <th>895_pm1</th>\n",
              "      <th>895_pm25</th>\n",
              "      <th>895_pm10</th>\n",
              "    </tr>\n",
              "    <tr>\n",
              "      <th>UTC time</th>\n",
              "      <th></th>\n",
              "      <th></th>\n",
              "      <th></th>\n",
              "      <th></th>\n",
              "      <th></th>\n",
              "      <th></th>\n",
              "      <th></th>\n",
              "      <th></th>\n",
              "      <th></th>\n",
              "      <th></th>\n",
              "      <th></th>\n",
              "      <th></th>\n",
              "      <th></th>\n",
              "      <th></th>\n",
              "      <th></th>\n",
              "      <th></th>\n",
              "      <th></th>\n",
              "      <th></th>\n",
              "      <th></th>\n",
              "      <th></th>\n",
              "      <th></th>\n",
              "      <th></th>\n",
              "      <th></th>\n",
              "      <th></th>\n",
              "      <th></th>\n",
              "      <th></th>\n",
              "      <th></th>\n",
              "      <th></th>\n",
              "      <th></th>\n",
              "      <th></th>\n",
              "      <th></th>\n",
              "      <th></th>\n",
              "      <th></th>\n",
              "      <th></th>\n",
              "      <th></th>\n",
              "      <th></th>\n",
              "      <th></th>\n",
              "      <th></th>\n",
              "      <th></th>\n",
              "      <th></th>\n",
              "      <th></th>\n",
              "      <th></th>\n",
              "      <th></th>\n",
              "      <th></th>\n",
              "      <th></th>\n",
              "      <th></th>\n",
              "      <th></th>\n",
              "      <th></th>\n",
              "      <th></th>\n",
              "      <th></th>\n",
              "      <th></th>\n",
              "      <th></th>\n",
              "      <th></th>\n",
              "      <th></th>\n",
              "      <th></th>\n",
              "      <th></th>\n",
              "      <th></th>\n",
              "      <th></th>\n",
              "      <th></th>\n",
              "      <th></th>\n",
              "      <th></th>\n",
              "      <th></th>\n",
              "      <th></th>\n",
              "      <th></th>\n",
              "      <th></th>\n",
              "      <th></th>\n",
              "      <th></th>\n",
              "      <th></th>\n",
              "      <th></th>\n",
              "      <th></th>\n",
              "      <th></th>\n",
              "      <th></th>\n",
              "      <th></th>\n",
              "      <th></th>\n",
              "      <th></th>\n",
              "      <th></th>\n",
              "      <th></th>\n",
              "      <th></th>\n",
              "      <th></th>\n",
              "      <th></th>\n",
              "      <th></th>\n",
              "    </tr>\n",
              "  </thead>\n",
              "  <tbody>\n",
              "    <tr>\n",
              "      <th>2017-01-01 00:00:00</th>\n",
              "      <td>NaN</td>\n",
              "      <td>NaN</td>\n",
              "      <td>NaN</td>\n",
              "      <td>NaN</td>\n",
              "      <td>NaN</td>\n",
              "      <td>NaN</td>\n",
              "      <td>NaN</td>\n",
              "      <td>NaN</td>\n",
              "      <td>NaN</td>\n",
              "      <td>NaN</td>\n",
              "      <td>NaN</td>\n",
              "      <td>NaN</td>\n",
              "      <td>-4.0</td>\n",
              "      <td>68.0</td>\n",
              "      <td>102279.0</td>\n",
              "      <td>115.0</td>\n",
              "      <td>127.0</td>\n",
              "      <td>196.0</td>\n",
              "      <td>-3.0</td>\n",
              "      <td>57.0</td>\n",
              "      <td>102505.0</td>\n",
              "      <td>196.0</td>\n",
              "      <td>222.0</td>\n",
              "      <td>346.0</td>\n",
              "      <td>0.0</td>\n",
              "      <td>49.0</td>\n",
              "      <td>102689.0</td>\n",
              "      <td>124.0</td>\n",
              "      <td>145.0</td>\n",
              "      <td>229.0</td>\n",
              "      <td>2.0</td>\n",
              "      <td>25.0</td>\n",
              "      <td>102379.0</td>\n",
              "      <td>148.0</td>\n",
              "      <td>176.0</td>\n",
              "      <td>277.0</td>\n",
              "      <td>1.0</td>\n",
              "      <td>27.0</td>\n",
              "      <td>102437.0</td>\n",
              "      <td>147.0</td>\n",
              "      <td>...</td>\n",
              "      <td>102253.0</td>\n",
              "      <td>184.0</td>\n",
              "      <td>218.0</td>\n",
              "      <td>322.0</td>\n",
              "      <td>0.0</td>\n",
              "      <td>54.0</td>\n",
              "      <td>101672.0</td>\n",
              "      <td>137.0</td>\n",
              "      <td>153.0</td>\n",
              "      <td>235.0</td>\n",
              "      <td>NaN</td>\n",
              "      <td>NaN</td>\n",
              "      <td>NaN</td>\n",
              "      <td>NaN</td>\n",
              "      <td>NaN</td>\n",
              "      <td>NaN</td>\n",
              "      <td>NaN</td>\n",
              "      <td>NaN</td>\n",
              "      <td>NaN</td>\n",
              "      <td>NaN</td>\n",
              "      <td>NaN</td>\n",
              "      <td>NaN</td>\n",
              "      <td>NaN</td>\n",
              "      <td>NaN</td>\n",
              "      <td>NaN</td>\n",
              "      <td>NaN</td>\n",
              "      <td>NaN</td>\n",
              "      <td>NaN</td>\n",
              "      <td>NaN</td>\n",
              "      <td>NaN</td>\n",
              "      <td>NaN</td>\n",
              "      <td>NaN</td>\n",
              "      <td>NaN</td>\n",
              "      <td>NaN</td>\n",
              "      <td>NaN</td>\n",
              "      <td>NaN</td>\n",
              "      <td>NaN</td>\n",
              "      <td>NaN</td>\n",
              "      <td>NaN</td>\n",
              "      <td>NaN</td>\n",
              "    </tr>\n",
              "    <tr>\n",
              "      <th>2017-01-01 01:00:00</th>\n",
              "      <td>NaN</td>\n",
              "      <td>NaN</td>\n",
              "      <td>NaN</td>\n",
              "      <td>NaN</td>\n",
              "      <td>NaN</td>\n",
              "      <td>NaN</td>\n",
              "      <td>NaN</td>\n",
              "      <td>NaN</td>\n",
              "      <td>NaN</td>\n",
              "      <td>NaN</td>\n",
              "      <td>NaN</td>\n",
              "      <td>NaN</td>\n",
              "      <td>-5.0</td>\n",
              "      <td>68.0</td>\n",
              "      <td>102228.0</td>\n",
              "      <td>105.0</td>\n",
              "      <td>116.0</td>\n",
              "      <td>180.0</td>\n",
              "      <td>-3.0</td>\n",
              "      <td>56.0</td>\n",
              "      <td>102454.0</td>\n",
              "      <td>187.0</td>\n",
              "      <td>211.0</td>\n",
              "      <td>330.0</td>\n",
              "      <td>0.0</td>\n",
              "      <td>49.0</td>\n",
              "      <td>102635.0</td>\n",
              "      <td>124.0</td>\n",
              "      <td>145.0</td>\n",
              "      <td>230.0</td>\n",
              "      <td>1.0</td>\n",
              "      <td>25.0</td>\n",
              "      <td>102325.0</td>\n",
              "      <td>131.0</td>\n",
              "      <td>156.0</td>\n",
              "      <td>247.0</td>\n",
              "      <td>0.0</td>\n",
              "      <td>27.0</td>\n",
              "      <td>102387.0</td>\n",
              "      <td>129.0</td>\n",
              "      <td>...</td>\n",
              "      <td>102201.0</td>\n",
              "      <td>146.0</td>\n",
              "      <td>169.0</td>\n",
              "      <td>250.0</td>\n",
              "      <td>0.0</td>\n",
              "      <td>52.0</td>\n",
              "      <td>101623.0</td>\n",
              "      <td>119.0</td>\n",
              "      <td>132.0</td>\n",
              "      <td>203.0</td>\n",
              "      <td>NaN</td>\n",
              "      <td>NaN</td>\n",
              "      <td>NaN</td>\n",
              "      <td>NaN</td>\n",
              "      <td>NaN</td>\n",
              "      <td>NaN</td>\n",
              "      <td>NaN</td>\n",
              "      <td>NaN</td>\n",
              "      <td>NaN</td>\n",
              "      <td>NaN</td>\n",
              "      <td>NaN</td>\n",
              "      <td>NaN</td>\n",
              "      <td>NaN</td>\n",
              "      <td>NaN</td>\n",
              "      <td>NaN</td>\n",
              "      <td>NaN</td>\n",
              "      <td>NaN</td>\n",
              "      <td>NaN</td>\n",
              "      <td>NaN</td>\n",
              "      <td>NaN</td>\n",
              "      <td>NaN</td>\n",
              "      <td>NaN</td>\n",
              "      <td>NaN</td>\n",
              "      <td>NaN</td>\n",
              "      <td>NaN</td>\n",
              "      <td>NaN</td>\n",
              "      <td>NaN</td>\n",
              "      <td>NaN</td>\n",
              "      <td>NaN</td>\n",
              "      <td>NaN</td>\n",
              "    </tr>\n",
              "  </tbody>\n",
              "</table>\n",
              "<p>2 rows × 336 columns</p>\n",
              "</div>"
            ],
            "text/plain": [
              "                     3_temperature  3_humidity  ...  895_pm25  895_pm10\n",
              "UTC time                                        ...                    \n",
              "2017-01-01 00:00:00            NaN         NaN  ...       NaN       NaN\n",
              "2017-01-01 01:00:00            NaN         NaN  ...       NaN       NaN\n",
              "\n",
              "[2 rows x 336 columns]"
            ]
          },
          "metadata": {
            "tags": []
          },
          "execution_count": 33
        }
      ]
    },
    {
      "cell_type": "markdown",
      "metadata": {
        "id": "-JWUBL-gPXvo"
      },
      "source": [
        "Pobranie nazw wszytkich kolumn reprezentujących pm10"
      ]
    },
    {
      "cell_type": "code",
      "metadata": {
        "colab": {
          "base_uri": "https://localhost:8080/",
          "height": 303
        },
        "id": "-dfvic-pPrYX",
        "outputId": "6fef1bb5-9d1a-4625-f0eb-4ae9594dfca1"
      },
      "source": [
        "columns_pm10 = [ i  for i in year.columns if  i.split(\"_\")[1] == \"pm10\"]\n",
        "year_pm10 = year[columns_pm10]\n",
        "year_pm10[:3]"
      ],
      "execution_count": 34,
      "outputs": [
        {
          "output_type": "execute_result",
          "data": {
            "text/html": [
              "<div>\n",
              "<style scoped>\n",
              "    .dataframe tbody tr th:only-of-type {\n",
              "        vertical-align: middle;\n",
              "    }\n",
              "\n",
              "    .dataframe tbody tr th {\n",
              "        vertical-align: top;\n",
              "    }\n",
              "\n",
              "    .dataframe thead th {\n",
              "        text-align: right;\n",
              "    }\n",
              "</style>\n",
              "<table border=\"1\" class=\"dataframe\">\n",
              "  <thead>\n",
              "    <tr style=\"text-align: right;\">\n",
              "      <th></th>\n",
              "      <th>3_pm10</th>\n",
              "      <th>140_pm10</th>\n",
              "      <th>142_pm10</th>\n",
              "      <th>147_pm10</th>\n",
              "      <th>169_pm10</th>\n",
              "      <th>170_pm10</th>\n",
              "      <th>171_pm10</th>\n",
              "      <th>172_pm10</th>\n",
              "      <th>173_pm10</th>\n",
              "      <th>174_pm10</th>\n",
              "      <th>176_pm10</th>\n",
              "      <th>177_pm10</th>\n",
              "      <th>178_pm10</th>\n",
              "      <th>179_pm10</th>\n",
              "      <th>180_pm10</th>\n",
              "      <th>181_pm10</th>\n",
              "      <th>182_pm10</th>\n",
              "      <th>183_pm10</th>\n",
              "      <th>184_pm10</th>\n",
              "      <th>185_pm10</th>\n",
              "      <th>187_pm10</th>\n",
              "      <th>189_pm10</th>\n",
              "      <th>192_pm10</th>\n",
              "      <th>194_pm10</th>\n",
              "      <th>195_pm10</th>\n",
              "      <th>196_pm10</th>\n",
              "      <th>201_pm10</th>\n",
              "      <th>202_pm10</th>\n",
              "      <th>203_pm10</th>\n",
              "      <th>204_pm10</th>\n",
              "      <th>205_pm10</th>\n",
              "      <th>208_pm10</th>\n",
              "      <th>209_pm10</th>\n",
              "      <th>210_pm10</th>\n",
              "      <th>211_pm10</th>\n",
              "      <th>212_pm10</th>\n",
              "      <th>213_pm10</th>\n",
              "      <th>214_pm10</th>\n",
              "      <th>215_pm10</th>\n",
              "      <th>216_pm10</th>\n",
              "      <th>218_pm10</th>\n",
              "      <th>219_pm10</th>\n",
              "      <th>220_pm10</th>\n",
              "      <th>221_pm10</th>\n",
              "      <th>222_pm10</th>\n",
              "      <th>223_pm10</th>\n",
              "      <th>225_pm10</th>\n",
              "      <th>226_pm10</th>\n",
              "      <th>227_pm10</th>\n",
              "      <th>228_pm10</th>\n",
              "      <th>263_pm10</th>\n",
              "      <th>622_pm10</th>\n",
              "      <th>713_pm10</th>\n",
              "      <th>808_pm10</th>\n",
              "      <th>857_pm10</th>\n",
              "      <th>895_pm10</th>\n",
              "    </tr>\n",
              "    <tr>\n",
              "      <th>UTC time</th>\n",
              "      <th></th>\n",
              "      <th></th>\n",
              "      <th></th>\n",
              "      <th></th>\n",
              "      <th></th>\n",
              "      <th></th>\n",
              "      <th></th>\n",
              "      <th></th>\n",
              "      <th></th>\n",
              "      <th></th>\n",
              "      <th></th>\n",
              "      <th></th>\n",
              "      <th></th>\n",
              "      <th></th>\n",
              "      <th></th>\n",
              "      <th></th>\n",
              "      <th></th>\n",
              "      <th></th>\n",
              "      <th></th>\n",
              "      <th></th>\n",
              "      <th></th>\n",
              "      <th></th>\n",
              "      <th></th>\n",
              "      <th></th>\n",
              "      <th></th>\n",
              "      <th></th>\n",
              "      <th></th>\n",
              "      <th></th>\n",
              "      <th></th>\n",
              "      <th></th>\n",
              "      <th></th>\n",
              "      <th></th>\n",
              "      <th></th>\n",
              "      <th></th>\n",
              "      <th></th>\n",
              "      <th></th>\n",
              "      <th></th>\n",
              "      <th></th>\n",
              "      <th></th>\n",
              "      <th></th>\n",
              "      <th></th>\n",
              "      <th></th>\n",
              "      <th></th>\n",
              "      <th></th>\n",
              "      <th></th>\n",
              "      <th></th>\n",
              "      <th></th>\n",
              "      <th></th>\n",
              "      <th></th>\n",
              "      <th></th>\n",
              "      <th></th>\n",
              "      <th></th>\n",
              "      <th></th>\n",
              "      <th></th>\n",
              "      <th></th>\n",
              "      <th></th>\n",
              "    </tr>\n",
              "  </thead>\n",
              "  <tbody>\n",
              "    <tr>\n",
              "      <th>2017-01-01 00:00:00</th>\n",
              "      <td>NaN</td>\n",
              "      <td>NaN</td>\n",
              "      <td>196.0</td>\n",
              "      <td>346.0</td>\n",
              "      <td>229.0</td>\n",
              "      <td>277.0</td>\n",
              "      <td>256.0</td>\n",
              "      <td>219.0</td>\n",
              "      <td>205.0</td>\n",
              "      <td>212.0</td>\n",
              "      <td>254.0</td>\n",
              "      <td>183.0</td>\n",
              "      <td>335.0</td>\n",
              "      <td>169.0</td>\n",
              "      <td>215.0</td>\n",
              "      <td>NaN</td>\n",
              "      <td>227.0</td>\n",
              "      <td>146.0</td>\n",
              "      <td>NaN</td>\n",
              "      <td>NaN</td>\n",
              "      <td>155.0</td>\n",
              "      <td>213.0</td>\n",
              "      <td>223.0</td>\n",
              "      <td>90.0</td>\n",
              "      <td>224.0</td>\n",
              "      <td>213.0</td>\n",
              "      <td>239.0</td>\n",
              "      <td>378.0</td>\n",
              "      <td>201.0</td>\n",
              "      <td>220.0</td>\n",
              "      <td>NaN</td>\n",
              "      <td>168.0</td>\n",
              "      <td>165.0</td>\n",
              "      <td>209.0</td>\n",
              "      <td>275.0</td>\n",
              "      <td>196.0</td>\n",
              "      <td>230.0</td>\n",
              "      <td>195.0</td>\n",
              "      <td>156.0</td>\n",
              "      <td>NaN</td>\n",
              "      <td>280.0</td>\n",
              "      <td>123.0</td>\n",
              "      <td>210.0</td>\n",
              "      <td>208.0</td>\n",
              "      <td>319.0</td>\n",
              "      <td>334.0</td>\n",
              "      <td>477.0</td>\n",
              "      <td>346.0</td>\n",
              "      <td>171.0</td>\n",
              "      <td>322.0</td>\n",
              "      <td>235.0</td>\n",
              "      <td>NaN</td>\n",
              "      <td>NaN</td>\n",
              "      <td>NaN</td>\n",
              "      <td>NaN</td>\n",
              "      <td>NaN</td>\n",
              "    </tr>\n",
              "    <tr>\n",
              "      <th>2017-01-01 01:00:00</th>\n",
              "      <td>NaN</td>\n",
              "      <td>NaN</td>\n",
              "      <td>180.0</td>\n",
              "      <td>330.0</td>\n",
              "      <td>230.0</td>\n",
              "      <td>247.0</td>\n",
              "      <td>228.0</td>\n",
              "      <td>226.0</td>\n",
              "      <td>227.0</td>\n",
              "      <td>238.0</td>\n",
              "      <td>224.0</td>\n",
              "      <td>197.0</td>\n",
              "      <td>339.0</td>\n",
              "      <td>166.0</td>\n",
              "      <td>216.0</td>\n",
              "      <td>NaN</td>\n",
              "      <td>192.0</td>\n",
              "      <td>143.0</td>\n",
              "      <td>NaN</td>\n",
              "      <td>NaN</td>\n",
              "      <td>144.0</td>\n",
              "      <td>221.0</td>\n",
              "      <td>259.0</td>\n",
              "      <td>74.0</td>\n",
              "      <td>231.0</td>\n",
              "      <td>215.0</td>\n",
              "      <td>241.0</td>\n",
              "      <td>350.0</td>\n",
              "      <td>203.0</td>\n",
              "      <td>228.0</td>\n",
              "      <td>NaN</td>\n",
              "      <td>189.0</td>\n",
              "      <td>164.0</td>\n",
              "      <td>230.0</td>\n",
              "      <td>250.0</td>\n",
              "      <td>227.0</td>\n",
              "      <td>222.0</td>\n",
              "      <td>216.0</td>\n",
              "      <td>161.0</td>\n",
              "      <td>NaN</td>\n",
              "      <td>328.0</td>\n",
              "      <td>122.0</td>\n",
              "      <td>216.0</td>\n",
              "      <td>206.0</td>\n",
              "      <td>362.0</td>\n",
              "      <td>287.0</td>\n",
              "      <td>482.0</td>\n",
              "      <td>308.0</td>\n",
              "      <td>177.0</td>\n",
              "      <td>250.0</td>\n",
              "      <td>203.0</td>\n",
              "      <td>NaN</td>\n",
              "      <td>NaN</td>\n",
              "      <td>NaN</td>\n",
              "      <td>NaN</td>\n",
              "      <td>NaN</td>\n",
              "    </tr>\n",
              "    <tr>\n",
              "      <th>2017-01-01 02:00:00</th>\n",
              "      <td>NaN</td>\n",
              "      <td>NaN</td>\n",
              "      <td>189.0</td>\n",
              "      <td>333.0</td>\n",
              "      <td>201.0</td>\n",
              "      <td>203.0</td>\n",
              "      <td>240.0</td>\n",
              "      <td>224.0</td>\n",
              "      <td>213.0</td>\n",
              "      <td>264.0</td>\n",
              "      <td>210.0</td>\n",
              "      <td>175.0</td>\n",
              "      <td>348.0</td>\n",
              "      <td>188.0</td>\n",
              "      <td>197.0</td>\n",
              "      <td>NaN</td>\n",
              "      <td>169.0</td>\n",
              "      <td>132.0</td>\n",
              "      <td>NaN</td>\n",
              "      <td>NaN</td>\n",
              "      <td>142.0</td>\n",
              "      <td>246.0</td>\n",
              "      <td>282.0</td>\n",
              "      <td>71.0</td>\n",
              "      <td>239.0</td>\n",
              "      <td>232.0</td>\n",
              "      <td>254.0</td>\n",
              "      <td>337.0</td>\n",
              "      <td>199.0</td>\n",
              "      <td>252.0</td>\n",
              "      <td>NaN</td>\n",
              "      <td>168.0</td>\n",
              "      <td>153.0</td>\n",
              "      <td>243.0</td>\n",
              "      <td>262.0</td>\n",
              "      <td>224.0</td>\n",
              "      <td>237.0</td>\n",
              "      <td>235.0</td>\n",
              "      <td>181.0</td>\n",
              "      <td>NaN</td>\n",
              "      <td>292.0</td>\n",
              "      <td>132.0</td>\n",
              "      <td>233.0</td>\n",
              "      <td>226.0</td>\n",
              "      <td>371.0</td>\n",
              "      <td>256.0</td>\n",
              "      <td>474.0</td>\n",
              "      <td>277.0</td>\n",
              "      <td>193.0</td>\n",
              "      <td>237.0</td>\n",
              "      <td>162.0</td>\n",
              "      <td>NaN</td>\n",
              "      <td>NaN</td>\n",
              "      <td>NaN</td>\n",
              "      <td>NaN</td>\n",
              "      <td>NaN</td>\n",
              "    </tr>\n",
              "  </tbody>\n",
              "</table>\n",
              "</div>"
            ],
            "text/plain": [
              "                     3_pm10  140_pm10  142_pm10  ...  808_pm10  857_pm10  895_pm10\n",
              "UTC time                                         ...                              \n",
              "2017-01-01 00:00:00     NaN       NaN     196.0  ...       NaN       NaN       NaN\n",
              "2017-01-01 01:00:00     NaN       NaN     180.0  ...       NaN       NaN       NaN\n",
              "2017-01-01 02:00:00     NaN       NaN     189.0  ...       NaN       NaN       NaN\n",
              "\n",
              "[3 rows x 56 columns]"
            ]
          },
          "metadata": {
            "tags": []
          },
          "execution_count": 34
        }
      ]
    },
    {
      "cell_type": "markdown",
      "metadata": {
        "id": "QePewYVhUqBH"
      },
      "source": [
        "wybranie sesnora z najmniejszą ilością nulli"
      ]
    },
    {
      "cell_type": "code",
      "metadata": {
        "colab": {
          "base_uri": "https://localhost:8080/",
          "height": 35
        },
        "id": "D-3tBN_nUoce",
        "outputId": "4e6dc643-8b7c-483c-c27a-8feb7b9097bf"
      },
      "source": [
        "year_pm10.isnull().sum().sort_values(ascending=True).index[0]"
      ],
      "execution_count": 51,
      "outputs": [
        {
          "output_type": "execute_result",
          "data": {
            "application/vnd.google.colaboratory.intrinsic+json": {
              "type": "string"
            },
            "text/plain": [
              "'212_pm10'"
            ]
          },
          "metadata": {
            "tags": []
          },
          "execution_count": 51
        }
      ]
    },
    {
      "cell_type": "code",
      "metadata": {
        "id": "vMMdaqWX7y_Q"
      },
      "source": [
        "year_pm10_212 = year_pm10[\"212_pm10\"]"
      ],
      "execution_count": 52,
      "outputs": []
    },
    {
      "cell_type": "code",
      "metadata": {
        "id": "5xwUDgw68Y39",
        "outputId": "e59a41bc-935f-49eb-a493-d4eb85d4bc24",
        "colab": {
          "base_uri": "https://localhost:8080/"
        }
      },
      "source": [
        "\"ilość brakujących obserwacji\", year_pm10_212.isnull().sum()"
      ],
      "execution_count": 57,
      "outputs": [
        {
          "output_type": "execute_result",
          "data": {
            "text/plain": [
              "('ilość brakujących obserwacji', 8)"
            ]
          },
          "metadata": {
            "tags": []
          },
          "execution_count": 57
        }
      ]
    },
    {
      "cell_type": "code",
      "metadata": {
        "id": "xkblQj8FP3aJ",
        "outputId": "a98d0fdd-ccb4-4e49-e550-c7587ae675f2",
        "colab": {
          "base_uri": "https://localhost:8080/",
          "height": 348
        }
      },
      "source": [
        "year_pm10_212.plot(figsize=(25,5), legend=True, subplots=True, title=\"time-series-pm10_before_interpolate_sensor_808\")\n",
        "# plt.savefig('time-series-pm10_before_interpolate_sensor_808.png')\n",
        "plt.show()\n",
        "plt.close()"
      ],
      "execution_count": 55,
      "outputs": [
        {
          "output_type": "display_data",
          "data": {
            "image/png": "[encoded data removed]",
            "text/plain": [
              "<Figure size 1800x360 with 1 Axes>"
            ]
          },
          "metadata": {
            "tags": [],
            "needs_background": "light"
          }
        }
      ]
    },
    {
      "cell_type": "markdown",
      "metadata": {
        "id": "HHUCvekVVbsZ"
      },
      "source": [
        "interpolacja "
      ]
    },
    {
      "cell_type": "code",
      "metadata": {
        "colab": {
          "base_uri": "https://localhost:8080/"
        },
        "id": "zqncnjQ0Vbsb",
        "outputId": "3213b9a7-a55d-4f43-d0b2-8ef667ae2da2"
      },
      "source": [
        "year_pm10_212.interpolate(method='linear', axis=0, inplace=True)\n",
        "\"ilość nulli po interpolacji\",year_pm10_212.isnull().sum().sum()"
      ],
      "execution_count": 58,
      "outputs": [
        {
          "output_type": "execute_result",
          "data": {
            "text/plain": [
              "('ilość nulli po interpolacji', 0)"
            ]
          },
          "metadata": {
            "tags": []
          },
          "execution_count": 58
        }
      ]
    },
    {
      "cell_type": "markdown",
      "metadata": {
        "id": "eZXMwLXCzLq7"
      },
      "source": [
        "Sprawdzmy czy oś czasu jest kompletna"
      ]
    },
    {
      "cell_type": "code",
      "metadata": {
        "id": "1p094ocxzTpx",
        "outputId": "9f478d1c-de81-4130-b9d3-0747ea828c5b",
        "colab": {
          "base_uri": "https://localhost:8080/"
        }
      },
      "source": [
        "\"Długość indexu ze zbioru\", len(year_pm10_212.index)"
      ],
      "execution_count": 59,
      "outputs": [
        {
          "output_type": "execute_result",
          "data": {
            "text/plain": [
              "('Długość indexu ze zbioru', 8593)"
            ]
          },
          "metadata": {
            "tags": []
          },
          "execution_count": 59
        }
      ]
    },
    {
      "cell_type": "code",
      "metadata": {
        "id": "0SkuH-SPzVLZ",
        "outputId": "f30f4255-548e-40ed-c100-54e514e80788",
        "colab": {
          "base_uri": "https://localhost:8080/"
        }
      },
      "source": [
        "\"pożądana długość indexu \", len(pd.date_range(start=year_pm10_212.index.min(), end=year_pm10_212.index.max(), freq='1H'))"
      ],
      "execution_count": 60,
      "outputs": [
        {
          "output_type": "execute_result",
          "data": {
            "text/plain": [
              "('pożądana długość indexu ', 8593)"
            ]
          },
          "metadata": {
            "tags": []
          },
          "execution_count": 60
        }
      ]
    },
    {
      "cell_type": "markdown",
      "metadata": {
        "id": "Od0pkWQG1q-7"
      },
      "source": [
        "Zastosowanie `Univariate LSTM Models`  wg:https://machinelearningmastery.com/how-to-develop-lstm-models-for-time-series-forecasting/"
      ]
    }
  ]
}