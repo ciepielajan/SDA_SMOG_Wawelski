{
  "nbformat": 4,
  "nbformat_minor": 0,
  "metadata": {
    "colab": {
      "name": "LSTM.ipynb",
      "provenance": [],
      "collapsed_sections": [],
      "include_colab_link": true
    },
    "kernelspec": {
      "name": "python3",
      "display_name": "Python 3"
    },
    "language_info": {
      "name": "python"
    },
    "accelerator": "GPU"
  },
  "cells": [
    {
      "cell_type": "markdown",
      "metadata": {
        "id": "view-in-github",
        "colab_type": "text"
      },
      "source": [
        "<a href=\"https://colab.research.google.com/github/ciepielajan/SDA_SMOG_Wawelski/blob/main/Beata/LSTM.ipynb\" target=\"_parent\"><img src=\"https://colab.research.google.com/assets/colab-badge.svg\" alt=\"Open In Colab\"/></a>"
      ]
    },
    {
      "cell_type": "code",
      "metadata": {
        "id": "Nfj94afUS33k"
      },
      "source": [
        "import numpy as np\n",
        "import pandas as pd\n",
        "import matplotlib.pyplot as plt\n",
        "import glob\n",
        "import math\n",
        "import sklearn\n",
        "import keras\n",
        "import sklearn.preprocessing\n",
        "from sklearn.preprocessing import MinMaxScaler\n",
        "from sklearn.preprocessing import LabelEncoder\n",
        "import datetime\n",
        "import os\n",
        "import matplotlib.pyplot as plt\n",
        "import tensorflow as tf\n",
        "from sklearn.cluster import KMeans"
      ],
      "execution_count": 1,
      "outputs": []
    },
    {
      "cell_type": "code",
      "metadata": {
        "colab": {
          "base_uri": "https://localhost:8080/"
        },
        "id": "NFeJOzFgTJoM",
        "outputId": "dc11ead5-ea77-4665-d72c-657a9bacbfcf"
      },
      "source": [
        "link = \"https://drive.google.com/file/d/1gwPP5TlL0zYHDkSjowfnR0DU8rsj1bTd/view?usp=sharing\"\n",
        "link_id = link.split(\"/\")[-2]\n",
        "!gdown --id $link_id\n",
        "!unzip smog1.zip"
      ],
      "execution_count": 2,
      "outputs": [
        {
          "output_type": "stream",
          "text": [
            "Downloading...\n",
            "From: https://drive.google.com/uc?id=1gwPP5TlL0zYHDkSjowfnR0DU8rsj1bTd\n",
            "To: /content/smog1.zip\n",
            "\r0.00B [00:00, ?B/s]\r2.39MB [00:00, 37.9MB/s]\n",
            "Archive:  smog1.zip\n",
            "  inflating: april-2017.csv          \n",
            "  inflating: august-2017.csv         \n",
            "  inflating: december-2017.csv       \n",
            "  inflating: february-2017.csv       \n",
            "  inflating: january-2017.csv        \n",
            "  inflating: july-2017.csv           \n",
            "  inflating: june-2017.csv           \n",
            "  inflating: march-2017.csv          \n",
            "  inflating: may-2017.csv            \n",
            "  inflating: november-2017.csv       \n",
            "  inflating: october-2017.csv        \n",
            "  inflating: sensor_locations.csv    \n",
            "  inflating: september-2017.csv      \n"
          ],
          "name": "stdout"
        }
      ]
    },
    {
      "cell_type": "code",
      "metadata": {
        "id": "xugJ9FHFURa3"
      },
      "source": [
        "jan = pd.read_csv('january-2017.csv')\n",
        "feb = pd.read_csv('february-2017.csv')\n",
        "mar = pd.read_csv('march-2017.csv')\n",
        "apr = pd.read_csv('april-2017.csv')\n",
        "may = pd.read_csv('may-2017.csv')\n",
        "jun = pd.read_csv('june-2017.csv')\n",
        "jul = pd.read_csv('july-2017.csv')\n",
        "aug = pd.read_csv('august-2017.csv')\n",
        "sep = pd.read_csv('september-2017.csv')\n",
        "octo = pd.read_csv('october-2017.csv')\n",
        "nov = pd.read_csv('november-2017.csv')\n",
        "dec = pd.read_csv('december-2017.csv')"
      ],
      "execution_count": 3,
      "outputs": []
    },
    {
      "cell_type": "code",
      "metadata": {
        "id": "xBgWI4kaZHuH"
      },
      "source": [
        "sensors = pd.read_csv(\"sensor_locations.csv\")"
      ],
      "execution_count": 4,
      "outputs": []
    },
    {
      "cell_type": "code",
      "metadata": {
        "colab": {
          "base_uri": "https://localhost:8080/"
        },
        "id": "WjI0fJaLkP0U",
        "outputId": "24970091-85f6-4bf0-e0b3-e5a1ff5de0f8"
      },
      "source": [
        "sensors.shape"
      ],
      "execution_count": 5,
      "outputs": [
        {
          "output_type": "execute_result",
          "data": {
            "text/plain": [
              "(56, 3)"
            ]
          },
          "metadata": {
            "tags": []
          },
          "execution_count": 5
        }
      ]
    },
    {
      "cell_type": "code",
      "metadata": {
        "id": "ZpKpq_KMWMty"
      },
      "source": [
        "year = pd.concat([jan, feb, mar, apr, may, jun, jul, aug, sep, octo, nov, dec])"
      ],
      "execution_count": 6,
      "outputs": []
    },
    {
      "cell_type": "code",
      "metadata": {
        "colab": {
          "base_uri": "https://localhost:8080/"
        },
        "id": "TIEfjgzXY8mF",
        "outputId": "b3df7be7-fb64-4229-d8fb-78a1b14f55c8"
      },
      "source": [
        "year.shape"
      ],
      "execution_count": 7,
      "outputs": [
        {
          "output_type": "execute_result",
          "data": {
            "text/plain": [
              "(8593, 337)"
            ]
          },
          "metadata": {
            "tags": []
          },
          "execution_count": 7
        }
      ]
    },
    {
      "cell_type": "code",
      "metadata": {
        "colab": {
          "base_uri": "https://localhost:8080/",
          "height": 242
        },
        "id": "L7Jdil0xZBvb",
        "outputId": "2c2a79e4-97db-4f0b-9c1f-4b281a8ff3e6"
      },
      "source": [
        "year.head(3)"
      ],
      "execution_count": 8,
      "outputs": [
        {
          "output_type": "execute_result",
          "data": {
            "text/html": [
              "<div>\n",
              "<style scoped>\n",
              "    .dataframe tbody tr th:only-of-type {\n",
              "        vertical-align: middle;\n",
              "    }\n",
              "\n",
              "    .dataframe tbody tr th {\n",
              "        vertical-align: top;\n",
              "    }\n",
              "\n",
              "    .dataframe thead th {\n",
              "        text-align: right;\n",
              "    }\n",
              "</style>\n",
              "<table border=\"1\" class=\"dataframe\">\n",
              "  <thead>\n",
              "    <tr style=\"text-align: right;\">\n",
              "      <th></th>\n",
              "      <th>UTC time</th>\n",
              "      <th>3_temperature</th>\n",
              "      <th>3_humidity</th>\n",
              "      <th>3_pressure</th>\n",
              "      <th>3_pm1</th>\n",
              "      <th>3_pm25</th>\n",
              "      <th>3_pm10</th>\n",
              "      <th>140_temperature</th>\n",
              "      <th>140_humidity</th>\n",
              "      <th>140_pressure</th>\n",
              "      <th>140_pm1</th>\n",
              "      <th>140_pm25</th>\n",
              "      <th>140_pm10</th>\n",
              "      <th>142_temperature</th>\n",
              "      <th>142_humidity</th>\n",
              "      <th>142_pressure</th>\n",
              "      <th>142_pm1</th>\n",
              "      <th>142_pm25</th>\n",
              "      <th>142_pm10</th>\n",
              "      <th>147_temperature</th>\n",
              "      <th>147_humidity</th>\n",
              "      <th>147_pressure</th>\n",
              "      <th>147_pm1</th>\n",
              "      <th>147_pm25</th>\n",
              "      <th>147_pm10</th>\n",
              "      <th>169_temperature</th>\n",
              "      <th>169_humidity</th>\n",
              "      <th>169_pressure</th>\n",
              "      <th>169_pm1</th>\n",
              "      <th>169_pm25</th>\n",
              "      <th>169_pm10</th>\n",
              "      <th>170_temperature</th>\n",
              "      <th>170_humidity</th>\n",
              "      <th>170_pressure</th>\n",
              "      <th>170_pm1</th>\n",
              "      <th>170_pm25</th>\n",
              "      <th>170_pm10</th>\n",
              "      <th>171_temperature</th>\n",
              "      <th>171_humidity</th>\n",
              "      <th>171_pressure</th>\n",
              "      <th>...</th>\n",
              "      <th>228_pressure</th>\n",
              "      <th>228_pm1</th>\n",
              "      <th>228_pm25</th>\n",
              "      <th>228_pm10</th>\n",
              "      <th>263_temperature</th>\n",
              "      <th>263_humidity</th>\n",
              "      <th>263_pressure</th>\n",
              "      <th>263_pm1</th>\n",
              "      <th>263_pm25</th>\n",
              "      <th>263_pm10</th>\n",
              "      <th>622_temperature</th>\n",
              "      <th>622_humidity</th>\n",
              "      <th>622_pressure</th>\n",
              "      <th>622_pm1</th>\n",
              "      <th>622_pm25</th>\n",
              "      <th>622_pm10</th>\n",
              "      <th>713_temperature</th>\n",
              "      <th>713_humidity</th>\n",
              "      <th>713_pressure</th>\n",
              "      <th>713_pm1</th>\n",
              "      <th>713_pm25</th>\n",
              "      <th>713_pm10</th>\n",
              "      <th>808_temperature</th>\n",
              "      <th>808_humidity</th>\n",
              "      <th>808_pressure</th>\n",
              "      <th>808_pm1</th>\n",
              "      <th>808_pm25</th>\n",
              "      <th>808_pm10</th>\n",
              "      <th>857_temperature</th>\n",
              "      <th>857_humidity</th>\n",
              "      <th>857_pressure</th>\n",
              "      <th>857_pm1</th>\n",
              "      <th>857_pm25</th>\n",
              "      <th>857_pm10</th>\n",
              "      <th>895_temperature</th>\n",
              "      <th>895_humidity</th>\n",
              "      <th>895_pressure</th>\n",
              "      <th>895_pm1</th>\n",
              "      <th>895_pm25</th>\n",
              "      <th>895_pm10</th>\n",
              "    </tr>\n",
              "  </thead>\n",
              "  <tbody>\n",
              "    <tr>\n",
              "      <th>0</th>\n",
              "      <td>2017-01-01T00:00:00</td>\n",
              "      <td>NaN</td>\n",
              "      <td>NaN</td>\n",
              "      <td>NaN</td>\n",
              "      <td>NaN</td>\n",
              "      <td>NaN</td>\n",
              "      <td>NaN</td>\n",
              "      <td>NaN</td>\n",
              "      <td>NaN</td>\n",
              "      <td>NaN</td>\n",
              "      <td>NaN</td>\n",
              "      <td>NaN</td>\n",
              "      <td>NaN</td>\n",
              "      <td>-4.0</td>\n",
              "      <td>68.0</td>\n",
              "      <td>102279.0</td>\n",
              "      <td>115.0</td>\n",
              "      <td>127.0</td>\n",
              "      <td>196.0</td>\n",
              "      <td>-3.0</td>\n",
              "      <td>57.0</td>\n",
              "      <td>102505.0</td>\n",
              "      <td>196.0</td>\n",
              "      <td>222.0</td>\n",
              "      <td>346.0</td>\n",
              "      <td>0.0</td>\n",
              "      <td>49.0</td>\n",
              "      <td>102689.0</td>\n",
              "      <td>124.0</td>\n",
              "      <td>145.0</td>\n",
              "      <td>229.0</td>\n",
              "      <td>2.0</td>\n",
              "      <td>25.0</td>\n",
              "      <td>102379.0</td>\n",
              "      <td>148.0</td>\n",
              "      <td>176.0</td>\n",
              "      <td>277.0</td>\n",
              "      <td>1.0</td>\n",
              "      <td>27.0</td>\n",
              "      <td>102437.0</td>\n",
              "      <td>...</td>\n",
              "      <td>102253.0</td>\n",
              "      <td>184.0</td>\n",
              "      <td>218.0</td>\n",
              "      <td>322.0</td>\n",
              "      <td>0.0</td>\n",
              "      <td>54.0</td>\n",
              "      <td>101672.0</td>\n",
              "      <td>137.0</td>\n",
              "      <td>153.0</td>\n",
              "      <td>235.0</td>\n",
              "      <td>NaN</td>\n",
              "      <td>NaN</td>\n",
              "      <td>NaN</td>\n",
              "      <td>NaN</td>\n",
              "      <td>NaN</td>\n",
              "      <td>NaN</td>\n",
              "      <td>NaN</td>\n",
              "      <td>NaN</td>\n",
              "      <td>NaN</td>\n",
              "      <td>NaN</td>\n",
              "      <td>NaN</td>\n",
              "      <td>NaN</td>\n",
              "      <td>NaN</td>\n",
              "      <td>NaN</td>\n",
              "      <td>NaN</td>\n",
              "      <td>NaN</td>\n",
              "      <td>NaN</td>\n",
              "      <td>NaN</td>\n",
              "      <td>NaN</td>\n",
              "      <td>NaN</td>\n",
              "      <td>NaN</td>\n",
              "      <td>NaN</td>\n",
              "      <td>NaN</td>\n",
              "      <td>NaN</td>\n",
              "      <td>NaN</td>\n",
              "      <td>NaN</td>\n",
              "      <td>NaN</td>\n",
              "      <td>NaN</td>\n",
              "      <td>NaN</td>\n",
              "      <td>NaN</td>\n",
              "    </tr>\n",
              "    <tr>\n",
              "      <th>1</th>\n",
              "      <td>2017-01-01T01:00:00</td>\n",
              "      <td>NaN</td>\n",
              "      <td>NaN</td>\n",
              "      <td>NaN</td>\n",
              "      <td>NaN</td>\n",
              "      <td>NaN</td>\n",
              "      <td>NaN</td>\n",
              "      <td>NaN</td>\n",
              "      <td>NaN</td>\n",
              "      <td>NaN</td>\n",
              "      <td>NaN</td>\n",
              "      <td>NaN</td>\n",
              "      <td>NaN</td>\n",
              "      <td>-5.0</td>\n",
              "      <td>68.0</td>\n",
              "      <td>102228.0</td>\n",
              "      <td>105.0</td>\n",
              "      <td>116.0</td>\n",
              "      <td>180.0</td>\n",
              "      <td>-3.0</td>\n",
              "      <td>56.0</td>\n",
              "      <td>102454.0</td>\n",
              "      <td>187.0</td>\n",
              "      <td>211.0</td>\n",
              "      <td>330.0</td>\n",
              "      <td>0.0</td>\n",
              "      <td>49.0</td>\n",
              "      <td>102635.0</td>\n",
              "      <td>124.0</td>\n",
              "      <td>145.0</td>\n",
              "      <td>230.0</td>\n",
              "      <td>1.0</td>\n",
              "      <td>25.0</td>\n",
              "      <td>102325.0</td>\n",
              "      <td>131.0</td>\n",
              "      <td>156.0</td>\n",
              "      <td>247.0</td>\n",
              "      <td>0.0</td>\n",
              "      <td>27.0</td>\n",
              "      <td>102387.0</td>\n",
              "      <td>...</td>\n",
              "      <td>102201.0</td>\n",
              "      <td>146.0</td>\n",
              "      <td>169.0</td>\n",
              "      <td>250.0</td>\n",
              "      <td>0.0</td>\n",
              "      <td>52.0</td>\n",
              "      <td>101623.0</td>\n",
              "      <td>119.0</td>\n",
              "      <td>132.0</td>\n",
              "      <td>203.0</td>\n",
              "      <td>NaN</td>\n",
              "      <td>NaN</td>\n",
              "      <td>NaN</td>\n",
              "      <td>NaN</td>\n",
              "      <td>NaN</td>\n",
              "      <td>NaN</td>\n",
              "      <td>NaN</td>\n",
              "      <td>NaN</td>\n",
              "      <td>NaN</td>\n",
              "      <td>NaN</td>\n",
              "      <td>NaN</td>\n",
              "      <td>NaN</td>\n",
              "      <td>NaN</td>\n",
              "      <td>NaN</td>\n",
              "      <td>NaN</td>\n",
              "      <td>NaN</td>\n",
              "      <td>NaN</td>\n",
              "      <td>NaN</td>\n",
              "      <td>NaN</td>\n",
              "      <td>NaN</td>\n",
              "      <td>NaN</td>\n",
              "      <td>NaN</td>\n",
              "      <td>NaN</td>\n",
              "      <td>NaN</td>\n",
              "      <td>NaN</td>\n",
              "      <td>NaN</td>\n",
              "      <td>NaN</td>\n",
              "      <td>NaN</td>\n",
              "      <td>NaN</td>\n",
              "      <td>NaN</td>\n",
              "    </tr>\n",
              "    <tr>\n",
              "      <th>2</th>\n",
              "      <td>2017-01-01T02:00:00</td>\n",
              "      <td>NaN</td>\n",
              "      <td>NaN</td>\n",
              "      <td>NaN</td>\n",
              "      <td>NaN</td>\n",
              "      <td>NaN</td>\n",
              "      <td>NaN</td>\n",
              "      <td>NaN</td>\n",
              "      <td>NaN</td>\n",
              "      <td>NaN</td>\n",
              "      <td>NaN</td>\n",
              "      <td>NaN</td>\n",
              "      <td>NaN</td>\n",
              "      <td>-5.0</td>\n",
              "      <td>66.0</td>\n",
              "      <td>102149.0</td>\n",
              "      <td>110.0</td>\n",
              "      <td>121.0</td>\n",
              "      <td>189.0</td>\n",
              "      <td>-4.0</td>\n",
              "      <td>55.0</td>\n",
              "      <td>102375.0</td>\n",
              "      <td>187.0</td>\n",
              "      <td>212.0</td>\n",
              "      <td>333.0</td>\n",
              "      <td>0.0</td>\n",
              "      <td>49.0</td>\n",
              "      <td>102558.0</td>\n",
              "      <td>108.0</td>\n",
              "      <td>125.0</td>\n",
              "      <td>201.0</td>\n",
              "      <td>1.0</td>\n",
              "      <td>24.0</td>\n",
              "      <td>102244.0</td>\n",
              "      <td>108.0</td>\n",
              "      <td>127.0</td>\n",
              "      <td>203.0</td>\n",
              "      <td>1.0</td>\n",
              "      <td>27.0</td>\n",
              "      <td>102310.0</td>\n",
              "      <td>...</td>\n",
              "      <td>102119.0</td>\n",
              "      <td>138.0</td>\n",
              "      <td>160.0</td>\n",
              "      <td>237.0</td>\n",
              "      <td>0.0</td>\n",
              "      <td>49.0</td>\n",
              "      <td>101536.0</td>\n",
              "      <td>97.0</td>\n",
              "      <td>105.0</td>\n",
              "      <td>162.0</td>\n",
              "      <td>NaN</td>\n",
              "      <td>NaN</td>\n",
              "      <td>NaN</td>\n",
              "      <td>NaN</td>\n",
              "      <td>NaN</td>\n",
              "      <td>NaN</td>\n",
              "      <td>NaN</td>\n",
              "      <td>NaN</td>\n",
              "      <td>NaN</td>\n",
              "      <td>NaN</td>\n",
              "      <td>NaN</td>\n",
              "      <td>NaN</td>\n",
              "      <td>NaN</td>\n",
              "      <td>NaN</td>\n",
              "      <td>NaN</td>\n",
              "      <td>NaN</td>\n",
              "      <td>NaN</td>\n",
              "      <td>NaN</td>\n",
              "      <td>NaN</td>\n",
              "      <td>NaN</td>\n",
              "      <td>NaN</td>\n",
              "      <td>NaN</td>\n",
              "      <td>NaN</td>\n",
              "      <td>NaN</td>\n",
              "      <td>NaN</td>\n",
              "      <td>NaN</td>\n",
              "      <td>NaN</td>\n",
              "      <td>NaN</td>\n",
              "      <td>NaN</td>\n",
              "      <td>NaN</td>\n",
              "    </tr>\n",
              "  </tbody>\n",
              "</table>\n",
              "<p>3 rows × 337 columns</p>\n",
              "</div>"
            ],
            "text/plain": [
              "              UTC time  3_temperature  3_humidity  ...  895_pm1  895_pm25  895_pm10\n",
              "0  2017-01-01T00:00:00            NaN         NaN  ...      NaN       NaN       NaN\n",
              "1  2017-01-01T01:00:00            NaN         NaN  ...      NaN       NaN       NaN\n",
              "2  2017-01-01T02:00:00            NaN         NaN  ...      NaN       NaN       NaN\n",
              "\n",
              "[3 rows x 337 columns]"
            ]
          },
          "metadata": {
            "tags": []
          },
          "execution_count": 8
        }
      ]
    },
    {
      "cell_type": "code",
      "metadata": {
        "colab": {
          "base_uri": "https://localhost:8080/"
        },
        "id": "FAewAKEOTlSR",
        "outputId": "a508f907-5ae8-4719-cae6-a86f322ceda4"
      },
      "source": [
        "year.isnull().sum()"
      ],
      "execution_count": 9,
      "outputs": [
        {
          "output_type": "execute_result",
          "data": {
            "text/plain": [
              "UTC time            0\n",
              "3_temperature    8387\n",
              "3_humidity       8387\n",
              "3_pressure       7415\n",
              "3_pm1            7358\n",
              "                 ... \n",
              "895_humidity     3150\n",
              "895_pressure     2256\n",
              "895_pm1          2256\n",
              "895_pm25         2256\n",
              "895_pm10         2256\n",
              "Length: 337, dtype: int64"
            ]
          },
          "metadata": {
            "tags": []
          },
          "execution_count": 9
        }
      ]
    },
    {
      "cell_type": "code",
      "metadata": {
        "colab": {
          "base_uri": "https://localhost:8080/"
        },
        "id": "5usR9kfTNyLr",
        "outputId": "f1575147-513e-4de8-8ee5-69f7d930b041"
      },
      "source": [
        "year_zera = year.fillna(0)\n",
        "year_zera.shape"
      ],
      "execution_count": 10,
      "outputs": [
        {
          "output_type": "execute_result",
          "data": {
            "text/plain": [
              "(8593, 337)"
            ]
          },
          "metadata": {
            "tags": []
          },
          "execution_count": 10
        }
      ]
    },
    {
      "cell_type": "code",
      "metadata": {
        "id": "lyM0SUi1N2uZ"
      },
      "source": [
        "year_mediana = year.fillna(year.median())"
      ],
      "execution_count": 11,
      "outputs": []
    },
    {
      "cell_type": "code",
      "metadata": {
        "colab": {
          "base_uri": "https://localhost:8080/"
        },
        "id": "Bs7K5oWIULz-",
        "outputId": "8aa13531-fe44-498e-fef1-fce558fe8b20"
      },
      "source": [
        "year_mediana.shape"
      ],
      "execution_count": 12,
      "outputs": [
        {
          "output_type": "execute_result",
          "data": {
            "text/plain": [
              "(8593, 337)"
            ]
          },
          "metadata": {
            "tags": []
          },
          "execution_count": 12
        }
      ]
    },
    {
      "cell_type": "code",
      "metadata": {
        "id": "8dZf6eC2W-ZA"
      },
      "source": [
        ""
      ],
      "execution_count": 12,
      "outputs": []
    },
    {
      "cell_type": "markdown",
      "metadata": {
        "id": "B8NGb4mvXAUE"
      },
      "source": [
        " 3. TRANSFORMACJA DF"
      ]
    },
    {
      "cell_type": "code",
      "metadata": {
        "colab": {
          "base_uri": "https://localhost:8080/",
          "height": 310
        },
        "id": "2Au0SvhwXEMJ",
        "outputId": "623fcac7-831e-416e-f06d-caa1fad4957a"
      },
      "source": [
        "year[\"UTC time\"] = pd.to_datetime(year[\"UTC time\"], format=\"%Y-%m-%dT%H:%M:%S\")\n",
        "year[:3]"
      ],
      "execution_count": 13,
      "outputs": [
        {
          "output_type": "execute_result",
          "data": {
            "text/html": [
              "<div>\n",
              "<style scoped>\n",
              "    .dataframe tbody tr th:only-of-type {\n",
              "        vertical-align: middle;\n",
              "    }\n",
              "\n",
              "    .dataframe tbody tr th {\n",
              "        vertical-align: top;\n",
              "    }\n",
              "\n",
              "    .dataframe thead th {\n",
              "        text-align: right;\n",
              "    }\n",
              "</style>\n",
              "<table border=\"1\" class=\"dataframe\">\n",
              "  <thead>\n",
              "    <tr style=\"text-align: right;\">\n",
              "      <th></th>\n",
              "      <th>UTC time</th>\n",
              "      <th>3_temperature</th>\n",
              "      <th>3_humidity</th>\n",
              "      <th>3_pressure</th>\n",
              "      <th>3_pm1</th>\n",
              "      <th>3_pm25</th>\n",
              "      <th>3_pm10</th>\n",
              "      <th>140_temperature</th>\n",
              "      <th>140_humidity</th>\n",
              "      <th>140_pressure</th>\n",
              "      <th>140_pm1</th>\n",
              "      <th>140_pm25</th>\n",
              "      <th>140_pm10</th>\n",
              "      <th>142_temperature</th>\n",
              "      <th>142_humidity</th>\n",
              "      <th>142_pressure</th>\n",
              "      <th>142_pm1</th>\n",
              "      <th>142_pm25</th>\n",
              "      <th>142_pm10</th>\n",
              "      <th>147_temperature</th>\n",
              "      <th>147_humidity</th>\n",
              "      <th>147_pressure</th>\n",
              "      <th>147_pm1</th>\n",
              "      <th>147_pm25</th>\n",
              "      <th>147_pm10</th>\n",
              "      <th>169_temperature</th>\n",
              "      <th>169_humidity</th>\n",
              "      <th>169_pressure</th>\n",
              "      <th>169_pm1</th>\n",
              "      <th>169_pm25</th>\n",
              "      <th>169_pm10</th>\n",
              "      <th>170_temperature</th>\n",
              "      <th>170_humidity</th>\n",
              "      <th>170_pressure</th>\n",
              "      <th>170_pm1</th>\n",
              "      <th>170_pm25</th>\n",
              "      <th>170_pm10</th>\n",
              "      <th>171_temperature</th>\n",
              "      <th>171_humidity</th>\n",
              "      <th>171_pressure</th>\n",
              "      <th>...</th>\n",
              "      <th>228_pressure</th>\n",
              "      <th>228_pm1</th>\n",
              "      <th>228_pm25</th>\n",
              "      <th>228_pm10</th>\n",
              "      <th>263_temperature</th>\n",
              "      <th>263_humidity</th>\n",
              "      <th>263_pressure</th>\n",
              "      <th>263_pm1</th>\n",
              "      <th>263_pm25</th>\n",
              "      <th>263_pm10</th>\n",
              "      <th>622_temperature</th>\n",
              "      <th>622_humidity</th>\n",
              "      <th>622_pressure</th>\n",
              "      <th>622_pm1</th>\n",
              "      <th>622_pm25</th>\n",
              "      <th>622_pm10</th>\n",
              "      <th>713_temperature</th>\n",
              "      <th>713_humidity</th>\n",
              "      <th>713_pressure</th>\n",
              "      <th>713_pm1</th>\n",
              "      <th>713_pm25</th>\n",
              "      <th>713_pm10</th>\n",
              "      <th>808_temperature</th>\n",
              "      <th>808_humidity</th>\n",
              "      <th>808_pressure</th>\n",
              "      <th>808_pm1</th>\n",
              "      <th>808_pm25</th>\n",
              "      <th>808_pm10</th>\n",
              "      <th>857_temperature</th>\n",
              "      <th>857_humidity</th>\n",
              "      <th>857_pressure</th>\n",
              "      <th>857_pm1</th>\n",
              "      <th>857_pm25</th>\n",
              "      <th>857_pm10</th>\n",
              "      <th>895_temperature</th>\n",
              "      <th>895_humidity</th>\n",
              "      <th>895_pressure</th>\n",
              "      <th>895_pm1</th>\n",
              "      <th>895_pm25</th>\n",
              "      <th>895_pm10</th>\n",
              "    </tr>\n",
              "  </thead>\n",
              "  <tbody>\n",
              "    <tr>\n",
              "      <th>0</th>\n",
              "      <td>2017-01-01 00:00:00</td>\n",
              "      <td>NaN</td>\n",
              "      <td>NaN</td>\n",
              "      <td>NaN</td>\n",
              "      <td>NaN</td>\n",
              "      <td>NaN</td>\n",
              "      <td>NaN</td>\n",
              "      <td>NaN</td>\n",
              "      <td>NaN</td>\n",
              "      <td>NaN</td>\n",
              "      <td>NaN</td>\n",
              "      <td>NaN</td>\n",
              "      <td>NaN</td>\n",
              "      <td>-4.0</td>\n",
              "      <td>68.0</td>\n",
              "      <td>102279.0</td>\n",
              "      <td>115.0</td>\n",
              "      <td>127.0</td>\n",
              "      <td>196.0</td>\n",
              "      <td>-3.0</td>\n",
              "      <td>57.0</td>\n",
              "      <td>102505.0</td>\n",
              "      <td>196.0</td>\n",
              "      <td>222.0</td>\n",
              "      <td>346.0</td>\n",
              "      <td>0.0</td>\n",
              "      <td>49.0</td>\n",
              "      <td>102689.0</td>\n",
              "      <td>124.0</td>\n",
              "      <td>145.0</td>\n",
              "      <td>229.0</td>\n",
              "      <td>2.0</td>\n",
              "      <td>25.0</td>\n",
              "      <td>102379.0</td>\n",
              "      <td>148.0</td>\n",
              "      <td>176.0</td>\n",
              "      <td>277.0</td>\n",
              "      <td>1.0</td>\n",
              "      <td>27.0</td>\n",
              "      <td>102437.0</td>\n",
              "      <td>...</td>\n",
              "      <td>102253.0</td>\n",
              "      <td>184.0</td>\n",
              "      <td>218.0</td>\n",
              "      <td>322.0</td>\n",
              "      <td>0.0</td>\n",
              "      <td>54.0</td>\n",
              "      <td>101672.0</td>\n",
              "      <td>137.0</td>\n",
              "      <td>153.0</td>\n",
              "      <td>235.0</td>\n",
              "      <td>NaN</td>\n",
              "      <td>NaN</td>\n",
              "      <td>NaN</td>\n",
              "      <td>NaN</td>\n",
              "      <td>NaN</td>\n",
              "      <td>NaN</td>\n",
              "      <td>NaN</td>\n",
              "      <td>NaN</td>\n",
              "      <td>NaN</td>\n",
              "      <td>NaN</td>\n",
              "      <td>NaN</td>\n",
              "      <td>NaN</td>\n",
              "      <td>NaN</td>\n",
              "      <td>NaN</td>\n",
              "      <td>NaN</td>\n",
              "      <td>NaN</td>\n",
              "      <td>NaN</td>\n",
              "      <td>NaN</td>\n",
              "      <td>NaN</td>\n",
              "      <td>NaN</td>\n",
              "      <td>NaN</td>\n",
              "      <td>NaN</td>\n",
              "      <td>NaN</td>\n",
              "      <td>NaN</td>\n",
              "      <td>NaN</td>\n",
              "      <td>NaN</td>\n",
              "      <td>NaN</td>\n",
              "      <td>NaN</td>\n",
              "      <td>NaN</td>\n",
              "      <td>NaN</td>\n",
              "    </tr>\n",
              "    <tr>\n",
              "      <th>1</th>\n",
              "      <td>2017-01-01 01:00:00</td>\n",
              "      <td>NaN</td>\n",
              "      <td>NaN</td>\n",
              "      <td>NaN</td>\n",
              "      <td>NaN</td>\n",
              "      <td>NaN</td>\n",
              "      <td>NaN</td>\n",
              "      <td>NaN</td>\n",
              "      <td>NaN</td>\n",
              "      <td>NaN</td>\n",
              "      <td>NaN</td>\n",
              "      <td>NaN</td>\n",
              "      <td>NaN</td>\n",
              "      <td>-5.0</td>\n",
              "      <td>68.0</td>\n",
              "      <td>102228.0</td>\n",
              "      <td>105.0</td>\n",
              "      <td>116.0</td>\n",
              "      <td>180.0</td>\n",
              "      <td>-3.0</td>\n",
              "      <td>56.0</td>\n",
              "      <td>102454.0</td>\n",
              "      <td>187.0</td>\n",
              "      <td>211.0</td>\n",
              "      <td>330.0</td>\n",
              "      <td>0.0</td>\n",
              "      <td>49.0</td>\n",
              "      <td>102635.0</td>\n",
              "      <td>124.0</td>\n",
              "      <td>145.0</td>\n",
              "      <td>230.0</td>\n",
              "      <td>1.0</td>\n",
              "      <td>25.0</td>\n",
              "      <td>102325.0</td>\n",
              "      <td>131.0</td>\n",
              "      <td>156.0</td>\n",
              "      <td>247.0</td>\n",
              "      <td>0.0</td>\n",
              "      <td>27.0</td>\n",
              "      <td>102387.0</td>\n",
              "      <td>...</td>\n",
              "      <td>102201.0</td>\n",
              "      <td>146.0</td>\n",
              "      <td>169.0</td>\n",
              "      <td>250.0</td>\n",
              "      <td>0.0</td>\n",
              "      <td>52.0</td>\n",
              "      <td>101623.0</td>\n",
              "      <td>119.0</td>\n",
              "      <td>132.0</td>\n",
              "      <td>203.0</td>\n",
              "      <td>NaN</td>\n",
              "      <td>NaN</td>\n",
              "      <td>NaN</td>\n",
              "      <td>NaN</td>\n",
              "      <td>NaN</td>\n",
              "      <td>NaN</td>\n",
              "      <td>NaN</td>\n",
              "      <td>NaN</td>\n",
              "      <td>NaN</td>\n",
              "      <td>NaN</td>\n",
              "      <td>NaN</td>\n",
              "      <td>NaN</td>\n",
              "      <td>NaN</td>\n",
              "      <td>NaN</td>\n",
              "      <td>NaN</td>\n",
              "      <td>NaN</td>\n",
              "      <td>NaN</td>\n",
              "      <td>NaN</td>\n",
              "      <td>NaN</td>\n",
              "      <td>NaN</td>\n",
              "      <td>NaN</td>\n",
              "      <td>NaN</td>\n",
              "      <td>NaN</td>\n",
              "      <td>NaN</td>\n",
              "      <td>NaN</td>\n",
              "      <td>NaN</td>\n",
              "      <td>NaN</td>\n",
              "      <td>NaN</td>\n",
              "      <td>NaN</td>\n",
              "      <td>NaN</td>\n",
              "    </tr>\n",
              "    <tr>\n",
              "      <th>2</th>\n",
              "      <td>2017-01-01 02:00:00</td>\n",
              "      <td>NaN</td>\n",
              "      <td>NaN</td>\n",
              "      <td>NaN</td>\n",
              "      <td>NaN</td>\n",
              "      <td>NaN</td>\n",
              "      <td>NaN</td>\n",
              "      <td>NaN</td>\n",
              "      <td>NaN</td>\n",
              "      <td>NaN</td>\n",
              "      <td>NaN</td>\n",
              "      <td>NaN</td>\n",
              "      <td>NaN</td>\n",
              "      <td>-5.0</td>\n",
              "      <td>66.0</td>\n",
              "      <td>102149.0</td>\n",
              "      <td>110.0</td>\n",
              "      <td>121.0</td>\n",
              "      <td>189.0</td>\n",
              "      <td>-4.0</td>\n",
              "      <td>55.0</td>\n",
              "      <td>102375.0</td>\n",
              "      <td>187.0</td>\n",
              "      <td>212.0</td>\n",
              "      <td>333.0</td>\n",
              "      <td>0.0</td>\n",
              "      <td>49.0</td>\n",
              "      <td>102558.0</td>\n",
              "      <td>108.0</td>\n",
              "      <td>125.0</td>\n",
              "      <td>201.0</td>\n",
              "      <td>1.0</td>\n",
              "      <td>24.0</td>\n",
              "      <td>102244.0</td>\n",
              "      <td>108.0</td>\n",
              "      <td>127.0</td>\n",
              "      <td>203.0</td>\n",
              "      <td>1.0</td>\n",
              "      <td>27.0</td>\n",
              "      <td>102310.0</td>\n",
              "      <td>...</td>\n",
              "      <td>102119.0</td>\n",
              "      <td>138.0</td>\n",
              "      <td>160.0</td>\n",
              "      <td>237.0</td>\n",
              "      <td>0.0</td>\n",
              "      <td>49.0</td>\n",
              "      <td>101536.0</td>\n",
              "      <td>97.0</td>\n",
              "      <td>105.0</td>\n",
              "      <td>162.0</td>\n",
              "      <td>NaN</td>\n",
              "      <td>NaN</td>\n",
              "      <td>NaN</td>\n",
              "      <td>NaN</td>\n",
              "      <td>NaN</td>\n",
              "      <td>NaN</td>\n",
              "      <td>NaN</td>\n",
              "      <td>NaN</td>\n",
              "      <td>NaN</td>\n",
              "      <td>NaN</td>\n",
              "      <td>NaN</td>\n",
              "      <td>NaN</td>\n",
              "      <td>NaN</td>\n",
              "      <td>NaN</td>\n",
              "      <td>NaN</td>\n",
              "      <td>NaN</td>\n",
              "      <td>NaN</td>\n",
              "      <td>NaN</td>\n",
              "      <td>NaN</td>\n",
              "      <td>NaN</td>\n",
              "      <td>NaN</td>\n",
              "      <td>NaN</td>\n",
              "      <td>NaN</td>\n",
              "      <td>NaN</td>\n",
              "      <td>NaN</td>\n",
              "      <td>NaN</td>\n",
              "      <td>NaN</td>\n",
              "      <td>NaN</td>\n",
              "      <td>NaN</td>\n",
              "      <td>NaN</td>\n",
              "    </tr>\n",
              "  </tbody>\n",
              "</table>\n",
              "<p>3 rows × 337 columns</p>\n",
              "</div>"
            ],
            "text/plain": [
              "             UTC time  3_temperature  3_humidity  ...  895_pm1  895_pm25  895_pm10\n",
              "0 2017-01-01 00:00:00            NaN         NaN  ...      NaN       NaN       NaN\n",
              "1 2017-01-01 01:00:00            NaN         NaN  ...      NaN       NaN       NaN\n",
              "2 2017-01-01 02:00:00            NaN         NaN  ...      NaN       NaN       NaN\n",
              "\n",
              "[3 rows x 337 columns]"
            ]
          },
          "metadata": {
            "tags": []
          },
          "execution_count": 13
        }
      ]
    },
    {
      "cell_type": "code",
      "metadata": {
        "colab": {
          "base_uri": "https://localhost:8080/",
          "height": 341
        },
        "id": "smtbpvpBXUPG",
        "outputId": "ed61b154-e60e-43be-aed3-b1e9b444612c"
      },
      "source": [
        "year = year.set_index(\"UTC time\")\n",
        "year[:3]"
      ],
      "execution_count": 14,
      "outputs": [
        {
          "output_type": "execute_result",
          "data": {
            "text/html": [
              "<div>\n",
              "<style scoped>\n",
              "    .dataframe tbody tr th:only-of-type {\n",
              "        vertical-align: middle;\n",
              "    }\n",
              "\n",
              "    .dataframe tbody tr th {\n",
              "        vertical-align: top;\n",
              "    }\n",
              "\n",
              "    .dataframe thead th {\n",
              "        text-align: right;\n",
              "    }\n",
              "</style>\n",
              "<table border=\"1\" class=\"dataframe\">\n",
              "  <thead>\n",
              "    <tr style=\"text-align: right;\">\n",
              "      <th></th>\n",
              "      <th>3_temperature</th>\n",
              "      <th>3_humidity</th>\n",
              "      <th>3_pressure</th>\n",
              "      <th>3_pm1</th>\n",
              "      <th>3_pm25</th>\n",
              "      <th>3_pm10</th>\n",
              "      <th>140_temperature</th>\n",
              "      <th>140_humidity</th>\n",
              "      <th>140_pressure</th>\n",
              "      <th>140_pm1</th>\n",
              "      <th>140_pm25</th>\n",
              "      <th>140_pm10</th>\n",
              "      <th>142_temperature</th>\n",
              "      <th>142_humidity</th>\n",
              "      <th>142_pressure</th>\n",
              "      <th>142_pm1</th>\n",
              "      <th>142_pm25</th>\n",
              "      <th>142_pm10</th>\n",
              "      <th>147_temperature</th>\n",
              "      <th>147_humidity</th>\n",
              "      <th>147_pressure</th>\n",
              "      <th>147_pm1</th>\n",
              "      <th>147_pm25</th>\n",
              "      <th>147_pm10</th>\n",
              "      <th>169_temperature</th>\n",
              "      <th>169_humidity</th>\n",
              "      <th>169_pressure</th>\n",
              "      <th>169_pm1</th>\n",
              "      <th>169_pm25</th>\n",
              "      <th>169_pm10</th>\n",
              "      <th>170_temperature</th>\n",
              "      <th>170_humidity</th>\n",
              "      <th>170_pressure</th>\n",
              "      <th>170_pm1</th>\n",
              "      <th>170_pm25</th>\n",
              "      <th>170_pm10</th>\n",
              "      <th>171_temperature</th>\n",
              "      <th>171_humidity</th>\n",
              "      <th>171_pressure</th>\n",
              "      <th>171_pm1</th>\n",
              "      <th>...</th>\n",
              "      <th>228_pressure</th>\n",
              "      <th>228_pm1</th>\n",
              "      <th>228_pm25</th>\n",
              "      <th>228_pm10</th>\n",
              "      <th>263_temperature</th>\n",
              "      <th>263_humidity</th>\n",
              "      <th>263_pressure</th>\n",
              "      <th>263_pm1</th>\n",
              "      <th>263_pm25</th>\n",
              "      <th>263_pm10</th>\n",
              "      <th>622_temperature</th>\n",
              "      <th>622_humidity</th>\n",
              "      <th>622_pressure</th>\n",
              "      <th>622_pm1</th>\n",
              "      <th>622_pm25</th>\n",
              "      <th>622_pm10</th>\n",
              "      <th>713_temperature</th>\n",
              "      <th>713_humidity</th>\n",
              "      <th>713_pressure</th>\n",
              "      <th>713_pm1</th>\n",
              "      <th>713_pm25</th>\n",
              "      <th>713_pm10</th>\n",
              "      <th>808_temperature</th>\n",
              "      <th>808_humidity</th>\n",
              "      <th>808_pressure</th>\n",
              "      <th>808_pm1</th>\n",
              "      <th>808_pm25</th>\n",
              "      <th>808_pm10</th>\n",
              "      <th>857_temperature</th>\n",
              "      <th>857_humidity</th>\n",
              "      <th>857_pressure</th>\n",
              "      <th>857_pm1</th>\n",
              "      <th>857_pm25</th>\n",
              "      <th>857_pm10</th>\n",
              "      <th>895_temperature</th>\n",
              "      <th>895_humidity</th>\n",
              "      <th>895_pressure</th>\n",
              "      <th>895_pm1</th>\n",
              "      <th>895_pm25</th>\n",
              "      <th>895_pm10</th>\n",
              "    </tr>\n",
              "    <tr>\n",
              "      <th>UTC time</th>\n",
              "      <th></th>\n",
              "      <th></th>\n",
              "      <th></th>\n",
              "      <th></th>\n",
              "      <th></th>\n",
              "      <th></th>\n",
              "      <th></th>\n",
              "      <th></th>\n",
              "      <th></th>\n",
              "      <th></th>\n",
              "      <th></th>\n",
              "      <th></th>\n",
              "      <th></th>\n",
              "      <th></th>\n",
              "      <th></th>\n",
              "      <th></th>\n",
              "      <th></th>\n",
              "      <th></th>\n",
              "      <th></th>\n",
              "      <th></th>\n",
              "      <th></th>\n",
              "      <th></th>\n",
              "      <th></th>\n",
              "      <th></th>\n",
              "      <th></th>\n",
              "      <th></th>\n",
              "      <th></th>\n",
              "      <th></th>\n",
              "      <th></th>\n",
              "      <th></th>\n",
              "      <th></th>\n",
              "      <th></th>\n",
              "      <th></th>\n",
              "      <th></th>\n",
              "      <th></th>\n",
              "      <th></th>\n",
              "      <th></th>\n",
              "      <th></th>\n",
              "      <th></th>\n",
              "      <th></th>\n",
              "      <th></th>\n",
              "      <th></th>\n",
              "      <th></th>\n",
              "      <th></th>\n",
              "      <th></th>\n",
              "      <th></th>\n",
              "      <th></th>\n",
              "      <th></th>\n",
              "      <th></th>\n",
              "      <th></th>\n",
              "      <th></th>\n",
              "      <th></th>\n",
              "      <th></th>\n",
              "      <th></th>\n",
              "      <th></th>\n",
              "      <th></th>\n",
              "      <th></th>\n",
              "      <th></th>\n",
              "      <th></th>\n",
              "      <th></th>\n",
              "      <th></th>\n",
              "      <th></th>\n",
              "      <th></th>\n",
              "      <th></th>\n",
              "      <th></th>\n",
              "      <th></th>\n",
              "      <th></th>\n",
              "      <th></th>\n",
              "      <th></th>\n",
              "      <th></th>\n",
              "      <th></th>\n",
              "      <th></th>\n",
              "      <th></th>\n",
              "      <th></th>\n",
              "      <th></th>\n",
              "      <th></th>\n",
              "      <th></th>\n",
              "      <th></th>\n",
              "      <th></th>\n",
              "      <th></th>\n",
              "      <th></th>\n",
              "    </tr>\n",
              "  </thead>\n",
              "  <tbody>\n",
              "    <tr>\n",
              "      <th>2017-01-01 00:00:00</th>\n",
              "      <td>NaN</td>\n",
              "      <td>NaN</td>\n",
              "      <td>NaN</td>\n",
              "      <td>NaN</td>\n",
              "      <td>NaN</td>\n",
              "      <td>NaN</td>\n",
              "      <td>NaN</td>\n",
              "      <td>NaN</td>\n",
              "      <td>NaN</td>\n",
              "      <td>NaN</td>\n",
              "      <td>NaN</td>\n",
              "      <td>NaN</td>\n",
              "      <td>-4.0</td>\n",
              "      <td>68.0</td>\n",
              "      <td>102279.0</td>\n",
              "      <td>115.0</td>\n",
              "      <td>127.0</td>\n",
              "      <td>196.0</td>\n",
              "      <td>-3.0</td>\n",
              "      <td>57.0</td>\n",
              "      <td>102505.0</td>\n",
              "      <td>196.0</td>\n",
              "      <td>222.0</td>\n",
              "      <td>346.0</td>\n",
              "      <td>0.0</td>\n",
              "      <td>49.0</td>\n",
              "      <td>102689.0</td>\n",
              "      <td>124.0</td>\n",
              "      <td>145.0</td>\n",
              "      <td>229.0</td>\n",
              "      <td>2.0</td>\n",
              "      <td>25.0</td>\n",
              "      <td>102379.0</td>\n",
              "      <td>148.0</td>\n",
              "      <td>176.0</td>\n",
              "      <td>277.0</td>\n",
              "      <td>1.0</td>\n",
              "      <td>27.0</td>\n",
              "      <td>102437.0</td>\n",
              "      <td>147.0</td>\n",
              "      <td>...</td>\n",
              "      <td>102253.0</td>\n",
              "      <td>184.0</td>\n",
              "      <td>218.0</td>\n",
              "      <td>322.0</td>\n",
              "      <td>0.0</td>\n",
              "      <td>54.0</td>\n",
              "      <td>101672.0</td>\n",
              "      <td>137.0</td>\n",
              "      <td>153.0</td>\n",
              "      <td>235.0</td>\n",
              "      <td>NaN</td>\n",
              "      <td>NaN</td>\n",
              "      <td>NaN</td>\n",
              "      <td>NaN</td>\n",
              "      <td>NaN</td>\n",
              "      <td>NaN</td>\n",
              "      <td>NaN</td>\n",
              "      <td>NaN</td>\n",
              "      <td>NaN</td>\n",
              "      <td>NaN</td>\n",
              "      <td>NaN</td>\n",
              "      <td>NaN</td>\n",
              "      <td>NaN</td>\n",
              "      <td>NaN</td>\n",
              "      <td>NaN</td>\n",
              "      <td>NaN</td>\n",
              "      <td>NaN</td>\n",
              "      <td>NaN</td>\n",
              "      <td>NaN</td>\n",
              "      <td>NaN</td>\n",
              "      <td>NaN</td>\n",
              "      <td>NaN</td>\n",
              "      <td>NaN</td>\n",
              "      <td>NaN</td>\n",
              "      <td>NaN</td>\n",
              "      <td>NaN</td>\n",
              "      <td>NaN</td>\n",
              "      <td>NaN</td>\n",
              "      <td>NaN</td>\n",
              "      <td>NaN</td>\n",
              "    </tr>\n",
              "    <tr>\n",
              "      <th>2017-01-01 01:00:00</th>\n",
              "      <td>NaN</td>\n",
              "      <td>NaN</td>\n",
              "      <td>NaN</td>\n",
              "      <td>NaN</td>\n",
              "      <td>NaN</td>\n",
              "      <td>NaN</td>\n",
              "      <td>NaN</td>\n",
              "      <td>NaN</td>\n",
              "      <td>NaN</td>\n",
              "      <td>NaN</td>\n",
              "      <td>NaN</td>\n",
              "      <td>NaN</td>\n",
              "      <td>-5.0</td>\n",
              "      <td>68.0</td>\n",
              "      <td>102228.0</td>\n",
              "      <td>105.0</td>\n",
              "      <td>116.0</td>\n",
              "      <td>180.0</td>\n",
              "      <td>-3.0</td>\n",
              "      <td>56.0</td>\n",
              "      <td>102454.0</td>\n",
              "      <td>187.0</td>\n",
              "      <td>211.0</td>\n",
              "      <td>330.0</td>\n",
              "      <td>0.0</td>\n",
              "      <td>49.0</td>\n",
              "      <td>102635.0</td>\n",
              "      <td>124.0</td>\n",
              "      <td>145.0</td>\n",
              "      <td>230.0</td>\n",
              "      <td>1.0</td>\n",
              "      <td>25.0</td>\n",
              "      <td>102325.0</td>\n",
              "      <td>131.0</td>\n",
              "      <td>156.0</td>\n",
              "      <td>247.0</td>\n",
              "      <td>0.0</td>\n",
              "      <td>27.0</td>\n",
              "      <td>102387.0</td>\n",
              "      <td>129.0</td>\n",
              "      <td>...</td>\n",
              "      <td>102201.0</td>\n",
              "      <td>146.0</td>\n",
              "      <td>169.0</td>\n",
              "      <td>250.0</td>\n",
              "      <td>0.0</td>\n",
              "      <td>52.0</td>\n",
              "      <td>101623.0</td>\n",
              "      <td>119.0</td>\n",
              "      <td>132.0</td>\n",
              "      <td>203.0</td>\n",
              "      <td>NaN</td>\n",
              "      <td>NaN</td>\n",
              "      <td>NaN</td>\n",
              "      <td>NaN</td>\n",
              "      <td>NaN</td>\n",
              "      <td>NaN</td>\n",
              "      <td>NaN</td>\n",
              "      <td>NaN</td>\n",
              "      <td>NaN</td>\n",
              "      <td>NaN</td>\n",
              "      <td>NaN</td>\n",
              "      <td>NaN</td>\n",
              "      <td>NaN</td>\n",
              "      <td>NaN</td>\n",
              "      <td>NaN</td>\n",
              "      <td>NaN</td>\n",
              "      <td>NaN</td>\n",
              "      <td>NaN</td>\n",
              "      <td>NaN</td>\n",
              "      <td>NaN</td>\n",
              "      <td>NaN</td>\n",
              "      <td>NaN</td>\n",
              "      <td>NaN</td>\n",
              "      <td>NaN</td>\n",
              "      <td>NaN</td>\n",
              "      <td>NaN</td>\n",
              "      <td>NaN</td>\n",
              "      <td>NaN</td>\n",
              "      <td>NaN</td>\n",
              "      <td>NaN</td>\n",
              "    </tr>\n",
              "    <tr>\n",
              "      <th>2017-01-01 02:00:00</th>\n",
              "      <td>NaN</td>\n",
              "      <td>NaN</td>\n",
              "      <td>NaN</td>\n",
              "      <td>NaN</td>\n",
              "      <td>NaN</td>\n",
              "      <td>NaN</td>\n",
              "      <td>NaN</td>\n",
              "      <td>NaN</td>\n",
              "      <td>NaN</td>\n",
              "      <td>NaN</td>\n",
              "      <td>NaN</td>\n",
              "      <td>NaN</td>\n",
              "      <td>-5.0</td>\n",
              "      <td>66.0</td>\n",
              "      <td>102149.0</td>\n",
              "      <td>110.0</td>\n",
              "      <td>121.0</td>\n",
              "      <td>189.0</td>\n",
              "      <td>-4.0</td>\n",
              "      <td>55.0</td>\n",
              "      <td>102375.0</td>\n",
              "      <td>187.0</td>\n",
              "      <td>212.0</td>\n",
              "      <td>333.0</td>\n",
              "      <td>0.0</td>\n",
              "      <td>49.0</td>\n",
              "      <td>102558.0</td>\n",
              "      <td>108.0</td>\n",
              "      <td>125.0</td>\n",
              "      <td>201.0</td>\n",
              "      <td>1.0</td>\n",
              "      <td>24.0</td>\n",
              "      <td>102244.0</td>\n",
              "      <td>108.0</td>\n",
              "      <td>127.0</td>\n",
              "      <td>203.0</td>\n",
              "      <td>1.0</td>\n",
              "      <td>27.0</td>\n",
              "      <td>102310.0</td>\n",
              "      <td>134.0</td>\n",
              "      <td>...</td>\n",
              "      <td>102119.0</td>\n",
              "      <td>138.0</td>\n",
              "      <td>160.0</td>\n",
              "      <td>237.0</td>\n",
              "      <td>0.0</td>\n",
              "      <td>49.0</td>\n",
              "      <td>101536.0</td>\n",
              "      <td>97.0</td>\n",
              "      <td>105.0</td>\n",
              "      <td>162.0</td>\n",
              "      <td>NaN</td>\n",
              "      <td>NaN</td>\n",
              "      <td>NaN</td>\n",
              "      <td>NaN</td>\n",
              "      <td>NaN</td>\n",
              "      <td>NaN</td>\n",
              "      <td>NaN</td>\n",
              "      <td>NaN</td>\n",
              "      <td>NaN</td>\n",
              "      <td>NaN</td>\n",
              "      <td>NaN</td>\n",
              "      <td>NaN</td>\n",
              "      <td>NaN</td>\n",
              "      <td>NaN</td>\n",
              "      <td>NaN</td>\n",
              "      <td>NaN</td>\n",
              "      <td>NaN</td>\n",
              "      <td>NaN</td>\n",
              "      <td>NaN</td>\n",
              "      <td>NaN</td>\n",
              "      <td>NaN</td>\n",
              "      <td>NaN</td>\n",
              "      <td>NaN</td>\n",
              "      <td>NaN</td>\n",
              "      <td>NaN</td>\n",
              "      <td>NaN</td>\n",
              "      <td>NaN</td>\n",
              "      <td>NaN</td>\n",
              "      <td>NaN</td>\n",
              "      <td>NaN</td>\n",
              "    </tr>\n",
              "  </tbody>\n",
              "</table>\n",
              "<p>3 rows × 336 columns</p>\n",
              "</div>"
            ],
            "text/plain": [
              "                     3_temperature  3_humidity  ...  895_pm25  895_pm10\n",
              "UTC time                                        ...                    \n",
              "2017-01-01 00:00:00            NaN         NaN  ...       NaN       NaN\n",
              "2017-01-01 01:00:00            NaN         NaN  ...       NaN       NaN\n",
              "2017-01-01 02:00:00            NaN         NaN  ...       NaN       NaN\n",
              "\n",
              "[3 rows x 336 columns]"
            ]
          },
          "metadata": {
            "tags": []
          },
          "execution_count": 14
        }
      ]
    },
    {
      "cell_type": "code",
      "metadata": {
        "id": "PqnboploXo4M"
      },
      "source": [
        "new_df = pd.DataFrame()"
      ],
      "execution_count": 15,
      "outputs": []
    },
    {
      "cell_type": "code",
      "metadata": {
        "id": "x8VmUxPYX0NM"
      },
      "source": [
        "for i in year.groupby(year.columns.str.split('_').str[0], axis=1):\n",
        "  old = i[1].columns\n",
        "  new = i[1].columns.str.split(\"_\").str[1]\n",
        "  zmiana = { k:v  for k,v in zip(old,new)}\n",
        "  i[1].rename(columns=zmiana,inplace=True)\n",
        "  i[1][\"id\"] = i[0]\n",
        "  new_df = new_df.append(i[1])\n",
        "  # print(i[1])"
      ],
      "execution_count": 16,
      "outputs": []
    },
    {
      "cell_type": "code",
      "metadata": {
        "colab": {
          "base_uri": "https://localhost:8080/",
          "height": 173
        },
        "id": "4oIRPn8BX-6k",
        "outputId": "01d7587a-138c-445b-fb68-2e01f2199b82"
      },
      "source": [
        "new_df[:3]"
      ],
      "execution_count": 17,
      "outputs": [
        {
          "output_type": "execute_result",
          "data": {
            "text/html": [
              "<div>\n",
              "<style scoped>\n",
              "    .dataframe tbody tr th:only-of-type {\n",
              "        vertical-align: middle;\n",
              "    }\n",
              "\n",
              "    .dataframe tbody tr th {\n",
              "        vertical-align: top;\n",
              "    }\n",
              "\n",
              "    .dataframe thead th {\n",
              "        text-align: right;\n",
              "    }\n",
              "</style>\n",
              "<table border=\"1\" class=\"dataframe\">\n",
              "  <thead>\n",
              "    <tr style=\"text-align: right;\">\n",
              "      <th></th>\n",
              "      <th>temperature</th>\n",
              "      <th>humidity</th>\n",
              "      <th>pressure</th>\n",
              "      <th>pm1</th>\n",
              "      <th>pm25</th>\n",
              "      <th>pm10</th>\n",
              "      <th>id</th>\n",
              "    </tr>\n",
              "    <tr>\n",
              "      <th>UTC time</th>\n",
              "      <th></th>\n",
              "      <th></th>\n",
              "      <th></th>\n",
              "      <th></th>\n",
              "      <th></th>\n",
              "      <th></th>\n",
              "      <th></th>\n",
              "    </tr>\n",
              "  </thead>\n",
              "  <tbody>\n",
              "    <tr>\n",
              "      <th>2017-01-01 00:00:00</th>\n",
              "      <td>NaN</td>\n",
              "      <td>NaN</td>\n",
              "      <td>NaN</td>\n",
              "      <td>NaN</td>\n",
              "      <td>NaN</td>\n",
              "      <td>NaN</td>\n",
              "      <td>140</td>\n",
              "    </tr>\n",
              "    <tr>\n",
              "      <th>2017-01-01 01:00:00</th>\n",
              "      <td>NaN</td>\n",
              "      <td>NaN</td>\n",
              "      <td>NaN</td>\n",
              "      <td>NaN</td>\n",
              "      <td>NaN</td>\n",
              "      <td>NaN</td>\n",
              "      <td>140</td>\n",
              "    </tr>\n",
              "    <tr>\n",
              "      <th>2017-01-01 02:00:00</th>\n",
              "      <td>NaN</td>\n",
              "      <td>NaN</td>\n",
              "      <td>NaN</td>\n",
              "      <td>NaN</td>\n",
              "      <td>NaN</td>\n",
              "      <td>NaN</td>\n",
              "      <td>140</td>\n",
              "    </tr>\n",
              "  </tbody>\n",
              "</table>\n",
              "</div>"
            ],
            "text/plain": [
              "                     temperature  humidity  pressure  pm1  pm25  pm10   id\n",
              "UTC time                                                                  \n",
              "2017-01-01 00:00:00          NaN       NaN       NaN  NaN   NaN   NaN  140\n",
              "2017-01-01 01:00:00          NaN       NaN       NaN  NaN   NaN   NaN  140\n",
              "2017-01-01 02:00:00          NaN       NaN       NaN  NaN   NaN   NaN  140"
            ]
          },
          "metadata": {
            "tags": []
          },
          "execution_count": 17
        }
      ]
    },
    {
      "cell_type": "code",
      "metadata": {
        "colab": {
          "base_uri": "https://localhost:8080/"
        },
        "id": "iewuseI9kH5G",
        "outputId": "db6be543-443a-4256-f7f8-32c72da60987"
      },
      "source": [
        "new_df.shape"
      ],
      "execution_count": 18,
      "outputs": [
        {
          "output_type": "execute_result",
          "data": {
            "text/plain": [
              "(481208, 7)"
            ]
          },
          "metadata": {
            "tags": []
          },
          "execution_count": 18
        }
      ]
    },
    {
      "cell_type": "markdown",
      "metadata": {
        "id": "agCgQu-WY2bI"
      },
      "source": [
        "3.2 Połaczenie wartości z konkretnymi lokalizacjami wg ID sensoru"
      ]
    },
    {
      "cell_type": "code",
      "metadata": {
        "id": "Ijn8THH_YIfM"
      },
      "source": [
        "new_df[\"id\"] = new_df[\"id\"].astype(int)\n",
        "sensors[\"id\"] = sensors[\"id\"].astype(int)"
      ],
      "execution_count": 19,
      "outputs": []
    },
    {
      "cell_type": "code",
      "metadata": {
        "id": "fZSBbmG0aG93"
      },
      "source": [
        "new_df = new_df.reset_index()"
      ],
      "execution_count": 20,
      "outputs": []
    },
    {
      "cell_type": "code",
      "metadata": {
        "colab": {
          "base_uri": "https://localhost:8080/",
          "height": 142
        },
        "id": "LJ0ofSzcabOq",
        "outputId": "c719949c-3264-44aa-d141-eb7f762ed4bc"
      },
      "source": [
        "geo_df = new_df.merge(sensors, how='left', on='id')\n",
        "geo_df[:3]"
      ],
      "execution_count": 21,
      "outputs": [
        {
          "output_type": "execute_result",
          "data": {
            "text/html": [
              "<div>\n",
              "<style scoped>\n",
              "    .dataframe tbody tr th:only-of-type {\n",
              "        vertical-align: middle;\n",
              "    }\n",
              "\n",
              "    .dataframe tbody tr th {\n",
              "        vertical-align: top;\n",
              "    }\n",
              "\n",
              "    .dataframe thead th {\n",
              "        text-align: right;\n",
              "    }\n",
              "</style>\n",
              "<table border=\"1\" class=\"dataframe\">\n",
              "  <thead>\n",
              "    <tr style=\"text-align: right;\">\n",
              "      <th></th>\n",
              "      <th>UTC time</th>\n",
              "      <th>temperature</th>\n",
              "      <th>humidity</th>\n",
              "      <th>pressure</th>\n",
              "      <th>pm1</th>\n",
              "      <th>pm25</th>\n",
              "      <th>pm10</th>\n",
              "      <th>id</th>\n",
              "      <th>latitude</th>\n",
              "      <th>longitude</th>\n",
              "    </tr>\n",
              "  </thead>\n",
              "  <tbody>\n",
              "    <tr>\n",
              "      <th>0</th>\n",
              "      <td>2017-01-01 00:00:00</td>\n",
              "      <td>NaN</td>\n",
              "      <td>NaN</td>\n",
              "      <td>NaN</td>\n",
              "      <td>NaN</td>\n",
              "      <td>NaN</td>\n",
              "      <td>NaN</td>\n",
              "      <td>140</td>\n",
              "      <td>50.057747</td>\n",
              "      <td>19.961374</td>\n",
              "    </tr>\n",
              "    <tr>\n",
              "      <th>1</th>\n",
              "      <td>2017-01-01 01:00:00</td>\n",
              "      <td>NaN</td>\n",
              "      <td>NaN</td>\n",
              "      <td>NaN</td>\n",
              "      <td>NaN</td>\n",
              "      <td>NaN</td>\n",
              "      <td>NaN</td>\n",
              "      <td>140</td>\n",
              "      <td>50.057747</td>\n",
              "      <td>19.961374</td>\n",
              "    </tr>\n",
              "    <tr>\n",
              "      <th>2</th>\n",
              "      <td>2017-01-01 02:00:00</td>\n",
              "      <td>NaN</td>\n",
              "      <td>NaN</td>\n",
              "      <td>NaN</td>\n",
              "      <td>NaN</td>\n",
              "      <td>NaN</td>\n",
              "      <td>NaN</td>\n",
              "      <td>140</td>\n",
              "      <td>50.057747</td>\n",
              "      <td>19.961374</td>\n",
              "    </tr>\n",
              "  </tbody>\n",
              "</table>\n",
              "</div>"
            ],
            "text/plain": [
              "             UTC time  temperature  humidity  ...   id   latitude  longitude\n",
              "0 2017-01-01 00:00:00          NaN       NaN  ...  140  50.057747  19.961374\n",
              "1 2017-01-01 01:00:00          NaN       NaN  ...  140  50.057747  19.961374\n",
              "2 2017-01-01 02:00:00          NaN       NaN  ...  140  50.057747  19.961374\n",
              "\n",
              "[3 rows x 10 columns]"
            ]
          },
          "metadata": {
            "tags": []
          },
          "execution_count": 21
        }
      ]
    },
    {
      "cell_type": "markdown",
      "metadata": {
        "id": "0gNYWr55haf0"
      },
      "source": [
        "PUNKT 7.3 RNN"
      ]
    },
    {
      "cell_type": "markdown",
      "metadata": {
        "id": "V5kmzIc6hkUs"
      },
      "source": [
        "PUNKT 7.3.1.LSTM"
      ]
    },
    {
      "cell_type": "code",
      "metadata": {
        "colab": {
          "base_uri": "https://localhost:8080/",
          "height": 419
        },
        "id": "NWYrvDkk45VF",
        "outputId": "35acbf6e-1d5a-4aa1-a46e-f11098ef3730"
      },
      "source": [
        "geo_df"
      ],
      "execution_count": 22,
      "outputs": [
        {
          "output_type": "execute_result",
          "data": {
            "text/html": [
              "<div>\n",
              "<style scoped>\n",
              "    .dataframe tbody tr th:only-of-type {\n",
              "        vertical-align: middle;\n",
              "    }\n",
              "\n",
              "    .dataframe tbody tr th {\n",
              "        vertical-align: top;\n",
              "    }\n",
              "\n",
              "    .dataframe thead th {\n",
              "        text-align: right;\n",
              "    }\n",
              "</style>\n",
              "<table border=\"1\" class=\"dataframe\">\n",
              "  <thead>\n",
              "    <tr style=\"text-align: right;\">\n",
              "      <th></th>\n",
              "      <th>UTC time</th>\n",
              "      <th>temperature</th>\n",
              "      <th>humidity</th>\n",
              "      <th>pressure</th>\n",
              "      <th>pm1</th>\n",
              "      <th>pm25</th>\n",
              "      <th>pm10</th>\n",
              "      <th>id</th>\n",
              "      <th>latitude</th>\n",
              "      <th>longitude</th>\n",
              "    </tr>\n",
              "  </thead>\n",
              "  <tbody>\n",
              "    <tr>\n",
              "      <th>0</th>\n",
              "      <td>2017-01-01 00:00:00</td>\n",
              "      <td>NaN</td>\n",
              "      <td>NaN</td>\n",
              "      <td>NaN</td>\n",
              "      <td>NaN</td>\n",
              "      <td>NaN</td>\n",
              "      <td>NaN</td>\n",
              "      <td>140</td>\n",
              "      <td>50.057747</td>\n",
              "      <td>19.961374</td>\n",
              "    </tr>\n",
              "    <tr>\n",
              "      <th>1</th>\n",
              "      <td>2017-01-01 01:00:00</td>\n",
              "      <td>NaN</td>\n",
              "      <td>NaN</td>\n",
              "      <td>NaN</td>\n",
              "      <td>NaN</td>\n",
              "      <td>NaN</td>\n",
              "      <td>NaN</td>\n",
              "      <td>140</td>\n",
              "      <td>50.057747</td>\n",
              "      <td>19.961374</td>\n",
              "    </tr>\n",
              "    <tr>\n",
              "      <th>2</th>\n",
              "      <td>2017-01-01 02:00:00</td>\n",
              "      <td>NaN</td>\n",
              "      <td>NaN</td>\n",
              "      <td>NaN</td>\n",
              "      <td>NaN</td>\n",
              "      <td>NaN</td>\n",
              "      <td>NaN</td>\n",
              "      <td>140</td>\n",
              "      <td>50.057747</td>\n",
              "      <td>19.961374</td>\n",
              "    </tr>\n",
              "    <tr>\n",
              "      <th>3</th>\n",
              "      <td>2017-01-01 03:00:00</td>\n",
              "      <td>NaN</td>\n",
              "      <td>NaN</td>\n",
              "      <td>NaN</td>\n",
              "      <td>NaN</td>\n",
              "      <td>NaN</td>\n",
              "      <td>NaN</td>\n",
              "      <td>140</td>\n",
              "      <td>50.057747</td>\n",
              "      <td>19.961374</td>\n",
              "    </tr>\n",
              "    <tr>\n",
              "      <th>4</th>\n",
              "      <td>2017-01-01 04:00:00</td>\n",
              "      <td>NaN</td>\n",
              "      <td>NaN</td>\n",
              "      <td>NaN</td>\n",
              "      <td>NaN</td>\n",
              "      <td>NaN</td>\n",
              "      <td>NaN</td>\n",
              "      <td>140</td>\n",
              "      <td>50.057747</td>\n",
              "      <td>19.961374</td>\n",
              "    </tr>\n",
              "    <tr>\n",
              "      <th>...</th>\n",
              "      <td>...</td>\n",
              "      <td>...</td>\n",
              "      <td>...</td>\n",
              "      <td>...</td>\n",
              "      <td>...</td>\n",
              "      <td>...</td>\n",
              "      <td>...</td>\n",
              "      <td>...</td>\n",
              "      <td>...</td>\n",
              "      <td>...</td>\n",
              "    </tr>\n",
              "    <tr>\n",
              "      <th>481203</th>\n",
              "      <td>2017-12-24 20:00:00</td>\n",
              "      <td>5.0</td>\n",
              "      <td>85.0</td>\n",
              "      <td>101798.0</td>\n",
              "      <td>13.0</td>\n",
              "      <td>15.0</td>\n",
              "      <td>26.0</td>\n",
              "      <td>895</td>\n",
              "      <td>50.084966</td>\n",
              "      <td>19.877998</td>\n",
              "    </tr>\n",
              "    <tr>\n",
              "      <th>481204</th>\n",
              "      <td>2017-12-24 21:00:00</td>\n",
              "      <td>5.0</td>\n",
              "      <td>85.0</td>\n",
              "      <td>101840.0</td>\n",
              "      <td>12.0</td>\n",
              "      <td>13.0</td>\n",
              "      <td>23.0</td>\n",
              "      <td>895</td>\n",
              "      <td>50.084966</td>\n",
              "      <td>19.877998</td>\n",
              "    </tr>\n",
              "    <tr>\n",
              "      <th>481205</th>\n",
              "      <td>2017-12-24 22:00:00</td>\n",
              "      <td>5.0</td>\n",
              "      <td>82.0</td>\n",
              "      <td>101839.0</td>\n",
              "      <td>10.0</td>\n",
              "      <td>12.0</td>\n",
              "      <td>21.0</td>\n",
              "      <td>895</td>\n",
              "      <td>50.084966</td>\n",
              "      <td>19.877998</td>\n",
              "    </tr>\n",
              "    <tr>\n",
              "      <th>481206</th>\n",
              "      <td>2017-12-24 23:00:00</td>\n",
              "      <td>5.0</td>\n",
              "      <td>85.0</td>\n",
              "      <td>101837.0</td>\n",
              "      <td>10.0</td>\n",
              "      <td>12.0</td>\n",
              "      <td>21.0</td>\n",
              "      <td>895</td>\n",
              "      <td>50.084966</td>\n",
              "      <td>19.877998</td>\n",
              "    </tr>\n",
              "    <tr>\n",
              "      <th>481207</th>\n",
              "      <td>2017-12-25 00:00:00</td>\n",
              "      <td>5.0</td>\n",
              "      <td>85.0</td>\n",
              "      <td>101840.0</td>\n",
              "      <td>10.0</td>\n",
              "      <td>11.0</td>\n",
              "      <td>20.0</td>\n",
              "      <td>895</td>\n",
              "      <td>50.084966</td>\n",
              "      <td>19.877998</td>\n",
              "    </tr>\n",
              "  </tbody>\n",
              "</table>\n",
              "<p>481208 rows × 10 columns</p>\n",
              "</div>"
            ],
            "text/plain": [
              "                  UTC time  temperature  humidity  ...   id   latitude  longitude\n",
              "0      2017-01-01 00:00:00          NaN       NaN  ...  140  50.057747  19.961374\n",
              "1      2017-01-01 01:00:00          NaN       NaN  ...  140  50.057747  19.961374\n",
              "2      2017-01-01 02:00:00          NaN       NaN  ...  140  50.057747  19.961374\n",
              "3      2017-01-01 03:00:00          NaN       NaN  ...  140  50.057747  19.961374\n",
              "4      2017-01-01 04:00:00          NaN       NaN  ...  140  50.057747  19.961374\n",
              "...                    ...          ...       ...  ...  ...        ...        ...\n",
              "481203 2017-12-24 20:00:00          5.0      85.0  ...  895  50.084966  19.877998\n",
              "481204 2017-12-24 21:00:00          5.0      85.0  ...  895  50.084966  19.877998\n",
              "481205 2017-12-24 22:00:00          5.0      82.0  ...  895  50.084966  19.877998\n",
              "481206 2017-12-24 23:00:00          5.0      85.0  ...  895  50.084966  19.877998\n",
              "481207 2017-12-25 00:00:00          5.0      85.0  ...  895  50.084966  19.877998\n",
              "\n",
              "[481208 rows x 10 columns]"
            ]
          },
          "metadata": {
            "tags": []
          },
          "execution_count": 22
        }
      ]
    },
    {
      "cell_type": "markdown",
      "metadata": {
        "id": "-xMVbH73hh8Z"
      },
      "source": [
        "Dane zawieraja NAN w duzej ilosc. Pierwsza wersja zamiana NAN na zera. Druga wersja zamiana NAN na mediane wystepujaca w kolumnie. Napierw przetestowano dane z mediana"
      ]
    },
    {
      "cell_type": "code",
      "metadata": {
        "id": "CDSTVMKdeOq_"
      },
      "source": [
        "geo_df = geo_df[geo_df['id']==895]\n"
      ],
      "execution_count": 23,
      "outputs": []
    },
    {
      "cell_type": "code",
      "metadata": {
        "colab": {
          "base_uri": "https://localhost:8080/",
          "height": 419
        },
        "id": "fcyDdHnPd9NJ",
        "outputId": "0a1ed597-1f89-47f8-d77c-1dd1dd1b4b14"
      },
      "source": [
        "geo_df"
      ],
      "execution_count": 24,
      "outputs": [
        {
          "output_type": "execute_result",
          "data": {
            "text/html": [
              "<div>\n",
              "<style scoped>\n",
              "    .dataframe tbody tr th:only-of-type {\n",
              "        vertical-align: middle;\n",
              "    }\n",
              "\n",
              "    .dataframe tbody tr th {\n",
              "        vertical-align: top;\n",
              "    }\n",
              "\n",
              "    .dataframe thead th {\n",
              "        text-align: right;\n",
              "    }\n",
              "</style>\n",
              "<table border=\"1\" class=\"dataframe\">\n",
              "  <thead>\n",
              "    <tr style=\"text-align: right;\">\n",
              "      <th></th>\n",
              "      <th>UTC time</th>\n",
              "      <th>temperature</th>\n",
              "      <th>humidity</th>\n",
              "      <th>pressure</th>\n",
              "      <th>pm1</th>\n",
              "      <th>pm25</th>\n",
              "      <th>pm10</th>\n",
              "      <th>id</th>\n",
              "      <th>latitude</th>\n",
              "      <th>longitude</th>\n",
              "    </tr>\n",
              "  </thead>\n",
              "  <tbody>\n",
              "    <tr>\n",
              "      <th>472615</th>\n",
              "      <td>2017-01-01 00:00:00</td>\n",
              "      <td>NaN</td>\n",
              "      <td>NaN</td>\n",
              "      <td>NaN</td>\n",
              "      <td>NaN</td>\n",
              "      <td>NaN</td>\n",
              "      <td>NaN</td>\n",
              "      <td>895</td>\n",
              "      <td>50.084966</td>\n",
              "      <td>19.877998</td>\n",
              "    </tr>\n",
              "    <tr>\n",
              "      <th>472616</th>\n",
              "      <td>2017-01-01 01:00:00</td>\n",
              "      <td>NaN</td>\n",
              "      <td>NaN</td>\n",
              "      <td>NaN</td>\n",
              "      <td>NaN</td>\n",
              "      <td>NaN</td>\n",
              "      <td>NaN</td>\n",
              "      <td>895</td>\n",
              "      <td>50.084966</td>\n",
              "      <td>19.877998</td>\n",
              "    </tr>\n",
              "    <tr>\n",
              "      <th>472617</th>\n",
              "      <td>2017-01-01 02:00:00</td>\n",
              "      <td>NaN</td>\n",
              "      <td>NaN</td>\n",
              "      <td>NaN</td>\n",
              "      <td>NaN</td>\n",
              "      <td>NaN</td>\n",
              "      <td>NaN</td>\n",
              "      <td>895</td>\n",
              "      <td>50.084966</td>\n",
              "      <td>19.877998</td>\n",
              "    </tr>\n",
              "    <tr>\n",
              "      <th>472618</th>\n",
              "      <td>2017-01-01 03:00:00</td>\n",
              "      <td>NaN</td>\n",
              "      <td>NaN</td>\n",
              "      <td>NaN</td>\n",
              "      <td>NaN</td>\n",
              "      <td>NaN</td>\n",
              "      <td>NaN</td>\n",
              "      <td>895</td>\n",
              "      <td>50.084966</td>\n",
              "      <td>19.877998</td>\n",
              "    </tr>\n",
              "    <tr>\n",
              "      <th>472619</th>\n",
              "      <td>2017-01-01 04:00:00</td>\n",
              "      <td>NaN</td>\n",
              "      <td>NaN</td>\n",
              "      <td>NaN</td>\n",
              "      <td>NaN</td>\n",
              "      <td>NaN</td>\n",
              "      <td>NaN</td>\n",
              "      <td>895</td>\n",
              "      <td>50.084966</td>\n",
              "      <td>19.877998</td>\n",
              "    </tr>\n",
              "    <tr>\n",
              "      <th>...</th>\n",
              "      <td>...</td>\n",
              "      <td>...</td>\n",
              "      <td>...</td>\n",
              "      <td>...</td>\n",
              "      <td>...</td>\n",
              "      <td>...</td>\n",
              "      <td>...</td>\n",
              "      <td>...</td>\n",
              "      <td>...</td>\n",
              "      <td>...</td>\n",
              "    </tr>\n",
              "    <tr>\n",
              "      <th>481203</th>\n",
              "      <td>2017-12-24 20:00:00</td>\n",
              "      <td>5.0</td>\n",
              "      <td>85.0</td>\n",
              "      <td>101798.0</td>\n",
              "      <td>13.0</td>\n",
              "      <td>15.0</td>\n",
              "      <td>26.0</td>\n",
              "      <td>895</td>\n",
              "      <td>50.084966</td>\n",
              "      <td>19.877998</td>\n",
              "    </tr>\n",
              "    <tr>\n",
              "      <th>481204</th>\n",
              "      <td>2017-12-24 21:00:00</td>\n",
              "      <td>5.0</td>\n",
              "      <td>85.0</td>\n",
              "      <td>101840.0</td>\n",
              "      <td>12.0</td>\n",
              "      <td>13.0</td>\n",
              "      <td>23.0</td>\n",
              "      <td>895</td>\n",
              "      <td>50.084966</td>\n",
              "      <td>19.877998</td>\n",
              "    </tr>\n",
              "    <tr>\n",
              "      <th>481205</th>\n",
              "      <td>2017-12-24 22:00:00</td>\n",
              "      <td>5.0</td>\n",
              "      <td>82.0</td>\n",
              "      <td>101839.0</td>\n",
              "      <td>10.0</td>\n",
              "      <td>12.0</td>\n",
              "      <td>21.0</td>\n",
              "      <td>895</td>\n",
              "      <td>50.084966</td>\n",
              "      <td>19.877998</td>\n",
              "    </tr>\n",
              "    <tr>\n",
              "      <th>481206</th>\n",
              "      <td>2017-12-24 23:00:00</td>\n",
              "      <td>5.0</td>\n",
              "      <td>85.0</td>\n",
              "      <td>101837.0</td>\n",
              "      <td>10.0</td>\n",
              "      <td>12.0</td>\n",
              "      <td>21.0</td>\n",
              "      <td>895</td>\n",
              "      <td>50.084966</td>\n",
              "      <td>19.877998</td>\n",
              "    </tr>\n",
              "    <tr>\n",
              "      <th>481207</th>\n",
              "      <td>2017-12-25 00:00:00</td>\n",
              "      <td>5.0</td>\n",
              "      <td>85.0</td>\n",
              "      <td>101840.0</td>\n",
              "      <td>10.0</td>\n",
              "      <td>11.0</td>\n",
              "      <td>20.0</td>\n",
              "      <td>895</td>\n",
              "      <td>50.084966</td>\n",
              "      <td>19.877998</td>\n",
              "    </tr>\n",
              "  </tbody>\n",
              "</table>\n",
              "<p>8593 rows × 10 columns</p>\n",
              "</div>"
            ],
            "text/plain": [
              "                  UTC time  temperature  humidity  ...   id   latitude  longitude\n",
              "472615 2017-01-01 00:00:00          NaN       NaN  ...  895  50.084966  19.877998\n",
              "472616 2017-01-01 01:00:00          NaN       NaN  ...  895  50.084966  19.877998\n",
              "472617 2017-01-01 02:00:00          NaN       NaN  ...  895  50.084966  19.877998\n",
              "472618 2017-01-01 03:00:00          NaN       NaN  ...  895  50.084966  19.877998\n",
              "472619 2017-01-01 04:00:00          NaN       NaN  ...  895  50.084966  19.877998\n",
              "...                    ...          ...       ...  ...  ...        ...        ...\n",
              "481203 2017-12-24 20:00:00          5.0      85.0  ...  895  50.084966  19.877998\n",
              "481204 2017-12-24 21:00:00          5.0      85.0  ...  895  50.084966  19.877998\n",
              "481205 2017-12-24 22:00:00          5.0      82.0  ...  895  50.084966  19.877998\n",
              "481206 2017-12-24 23:00:00          5.0      85.0  ...  895  50.084966  19.877998\n",
              "481207 2017-12-25 00:00:00          5.0      85.0  ...  895  50.084966  19.877998\n",
              "\n",
              "[8593 rows x 10 columns]"
            ]
          },
          "metadata": {
            "tags": []
          },
          "execution_count": 24
        }
      ]
    },
    {
      "cell_type": "code",
      "metadata": {
        "id": "6--3jSbt5WbW"
      },
      "source": [
        "float_data = geo_df.drop(['UTC time'], axis=1)"
      ],
      "execution_count": 25,
      "outputs": []
    },
    {
      "cell_type": "code",
      "metadata": {
        "id": "A86orXFsRBqL"
      },
      "source": [
        "# float_data"
      ],
      "execution_count": 26,
      "outputs": []
    },
    {
      "cell_type": "code",
      "metadata": {
        "colab": {
          "base_uri": "https://localhost:8080/",
          "height": 111
        },
        "id": "yaRE1dSvesQZ",
        "outputId": "7743aa1d-8ad2-4c9a-9c5e-d9fffa53c3a1"
      },
      "source": [
        "float_data_mediana = float_data.fillna(float_data.median())\n",
        "float_data_mediana.head(2)"
      ],
      "execution_count": 31,
      "outputs": [
        {
          "output_type": "execute_result",
          "data": {
            "text/html": [
              "<div>\n",
              "<style scoped>\n",
              "    .dataframe tbody tr th:only-of-type {\n",
              "        vertical-align: middle;\n",
              "    }\n",
              "\n",
              "    .dataframe tbody tr th {\n",
              "        vertical-align: top;\n",
              "    }\n",
              "\n",
              "    .dataframe thead th {\n",
              "        text-align: right;\n",
              "    }\n",
              "</style>\n",
              "<table border=\"1\" class=\"dataframe\">\n",
              "  <thead>\n",
              "    <tr style=\"text-align: right;\">\n",
              "      <th></th>\n",
              "      <th>temperature</th>\n",
              "      <th>humidity</th>\n",
              "      <th>pressure</th>\n",
              "      <th>pm1</th>\n",
              "      <th>pm25</th>\n",
              "      <th>pm10</th>\n",
              "      <th>id</th>\n",
              "      <th>latitude</th>\n",
              "      <th>longitude</th>\n",
              "    </tr>\n",
              "  </thead>\n",
              "  <tbody>\n",
              "    <tr>\n",
              "      <th>472615</th>\n",
              "      <td>10.0</td>\n",
              "      <td>85.0</td>\n",
              "      <td>101686.0</td>\n",
              "      <td>21.0</td>\n",
              "      <td>19.0</td>\n",
              "      <td>33.0</td>\n",
              "      <td>895</td>\n",
              "      <td>50.084966</td>\n",
              "      <td>19.877998</td>\n",
              "    </tr>\n",
              "    <tr>\n",
              "      <th>472616</th>\n",
              "      <td>10.0</td>\n",
              "      <td>85.0</td>\n",
              "      <td>101686.0</td>\n",
              "      <td>21.0</td>\n",
              "      <td>19.0</td>\n",
              "      <td>33.0</td>\n",
              "      <td>895</td>\n",
              "      <td>50.084966</td>\n",
              "      <td>19.877998</td>\n",
              "    </tr>\n",
              "  </tbody>\n",
              "</table>\n",
              "</div>"
            ],
            "text/plain": [
              "        temperature  humidity  pressure   pm1  ...  pm10   id   latitude  longitude\n",
              "472615         10.0      85.0  101686.0  21.0  ...  33.0  895  50.084966  19.877998\n",
              "472616         10.0      85.0  101686.0  21.0  ...  33.0  895  50.084966  19.877998\n",
              "\n",
              "[2 rows x 9 columns]"
            ]
          },
          "metadata": {
            "tags": []
          },
          "execution_count": 31
        }
      ]
    },
    {
      "cell_type": "code",
      "metadata": {
        "colab": {
          "base_uri": "https://localhost:8080/"
        },
        "id": "CfFEksDtg4s5",
        "outputId": "7e85c6c5-7cbe-4bba-fd39-296570bd2c47"
      },
      "source": [
        "float_data_mediana.shape"
      ],
      "execution_count": 32,
      "outputs": [
        {
          "output_type": "execute_result",
          "data": {
            "text/plain": [
              "(8593, 9)"
            ]
          },
          "metadata": {
            "tags": []
          },
          "execution_count": 32
        }
      ]
    },
    {
      "cell_type": "code",
      "metadata": {
        "id": "YTy_RmJ4fOyj"
      },
      "source": [
        "float_data_mediana = float_data_mediana.values"
      ],
      "execution_count": 33,
      "outputs": []
    },
    {
      "cell_type": "code",
      "metadata": {
        "colab": {
          "base_uri": "https://localhost:8080/",
          "height": 163
        },
        "id": "e3QW688AfVFQ",
        "outputId": "5e988363-1e0d-4edc-ba36-fd445a1b93a6"
      },
      "source": [
        "# float_data_mediana.shape"
      ],
      "execution_count": 60,
      "outputs": [
        {
          "output_type": "error",
          "ename": "NameError",
          "evalue": "ignored",
          "traceback": [
            "\u001b[0;31m---------------------------------------------------------------------------\u001b[0m",
            "\u001b[0;31mNameError\u001b[0m                                 Traceback (most recent call last)",
            "\u001b[0;32m<ipython-input-60-8294dfa842b6>\u001b[0m in \u001b[0;36m<module>\u001b[0;34m()\u001b[0m\n\u001b[0;32m----> 1\u001b[0;31m \u001b[0mfloat_data_mediana\u001b[0m\u001b[0;34m.\u001b[0m\u001b[0mshape\u001b[0m\u001b[0;34m\u001b[0m\u001b[0;34m\u001b[0m\u001b[0m\n\u001b[0m",
            "\u001b[0;31mNameError\u001b[0m: name 'float_data_mediana' is not defined"
          ]
        }
      ]
    },
    {
      "cell_type": "code",
      "metadata": {
        "id": "mWa6fw509_RL"
      },
      "source": [
        "# s = float_data_mediana"
      ],
      "execution_count": null,
      "outputs": []
    },
    {
      "cell_type": "code",
      "metadata": {
        "id": "7xIRmo9q_NMk"
      },
      "source": [
        "# poj_sensor = s['id']"
      ],
      "execution_count": null,
      "outputs": []
    },
    {
      "cell_type": "code",
      "metadata": {
        "id": "mF9BHPvW5z96"
      },
      "source": [
        "# float_data_mediana1 = float_data_mediana.values"
      ],
      "execution_count": null,
      "outputs": []
    },
    {
      "cell_type": "code",
      "metadata": {
        "id": "CaZfMCPbhAKl"
      },
      "source": [
        "# float_data_zero = float_data.fillna(0)\n",
        "# float_data_zero.head(2)"
      ],
      "execution_count": null,
      "outputs": []
    },
    {
      "cell_type": "code",
      "metadata": {
        "id": "PzI119OthkOz"
      },
      "source": [
        "# float_data_zero1 = float_data_zero.values"
      ],
      "execution_count": null,
      "outputs": []
    },
    {
      "cell_type": "markdown",
      "metadata": {
        "id": "GB9fLSXVflPm"
      },
      "source": [
        "Znalezienie trendow w zmianach stezenia pylu od czasu. Byc moze jest cykl dobowy zmiany stezenia pyłu, cykl tygodniowy, miesieczny"
      ]
    },
    {
      "cell_type": "code",
      "metadata": {
        "id": "EC6zNEyogHII"
      },
      "source": [
        "\n",
        "\n",
        "# pm10 = float_data_mediana1[:, 5]  # Temeperatura (stopnie Celsjusza)\n",
        "# plt.plot(range(len(pm10)), pm10)\n",
        "# plt.show()"
      ],
      "execution_count": null,
      "outputs": []
    },
    {
      "cell_type": "code",
      "metadata": {
        "id": "GE8wSfiw6A7-"
      },
      "source": [
        "#  jest 481 tyś wierszy. Podzial: 200 tys wierszy na train_gen, 100 tys wierszy na val_gen, pozostale 181.208 wierszy na test_gen"
      ],
      "execution_count": null,
      "outputs": []
    },
    {
      "cell_type": "code",
      "metadata": {
        "colab": {
          "base_uri": "https://localhost:8080/",
          "height": 163
        },
        "id": "yz9C4bVOeJKw",
        "outputId": "59097299-7b23-43fe-a231-4823de4b5685"
      },
      "source": [
        "# float_data1"
      ],
      "execution_count": 32,
      "outputs": [
        {
          "output_type": "error",
          "ename": "NameError",
          "evalue": "ignored",
          "traceback": [
            "\u001b[0;31m---------------------------------------------------------------------------\u001b[0m",
            "\u001b[0;31mNameError\u001b[0m                                 Traceback (most recent call last)",
            "\u001b[0;32m<ipython-input-32-ba8df41791d1>\u001b[0m in \u001b[0;36m<module>\u001b[0;34m()\u001b[0m\n\u001b[0;32m----> 1\u001b[0;31m \u001b[0mfloat_data1\u001b[0m\u001b[0;34m\u001b[0m\u001b[0;34m\u001b[0m\u001b[0m\n\u001b[0m",
            "\u001b[0;31mNameError\u001b[0m: name 'float_data1' is not defined"
          ]
        }
      ]
    },
    {
      "cell_type": "markdown",
      "metadata": {
        "id": "b4J0I6md76pZ"
      },
      "source": [
        "Cel: Przewidywanie stężenia pyłu pm10 na 24h do przodu\n",
        "Na podstawie danych sprzed 24h do tyłu\n",
        "steps = 1 bo jedna obserwacja na godzine\n",
        "lookback = 24 bo 24h do tylu patrzymy\n",
        "delay = 24 bo prognozujemy 24h do przodu"
      ]
    },
    {
      "cell_type": "markdown",
      "metadata": {
        "id": "gehTau379WW8"
      },
      "source": [
        "Wartosci z monitoringu wyrażone sa w innej skali (wartości temperatury wahają się od –20 do +30, a ciśnienie atmosferyczne jest wyrażane w milibarach i przyjmuje wartości oscylujące wokół 1000, wartosci pyłu w ppm i oscyluja wokoł....). Dlatego każdą z mierzonych wielkości poddano normalizacji w sposób niezależny. Dzięki temu będą one przyjmowały małe wartości z podobnych zakresów."
      ]
    },
    {
      "cell_type": "code",
      "metadata": {
        "id": "U8NfFN2G9uYa",
        "colab": {
          "base_uri": "https://localhost:8080/"
        },
        "outputId": "9b6cfe14-534d-4b69-a1db-922c306e2908"
      },
      "source": [
        "mean = float_data_mediana[:200000].mean(axis=0)\n",
        "float_data_mediana -= mean\n",
        "std = float_data_mediana[:200000].std(axis=0)\n",
        "float_data_mediana /= std"
      ],
      "execution_count": 34,
      "outputs": [
        {
          "output_type": "stream",
          "text": [
            "/usr/local/lib/python3.7/dist-packages/ipykernel_launcher.py:4: RuntimeWarning: divide by zero encountered in true_divide\n",
            "  after removing the cwd from sys.path.\n",
            "/usr/local/lib/python3.7/dist-packages/ipykernel_launcher.py:4: RuntimeWarning: invalid value encountered in true_divide\n",
            "  after removing the cwd from sys.path.\n"
          ],
          "name": "stderr"
        }
      ]
    },
    {
      "cell_type": "code",
      "metadata": {
        "id": "D7xrfRALhudT"
      },
      "source": [
        "# OBLICZENIE ODCHYLENIA STANDARDOWEGO DLA KOMUMNY PM10"
      ],
      "execution_count": null,
      "outputs": []
    },
    {
      "cell_type": "code",
      "metadata": {
        "id": "09Mgi8WPh2w_"
      },
      "source": [
        "# pm10 = geo_df['pm10']\n",
        "# std = pm10.std()\n",
        "# std = 52,53"
      ],
      "execution_count": null,
      "outputs": []
    },
    {
      "cell_type": "code",
      "metadata": {
        "id": "AXEkK2lj-TDj"
      },
      "source": [
        "def generator(data, lookback, delay, min_index, max_index,\n",
        "              shuffle=False, batch_size=128, step=1):\n",
        "    if max_index is None:\n",
        "        max_index = len(data) - delay - 1\n",
        "    i = min_index + lookback\n",
        "    while 1:\n",
        "        if shuffle:\n",
        "            rows = np.random.randint(\n",
        "                min_index + lookback, max_index, size=batch_size)\n",
        "        else:\n",
        "            if i + batch_size >= max_index:\n",
        "                i = min_index + lookback\n",
        "            rows = np.arange(i, min(i + batch_size, max_index))\n",
        "            i += len(rows)\n",
        "\n",
        "        samples = np.zeros((len(rows),\n",
        "                           lookback // step,\n",
        "                           data.shape[-1]))\n",
        "        targets = np.zeros((len(rows),))\n",
        "        for j, row in enumerate(rows):\n",
        "            indices = range(rows[j] - lookback, rows[j], step)\n",
        "            samples[j] = data[indices]\n",
        "            targets[j] = data[rows[j] + delay][5]\n",
        "        yield samples, targets"
      ],
      "execution_count": 35,
      "outputs": []
    },
    {
      "cell_type": "code",
      "metadata": {
        "id": "XbXZOB4M-3WF"
      },
      "source": [
        "lookback = 24\n",
        "step = 1\n",
        "delay = 24\n",
        "batch_size = 128\n",
        "\n",
        "train_gen = generator(float_data_mediana,\n",
        "                      lookback=lookback,\n",
        "                      delay=delay,\n",
        "                      min_index=0,\n",
        "                      max_index=4000,\n",
        "                      shuffle=True,\n",
        "                      step=step, \n",
        "                      batch_size=batch_size)\n",
        "val_gen = generator(float_data_mediana,\n",
        "                    lookback=lookback,\n",
        "                    delay=delay,\n",
        "                    min_index=4001,\n",
        "                    max_index=6000,\n",
        "                    step=step,\n",
        "                    batch_size=batch_size)\n",
        "test_gen = generator(float_data_mediana,\n",
        "                     lookback=lookback,\n",
        "                     delay=delay,\n",
        "                     min_index=6001,\n",
        "                     max_index=None,\n",
        "                     step=step,\n",
        "                     batch_size=batch_size)"
      ],
      "execution_count": 37,
      "outputs": []
    },
    {
      "cell_type": "code",
      "metadata": {
        "id": "26hLtRq7_K6X"
      },
      "source": [
        "# Liczba kroków pobierania danych z obiektu val_gen \n",
        "# zapewniających przetworzenie całego walidacyjnego zbioru danych.\n",
        "val_steps = (6000 - 4001 - lookback) // batch_size\n",
        "\n",
        "# Liczba kroków pobierania danych z obiektu test_gen, \n",
        "# przy której przetworzony zostanie cały testowy zbiór danych.\n",
        "test_steps = (len(float_data) - 6001 - lookback) // batch_size"
      ],
      "execution_count": 38,
      "outputs": []
    },
    {
      "cell_type": "code",
      "metadata": {
        "colab": {
          "base_uri": "https://localhost:8080/"
        },
        "id": "3vEE3aG4G-8c",
        "outputId": "ee0c6807-1be1-44cd-8408-c3b8f4c8188e"
      },
      "source": [
        "def evaluate_naive_method():\n",
        "    batch_maes = []\n",
        "    for step in range(val_steps):\n",
        "        samples, targets = next(val_gen)\n",
        "        preds = samples[:, -1, 1]\n",
        "        mae = np.mean(np.abs(preds - targets))\n",
        "        batch_maes.append(mae)\n",
        "    print(np.mean(batch_maes))\n",
        "    print(targets)\n",
        "    \n",
        "evaluate_naive_method()"
      ],
      "execution_count": 44,
      "outputs": [
        {
          "output_type": "stream",
          "text": [
            "0.9807457286839039\n",
            "[-9.46874188e-01 -6.65987152e-01 -4.20210995e-01  4.22450115e-01\n",
            " -6.91021989e-02  4.22450115e-01  3.52228356e-01  1.06452199e-01\n",
            "  1.06452199e-01 -6.91021989e-02 -2.44656597e-01 -1.74434838e-01\n",
            " -2.44656597e-01 -5.95765392e-01 -3.49989235e-01 -2.79767476e-01\n",
            " -1.39323958e-01 -2.79767476e-01 -3.85100115e-01 -3.49989235e-01\n",
            " -4.55321874e-01 -3.85100115e-01 -3.49989235e-01 -2.79767476e-01\n",
            " -3.14878356e-01 -2.09545717e-01 -6.91021989e-02  1.06452199e-01\n",
            "  7.13413194e-02 -4.90432754e-01 -7.71319790e-01 -8.06430670e-01\n",
            " -8.76652429e-01 -8.76652429e-01 -8.41541549e-01 -8.41541549e-01\n",
            " -8.76652429e-01 -8.06430670e-01 -8.76652429e-01 -7.71319790e-01\n",
            " -7.36208911e-01 -7.71319790e-01 -1.01709595e+00 -9.11763309e-01\n",
            " -9.11763309e-01 -8.41541549e-01 -8.76652429e-01 -8.76652429e-01\n",
            " -8.41541549e-01 -7.71319790e-01 -7.36208911e-01 -5.95765392e-01\n",
            " -3.14878356e-01  7.13413194e-02  2.46895717e-01 -3.49989235e-01\n",
            " -5.60654513e-01 -6.30876272e-01 -6.30876272e-01 -5.60654513e-01\n",
            " -4.20210995e-01 -2.79767476e-01 -5.25543633e-01 -7.36208911e-01\n",
            " -8.06430670e-01 -9.11763309e-01 -1.05220683e+00 -1.12242859e+00\n",
            " -1.12242859e+00 -1.12242859e+00 -1.08731771e+00 -1.01709595e+00\n",
            " -7.01098031e-01 -4.20210995e-01 -2.79767476e-01 -3.85100115e-01\n",
            " -4.90432754e-01 -4.90432754e-01 -4.90432754e-01 -4.55321874e-01\n",
            " -4.20210995e-01 -3.85100115e-01 -3.85100115e-01 -3.85100115e-01\n",
            " -2.79767476e-01 -3.14878356e-01 -3.49989235e-01 -5.25543633e-01\n",
            " -5.25543633e-01 -4.55321874e-01 -4.20210995e-01 -4.20210995e-01\n",
            " -4.20210995e-01 -4.55321874e-01 -4.55321874e-01 -4.20210995e-01\n",
            " -3.49989235e-01 -1.74434838e-01 -3.39913193e-02  1.41563078e-01\n",
            "  3.17117476e-01  4.92671874e-01  5.98004513e-01  5.98004513e-01\n",
            "  5.27782754e-01  5.98004513e-01  6.68226272e-01  7.73558911e-01\n",
            "  3.87339235e-01 -1.39323958e-01 -1.74434838e-01 -4.20210995e-01\n",
            " -1.04213078e-01  1.11956022e-03  1.11956022e-03 -6.91021989e-02\n",
            " -6.91021989e-02  7.13413194e-02  3.62304398e-02 -2.09545717e-01\n",
            " -3.39913193e-02  1.76673958e-01  3.17117476e-01  2.82006597e-01\n",
            " -2.79767476e-01 -3.14878356e-01  7.13413194e-02 -2.44656597e-01]\n"
          ],
          "name": "stdout"
        }
      ]
    },
    {
      "cell_type": "markdown",
      "metadata": {
        "id": "KaTnsqi5i20W"
      },
      "source": [
        "Uzyskano wartość równą 0,70.  Uzyskana średnia bezwzględna wartość błędu odpowiada wartosci 36,7ppm (0,70 x pm10_std = 36,7). To bardzo duża średnia wartość błędu. WYDAJE MI SIE ZE TO ODCHYLENIE STANDARDOWE JEST BARDZO DUZE I MUSZA BYC JAKIES WARTOSCI ODSTAJACE NO I WARTOSC ODCHYLENIA STANDARDOWEGO BARDZO ZWIEKSZAJA ZERA  W DANYCH. DO TYCH ANALIZ ALBO TRZEBA USUNAC ZERA ALBO JE USREDNIC"
      ]
    },
    {
      "cell_type": "code",
      "metadata": {
        "id": "ZH_rhzkw_rDo",
        "colab": {
          "base_uri": "https://localhost:8080/",
          "height": 35
        },
        "outputId": "29e3aa87-e55f-4568-969d-b0f157da74f2"
      },
      "source": [
        "import keras\n",
        "keras.__version__"
      ],
      "execution_count": 40,
      "outputs": [
        {
          "output_type": "execute_result",
          "data": {
            "application/vnd.google.colaboratory.intrinsic+json": {
              "type": "string"
            },
            "text/plain": [
              "'2.4.3'"
            ]
          },
          "metadata": {
            "tags": []
          },
          "execution_count": 40
        }
      ]
    },
    {
      "cell_type": "code",
      "metadata": {
        "id": "4CLpHo8oARz4",
        "colab": {
          "base_uri": "https://localhost:8080/"
        },
        "outputId": "f007dba1-0e4c-4002-c2e7-237124d10af3"
      },
      "source": [
        "from keras.models import Sequential\n",
        "from keras import layers\n",
        "from keras.optimizers import RMSprop\n",
        "\n",
        "model = Sequential()\n",
        "model.add(layers.Flatten(input_shape=(lookback // step, float_data.shape[-1])))\n",
        "model.add(layers.Dense(32, activation='relu'))\n",
        "model.add(layers.Dense(1))\n",
        "\n",
        "model.compile(optimizer=RMSprop(), loss='mae')\n",
        "history = model.fit_generator(train_gen,\n",
        "                              steps_per_epoch=500,\n",
        "                              epochs=20,\n",
        "                              validation_data=val_gen,\n",
        "                              validation_steps=val_steps)"
      ],
      "execution_count": 41,
      "outputs": [
        {
          "output_type": "stream",
          "text": [
            "/usr/local/lib/python3.7/dist-packages/tensorflow/python/keras/engine/training.py:1844: UserWarning: `Model.fit_generator` is deprecated and will be removed in a future version. Please use `Model.fit`, which supports generators.\n",
            "  warnings.warn('`Model.fit_generator` is deprecated and '\n"
          ],
          "name": "stderr"
        },
        {
          "output_type": "stream",
          "text": [
            "Epoch 1/20\n",
            "500/500 [==============================] - 6s 5ms/step - loss: 0.3209 - val_loss: 0.4874\n",
            "Epoch 2/20\n",
            "500/500 [==============================] - 3s 5ms/step - loss: 0.2663 - val_loss: 0.4873\n",
            "Epoch 3/20\n",
            "500/500 [==============================] - 2s 5ms/step - loss: 0.2647 - val_loss: 0.4876\n",
            "Epoch 4/20\n",
            "500/500 [==============================] - 3s 5ms/step - loss: 0.2671 - val_loss: 0.4872\n",
            "Epoch 5/20\n",
            "500/500 [==============================] - 2s 5ms/step - loss: 0.2634 - val_loss: 0.4874\n",
            "Epoch 6/20\n",
            "500/500 [==============================] - 2s 5ms/step - loss: 0.2636 - val_loss: 0.4868\n",
            "Epoch 7/20\n",
            "500/500 [==============================] - 2s 5ms/step - loss: 0.2593 - val_loss: 0.4866\n",
            "Epoch 8/20\n",
            "500/500 [==============================] - 3s 5ms/step - loss: 0.2640 - val_loss: 0.4868\n",
            "Epoch 9/20\n",
            "500/500 [==============================] - 2s 5ms/step - loss: 0.2631 - val_loss: 0.4872\n",
            "Epoch 10/20\n",
            "500/500 [==============================] - 2s 5ms/step - loss: 0.2628 - val_loss: 0.4870\n",
            "Epoch 11/20\n",
            "500/500 [==============================] - 2s 5ms/step - loss: 0.2681 - val_loss: 0.4869\n",
            "Epoch 12/20\n",
            "500/500 [==============================] - 2s 5ms/step - loss: 0.2677 - val_loss: 0.4872\n",
            "Epoch 13/20\n",
            "500/500 [==============================] - 2s 5ms/step - loss: 0.2589 - val_loss: 0.4873\n",
            "Epoch 14/20\n",
            "500/500 [==============================] - 3s 5ms/step - loss: 0.2622 - val_loss: 0.4866\n",
            "Epoch 15/20\n",
            "500/500 [==============================] - 2s 5ms/step - loss: 0.2647 - val_loss: 0.4868\n",
            "Epoch 16/20\n",
            "500/500 [==============================] - 3s 5ms/step - loss: 0.2623 - val_loss: 0.4871\n",
            "Epoch 17/20\n",
            "500/500 [==============================] - 2s 5ms/step - loss: 0.2612 - val_loss: 0.4871\n",
            "Epoch 18/20\n",
            "500/500 [==============================] - 3s 5ms/step - loss: 0.2624 - val_loss: 0.4873\n",
            "Epoch 19/20\n",
            "500/500 [==============================] - 3s 5ms/step - loss: 0.2626 - val_loss: 0.4869\n",
            "Epoch 20/20\n",
            "500/500 [==============================] - 3s 5ms/step - loss: 0.2646 - val_loss: 0.4871\n"
          ],
          "name": "stdout"
        }
      ]
    },
    {
      "cell_type": "code",
      "metadata": {
        "colab": {
          "base_uri": "https://localhost:8080/",
          "height": 281
        },
        "id": "Xr4c85-yFxcx",
        "outputId": "49f5f533-57f7-433a-cd8d-3df29a66ac96"
      },
      "source": [
        "loss = history.history['loss']\n",
        "val_loss = history.history['val_loss']\n",
        "\n",
        "epochs = range(len(loss))\n",
        "\n",
        "plt.figure()\n",
        "\n",
        "plt.plot(epochs, loss, 'bo', label='Strata trenowania')\n",
        "plt.plot(epochs, val_loss, 'b', label='Strata walidacji')\n",
        "plt.title('Strata trenowania i walidacji')\n",
        "plt.legend()\n",
        "\n",
        "plt.show()"
      ],
      "execution_count": 42,
      "outputs": [
        {
          "output_type": "display_data",
          "data": {
            "image/png": "[encoded data removed]",
            "text/plain": [
              "<Figure size 432x288 with 1 Axes>"
            ]
          },
          "metadata": {
            "tags": [],
            "needs_background": "light"
          }
        }
      ]
    },
    {
      "cell_type": "code",
      "metadata": {
        "id": "zU0Gb28gkXAt"
      },
      "source": [
        ""
      ],
      "execution_count": null,
      "outputs": []
    },
    {
      "cell_type": "markdown",
      "metadata": {
        "id": "r-6veCG6km0U"
      },
      "source": [
        "Znacząco pokonaliśmy zdefiniowany wcześniej klasyfikator logiczny 0,7 będący naszym punktem odniesienia. Udowodniliśmy sensowność korzystania z uczenia maszynowego, a także wyższość w tego typu zadaniach sieci rekurencyjnych nad gęstymi sieciami spłaszczającymi sekwencje.\n",
        "\n",
        "Uzyskaliśmy średnią bezwzględna wartość błędu na poziomie ~0,4 (zanim model zaczął ulegać znacznemu przeuczeniu), co odpowiada średniej pomyłce o 0,4 X 52,52 = 21PPM. To wyraźna poprawa względem uzyskanej wcześniej wartości 36 PPM.\n"
      ]
    },
    {
      "cell_type": "markdown",
      "metadata": {
        "id": "4PLREqjXl1sw"
      },
      "source": [
        "PUNKT 7.3.2. GRU"
      ]
    },
    {
      "cell_type": "code",
      "metadata": {
        "colab": {
          "base_uri": "https://localhost:8080/"
        },
        "id": "1oT_jqO1GQIm",
        "outputId": "01f8b0bb-d42a-441f-d2c9-1adba6654cee"
      },
      "source": [
        "from keras.models import Sequential\n",
        "from keras import layers\n",
        "from keras.optimizers import RMSprop\n",
        "\n",
        "model = Sequential()\n",
        "model.add(layers.GRU(32, input_shape=(None, float_data.shape[-1])))\n",
        "model.add(layers.Dense(1))\n",
        "\n",
        "model.compile(optimizer=RMSprop(), loss='mae')\n",
        "history = model.fit_generator(train_gen,\n",
        "                              steps_per_epoch=500,\n",
        "                              epochs=20,\n",
        "                              validation_data=val_gen,\n",
        "                              validation_steps=val_steps)"
      ],
      "execution_count": 43,
      "outputs": [
        {
          "output_type": "stream",
          "text": [
            "/usr/local/lib/python3.7/dist-packages/tensorflow/python/keras/engine/training.py:1844: UserWarning: `Model.fit_generator` is deprecated and will be removed in a future version. Please use `Model.fit`, which supports generators.\n",
            "  warnings.warn('`Model.fit_generator` is deprecated and '\n"
          ],
          "name": "stderr"
        },
        {
          "output_type": "stream",
          "text": [
            "Epoch 1/20\n",
            "500/500 [==============================] - 33s 7ms/step - loss: nan - val_loss: nan\n",
            "Epoch 2/20\n",
            "500/500 [==============================] - 3s 6ms/step - loss: nan - val_loss: nan\n",
            "Epoch 3/20\n",
            "500/500 [==============================] - 3s 6ms/step - loss: nan - val_loss: nan\n",
            "Epoch 4/20\n",
            "500/500 [==============================] - 3s 6ms/step - loss: nan - val_loss: nan\n",
            "Epoch 5/20\n",
            "500/500 [==============================] - 3s 6ms/step - loss: nan - val_loss: nan\n",
            "Epoch 6/20\n",
            "500/500 [==============================] - 3s 6ms/step - loss: nan - val_loss: nan\n",
            "Epoch 7/20\n",
            "500/500 [==============================] - 3s 6ms/step - loss: nan - val_loss: nan\n",
            "Epoch 8/20\n",
            "500/500 [==============================] - 3s 6ms/step - loss: nan - val_loss: nan\n",
            "Epoch 9/20\n",
            "500/500 [==============================] - 3s 6ms/step - loss: nan - val_loss: nan\n",
            "Epoch 10/20\n",
            "500/500 [==============================] - 3s 6ms/step - loss: nan - val_loss: nan\n",
            "Epoch 11/20\n",
            "500/500 [==============================] - 3s 6ms/step - loss: nan - val_loss: nan\n",
            "Epoch 12/20\n",
            "500/500 [==============================] - 3s 6ms/step - loss: nan - val_loss: nan\n",
            "Epoch 13/20\n",
            "500/500 [==============================] - 3s 6ms/step - loss: nan - val_loss: nan\n",
            "Epoch 14/20\n",
            "500/500 [==============================] - 3s 6ms/step - loss: nan - val_loss: nan\n",
            "Epoch 15/20\n",
            "500/500 [==============================] - 3s 6ms/step - loss: nan - val_loss: nan\n",
            "Epoch 16/20\n",
            "500/500 [==============================] - 3s 6ms/step - loss: nan - val_loss: nan\n",
            "Epoch 17/20\n",
            "500/500 [==============================] - 3s 6ms/step - loss: nan - val_loss: nan\n",
            "Epoch 18/20\n",
            "500/500 [==============================] - 3s 6ms/step - loss: nan - val_loss: nan\n",
            "Epoch 19/20\n",
            "500/500 [==============================] - 3s 6ms/step - loss: nan - val_loss: nan\n",
            "Epoch 20/20\n",
            "500/500 [==============================] - 3s 6ms/step - loss: nan - val_loss: nan\n"
          ],
          "name": "stdout"
        }
      ]
    },
    {
      "cell_type": "code",
      "metadata": {
        "id": "KtTTUq_JHnRk"
      },
      "source": [
        "# loss = history.history['loss']\n",
        "# val_loss = history.history['val_loss']\n",
        "\n",
        "# epochs = range(len(loss))\n",
        "\n",
        "# plt.figure()\n",
        "\n",
        "# plt.plot(epochs, loss, 'bo', label='Strata trenowania')\n",
        "# plt.plot(epochs, val_loss, 'b', label='Strata walidacji')\n",
        "# plt.title('Strata trenowania i walidacji')\n",
        "# plt.legend()\n",
        "\n",
        "# plt.show()"
      ],
      "execution_count": null,
      "outputs": []
    },
    {
      "cell_type": "markdown",
      "metadata": {
        "id": "nhac8FPimNSd"
      },
      "source": [
        "WNIOSKI: FUNKCJA STRATY DLA WALODACJI I TRENOWANIA JEST ZBLIZONA, NIE DOCHODZI DO ZBYTNIEGO PRZEUCZENIA"
      ]
    },
    {
      "cell_type": "code",
      "metadata": {
        "id": "W1-Uu4BsH4aU"
      },
      "source": [
        "# from keras.models import Sequential\n",
        "# from keras import layers\n",
        "# from keras.optimizers import RMSprop\n",
        "\n",
        "# model = Sequential()\n",
        "# model.add(layers.GRU(32,\n",
        "#                      dropout=0.2,\n",
        "#                      recurrent_dropout=0.2,\n",
        "#                      input_shape=(None, float_data.shape[-1])))\n",
        "# model.add(layers.Dense(1))\n",
        "\n",
        "# model.compile(optimizer=RMSprop(), loss='mae')\n",
        "# history = model.fit_generator(train_gen,\n",
        "#                               steps_per_epoch=500,\n",
        "#                               epochs=40,\n",
        "#                               validation_data=val_gen,\n",
        "#                               validation_steps=val_steps)"
      ],
      "execution_count": null,
      "outputs": []
    },
    {
      "cell_type": "code",
      "metadata": {
        "id": "pueTSu2KTZFn"
      },
      "source": [
        "# loss = history.history['loss']\n",
        "# val_loss = history.history['val_loss']\n",
        "\n",
        "# epochs = range(len(loss))\n",
        "\n",
        "# plt.figure()\n",
        "\n",
        "# plt.plot(epochs, loss, 'bo', label='Strata trenowania')\n",
        "# plt.plot(epochs, val_loss, 'b', label='Strata walidacji')\n",
        "# plt.title('Strata trenowania i walidacji')\n",
        "# plt.legend()\n",
        "\n",
        "# plt.show()"
      ],
      "execution_count": null,
      "outputs": []
    }
  ]
}