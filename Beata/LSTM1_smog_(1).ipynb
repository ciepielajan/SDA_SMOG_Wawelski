{
  "nbformat": 4,
  "nbformat_minor": 0,
  "metadata": {
    "colab": {
      "name": "LSTM1_smog (1).ipynb",
      "provenance": [],
      "collapsed_sections": [],
      "include_colab_link": true
    },
    "kernelspec": {
      "name": "python3",
      "display_name": "Python 3"
    },
    "language_info": {
      "name": "python"
    },
    "accelerator": "GPU"
  },
  "cells": [
    {
      "cell_type": "markdown",
      "metadata": {
        "id": "view-in-github",
        "colab_type": "text"
      },
      "source": [
        "<a href=\"https://colab.research.google.com/github/ciepielajan/SDA_SMOG_Wawelski/blob/main/Beata/LSTM1_smog_(1).ipynb\" target=\"_parent\"><img src=\"https://colab.research.google.com/assets/colab-badge.svg\" alt=\"Open In Colab\"/></a>"
      ]
    },
    {
      "cell_type": "code",
      "metadata": {
        "id": "Nfj94afUS33k"
      },
      "source": [
        "import numpy as np\n",
        "import pandas as pd\n",
        "import matplotlib.pyplot as plt\n",
        "import glob\n",
        "import math\n",
        "import sklearn\n",
        "import keras\n",
        "import sklearn.preprocessing\n",
        "from sklearn.preprocessing import MinMaxScaler\n",
        "from sklearn.preprocessing import LabelEncoder\n",
        "import datetime\n",
        "import os\n",
        "import matplotlib.pyplot as plt\n",
        "import tensorflow as tf\n",
        "from sklearn.cluster import KMeans"
      ],
      "execution_count": null,
      "outputs": []
    },
    {
      "cell_type": "code",
      "metadata": {
        "colab": {
          "base_uri": "https://localhost:8080/"
        },
        "id": "NFeJOzFgTJoM",
        "outputId": "860e587d-4064-4ccb-c255-16805503d6b1"
      },
      "source": [
        "link = \"https://drive.google.com/file/d/1gwPP5TlL0zYHDkSjowfnR0DU8rsj1bTd/view?usp=sharing\"\n",
        "link_id = link.split(\"/\")[-2]\n",
        "!gdown --id $link_id\n",
        "!unzip smog1.zip"
      ],
      "execution_count": null,
      "outputs": [
        {
          "output_type": "stream",
          "text": [
            "Downloading...\n",
            "From: https://drive.google.com/uc?id=1gwPP5TlL0zYHDkSjowfnR0DU8rsj1bTd\n",
            "To: /content/smog1.zip\n",
            "\r0.00B [00:00, ?B/s]\r2.39MB [00:00, 76.7MB/s]\n",
            "Archive:  smog1.zip\n",
            "  inflating: april-2017.csv          \n",
            "  inflating: august-2017.csv         \n",
            "  inflating: december-2017.csv       \n",
            "  inflating: february-2017.csv       \n",
            "  inflating: january-2017.csv        \n",
            "  inflating: july-2017.csv           \n",
            "  inflating: june-2017.csv           \n",
            "  inflating: march-2017.csv          \n",
            "  inflating: may-2017.csv            \n",
            "  inflating: november-2017.csv       \n",
            "  inflating: october-2017.csv        \n",
            "  inflating: sensor_locations.csv    \n",
            "  inflating: september-2017.csv      \n"
          ],
          "name": "stdout"
        }
      ]
    },
    {
      "cell_type": "code",
      "metadata": {
        "id": "xugJ9FHFURa3"
      },
      "source": [
        "jan = pd.read_csv('january-2017.csv')\n",
        "feb = pd.read_csv('february-2017.csv')\n",
        "mar = pd.read_csv('march-2017.csv')\n",
        "apr = pd.read_csv('april-2017.csv')\n",
        "may = pd.read_csv('may-2017.csv')\n",
        "jun = pd.read_csv('june-2017.csv')\n",
        "jul = pd.read_csv('july-2017.csv')\n",
        "aug = pd.read_csv('august-2017.csv')\n",
        "sep = pd.read_csv('september-2017.csv')\n",
        "octo = pd.read_csv('october-2017.csv')\n",
        "nov = pd.read_csv('november-2017.csv')\n",
        "dec = pd.read_csv('december-2017.csv')"
      ],
      "execution_count": null,
      "outputs": []
    },
    {
      "cell_type": "code",
      "metadata": {
        "id": "ZpKpq_KMWMty"
      },
      "source": [
        "year = pd.concat([jan, feb, mar, apr, may, jun, jul, aug, sep, octo, nov, dec])"
      ],
      "execution_count": null,
      "outputs": []
    },
    {
      "cell_type": "code",
      "metadata": {
        "colab": {
          "base_uri": "https://localhost:8080/"
        },
        "id": "TIEfjgzXY8mF",
        "outputId": "d3caa0d7-c50e-4985-bbd3-23323826fe32"
      },
      "source": [
        "year.shape"
      ],
      "execution_count": null,
      "outputs": [
        {
          "output_type": "execute_result",
          "data": {
            "text/plain": [
              "(8593, 337)"
            ]
          },
          "metadata": {
            "tags": []
          },
          "execution_count": 5
        }
      ]
    },
    {
      "cell_type": "code",
      "metadata": {
        "colab": {
          "base_uri": "https://localhost:8080/",
          "height": 242
        },
        "id": "L7Jdil0xZBvb",
        "outputId": "6da67366-3ddb-4d51-ee1b-7cba4cb0de6e"
      },
      "source": [
        "year.head(3)"
      ],
      "execution_count": null,
      "outputs": [
        {
          "output_type": "execute_result",
          "data": {
            "text/html": [
              "<div>\n",
              "<style scoped>\n",
              "    .dataframe tbody tr th:only-of-type {\n",
              "        vertical-align: middle;\n",
              "    }\n",
              "\n",
              "    .dataframe tbody tr th {\n",
              "        vertical-align: top;\n",
              "    }\n",
              "\n",
              "    .dataframe thead th {\n",
              "        text-align: right;\n",
              "    }\n",
              "</style>\n",
              "<table border=\"1\" class=\"dataframe\">\n",
              "  <thead>\n",
              "    <tr style=\"text-align: right;\">\n",
              "      <th></th>\n",
              "      <th>UTC time</th>\n",
              "      <th>3_temperature</th>\n",
              "      <th>3_humidity</th>\n",
              "      <th>3_pressure</th>\n",
              "      <th>3_pm1</th>\n",
              "      <th>3_pm25</th>\n",
              "      <th>3_pm10</th>\n",
              "      <th>140_temperature</th>\n",
              "      <th>140_humidity</th>\n",
              "      <th>140_pressure</th>\n",
              "      <th>140_pm1</th>\n",
              "      <th>140_pm25</th>\n",
              "      <th>140_pm10</th>\n",
              "      <th>142_temperature</th>\n",
              "      <th>142_humidity</th>\n",
              "      <th>142_pressure</th>\n",
              "      <th>142_pm1</th>\n",
              "      <th>142_pm25</th>\n",
              "      <th>142_pm10</th>\n",
              "      <th>147_temperature</th>\n",
              "      <th>147_humidity</th>\n",
              "      <th>147_pressure</th>\n",
              "      <th>147_pm1</th>\n",
              "      <th>147_pm25</th>\n",
              "      <th>147_pm10</th>\n",
              "      <th>169_temperature</th>\n",
              "      <th>169_humidity</th>\n",
              "      <th>169_pressure</th>\n",
              "      <th>169_pm1</th>\n",
              "      <th>169_pm25</th>\n",
              "      <th>169_pm10</th>\n",
              "      <th>170_temperature</th>\n",
              "      <th>170_humidity</th>\n",
              "      <th>170_pressure</th>\n",
              "      <th>170_pm1</th>\n",
              "      <th>170_pm25</th>\n",
              "      <th>170_pm10</th>\n",
              "      <th>171_temperature</th>\n",
              "      <th>171_humidity</th>\n",
              "      <th>171_pressure</th>\n",
              "      <th>...</th>\n",
              "      <th>228_pressure</th>\n",
              "      <th>228_pm1</th>\n",
              "      <th>228_pm25</th>\n",
              "      <th>228_pm10</th>\n",
              "      <th>263_temperature</th>\n",
              "      <th>263_humidity</th>\n",
              "      <th>263_pressure</th>\n",
              "      <th>263_pm1</th>\n",
              "      <th>263_pm25</th>\n",
              "      <th>263_pm10</th>\n",
              "      <th>622_temperature</th>\n",
              "      <th>622_humidity</th>\n",
              "      <th>622_pressure</th>\n",
              "      <th>622_pm1</th>\n",
              "      <th>622_pm25</th>\n",
              "      <th>622_pm10</th>\n",
              "      <th>713_temperature</th>\n",
              "      <th>713_humidity</th>\n",
              "      <th>713_pressure</th>\n",
              "      <th>713_pm1</th>\n",
              "      <th>713_pm25</th>\n",
              "      <th>713_pm10</th>\n",
              "      <th>808_temperature</th>\n",
              "      <th>808_humidity</th>\n",
              "      <th>808_pressure</th>\n",
              "      <th>808_pm1</th>\n",
              "      <th>808_pm25</th>\n",
              "      <th>808_pm10</th>\n",
              "      <th>857_temperature</th>\n",
              "      <th>857_humidity</th>\n",
              "      <th>857_pressure</th>\n",
              "      <th>857_pm1</th>\n",
              "      <th>857_pm25</th>\n",
              "      <th>857_pm10</th>\n",
              "      <th>895_temperature</th>\n",
              "      <th>895_humidity</th>\n",
              "      <th>895_pressure</th>\n",
              "      <th>895_pm1</th>\n",
              "      <th>895_pm25</th>\n",
              "      <th>895_pm10</th>\n",
              "    </tr>\n",
              "  </thead>\n",
              "  <tbody>\n",
              "    <tr>\n",
              "      <th>0</th>\n",
              "      <td>2017-01-01T00:00:00</td>\n",
              "      <td>NaN</td>\n",
              "      <td>NaN</td>\n",
              "      <td>NaN</td>\n",
              "      <td>NaN</td>\n",
              "      <td>NaN</td>\n",
              "      <td>NaN</td>\n",
              "      <td>NaN</td>\n",
              "      <td>NaN</td>\n",
              "      <td>NaN</td>\n",
              "      <td>NaN</td>\n",
              "      <td>NaN</td>\n",
              "      <td>NaN</td>\n",
              "      <td>-4.0</td>\n",
              "      <td>68.0</td>\n",
              "      <td>102279.0</td>\n",
              "      <td>115.0</td>\n",
              "      <td>127.0</td>\n",
              "      <td>196.0</td>\n",
              "      <td>-3.0</td>\n",
              "      <td>57.0</td>\n",
              "      <td>102505.0</td>\n",
              "      <td>196.0</td>\n",
              "      <td>222.0</td>\n",
              "      <td>346.0</td>\n",
              "      <td>0.0</td>\n",
              "      <td>49.0</td>\n",
              "      <td>102689.0</td>\n",
              "      <td>124.0</td>\n",
              "      <td>145.0</td>\n",
              "      <td>229.0</td>\n",
              "      <td>2.0</td>\n",
              "      <td>25.0</td>\n",
              "      <td>102379.0</td>\n",
              "      <td>148.0</td>\n",
              "      <td>176.0</td>\n",
              "      <td>277.0</td>\n",
              "      <td>1.0</td>\n",
              "      <td>27.0</td>\n",
              "      <td>102437.0</td>\n",
              "      <td>...</td>\n",
              "      <td>102253.0</td>\n",
              "      <td>184.0</td>\n",
              "      <td>218.0</td>\n",
              "      <td>322.0</td>\n",
              "      <td>0.0</td>\n",
              "      <td>54.0</td>\n",
              "      <td>101672.0</td>\n",
              "      <td>137.0</td>\n",
              "      <td>153.0</td>\n",
              "      <td>235.0</td>\n",
              "      <td>NaN</td>\n",
              "      <td>NaN</td>\n",
              "      <td>NaN</td>\n",
              "      <td>NaN</td>\n",
              "      <td>NaN</td>\n",
              "      <td>NaN</td>\n",
              "      <td>NaN</td>\n",
              "      <td>NaN</td>\n",
              "      <td>NaN</td>\n",
              "      <td>NaN</td>\n",
              "      <td>NaN</td>\n",
              "      <td>NaN</td>\n",
              "      <td>NaN</td>\n",
              "      <td>NaN</td>\n",
              "      <td>NaN</td>\n",
              "      <td>NaN</td>\n",
              "      <td>NaN</td>\n",
              "      <td>NaN</td>\n",
              "      <td>NaN</td>\n",
              "      <td>NaN</td>\n",
              "      <td>NaN</td>\n",
              "      <td>NaN</td>\n",
              "      <td>NaN</td>\n",
              "      <td>NaN</td>\n",
              "      <td>NaN</td>\n",
              "      <td>NaN</td>\n",
              "      <td>NaN</td>\n",
              "      <td>NaN</td>\n",
              "      <td>NaN</td>\n",
              "      <td>NaN</td>\n",
              "    </tr>\n",
              "    <tr>\n",
              "      <th>1</th>\n",
              "      <td>2017-01-01T01:00:00</td>\n",
              "      <td>NaN</td>\n",
              "      <td>NaN</td>\n",
              "      <td>NaN</td>\n",
              "      <td>NaN</td>\n",
              "      <td>NaN</td>\n",
              "      <td>NaN</td>\n",
              "      <td>NaN</td>\n",
              "      <td>NaN</td>\n",
              "      <td>NaN</td>\n",
              "      <td>NaN</td>\n",
              "      <td>NaN</td>\n",
              "      <td>NaN</td>\n",
              "      <td>-5.0</td>\n",
              "      <td>68.0</td>\n",
              "      <td>102228.0</td>\n",
              "      <td>105.0</td>\n",
              "      <td>116.0</td>\n",
              "      <td>180.0</td>\n",
              "      <td>-3.0</td>\n",
              "      <td>56.0</td>\n",
              "      <td>102454.0</td>\n",
              "      <td>187.0</td>\n",
              "      <td>211.0</td>\n",
              "      <td>330.0</td>\n",
              "      <td>0.0</td>\n",
              "      <td>49.0</td>\n",
              "      <td>102635.0</td>\n",
              "      <td>124.0</td>\n",
              "      <td>145.0</td>\n",
              "      <td>230.0</td>\n",
              "      <td>1.0</td>\n",
              "      <td>25.0</td>\n",
              "      <td>102325.0</td>\n",
              "      <td>131.0</td>\n",
              "      <td>156.0</td>\n",
              "      <td>247.0</td>\n",
              "      <td>0.0</td>\n",
              "      <td>27.0</td>\n",
              "      <td>102387.0</td>\n",
              "      <td>...</td>\n",
              "      <td>102201.0</td>\n",
              "      <td>146.0</td>\n",
              "      <td>169.0</td>\n",
              "      <td>250.0</td>\n",
              "      <td>0.0</td>\n",
              "      <td>52.0</td>\n",
              "      <td>101623.0</td>\n",
              "      <td>119.0</td>\n",
              "      <td>132.0</td>\n",
              "      <td>203.0</td>\n",
              "      <td>NaN</td>\n",
              "      <td>NaN</td>\n",
              "      <td>NaN</td>\n",
              "      <td>NaN</td>\n",
              "      <td>NaN</td>\n",
              "      <td>NaN</td>\n",
              "      <td>NaN</td>\n",
              "      <td>NaN</td>\n",
              "      <td>NaN</td>\n",
              "      <td>NaN</td>\n",
              "      <td>NaN</td>\n",
              "      <td>NaN</td>\n",
              "      <td>NaN</td>\n",
              "      <td>NaN</td>\n",
              "      <td>NaN</td>\n",
              "      <td>NaN</td>\n",
              "      <td>NaN</td>\n",
              "      <td>NaN</td>\n",
              "      <td>NaN</td>\n",
              "      <td>NaN</td>\n",
              "      <td>NaN</td>\n",
              "      <td>NaN</td>\n",
              "      <td>NaN</td>\n",
              "      <td>NaN</td>\n",
              "      <td>NaN</td>\n",
              "      <td>NaN</td>\n",
              "      <td>NaN</td>\n",
              "      <td>NaN</td>\n",
              "      <td>NaN</td>\n",
              "      <td>NaN</td>\n",
              "    </tr>\n",
              "    <tr>\n",
              "      <th>2</th>\n",
              "      <td>2017-01-01T02:00:00</td>\n",
              "      <td>NaN</td>\n",
              "      <td>NaN</td>\n",
              "      <td>NaN</td>\n",
              "      <td>NaN</td>\n",
              "      <td>NaN</td>\n",
              "      <td>NaN</td>\n",
              "      <td>NaN</td>\n",
              "      <td>NaN</td>\n",
              "      <td>NaN</td>\n",
              "      <td>NaN</td>\n",
              "      <td>NaN</td>\n",
              "      <td>NaN</td>\n",
              "      <td>-5.0</td>\n",
              "      <td>66.0</td>\n",
              "      <td>102149.0</td>\n",
              "      <td>110.0</td>\n",
              "      <td>121.0</td>\n",
              "      <td>189.0</td>\n",
              "      <td>-4.0</td>\n",
              "      <td>55.0</td>\n",
              "      <td>102375.0</td>\n",
              "      <td>187.0</td>\n",
              "      <td>212.0</td>\n",
              "      <td>333.0</td>\n",
              "      <td>0.0</td>\n",
              "      <td>49.0</td>\n",
              "      <td>102558.0</td>\n",
              "      <td>108.0</td>\n",
              "      <td>125.0</td>\n",
              "      <td>201.0</td>\n",
              "      <td>1.0</td>\n",
              "      <td>24.0</td>\n",
              "      <td>102244.0</td>\n",
              "      <td>108.0</td>\n",
              "      <td>127.0</td>\n",
              "      <td>203.0</td>\n",
              "      <td>1.0</td>\n",
              "      <td>27.0</td>\n",
              "      <td>102310.0</td>\n",
              "      <td>...</td>\n",
              "      <td>102119.0</td>\n",
              "      <td>138.0</td>\n",
              "      <td>160.0</td>\n",
              "      <td>237.0</td>\n",
              "      <td>0.0</td>\n",
              "      <td>49.0</td>\n",
              "      <td>101536.0</td>\n",
              "      <td>97.0</td>\n",
              "      <td>105.0</td>\n",
              "      <td>162.0</td>\n",
              "      <td>NaN</td>\n",
              "      <td>NaN</td>\n",
              "      <td>NaN</td>\n",
              "      <td>NaN</td>\n",
              "      <td>NaN</td>\n",
              "      <td>NaN</td>\n",
              "      <td>NaN</td>\n",
              "      <td>NaN</td>\n",
              "      <td>NaN</td>\n",
              "      <td>NaN</td>\n",
              "      <td>NaN</td>\n",
              "      <td>NaN</td>\n",
              "      <td>NaN</td>\n",
              "      <td>NaN</td>\n",
              "      <td>NaN</td>\n",
              "      <td>NaN</td>\n",
              "      <td>NaN</td>\n",
              "      <td>NaN</td>\n",
              "      <td>NaN</td>\n",
              "      <td>NaN</td>\n",
              "      <td>NaN</td>\n",
              "      <td>NaN</td>\n",
              "      <td>NaN</td>\n",
              "      <td>NaN</td>\n",
              "      <td>NaN</td>\n",
              "      <td>NaN</td>\n",
              "      <td>NaN</td>\n",
              "      <td>NaN</td>\n",
              "      <td>NaN</td>\n",
              "      <td>NaN</td>\n",
              "    </tr>\n",
              "  </tbody>\n",
              "</table>\n",
              "<p>3 rows × 337 columns</p>\n",
              "</div>"
            ],
            "text/plain": [
              "              UTC time  3_temperature  3_humidity  ...  895_pm1  895_pm25  895_pm10\n",
              "0  2017-01-01T00:00:00            NaN         NaN  ...      NaN       NaN       NaN\n",
              "1  2017-01-01T01:00:00            NaN         NaN  ...      NaN       NaN       NaN\n",
              "2  2017-01-01T02:00:00            NaN         NaN  ...      NaN       NaN       NaN\n",
              "\n",
              "[3 rows x 337 columns]"
            ]
          },
          "metadata": {
            "tags": []
          },
          "execution_count": 6
        }
      ]
    },
    {
      "cell_type": "code",
      "metadata": {
        "id": "1AdDtUyOZHzY"
      },
      "source": [
        "sensors = pd.read_csv(\"sensor_locations.csv\")"
      ],
      "execution_count": null,
      "outputs": []
    },
    {
      "cell_type": "code",
      "metadata": {
        "id": "MMikzcsqZWdA"
      },
      "source": [
        "year[\"UTC time\"] = pd.to_datetime(year[\"UTC time\"], format=\"%Y-%m-%dT%H:%M:%S\")\n"
      ],
      "execution_count": null,
      "outputs": []
    },
    {
      "cell_type": "code",
      "metadata": {
        "colab": {
          "base_uri": "https://localhost:8080/",
          "height": 310
        },
        "id": "x4cQ1_CrZzx-",
        "outputId": "c572152d-d323-4937-cc2c-6ede01e9b923"
      },
      "source": [
        "year.head(3)"
      ],
      "execution_count": null,
      "outputs": [
        {
          "output_type": "execute_result",
          "data": {
            "text/html": [
              "<div>\n",
              "<style scoped>\n",
              "    .dataframe tbody tr th:only-of-type {\n",
              "        vertical-align: middle;\n",
              "    }\n",
              "\n",
              "    .dataframe tbody tr th {\n",
              "        vertical-align: top;\n",
              "    }\n",
              "\n",
              "    .dataframe thead th {\n",
              "        text-align: right;\n",
              "    }\n",
              "</style>\n",
              "<table border=\"1\" class=\"dataframe\">\n",
              "  <thead>\n",
              "    <tr style=\"text-align: right;\">\n",
              "      <th></th>\n",
              "      <th>UTC time</th>\n",
              "      <th>3_temperature</th>\n",
              "      <th>3_humidity</th>\n",
              "      <th>3_pressure</th>\n",
              "      <th>3_pm1</th>\n",
              "      <th>3_pm25</th>\n",
              "      <th>3_pm10</th>\n",
              "      <th>140_temperature</th>\n",
              "      <th>140_humidity</th>\n",
              "      <th>140_pressure</th>\n",
              "      <th>140_pm1</th>\n",
              "      <th>140_pm25</th>\n",
              "      <th>140_pm10</th>\n",
              "      <th>142_temperature</th>\n",
              "      <th>142_humidity</th>\n",
              "      <th>142_pressure</th>\n",
              "      <th>142_pm1</th>\n",
              "      <th>142_pm25</th>\n",
              "      <th>142_pm10</th>\n",
              "      <th>147_temperature</th>\n",
              "      <th>147_humidity</th>\n",
              "      <th>147_pressure</th>\n",
              "      <th>147_pm1</th>\n",
              "      <th>147_pm25</th>\n",
              "      <th>147_pm10</th>\n",
              "      <th>169_temperature</th>\n",
              "      <th>169_humidity</th>\n",
              "      <th>169_pressure</th>\n",
              "      <th>169_pm1</th>\n",
              "      <th>169_pm25</th>\n",
              "      <th>169_pm10</th>\n",
              "      <th>170_temperature</th>\n",
              "      <th>170_humidity</th>\n",
              "      <th>170_pressure</th>\n",
              "      <th>170_pm1</th>\n",
              "      <th>170_pm25</th>\n",
              "      <th>170_pm10</th>\n",
              "      <th>171_temperature</th>\n",
              "      <th>171_humidity</th>\n",
              "      <th>171_pressure</th>\n",
              "      <th>...</th>\n",
              "      <th>228_pressure</th>\n",
              "      <th>228_pm1</th>\n",
              "      <th>228_pm25</th>\n",
              "      <th>228_pm10</th>\n",
              "      <th>263_temperature</th>\n",
              "      <th>263_humidity</th>\n",
              "      <th>263_pressure</th>\n",
              "      <th>263_pm1</th>\n",
              "      <th>263_pm25</th>\n",
              "      <th>263_pm10</th>\n",
              "      <th>622_temperature</th>\n",
              "      <th>622_humidity</th>\n",
              "      <th>622_pressure</th>\n",
              "      <th>622_pm1</th>\n",
              "      <th>622_pm25</th>\n",
              "      <th>622_pm10</th>\n",
              "      <th>713_temperature</th>\n",
              "      <th>713_humidity</th>\n",
              "      <th>713_pressure</th>\n",
              "      <th>713_pm1</th>\n",
              "      <th>713_pm25</th>\n",
              "      <th>713_pm10</th>\n",
              "      <th>808_temperature</th>\n",
              "      <th>808_humidity</th>\n",
              "      <th>808_pressure</th>\n",
              "      <th>808_pm1</th>\n",
              "      <th>808_pm25</th>\n",
              "      <th>808_pm10</th>\n",
              "      <th>857_temperature</th>\n",
              "      <th>857_humidity</th>\n",
              "      <th>857_pressure</th>\n",
              "      <th>857_pm1</th>\n",
              "      <th>857_pm25</th>\n",
              "      <th>857_pm10</th>\n",
              "      <th>895_temperature</th>\n",
              "      <th>895_humidity</th>\n",
              "      <th>895_pressure</th>\n",
              "      <th>895_pm1</th>\n",
              "      <th>895_pm25</th>\n",
              "      <th>895_pm10</th>\n",
              "    </tr>\n",
              "  </thead>\n",
              "  <tbody>\n",
              "    <tr>\n",
              "      <th>0</th>\n",
              "      <td>2017-01-01 00:00:00</td>\n",
              "      <td>NaN</td>\n",
              "      <td>NaN</td>\n",
              "      <td>NaN</td>\n",
              "      <td>NaN</td>\n",
              "      <td>NaN</td>\n",
              "      <td>NaN</td>\n",
              "      <td>NaN</td>\n",
              "      <td>NaN</td>\n",
              "      <td>NaN</td>\n",
              "      <td>NaN</td>\n",
              "      <td>NaN</td>\n",
              "      <td>NaN</td>\n",
              "      <td>-4.0</td>\n",
              "      <td>68.0</td>\n",
              "      <td>102279.0</td>\n",
              "      <td>115.0</td>\n",
              "      <td>127.0</td>\n",
              "      <td>196.0</td>\n",
              "      <td>-3.0</td>\n",
              "      <td>57.0</td>\n",
              "      <td>102505.0</td>\n",
              "      <td>196.0</td>\n",
              "      <td>222.0</td>\n",
              "      <td>346.0</td>\n",
              "      <td>0.0</td>\n",
              "      <td>49.0</td>\n",
              "      <td>102689.0</td>\n",
              "      <td>124.0</td>\n",
              "      <td>145.0</td>\n",
              "      <td>229.0</td>\n",
              "      <td>2.0</td>\n",
              "      <td>25.0</td>\n",
              "      <td>102379.0</td>\n",
              "      <td>148.0</td>\n",
              "      <td>176.0</td>\n",
              "      <td>277.0</td>\n",
              "      <td>1.0</td>\n",
              "      <td>27.0</td>\n",
              "      <td>102437.0</td>\n",
              "      <td>...</td>\n",
              "      <td>102253.0</td>\n",
              "      <td>184.0</td>\n",
              "      <td>218.0</td>\n",
              "      <td>322.0</td>\n",
              "      <td>0.0</td>\n",
              "      <td>54.0</td>\n",
              "      <td>101672.0</td>\n",
              "      <td>137.0</td>\n",
              "      <td>153.0</td>\n",
              "      <td>235.0</td>\n",
              "      <td>NaN</td>\n",
              "      <td>NaN</td>\n",
              "      <td>NaN</td>\n",
              "      <td>NaN</td>\n",
              "      <td>NaN</td>\n",
              "      <td>NaN</td>\n",
              "      <td>NaN</td>\n",
              "      <td>NaN</td>\n",
              "      <td>NaN</td>\n",
              "      <td>NaN</td>\n",
              "      <td>NaN</td>\n",
              "      <td>NaN</td>\n",
              "      <td>NaN</td>\n",
              "      <td>NaN</td>\n",
              "      <td>NaN</td>\n",
              "      <td>NaN</td>\n",
              "      <td>NaN</td>\n",
              "      <td>NaN</td>\n",
              "      <td>NaN</td>\n",
              "      <td>NaN</td>\n",
              "      <td>NaN</td>\n",
              "      <td>NaN</td>\n",
              "      <td>NaN</td>\n",
              "      <td>NaN</td>\n",
              "      <td>NaN</td>\n",
              "      <td>NaN</td>\n",
              "      <td>NaN</td>\n",
              "      <td>NaN</td>\n",
              "      <td>NaN</td>\n",
              "      <td>NaN</td>\n",
              "    </tr>\n",
              "    <tr>\n",
              "      <th>1</th>\n",
              "      <td>2017-01-01 01:00:00</td>\n",
              "      <td>NaN</td>\n",
              "      <td>NaN</td>\n",
              "      <td>NaN</td>\n",
              "      <td>NaN</td>\n",
              "      <td>NaN</td>\n",
              "      <td>NaN</td>\n",
              "      <td>NaN</td>\n",
              "      <td>NaN</td>\n",
              "      <td>NaN</td>\n",
              "      <td>NaN</td>\n",
              "      <td>NaN</td>\n",
              "      <td>NaN</td>\n",
              "      <td>-5.0</td>\n",
              "      <td>68.0</td>\n",
              "      <td>102228.0</td>\n",
              "      <td>105.0</td>\n",
              "      <td>116.0</td>\n",
              "      <td>180.0</td>\n",
              "      <td>-3.0</td>\n",
              "      <td>56.0</td>\n",
              "      <td>102454.0</td>\n",
              "      <td>187.0</td>\n",
              "      <td>211.0</td>\n",
              "      <td>330.0</td>\n",
              "      <td>0.0</td>\n",
              "      <td>49.0</td>\n",
              "      <td>102635.0</td>\n",
              "      <td>124.0</td>\n",
              "      <td>145.0</td>\n",
              "      <td>230.0</td>\n",
              "      <td>1.0</td>\n",
              "      <td>25.0</td>\n",
              "      <td>102325.0</td>\n",
              "      <td>131.0</td>\n",
              "      <td>156.0</td>\n",
              "      <td>247.0</td>\n",
              "      <td>0.0</td>\n",
              "      <td>27.0</td>\n",
              "      <td>102387.0</td>\n",
              "      <td>...</td>\n",
              "      <td>102201.0</td>\n",
              "      <td>146.0</td>\n",
              "      <td>169.0</td>\n",
              "      <td>250.0</td>\n",
              "      <td>0.0</td>\n",
              "      <td>52.0</td>\n",
              "      <td>101623.0</td>\n",
              "      <td>119.0</td>\n",
              "      <td>132.0</td>\n",
              "      <td>203.0</td>\n",
              "      <td>NaN</td>\n",
              "      <td>NaN</td>\n",
              "      <td>NaN</td>\n",
              "      <td>NaN</td>\n",
              "      <td>NaN</td>\n",
              "      <td>NaN</td>\n",
              "      <td>NaN</td>\n",
              "      <td>NaN</td>\n",
              "      <td>NaN</td>\n",
              "      <td>NaN</td>\n",
              "      <td>NaN</td>\n",
              "      <td>NaN</td>\n",
              "      <td>NaN</td>\n",
              "      <td>NaN</td>\n",
              "      <td>NaN</td>\n",
              "      <td>NaN</td>\n",
              "      <td>NaN</td>\n",
              "      <td>NaN</td>\n",
              "      <td>NaN</td>\n",
              "      <td>NaN</td>\n",
              "      <td>NaN</td>\n",
              "      <td>NaN</td>\n",
              "      <td>NaN</td>\n",
              "      <td>NaN</td>\n",
              "      <td>NaN</td>\n",
              "      <td>NaN</td>\n",
              "      <td>NaN</td>\n",
              "      <td>NaN</td>\n",
              "      <td>NaN</td>\n",
              "      <td>NaN</td>\n",
              "    </tr>\n",
              "    <tr>\n",
              "      <th>2</th>\n",
              "      <td>2017-01-01 02:00:00</td>\n",
              "      <td>NaN</td>\n",
              "      <td>NaN</td>\n",
              "      <td>NaN</td>\n",
              "      <td>NaN</td>\n",
              "      <td>NaN</td>\n",
              "      <td>NaN</td>\n",
              "      <td>NaN</td>\n",
              "      <td>NaN</td>\n",
              "      <td>NaN</td>\n",
              "      <td>NaN</td>\n",
              "      <td>NaN</td>\n",
              "      <td>NaN</td>\n",
              "      <td>-5.0</td>\n",
              "      <td>66.0</td>\n",
              "      <td>102149.0</td>\n",
              "      <td>110.0</td>\n",
              "      <td>121.0</td>\n",
              "      <td>189.0</td>\n",
              "      <td>-4.0</td>\n",
              "      <td>55.0</td>\n",
              "      <td>102375.0</td>\n",
              "      <td>187.0</td>\n",
              "      <td>212.0</td>\n",
              "      <td>333.0</td>\n",
              "      <td>0.0</td>\n",
              "      <td>49.0</td>\n",
              "      <td>102558.0</td>\n",
              "      <td>108.0</td>\n",
              "      <td>125.0</td>\n",
              "      <td>201.0</td>\n",
              "      <td>1.0</td>\n",
              "      <td>24.0</td>\n",
              "      <td>102244.0</td>\n",
              "      <td>108.0</td>\n",
              "      <td>127.0</td>\n",
              "      <td>203.0</td>\n",
              "      <td>1.0</td>\n",
              "      <td>27.0</td>\n",
              "      <td>102310.0</td>\n",
              "      <td>...</td>\n",
              "      <td>102119.0</td>\n",
              "      <td>138.0</td>\n",
              "      <td>160.0</td>\n",
              "      <td>237.0</td>\n",
              "      <td>0.0</td>\n",
              "      <td>49.0</td>\n",
              "      <td>101536.0</td>\n",
              "      <td>97.0</td>\n",
              "      <td>105.0</td>\n",
              "      <td>162.0</td>\n",
              "      <td>NaN</td>\n",
              "      <td>NaN</td>\n",
              "      <td>NaN</td>\n",
              "      <td>NaN</td>\n",
              "      <td>NaN</td>\n",
              "      <td>NaN</td>\n",
              "      <td>NaN</td>\n",
              "      <td>NaN</td>\n",
              "      <td>NaN</td>\n",
              "      <td>NaN</td>\n",
              "      <td>NaN</td>\n",
              "      <td>NaN</td>\n",
              "      <td>NaN</td>\n",
              "      <td>NaN</td>\n",
              "      <td>NaN</td>\n",
              "      <td>NaN</td>\n",
              "      <td>NaN</td>\n",
              "      <td>NaN</td>\n",
              "      <td>NaN</td>\n",
              "      <td>NaN</td>\n",
              "      <td>NaN</td>\n",
              "      <td>NaN</td>\n",
              "      <td>NaN</td>\n",
              "      <td>NaN</td>\n",
              "      <td>NaN</td>\n",
              "      <td>NaN</td>\n",
              "      <td>NaN</td>\n",
              "      <td>NaN</td>\n",
              "      <td>NaN</td>\n",
              "      <td>NaN</td>\n",
              "    </tr>\n",
              "  </tbody>\n",
              "</table>\n",
              "<p>3 rows × 337 columns</p>\n",
              "</div>"
            ],
            "text/plain": [
              "             UTC time  3_temperature  3_humidity  ...  895_pm1  895_pm25  895_pm10\n",
              "0 2017-01-01 00:00:00            NaN         NaN  ...      NaN       NaN       NaN\n",
              "1 2017-01-01 01:00:00            NaN         NaN  ...      NaN       NaN       NaN\n",
              "2 2017-01-01 02:00:00            NaN         NaN  ...      NaN       NaN       NaN\n",
              "\n",
              "[3 rows x 337 columns]"
            ]
          },
          "metadata": {
            "tags": []
          },
          "execution_count": 9
        }
      ]
    },
    {
      "cell_type": "code",
      "metadata": {
        "colab": {
          "base_uri": "https://localhost:8080/"
        },
        "id": "l9SroZH3Z3OP",
        "outputId": "6685f2cf-c7f0-4339-89e9-ed83c48d7e67"
      },
      "source": [
        "year.shape"
      ],
      "execution_count": null,
      "outputs": [
        {
          "output_type": "execute_result",
          "data": {
            "text/plain": [
              "(8593, 337)"
            ]
          },
          "metadata": {
            "tags": []
          },
          "execution_count": 10
        }
      ]
    },
    {
      "cell_type": "code",
      "metadata": {
        "id": "XIAkHXvuaA22"
      },
      "source": [
        "year = year.set_index(\"UTC time\")"
      ],
      "execution_count": null,
      "outputs": []
    },
    {
      "cell_type": "code",
      "metadata": {
        "colab": {
          "base_uri": "https://localhost:8080/",
          "height": 194
        },
        "id": "QYxswtfDaDAd",
        "outputId": "eafce5a8-a5ca-4fd7-82e5-40297a6882c9"
      },
      "source": [
        "year.head(1)"
      ],
      "execution_count": null,
      "outputs": [
        {
          "output_type": "execute_result",
          "data": {
            "text/html": [
              "<div>\n",
              "<style scoped>\n",
              "    .dataframe tbody tr th:only-of-type {\n",
              "        vertical-align: middle;\n",
              "    }\n",
              "\n",
              "    .dataframe tbody tr th {\n",
              "        vertical-align: top;\n",
              "    }\n",
              "\n",
              "    .dataframe thead th {\n",
              "        text-align: right;\n",
              "    }\n",
              "</style>\n",
              "<table border=\"1\" class=\"dataframe\">\n",
              "  <thead>\n",
              "    <tr style=\"text-align: right;\">\n",
              "      <th></th>\n",
              "      <th>3_temperature</th>\n",
              "      <th>3_humidity</th>\n",
              "      <th>3_pressure</th>\n",
              "      <th>3_pm1</th>\n",
              "      <th>3_pm25</th>\n",
              "      <th>3_pm10</th>\n",
              "      <th>140_temperature</th>\n",
              "      <th>140_humidity</th>\n",
              "      <th>140_pressure</th>\n",
              "      <th>140_pm1</th>\n",
              "      <th>140_pm25</th>\n",
              "      <th>140_pm10</th>\n",
              "      <th>142_temperature</th>\n",
              "      <th>142_humidity</th>\n",
              "      <th>142_pressure</th>\n",
              "      <th>142_pm1</th>\n",
              "      <th>142_pm25</th>\n",
              "      <th>142_pm10</th>\n",
              "      <th>147_temperature</th>\n",
              "      <th>147_humidity</th>\n",
              "      <th>147_pressure</th>\n",
              "      <th>147_pm1</th>\n",
              "      <th>147_pm25</th>\n",
              "      <th>147_pm10</th>\n",
              "      <th>169_temperature</th>\n",
              "      <th>169_humidity</th>\n",
              "      <th>169_pressure</th>\n",
              "      <th>169_pm1</th>\n",
              "      <th>169_pm25</th>\n",
              "      <th>169_pm10</th>\n",
              "      <th>170_temperature</th>\n",
              "      <th>170_humidity</th>\n",
              "      <th>170_pressure</th>\n",
              "      <th>170_pm1</th>\n",
              "      <th>170_pm25</th>\n",
              "      <th>170_pm10</th>\n",
              "      <th>171_temperature</th>\n",
              "      <th>171_humidity</th>\n",
              "      <th>171_pressure</th>\n",
              "      <th>171_pm1</th>\n",
              "      <th>...</th>\n",
              "      <th>228_pressure</th>\n",
              "      <th>228_pm1</th>\n",
              "      <th>228_pm25</th>\n",
              "      <th>228_pm10</th>\n",
              "      <th>263_temperature</th>\n",
              "      <th>263_humidity</th>\n",
              "      <th>263_pressure</th>\n",
              "      <th>263_pm1</th>\n",
              "      <th>263_pm25</th>\n",
              "      <th>263_pm10</th>\n",
              "      <th>622_temperature</th>\n",
              "      <th>622_humidity</th>\n",
              "      <th>622_pressure</th>\n",
              "      <th>622_pm1</th>\n",
              "      <th>622_pm25</th>\n",
              "      <th>622_pm10</th>\n",
              "      <th>713_temperature</th>\n",
              "      <th>713_humidity</th>\n",
              "      <th>713_pressure</th>\n",
              "      <th>713_pm1</th>\n",
              "      <th>713_pm25</th>\n",
              "      <th>713_pm10</th>\n",
              "      <th>808_temperature</th>\n",
              "      <th>808_humidity</th>\n",
              "      <th>808_pressure</th>\n",
              "      <th>808_pm1</th>\n",
              "      <th>808_pm25</th>\n",
              "      <th>808_pm10</th>\n",
              "      <th>857_temperature</th>\n",
              "      <th>857_humidity</th>\n",
              "      <th>857_pressure</th>\n",
              "      <th>857_pm1</th>\n",
              "      <th>857_pm25</th>\n",
              "      <th>857_pm10</th>\n",
              "      <th>895_temperature</th>\n",
              "      <th>895_humidity</th>\n",
              "      <th>895_pressure</th>\n",
              "      <th>895_pm1</th>\n",
              "      <th>895_pm25</th>\n",
              "      <th>895_pm10</th>\n",
              "    </tr>\n",
              "    <tr>\n",
              "      <th>UTC time</th>\n",
              "      <th></th>\n",
              "      <th></th>\n",
              "      <th></th>\n",
              "      <th></th>\n",
              "      <th></th>\n",
              "      <th></th>\n",
              "      <th></th>\n",
              "      <th></th>\n",
              "      <th></th>\n",
              "      <th></th>\n",
              "      <th></th>\n",
              "      <th></th>\n",
              "      <th></th>\n",
              "      <th></th>\n",
              "      <th></th>\n",
              "      <th></th>\n",
              "      <th></th>\n",
              "      <th></th>\n",
              "      <th></th>\n",
              "      <th></th>\n",
              "      <th></th>\n",
              "      <th></th>\n",
              "      <th></th>\n",
              "      <th></th>\n",
              "      <th></th>\n",
              "      <th></th>\n",
              "      <th></th>\n",
              "      <th></th>\n",
              "      <th></th>\n",
              "      <th></th>\n",
              "      <th></th>\n",
              "      <th></th>\n",
              "      <th></th>\n",
              "      <th></th>\n",
              "      <th></th>\n",
              "      <th></th>\n",
              "      <th></th>\n",
              "      <th></th>\n",
              "      <th></th>\n",
              "      <th></th>\n",
              "      <th></th>\n",
              "      <th></th>\n",
              "      <th></th>\n",
              "      <th></th>\n",
              "      <th></th>\n",
              "      <th></th>\n",
              "      <th></th>\n",
              "      <th></th>\n",
              "      <th></th>\n",
              "      <th></th>\n",
              "      <th></th>\n",
              "      <th></th>\n",
              "      <th></th>\n",
              "      <th></th>\n",
              "      <th></th>\n",
              "      <th></th>\n",
              "      <th></th>\n",
              "      <th></th>\n",
              "      <th></th>\n",
              "      <th></th>\n",
              "      <th></th>\n",
              "      <th></th>\n",
              "      <th></th>\n",
              "      <th></th>\n",
              "      <th></th>\n",
              "      <th></th>\n",
              "      <th></th>\n",
              "      <th></th>\n",
              "      <th></th>\n",
              "      <th></th>\n",
              "      <th></th>\n",
              "      <th></th>\n",
              "      <th></th>\n",
              "      <th></th>\n",
              "      <th></th>\n",
              "      <th></th>\n",
              "      <th></th>\n",
              "      <th></th>\n",
              "      <th></th>\n",
              "      <th></th>\n",
              "      <th></th>\n",
              "    </tr>\n",
              "  </thead>\n",
              "  <tbody>\n",
              "    <tr>\n",
              "      <th>2017-01-01</th>\n",
              "      <td>NaN</td>\n",
              "      <td>NaN</td>\n",
              "      <td>NaN</td>\n",
              "      <td>NaN</td>\n",
              "      <td>NaN</td>\n",
              "      <td>NaN</td>\n",
              "      <td>NaN</td>\n",
              "      <td>NaN</td>\n",
              "      <td>NaN</td>\n",
              "      <td>NaN</td>\n",
              "      <td>NaN</td>\n",
              "      <td>NaN</td>\n",
              "      <td>-4.0</td>\n",
              "      <td>68.0</td>\n",
              "      <td>102279.0</td>\n",
              "      <td>115.0</td>\n",
              "      <td>127.0</td>\n",
              "      <td>196.0</td>\n",
              "      <td>-3.0</td>\n",
              "      <td>57.0</td>\n",
              "      <td>102505.0</td>\n",
              "      <td>196.0</td>\n",
              "      <td>222.0</td>\n",
              "      <td>346.0</td>\n",
              "      <td>0.0</td>\n",
              "      <td>49.0</td>\n",
              "      <td>102689.0</td>\n",
              "      <td>124.0</td>\n",
              "      <td>145.0</td>\n",
              "      <td>229.0</td>\n",
              "      <td>2.0</td>\n",
              "      <td>25.0</td>\n",
              "      <td>102379.0</td>\n",
              "      <td>148.0</td>\n",
              "      <td>176.0</td>\n",
              "      <td>277.0</td>\n",
              "      <td>1.0</td>\n",
              "      <td>27.0</td>\n",
              "      <td>102437.0</td>\n",
              "      <td>147.0</td>\n",
              "      <td>...</td>\n",
              "      <td>102253.0</td>\n",
              "      <td>184.0</td>\n",
              "      <td>218.0</td>\n",
              "      <td>322.0</td>\n",
              "      <td>0.0</td>\n",
              "      <td>54.0</td>\n",
              "      <td>101672.0</td>\n",
              "      <td>137.0</td>\n",
              "      <td>153.0</td>\n",
              "      <td>235.0</td>\n",
              "      <td>NaN</td>\n",
              "      <td>NaN</td>\n",
              "      <td>NaN</td>\n",
              "      <td>NaN</td>\n",
              "      <td>NaN</td>\n",
              "      <td>NaN</td>\n",
              "      <td>NaN</td>\n",
              "      <td>NaN</td>\n",
              "      <td>NaN</td>\n",
              "      <td>NaN</td>\n",
              "      <td>NaN</td>\n",
              "      <td>NaN</td>\n",
              "      <td>NaN</td>\n",
              "      <td>NaN</td>\n",
              "      <td>NaN</td>\n",
              "      <td>NaN</td>\n",
              "      <td>NaN</td>\n",
              "      <td>NaN</td>\n",
              "      <td>NaN</td>\n",
              "      <td>NaN</td>\n",
              "      <td>NaN</td>\n",
              "      <td>NaN</td>\n",
              "      <td>NaN</td>\n",
              "      <td>NaN</td>\n",
              "      <td>NaN</td>\n",
              "      <td>NaN</td>\n",
              "      <td>NaN</td>\n",
              "      <td>NaN</td>\n",
              "      <td>NaN</td>\n",
              "      <td>NaN</td>\n",
              "    </tr>\n",
              "  </tbody>\n",
              "</table>\n",
              "<p>1 rows × 336 columns</p>\n",
              "</div>"
            ],
            "text/plain": [
              "            3_temperature  3_humidity  3_pressure  ...  895_pm1  895_pm25  895_pm10\n",
              "UTC time                                           ...                             \n",
              "2017-01-01            NaN         NaN         NaN  ...      NaN       NaN       NaN\n",
              "\n",
              "[1 rows x 336 columns]"
            ]
          },
          "metadata": {
            "tags": []
          },
          "execution_count": 12
        }
      ]
    },
    {
      "cell_type": "code",
      "metadata": {
        "id": "78aJ8wMxgxg8"
      },
      "source": [
        "df2= year.groupby(year.columns.str.split('_').str[0], axis=1)"
      ],
      "execution_count": null,
      "outputs": []
    },
    {
      "cell_type": "code",
      "metadata": {
        "id": "5hicT37Dg9-w"
      },
      "source": [
        "new_df = pd.DataFrame()"
      ],
      "execution_count": null,
      "outputs": []
    },
    {
      "cell_type": "code",
      "metadata": {
        "id": "xeG8FS0sg1bs"
      },
      "source": [
        "for i in df2:\n",
        "  old = i[1].columns\n",
        "  new = i[1].columns.str.split(\"_\").str[1]\n",
        "  zmiana = { k:v  for k,v in zip(old,new)}\n",
        "  i[1].rename(columns=zmiana,inplace=True)\n",
        "  i[1][\"id\"] = i[0]\n",
        "  new_df = new_df.append(i[1])"
      ],
      "execution_count": null,
      "outputs": []
    },
    {
      "cell_type": "code",
      "metadata": {
        "colab": {
          "base_uri": "https://localhost:8080/",
          "height": 450
        },
        "id": "epKPm3wHhEkC",
        "outputId": "56637e4f-9121-4f91-9d2f-aeb91f6b542a"
      },
      "source": [
        "new_df"
      ],
      "execution_count": null,
      "outputs": [
        {
          "output_type": "execute_result",
          "data": {
            "text/html": [
              "<div>\n",
              "<style scoped>\n",
              "    .dataframe tbody tr th:only-of-type {\n",
              "        vertical-align: middle;\n",
              "    }\n",
              "\n",
              "    .dataframe tbody tr th {\n",
              "        vertical-align: top;\n",
              "    }\n",
              "\n",
              "    .dataframe thead th {\n",
              "        text-align: right;\n",
              "    }\n",
              "</style>\n",
              "<table border=\"1\" class=\"dataframe\">\n",
              "  <thead>\n",
              "    <tr style=\"text-align: right;\">\n",
              "      <th></th>\n",
              "      <th>temperature</th>\n",
              "      <th>humidity</th>\n",
              "      <th>pressure</th>\n",
              "      <th>pm1</th>\n",
              "      <th>pm25</th>\n",
              "      <th>pm10</th>\n",
              "      <th>id</th>\n",
              "    </tr>\n",
              "    <tr>\n",
              "      <th>UTC time</th>\n",
              "      <th></th>\n",
              "      <th></th>\n",
              "      <th></th>\n",
              "      <th></th>\n",
              "      <th></th>\n",
              "      <th></th>\n",
              "      <th></th>\n",
              "    </tr>\n",
              "  </thead>\n",
              "  <tbody>\n",
              "    <tr>\n",
              "      <th>2017-01-01 00:00:00</th>\n",
              "      <td>NaN</td>\n",
              "      <td>NaN</td>\n",
              "      <td>NaN</td>\n",
              "      <td>NaN</td>\n",
              "      <td>NaN</td>\n",
              "      <td>NaN</td>\n",
              "      <td>140</td>\n",
              "    </tr>\n",
              "    <tr>\n",
              "      <th>2017-01-01 01:00:00</th>\n",
              "      <td>NaN</td>\n",
              "      <td>NaN</td>\n",
              "      <td>NaN</td>\n",
              "      <td>NaN</td>\n",
              "      <td>NaN</td>\n",
              "      <td>NaN</td>\n",
              "      <td>140</td>\n",
              "    </tr>\n",
              "    <tr>\n",
              "      <th>2017-01-01 02:00:00</th>\n",
              "      <td>NaN</td>\n",
              "      <td>NaN</td>\n",
              "      <td>NaN</td>\n",
              "      <td>NaN</td>\n",
              "      <td>NaN</td>\n",
              "      <td>NaN</td>\n",
              "      <td>140</td>\n",
              "    </tr>\n",
              "    <tr>\n",
              "      <th>2017-01-01 03:00:00</th>\n",
              "      <td>NaN</td>\n",
              "      <td>NaN</td>\n",
              "      <td>NaN</td>\n",
              "      <td>NaN</td>\n",
              "      <td>NaN</td>\n",
              "      <td>NaN</td>\n",
              "      <td>140</td>\n",
              "    </tr>\n",
              "    <tr>\n",
              "      <th>2017-01-01 04:00:00</th>\n",
              "      <td>NaN</td>\n",
              "      <td>NaN</td>\n",
              "      <td>NaN</td>\n",
              "      <td>NaN</td>\n",
              "      <td>NaN</td>\n",
              "      <td>NaN</td>\n",
              "      <td>140</td>\n",
              "    </tr>\n",
              "    <tr>\n",
              "      <th>...</th>\n",
              "      <td>...</td>\n",
              "      <td>...</td>\n",
              "      <td>...</td>\n",
              "      <td>...</td>\n",
              "      <td>...</td>\n",
              "      <td>...</td>\n",
              "      <td>...</td>\n",
              "    </tr>\n",
              "    <tr>\n",
              "      <th>2017-12-24 20:00:00</th>\n",
              "      <td>5.0</td>\n",
              "      <td>85.0</td>\n",
              "      <td>101798.0</td>\n",
              "      <td>13.0</td>\n",
              "      <td>15.0</td>\n",
              "      <td>26.0</td>\n",
              "      <td>895</td>\n",
              "    </tr>\n",
              "    <tr>\n",
              "      <th>2017-12-24 21:00:00</th>\n",
              "      <td>5.0</td>\n",
              "      <td>85.0</td>\n",
              "      <td>101840.0</td>\n",
              "      <td>12.0</td>\n",
              "      <td>13.0</td>\n",
              "      <td>23.0</td>\n",
              "      <td>895</td>\n",
              "    </tr>\n",
              "    <tr>\n",
              "      <th>2017-12-24 22:00:00</th>\n",
              "      <td>5.0</td>\n",
              "      <td>82.0</td>\n",
              "      <td>101839.0</td>\n",
              "      <td>10.0</td>\n",
              "      <td>12.0</td>\n",
              "      <td>21.0</td>\n",
              "      <td>895</td>\n",
              "    </tr>\n",
              "    <tr>\n",
              "      <th>2017-12-24 23:00:00</th>\n",
              "      <td>5.0</td>\n",
              "      <td>85.0</td>\n",
              "      <td>101837.0</td>\n",
              "      <td>10.0</td>\n",
              "      <td>12.0</td>\n",
              "      <td>21.0</td>\n",
              "      <td>895</td>\n",
              "    </tr>\n",
              "    <tr>\n",
              "      <th>2017-12-25 00:00:00</th>\n",
              "      <td>5.0</td>\n",
              "      <td>85.0</td>\n",
              "      <td>101840.0</td>\n",
              "      <td>10.0</td>\n",
              "      <td>11.0</td>\n",
              "      <td>20.0</td>\n",
              "      <td>895</td>\n",
              "    </tr>\n",
              "  </tbody>\n",
              "</table>\n",
              "<p>481208 rows × 7 columns</p>\n",
              "</div>"
            ],
            "text/plain": [
              "                     temperature  humidity  pressure   pm1  pm25  pm10   id\n",
              "UTC time                                                                   \n",
              "2017-01-01 00:00:00          NaN       NaN       NaN   NaN   NaN   NaN  140\n",
              "2017-01-01 01:00:00          NaN       NaN       NaN   NaN   NaN   NaN  140\n",
              "2017-01-01 02:00:00          NaN       NaN       NaN   NaN   NaN   NaN  140\n",
              "2017-01-01 03:00:00          NaN       NaN       NaN   NaN   NaN   NaN  140\n",
              "2017-01-01 04:00:00          NaN       NaN       NaN   NaN   NaN   NaN  140\n",
              "...                          ...       ...       ...   ...   ...   ...  ...\n",
              "2017-12-24 20:00:00          5.0      85.0  101798.0  13.0  15.0  26.0  895\n",
              "2017-12-24 21:00:00          5.0      85.0  101840.0  12.0  13.0  23.0  895\n",
              "2017-12-24 22:00:00          5.0      82.0  101839.0  10.0  12.0  21.0  895\n",
              "2017-12-24 23:00:00          5.0      85.0  101837.0  10.0  12.0  21.0  895\n",
              "2017-12-25 00:00:00          5.0      85.0  101840.0  10.0  11.0  20.0  895\n",
              "\n",
              "[481208 rows x 7 columns]"
            ]
          },
          "metadata": {
            "tags": []
          },
          "execution_count": 16
        }
      ]
    },
    {
      "cell_type": "code",
      "metadata": {
        "id": "LiBLicz3FRZc"
      },
      "source": [
        "new_df[\"id\"] = new_df[\"id\"].astype(int)\n",
        "sensors[\"id\"] = sensors[\"id\"].astype(int)"
      ],
      "execution_count": null,
      "outputs": []
    },
    {
      "cell_type": "code",
      "metadata": {
        "colab": {
          "base_uri": "https://localhost:8080/",
          "height": 204
        },
        "id": "K9xpGCgoIuZt",
        "outputId": "9fec3770-98b2-48ee-d2ec-6061edf70073"
      },
      "source": [
        "new_df = new_df.reset_index()\n",
        "new_df.head()"
      ],
      "execution_count": null,
      "outputs": [
        {
          "output_type": "execute_result",
          "data": {
            "text/html": [
              "<div>\n",
              "<style scoped>\n",
              "    .dataframe tbody tr th:only-of-type {\n",
              "        vertical-align: middle;\n",
              "    }\n",
              "\n",
              "    .dataframe tbody tr th {\n",
              "        vertical-align: top;\n",
              "    }\n",
              "\n",
              "    .dataframe thead th {\n",
              "        text-align: right;\n",
              "    }\n",
              "</style>\n",
              "<table border=\"1\" class=\"dataframe\">\n",
              "  <thead>\n",
              "    <tr style=\"text-align: right;\">\n",
              "      <th></th>\n",
              "      <th>UTC time</th>\n",
              "      <th>temperature</th>\n",
              "      <th>humidity</th>\n",
              "      <th>pressure</th>\n",
              "      <th>pm1</th>\n",
              "      <th>pm25</th>\n",
              "      <th>pm10</th>\n",
              "      <th>id</th>\n",
              "    </tr>\n",
              "  </thead>\n",
              "  <tbody>\n",
              "    <tr>\n",
              "      <th>0</th>\n",
              "      <td>2017-01-01 00:00:00</td>\n",
              "      <td>NaN</td>\n",
              "      <td>NaN</td>\n",
              "      <td>NaN</td>\n",
              "      <td>NaN</td>\n",
              "      <td>NaN</td>\n",
              "      <td>NaN</td>\n",
              "      <td>140</td>\n",
              "    </tr>\n",
              "    <tr>\n",
              "      <th>1</th>\n",
              "      <td>2017-01-01 01:00:00</td>\n",
              "      <td>NaN</td>\n",
              "      <td>NaN</td>\n",
              "      <td>NaN</td>\n",
              "      <td>NaN</td>\n",
              "      <td>NaN</td>\n",
              "      <td>NaN</td>\n",
              "      <td>140</td>\n",
              "    </tr>\n",
              "    <tr>\n",
              "      <th>2</th>\n",
              "      <td>2017-01-01 02:00:00</td>\n",
              "      <td>NaN</td>\n",
              "      <td>NaN</td>\n",
              "      <td>NaN</td>\n",
              "      <td>NaN</td>\n",
              "      <td>NaN</td>\n",
              "      <td>NaN</td>\n",
              "      <td>140</td>\n",
              "    </tr>\n",
              "    <tr>\n",
              "      <th>3</th>\n",
              "      <td>2017-01-01 03:00:00</td>\n",
              "      <td>NaN</td>\n",
              "      <td>NaN</td>\n",
              "      <td>NaN</td>\n",
              "      <td>NaN</td>\n",
              "      <td>NaN</td>\n",
              "      <td>NaN</td>\n",
              "      <td>140</td>\n",
              "    </tr>\n",
              "    <tr>\n",
              "      <th>4</th>\n",
              "      <td>2017-01-01 04:00:00</td>\n",
              "      <td>NaN</td>\n",
              "      <td>NaN</td>\n",
              "      <td>NaN</td>\n",
              "      <td>NaN</td>\n",
              "      <td>NaN</td>\n",
              "      <td>NaN</td>\n",
              "      <td>140</td>\n",
              "    </tr>\n",
              "  </tbody>\n",
              "</table>\n",
              "</div>"
            ],
            "text/plain": [
              "             UTC time  temperature  humidity  pressure  pm1  pm25  pm10   id\n",
              "0 2017-01-01 00:00:00          NaN       NaN       NaN  NaN   NaN   NaN  140\n",
              "1 2017-01-01 01:00:00          NaN       NaN       NaN  NaN   NaN   NaN  140\n",
              "2 2017-01-01 02:00:00          NaN       NaN       NaN  NaN   NaN   NaN  140\n",
              "3 2017-01-01 03:00:00          NaN       NaN       NaN  NaN   NaN   NaN  140\n",
              "4 2017-01-01 04:00:00          NaN       NaN       NaN  NaN   NaN   NaN  140"
            ]
          },
          "metadata": {
            "tags": []
          },
          "execution_count": 18
        }
      ]
    },
    {
      "cell_type": "code",
      "metadata": {
        "colab": {
          "base_uri": "https://localhost:8080/",
          "height": 419
        },
        "id": "kKXTsfBUIzM5",
        "outputId": "9ba45cda-17cf-4510-f276-c4b7eb00d167"
      },
      "source": [
        "geo_df = new_df.merge(sensors, how='left', on='id')\n",
        "geo_df"
      ],
      "execution_count": null,
      "outputs": [
        {
          "output_type": "execute_result",
          "data": {
            "text/html": [
              "<div>\n",
              "<style scoped>\n",
              "    .dataframe tbody tr th:only-of-type {\n",
              "        vertical-align: middle;\n",
              "    }\n",
              "\n",
              "    .dataframe tbody tr th {\n",
              "        vertical-align: top;\n",
              "    }\n",
              "\n",
              "    .dataframe thead th {\n",
              "        text-align: right;\n",
              "    }\n",
              "</style>\n",
              "<table border=\"1\" class=\"dataframe\">\n",
              "  <thead>\n",
              "    <tr style=\"text-align: right;\">\n",
              "      <th></th>\n",
              "      <th>UTC time</th>\n",
              "      <th>temperature</th>\n",
              "      <th>humidity</th>\n",
              "      <th>pressure</th>\n",
              "      <th>pm1</th>\n",
              "      <th>pm25</th>\n",
              "      <th>pm10</th>\n",
              "      <th>id</th>\n",
              "      <th>latitude</th>\n",
              "      <th>longitude</th>\n",
              "    </tr>\n",
              "  </thead>\n",
              "  <tbody>\n",
              "    <tr>\n",
              "      <th>0</th>\n",
              "      <td>2017-01-01 00:00:00</td>\n",
              "      <td>NaN</td>\n",
              "      <td>NaN</td>\n",
              "      <td>NaN</td>\n",
              "      <td>NaN</td>\n",
              "      <td>NaN</td>\n",
              "      <td>NaN</td>\n",
              "      <td>140</td>\n",
              "      <td>50.057747</td>\n",
              "      <td>19.961374</td>\n",
              "    </tr>\n",
              "    <tr>\n",
              "      <th>1</th>\n",
              "      <td>2017-01-01 01:00:00</td>\n",
              "      <td>NaN</td>\n",
              "      <td>NaN</td>\n",
              "      <td>NaN</td>\n",
              "      <td>NaN</td>\n",
              "      <td>NaN</td>\n",
              "      <td>NaN</td>\n",
              "      <td>140</td>\n",
              "      <td>50.057747</td>\n",
              "      <td>19.961374</td>\n",
              "    </tr>\n",
              "    <tr>\n",
              "      <th>2</th>\n",
              "      <td>2017-01-01 02:00:00</td>\n",
              "      <td>NaN</td>\n",
              "      <td>NaN</td>\n",
              "      <td>NaN</td>\n",
              "      <td>NaN</td>\n",
              "      <td>NaN</td>\n",
              "      <td>NaN</td>\n",
              "      <td>140</td>\n",
              "      <td>50.057747</td>\n",
              "      <td>19.961374</td>\n",
              "    </tr>\n",
              "    <tr>\n",
              "      <th>3</th>\n",
              "      <td>2017-01-01 03:00:00</td>\n",
              "      <td>NaN</td>\n",
              "      <td>NaN</td>\n",
              "      <td>NaN</td>\n",
              "      <td>NaN</td>\n",
              "      <td>NaN</td>\n",
              "      <td>NaN</td>\n",
              "      <td>140</td>\n",
              "      <td>50.057747</td>\n",
              "      <td>19.961374</td>\n",
              "    </tr>\n",
              "    <tr>\n",
              "      <th>4</th>\n",
              "      <td>2017-01-01 04:00:00</td>\n",
              "      <td>NaN</td>\n",
              "      <td>NaN</td>\n",
              "      <td>NaN</td>\n",
              "      <td>NaN</td>\n",
              "      <td>NaN</td>\n",
              "      <td>NaN</td>\n",
              "      <td>140</td>\n",
              "      <td>50.057747</td>\n",
              "      <td>19.961374</td>\n",
              "    </tr>\n",
              "    <tr>\n",
              "      <th>...</th>\n",
              "      <td>...</td>\n",
              "      <td>...</td>\n",
              "      <td>...</td>\n",
              "      <td>...</td>\n",
              "      <td>...</td>\n",
              "      <td>...</td>\n",
              "      <td>...</td>\n",
              "      <td>...</td>\n",
              "      <td>...</td>\n",
              "      <td>...</td>\n",
              "    </tr>\n",
              "    <tr>\n",
              "      <th>481203</th>\n",
              "      <td>2017-12-24 20:00:00</td>\n",
              "      <td>5.0</td>\n",
              "      <td>85.0</td>\n",
              "      <td>101798.0</td>\n",
              "      <td>13.0</td>\n",
              "      <td>15.0</td>\n",
              "      <td>26.0</td>\n",
              "      <td>895</td>\n",
              "      <td>50.084966</td>\n",
              "      <td>19.877998</td>\n",
              "    </tr>\n",
              "    <tr>\n",
              "      <th>481204</th>\n",
              "      <td>2017-12-24 21:00:00</td>\n",
              "      <td>5.0</td>\n",
              "      <td>85.0</td>\n",
              "      <td>101840.0</td>\n",
              "      <td>12.0</td>\n",
              "      <td>13.0</td>\n",
              "      <td>23.0</td>\n",
              "      <td>895</td>\n",
              "      <td>50.084966</td>\n",
              "      <td>19.877998</td>\n",
              "    </tr>\n",
              "    <tr>\n",
              "      <th>481205</th>\n",
              "      <td>2017-12-24 22:00:00</td>\n",
              "      <td>5.0</td>\n",
              "      <td>82.0</td>\n",
              "      <td>101839.0</td>\n",
              "      <td>10.0</td>\n",
              "      <td>12.0</td>\n",
              "      <td>21.0</td>\n",
              "      <td>895</td>\n",
              "      <td>50.084966</td>\n",
              "      <td>19.877998</td>\n",
              "    </tr>\n",
              "    <tr>\n",
              "      <th>481206</th>\n",
              "      <td>2017-12-24 23:00:00</td>\n",
              "      <td>5.0</td>\n",
              "      <td>85.0</td>\n",
              "      <td>101837.0</td>\n",
              "      <td>10.0</td>\n",
              "      <td>12.0</td>\n",
              "      <td>21.0</td>\n",
              "      <td>895</td>\n",
              "      <td>50.084966</td>\n",
              "      <td>19.877998</td>\n",
              "    </tr>\n",
              "    <tr>\n",
              "      <th>481207</th>\n",
              "      <td>2017-12-25 00:00:00</td>\n",
              "      <td>5.0</td>\n",
              "      <td>85.0</td>\n",
              "      <td>101840.0</td>\n",
              "      <td>10.0</td>\n",
              "      <td>11.0</td>\n",
              "      <td>20.0</td>\n",
              "      <td>895</td>\n",
              "      <td>50.084966</td>\n",
              "      <td>19.877998</td>\n",
              "    </tr>\n",
              "  </tbody>\n",
              "</table>\n",
              "<p>481208 rows × 10 columns</p>\n",
              "</div>"
            ],
            "text/plain": [
              "                  UTC time  temperature  humidity  ...   id   latitude  longitude\n",
              "0      2017-01-01 00:00:00          NaN       NaN  ...  140  50.057747  19.961374\n",
              "1      2017-01-01 01:00:00          NaN       NaN  ...  140  50.057747  19.961374\n",
              "2      2017-01-01 02:00:00          NaN       NaN  ...  140  50.057747  19.961374\n",
              "3      2017-01-01 03:00:00          NaN       NaN  ...  140  50.057747  19.961374\n",
              "4      2017-01-01 04:00:00          NaN       NaN  ...  140  50.057747  19.961374\n",
              "...                    ...          ...       ...  ...  ...        ...        ...\n",
              "481203 2017-12-24 20:00:00          5.0      85.0  ...  895  50.084966  19.877998\n",
              "481204 2017-12-24 21:00:00          5.0      85.0  ...  895  50.084966  19.877998\n",
              "481205 2017-12-24 22:00:00          5.0      82.0  ...  895  50.084966  19.877998\n",
              "481206 2017-12-24 23:00:00          5.0      85.0  ...  895  50.084966  19.877998\n",
              "481207 2017-12-25 00:00:00          5.0      85.0  ...  895  50.084966  19.877998\n",
              "\n",
              "[481208 rows x 10 columns]"
            ]
          },
          "metadata": {
            "tags": []
          },
          "execution_count": 19
        }
      ]
    },
    {
      "cell_type": "code",
      "metadata": {
        "id": "_ei0NYZuJB84"
      },
      "source": [
        "from numpy import nan\n",
        "from sklearn.utils import resample\n",
        "from sklearn.model_selection import train_test_split, GridSearchCV\n",
        "from sklearn.pipeline import Pipeline\n",
        "from sklearn.svm import SVC\n",
        "from sklearn.linear_model import LinearRegression\n",
        "from sklearn.metrics import accuracy_score, precision_score, recall_score, f1_score \n",
        "from sklearn.metrics import confusion_matrix, classification_report\n",
        "from sklearn.metrics import classification_report, confusion_matrix\n",
        "import seaborn as sns"
      ],
      "execution_count": null,
      "outputs": []
    },
    {
      "cell_type": "code",
      "metadata": {
        "colab": {
          "base_uri": "https://localhost:8080/",
          "height": 80
        },
        "id": "GCABmcc4ThSG",
        "outputId": "9264ae6b-9cbc-4154-a2f1-23620a4fa2ea"
      },
      "source": [
        "geo_df.head(1)"
      ],
      "execution_count": null,
      "outputs": [
        {
          "output_type": "execute_result",
          "data": {
            "text/html": [
              "<div>\n",
              "<style scoped>\n",
              "    .dataframe tbody tr th:only-of-type {\n",
              "        vertical-align: middle;\n",
              "    }\n",
              "\n",
              "    .dataframe tbody tr th {\n",
              "        vertical-align: top;\n",
              "    }\n",
              "\n",
              "    .dataframe thead th {\n",
              "        text-align: right;\n",
              "    }\n",
              "</style>\n",
              "<table border=\"1\" class=\"dataframe\">\n",
              "  <thead>\n",
              "    <tr style=\"text-align: right;\">\n",
              "      <th></th>\n",
              "      <th>UTC time</th>\n",
              "      <th>temperature</th>\n",
              "      <th>humidity</th>\n",
              "      <th>pressure</th>\n",
              "      <th>pm1</th>\n",
              "      <th>pm25</th>\n",
              "      <th>pm10</th>\n",
              "      <th>id</th>\n",
              "      <th>latitude</th>\n",
              "      <th>longitude</th>\n",
              "    </tr>\n",
              "  </thead>\n",
              "  <tbody>\n",
              "    <tr>\n",
              "      <th>0</th>\n",
              "      <td>2017-01-01</td>\n",
              "      <td>NaN</td>\n",
              "      <td>NaN</td>\n",
              "      <td>NaN</td>\n",
              "      <td>NaN</td>\n",
              "      <td>NaN</td>\n",
              "      <td>NaN</td>\n",
              "      <td>140</td>\n",
              "      <td>50.057747</td>\n",
              "      <td>19.961374</td>\n",
              "    </tr>\n",
              "  </tbody>\n",
              "</table>\n",
              "</div>"
            ],
            "text/plain": [
              "    UTC time  temperature  humidity  pressure  ...  pm10   id   latitude  longitude\n",
              "0 2017-01-01          NaN       NaN       NaN  ...   NaN  140  50.057747  19.961374\n",
              "\n",
              "[1 rows x 10 columns]"
            ]
          },
          "metadata": {
            "tags": []
          },
          "execution_count": 21
        }
      ]
    },
    {
      "cell_type": "code",
      "metadata": {
        "colab": {
          "base_uri": "https://localhost:8080/"
        },
        "id": "FAewAKEOTlSR",
        "outputId": "10cf2637-69bd-43aa-eb97-ebd26f6d73ad"
      },
      "source": [
        "geo_df.isnull().sum()"
      ],
      "execution_count": null,
      "outputs": [
        {
          "output_type": "execute_result",
          "data": {
            "text/plain": [
              "UTC time            0\n",
              "temperature    109558\n",
              "humidity       109638\n",
              "pressure       172529\n",
              "pm1             92854\n",
              "pm25            92835\n",
              "pm10            92832\n",
              "id                  0\n",
              "latitude            0\n",
              "longitude           0\n",
              "dtype: int64"
            ]
          },
          "metadata": {
            "tags": []
          },
          "execution_count": 22
        }
      ]
    },
    {
      "cell_type": "code",
      "metadata": {
        "id": "uxudjsVKWDzF"
      },
      "source": [
        "# PUNKT 7\n",
        "# 7.1 REGRESJA LINIOWA"
      ],
      "execution_count": null,
      "outputs": []
    },
    {
      "cell_type": "code",
      "metadata": {
        "id": "oj-WXl9XV4HF"
      },
      "source": [
        "# PIERWSZA PROBA MODELOWANIA REGRESJA LINIOWA.\n",
        "# BEZ USUWANIA NAN, BEZ USREDNIANIA NAN, BEZ UWZGLEDNIANIA CZASU. TYLKO MONITORING I WSPOLRZEDNE DO PREDYKCJI"
      ],
      "execution_count": null,
      "outputs": []
    },
    {
      "cell_type": "code",
      "metadata": {
        "id": "yIPX6jjRJ7KK"
      },
      "source": [
        "geo_df = geo_df.replace({nan:0})"
      ],
      "execution_count": null,
      "outputs": []
    },
    {
      "cell_type": "code",
      "metadata": {
        "id": "HJf7rNmLKKdT"
      },
      "source": [
        "X = geo_df[['temperature', 'humidity', 'pressure', 'latitude', 'longitude' ]]\n",
        "y = geo_df['pm10']\n"
      ],
      "execution_count": null,
      "outputs": []
    },
    {
      "cell_type": "code",
      "metadata": {
        "id": "GsxcSJ4RProp"
      },
      "source": [
        "X = X.values"
      ],
      "execution_count": null,
      "outputs": []
    },
    {
      "cell_type": "code",
      "metadata": {
        "id": "oy2Cr4SBPtju"
      },
      "source": [
        "y = y.values"
      ],
      "execution_count": null,
      "outputs": []
    },
    {
      "cell_type": "code",
      "metadata": {
        "id": "IjY2s1slM2pQ"
      },
      "source": [
        "X_train, X_test, y_train, y_test = train_test_split(X, y, test_size=0.24, random_state=42)"
      ],
      "execution_count": null,
      "outputs": []
    },
    {
      "cell_type": "code",
      "metadata": {
        "colab": {
          "base_uri": "https://localhost:8080/"
        },
        "id": "bKByuxgIKM_O",
        "outputId": "c2c9f829-2e25-4e10-ab86-1876853b0aee"
      },
      "source": [
        "\n",
        "\n",
        "linear_regression = LinearRegression()\n",
        "linear_regression.fit(X_train, y_train)"
      ],
      "execution_count": null,
      "outputs": [
        {
          "output_type": "execute_result",
          "data": {
            "text/plain": [
              "LinearRegression(copy_X=True, fit_intercept=True, n_jobs=None, normalize=False)"
            ]
          },
          "metadata": {
            "tags": []
          },
          "execution_count": 30
        }
      ]
    },
    {
      "cell_type": "code",
      "metadata": {
        "id": "hExkmXizRbOe"
      },
      "source": [
        "y_pred = linear_regression.predict(X_test)"
      ],
      "execution_count": null,
      "outputs": []
    },
    {
      "cell_type": "code",
      "metadata": {
        "colab": {
          "base_uri": "https://localhost:8080/"
        },
        "id": "andWgiWjSCPO",
        "outputId": "fe02e9ef-9a4f-4bf8-d6cc-18c59d6d73a8"
      },
      "source": [
        "y_pred"
      ],
      "execution_count": null,
      "outputs": [
        {
          "output_type": "execute_result",
          "data": {
            "text/plain": [
              "array([ 36.27827405,  64.94619771,  32.67470927, ..., -11.00975079,\n",
              "       -11.29744028,  28.43380237])"
            ]
          },
          "metadata": {
            "tags": []
          },
          "execution_count": 32
        }
      ]
    },
    {
      "cell_type": "code",
      "metadata": {
        "id": "SWHvkkJ0TeNx"
      },
      "source": [
        "id=1\n",
        "linear_regression_prediction = linear_regression.predict(X_test[id,:].reshape(1,-1))"
      ],
      "execution_count": null,
      "outputs": []
    },
    {
      "cell_type": "code",
      "metadata": {
        "colab": {
          "base_uri": "https://localhost:8080/"
        },
        "id": "13cxFJZST6V5",
        "outputId": "373b8656-b765-40bf-9c7a-7269a9f84f40"
      },
      "source": [
        "print(\"Model predicted for  {0} value {1}\".format(id, linear_regression_prediction))"
      ],
      "execution_count": null,
      "outputs": [
        {
          "output_type": "stream",
          "text": [
            "Model predicted for  1 value [64.94619771]\n"
          ],
          "name": "stdout"
        }
      ]
    },
    {
      "cell_type": "code",
      "metadata": {
        "colab": {
          "base_uri": "https://localhost:8080/"
        },
        "id": "ziibtFAAUTuK",
        "outputId": "2f2a0192-e9e2-4fca-8a4b-0453ebe236fc"
      },
      "source": [
        "print(\"Real value for  \\\"{0}\\\" is {1}\".format(id, y_test[id]))"
      ],
      "execution_count": null,
      "outputs": [
        {
          "output_type": "stream",
          "text": [
            "Real value for  \"1\" is 25.0\n"
          ],
          "name": "stdout"
        }
      ]
    },
    {
      "cell_type": "code",
      "metadata": {
        "id": "fgpIVHwBWw6b"
      },
      "source": [
        "# WNIOSKI: MODEL POMYLIL SIE O PONAD 50%"
      ],
      "execution_count": null,
      "outputs": []
    },
    {
      "cell_type": "code",
      "metadata": {
        "colab": {
          "base_uri": "https://localhost:8080/"
        },
        "id": "9VRrm8SyXFo4",
        "outputId": "bfd2c4c9-eaea-46b1-be11-83a2751190ab"
      },
      "source": [
        "print('Coefficients of a learned model: \\n', linear_regression.coef_)"
      ],
      "execution_count": null,
      "outputs": [
        {
          "output_type": "stream",
          "text": [
            "Coefficients of a learned model: \n",
            " [-2.25229025e+00  6.10121588e-03  3.42436750e-04 -3.38278297e+01\n",
            "  4.03833159e+01]\n"
          ],
          "name": "stdout"
        }
      ]
    },
    {
      "cell_type": "code",
      "metadata": {
        "colab": {
          "base_uri": "https://localhost:8080/"
        },
        "id": "iSuw8OgMXIQQ",
        "outputId": "3f8915b0-5d6c-42cc-a63c-1b0821016228"
      },
      "source": [
        "linear_regression_predictions = linear_regression.predict(X_test)\n",
        "print(linear_regression_predictions)"
      ],
      "execution_count": null,
      "outputs": [
        {
          "output_type": "stream",
          "text": [
            "[ 36.27827405  64.94619771  32.67470927 ... -11.00975079 -11.29744028\n",
            "  28.43380237]\n"
          ],
          "name": "stdout"
        }
      ]
    },
    {
      "cell_type": "code",
      "metadata": {
        "id": "MDEbuqXiXbg_"
      },
      "source": [
        "# EWALUACJA MODELU"
      ],
      "execution_count": null,
      "outputs": []
    },
    {
      "cell_type": "code",
      "metadata": {
        "colab": {
          "base_uri": "https://localhost:8080/"
        },
        "id": "biDDe9TaXnoX",
        "outputId": "66d5e444-41a9-417f-a3fd-e650235f6ad8"
      },
      "source": [
        "from sklearn.metrics import mean_squared_error\n",
        "print(\"Mean squared error of a learned model: %.2f\" % \n",
        "      mean_squared_error(y_test, linear_regression.predict(X_test)))"
      ],
      "execution_count": null,
      "outputs": [
        {
          "output_type": "stream",
          "text": [
            "Mean squared error of a learned model: 2270.00\n"
          ],
          "name": "stdout"
        }
      ]
    },
    {
      "cell_type": "code",
      "metadata": {
        "colab": {
          "base_uri": "https://localhost:8080/"
        },
        "id": "liDVlGkdX9HE",
        "outputId": "d650bb79-1b0b-447a-a8a5-e226421e4583"
      },
      "source": [
        "from sklearn.metrics import r2_score\n",
        "print('Variance score: %.2f' % r2_score(y_test, linear_regression.predict(X_test)))"
      ],
      "execution_count": null,
      "outputs": [
        {
          "output_type": "stream",
          "text": [
            "Variance score: 0.18\n"
          ],
          "name": "stdout"
        }
      ]
    },
    {
      "cell_type": "code",
      "metadata": {
        "colab": {
          "base_uri": "https://localhost:8080/"
        },
        "id": "EsNJxCXbYLF6",
        "outputId": "98b7385d-9c8e-479b-b612-78bddbd9a9fd"
      },
      "source": [
        "from sklearn.model_selection import cross_val_score\n",
        "scores = cross_val_score(LinearRegression(), X, y, cv=4)\n",
        "print(scores)"
      ],
      "execution_count": null,
      "outputs": [
        {
          "output_type": "stream",
          "text": [
            "[  0.11402681 -22.65645845   0.25334255   0.16230449]\n"
          ],
          "name": "stdout"
        }
      ]
    },
    {
      "cell_type": "markdown",
      "metadata": {
        "id": "0gNYWr55haf0"
      },
      "source": [
        "PUNKT 7.3 RNN"
      ]
    },
    {
      "cell_type": "markdown",
      "metadata": {
        "id": "V5kmzIc6hkUs"
      },
      "source": [
        "PUNKT 7.3.1.LSTM"
      ]
    },
    {
      "cell_type": "code",
      "metadata": {
        "colab": {
          "base_uri": "https://localhost:8080/",
          "height": 419
        },
        "id": "NWYrvDkk45VF",
        "outputId": "e4a6d93e-bc42-4583-84de-9e0c6db5831e"
      },
      "source": [
        "geo_df"
      ],
      "execution_count": null,
      "outputs": [
        {
          "output_type": "execute_result",
          "data": {
            "text/html": [
              "<div>\n",
              "<style scoped>\n",
              "    .dataframe tbody tr th:only-of-type {\n",
              "        vertical-align: middle;\n",
              "    }\n",
              "\n",
              "    .dataframe tbody tr th {\n",
              "        vertical-align: top;\n",
              "    }\n",
              "\n",
              "    .dataframe thead th {\n",
              "        text-align: right;\n",
              "    }\n",
              "</style>\n",
              "<table border=\"1\" class=\"dataframe\">\n",
              "  <thead>\n",
              "    <tr style=\"text-align: right;\">\n",
              "      <th></th>\n",
              "      <th>UTC time</th>\n",
              "      <th>temperature</th>\n",
              "      <th>humidity</th>\n",
              "      <th>pressure</th>\n",
              "      <th>pm1</th>\n",
              "      <th>pm25</th>\n",
              "      <th>pm10</th>\n",
              "      <th>id</th>\n",
              "      <th>latitude</th>\n",
              "      <th>longitude</th>\n",
              "    </tr>\n",
              "  </thead>\n",
              "  <tbody>\n",
              "    <tr>\n",
              "      <th>0</th>\n",
              "      <td>2017-01-01 00:00:00</td>\n",
              "      <td>0.0</td>\n",
              "      <td>0.0</td>\n",
              "      <td>0.0</td>\n",
              "      <td>0.0</td>\n",
              "      <td>0.0</td>\n",
              "      <td>0.0</td>\n",
              "      <td>140</td>\n",
              "      <td>50.057747</td>\n",
              "      <td>19.961374</td>\n",
              "    </tr>\n",
              "    <tr>\n",
              "      <th>1</th>\n",
              "      <td>2017-01-01 01:00:00</td>\n",
              "      <td>0.0</td>\n",
              "      <td>0.0</td>\n",
              "      <td>0.0</td>\n",
              "      <td>0.0</td>\n",
              "      <td>0.0</td>\n",
              "      <td>0.0</td>\n",
              "      <td>140</td>\n",
              "      <td>50.057747</td>\n",
              "      <td>19.961374</td>\n",
              "    </tr>\n",
              "    <tr>\n",
              "      <th>2</th>\n",
              "      <td>2017-01-01 02:00:00</td>\n",
              "      <td>0.0</td>\n",
              "      <td>0.0</td>\n",
              "      <td>0.0</td>\n",
              "      <td>0.0</td>\n",
              "      <td>0.0</td>\n",
              "      <td>0.0</td>\n",
              "      <td>140</td>\n",
              "      <td>50.057747</td>\n",
              "      <td>19.961374</td>\n",
              "    </tr>\n",
              "    <tr>\n",
              "      <th>3</th>\n",
              "      <td>2017-01-01 03:00:00</td>\n",
              "      <td>0.0</td>\n",
              "      <td>0.0</td>\n",
              "      <td>0.0</td>\n",
              "      <td>0.0</td>\n",
              "      <td>0.0</td>\n",
              "      <td>0.0</td>\n",
              "      <td>140</td>\n",
              "      <td>50.057747</td>\n",
              "      <td>19.961374</td>\n",
              "    </tr>\n",
              "    <tr>\n",
              "      <th>4</th>\n",
              "      <td>2017-01-01 04:00:00</td>\n",
              "      <td>0.0</td>\n",
              "      <td>0.0</td>\n",
              "      <td>0.0</td>\n",
              "      <td>0.0</td>\n",
              "      <td>0.0</td>\n",
              "      <td>0.0</td>\n",
              "      <td>140</td>\n",
              "      <td>50.057747</td>\n",
              "      <td>19.961374</td>\n",
              "    </tr>\n",
              "    <tr>\n",
              "      <th>...</th>\n",
              "      <td>...</td>\n",
              "      <td>...</td>\n",
              "      <td>...</td>\n",
              "      <td>...</td>\n",
              "      <td>...</td>\n",
              "      <td>...</td>\n",
              "      <td>...</td>\n",
              "      <td>...</td>\n",
              "      <td>...</td>\n",
              "      <td>...</td>\n",
              "    </tr>\n",
              "    <tr>\n",
              "      <th>481203</th>\n",
              "      <td>2017-12-24 20:00:00</td>\n",
              "      <td>5.0</td>\n",
              "      <td>85.0</td>\n",
              "      <td>101798.0</td>\n",
              "      <td>13.0</td>\n",
              "      <td>15.0</td>\n",
              "      <td>26.0</td>\n",
              "      <td>895</td>\n",
              "      <td>50.084966</td>\n",
              "      <td>19.877998</td>\n",
              "    </tr>\n",
              "    <tr>\n",
              "      <th>481204</th>\n",
              "      <td>2017-12-24 21:00:00</td>\n",
              "      <td>5.0</td>\n",
              "      <td>85.0</td>\n",
              "      <td>101840.0</td>\n",
              "      <td>12.0</td>\n",
              "      <td>13.0</td>\n",
              "      <td>23.0</td>\n",
              "      <td>895</td>\n",
              "      <td>50.084966</td>\n",
              "      <td>19.877998</td>\n",
              "    </tr>\n",
              "    <tr>\n",
              "      <th>481205</th>\n",
              "      <td>2017-12-24 22:00:00</td>\n",
              "      <td>5.0</td>\n",
              "      <td>82.0</td>\n",
              "      <td>101839.0</td>\n",
              "      <td>10.0</td>\n",
              "      <td>12.0</td>\n",
              "      <td>21.0</td>\n",
              "      <td>895</td>\n",
              "      <td>50.084966</td>\n",
              "      <td>19.877998</td>\n",
              "    </tr>\n",
              "    <tr>\n",
              "      <th>481206</th>\n",
              "      <td>2017-12-24 23:00:00</td>\n",
              "      <td>5.0</td>\n",
              "      <td>85.0</td>\n",
              "      <td>101837.0</td>\n",
              "      <td>10.0</td>\n",
              "      <td>12.0</td>\n",
              "      <td>21.0</td>\n",
              "      <td>895</td>\n",
              "      <td>50.084966</td>\n",
              "      <td>19.877998</td>\n",
              "    </tr>\n",
              "    <tr>\n",
              "      <th>481207</th>\n",
              "      <td>2017-12-25 00:00:00</td>\n",
              "      <td>5.0</td>\n",
              "      <td>85.0</td>\n",
              "      <td>101840.0</td>\n",
              "      <td>10.0</td>\n",
              "      <td>11.0</td>\n",
              "      <td>20.0</td>\n",
              "      <td>895</td>\n",
              "      <td>50.084966</td>\n",
              "      <td>19.877998</td>\n",
              "    </tr>\n",
              "  </tbody>\n",
              "</table>\n",
              "<p>481208 rows × 10 columns</p>\n",
              "</div>"
            ],
            "text/plain": [
              "                  UTC time  temperature  humidity  ...   id   latitude  longitude\n",
              "0      2017-01-01 00:00:00          0.0       0.0  ...  140  50.057747  19.961374\n",
              "1      2017-01-01 01:00:00          0.0       0.0  ...  140  50.057747  19.961374\n",
              "2      2017-01-01 02:00:00          0.0       0.0  ...  140  50.057747  19.961374\n",
              "3      2017-01-01 03:00:00          0.0       0.0  ...  140  50.057747  19.961374\n",
              "4      2017-01-01 04:00:00          0.0       0.0  ...  140  50.057747  19.961374\n",
              "...                    ...          ...       ...  ...  ...        ...        ...\n",
              "481203 2017-12-24 20:00:00          5.0      85.0  ...  895  50.084966  19.877998\n",
              "481204 2017-12-24 21:00:00          5.0      85.0  ...  895  50.084966  19.877998\n",
              "481205 2017-12-24 22:00:00          5.0      82.0  ...  895  50.084966  19.877998\n",
              "481206 2017-12-24 23:00:00          5.0      85.0  ...  895  50.084966  19.877998\n",
              "481207 2017-12-25 00:00:00          5.0      85.0  ...  895  50.084966  19.877998\n",
              "\n",
              "[481208 rows x 10 columns]"
            ]
          },
          "metadata": {
            "tags": []
          },
          "execution_count": 43
        }
      ]
    },
    {
      "cell_type": "markdown",
      "metadata": {
        "id": "-xMVbH73hh8Z"
      },
      "source": [
        ""
      ]
    },
    {
      "cell_type": "code",
      "metadata": {
        "id": "6--3jSbt5WbW"
      },
      "source": [
        "float_data = geo_df.drop(['UTC time'], axis=1)"
      ],
      "execution_count": null,
      "outputs": []
    },
    {
      "cell_type": "code",
      "metadata": {
        "id": "A86orXFsRBqL",
        "colab": {
          "base_uri": "https://localhost:8080/",
          "height": 419
        },
        "outputId": "b9c37c1f-3caa-4182-c160-d0bf76924673"
      },
      "source": [
        "float_data"
      ],
      "execution_count": null,
      "outputs": [
        {
          "output_type": "execute_result",
          "data": {
            "text/html": [
              "<div>\n",
              "<style scoped>\n",
              "    .dataframe tbody tr th:only-of-type {\n",
              "        vertical-align: middle;\n",
              "    }\n",
              "\n",
              "    .dataframe tbody tr th {\n",
              "        vertical-align: top;\n",
              "    }\n",
              "\n",
              "    .dataframe thead th {\n",
              "        text-align: right;\n",
              "    }\n",
              "</style>\n",
              "<table border=\"1\" class=\"dataframe\">\n",
              "  <thead>\n",
              "    <tr style=\"text-align: right;\">\n",
              "      <th></th>\n",
              "      <th>temperature</th>\n",
              "      <th>humidity</th>\n",
              "      <th>pressure</th>\n",
              "      <th>pm1</th>\n",
              "      <th>pm25</th>\n",
              "      <th>pm10</th>\n",
              "      <th>id</th>\n",
              "      <th>latitude</th>\n",
              "      <th>longitude</th>\n",
              "    </tr>\n",
              "  </thead>\n",
              "  <tbody>\n",
              "    <tr>\n",
              "      <th>0</th>\n",
              "      <td>-0.821052</td>\n",
              "      <td>0.051634</td>\n",
              "      <td>-1.141784</td>\n",
              "      <td>-0.834477</td>\n",
              "      <td>-0.740727</td>\n",
              "      <td>-0.800080</td>\n",
              "      <td>-2.486857</td>\n",
              "      <td>-0.264656</td>\n",
              "      <td>0.371199</td>\n",
              "    </tr>\n",
              "    <tr>\n",
              "      <th>1</th>\n",
              "      <td>-0.821052</td>\n",
              "      <td>0.051634</td>\n",
              "      <td>-1.141784</td>\n",
              "      <td>-0.834477</td>\n",
              "      <td>-0.740727</td>\n",
              "      <td>-0.800080</td>\n",
              "      <td>-2.486857</td>\n",
              "      <td>-0.264656</td>\n",
              "      <td>0.371199</td>\n",
              "    </tr>\n",
              "    <tr>\n",
              "      <th>2</th>\n",
              "      <td>-0.821052</td>\n",
              "      <td>0.051634</td>\n",
              "      <td>-1.141784</td>\n",
              "      <td>-0.834477</td>\n",
              "      <td>-0.740727</td>\n",
              "      <td>-0.800080</td>\n",
              "      <td>-2.486857</td>\n",
              "      <td>-0.264656</td>\n",
              "      <td>0.371199</td>\n",
              "    </tr>\n",
              "    <tr>\n",
              "      <th>3</th>\n",
              "      <td>-0.821052</td>\n",
              "      <td>0.051634</td>\n",
              "      <td>-1.141784</td>\n",
              "      <td>-0.834477</td>\n",
              "      <td>-0.740727</td>\n",
              "      <td>-0.800080</td>\n",
              "      <td>-2.486857</td>\n",
              "      <td>-0.264656</td>\n",
              "      <td>0.371199</td>\n",
              "    </tr>\n",
              "    <tr>\n",
              "      <th>4</th>\n",
              "      <td>-0.821052</td>\n",
              "      <td>0.051634</td>\n",
              "      <td>-1.141784</td>\n",
              "      <td>-0.834477</td>\n",
              "      <td>-0.740727</td>\n",
              "      <td>-0.800080</td>\n",
              "      <td>-2.486857</td>\n",
              "      <td>-0.264656</td>\n",
              "      <td>0.371199</td>\n",
              "    </tr>\n",
              "    <tr>\n",
              "      <th>...</th>\n",
              "      <td>...</td>\n",
              "      <td>...</td>\n",
              "      <td>...</td>\n",
              "      <td>...</td>\n",
              "      <td>...</td>\n",
              "      <td>...</td>\n",
              "      <td>...</td>\n",
              "      <td>...</td>\n",
              "      <td>...</td>\n",
              "    </tr>\n",
              "    <tr>\n",
              "      <th>481203</th>\n",
              "      <td>-0.222500</td>\n",
              "      <td>0.210328</td>\n",
              "      <td>0.878339</td>\n",
              "      <td>-0.426026</td>\n",
              "      <td>-0.323996</td>\n",
              "      <td>-0.313098</td>\n",
              "      <td>50.798755</td>\n",
              "      <td>0.973142</td>\n",
              "      <td>-1.113051</td>\n",
              "    </tr>\n",
              "    <tr>\n",
              "      <th>481204</th>\n",
              "      <td>-0.222500</td>\n",
              "      <td>0.210328</td>\n",
              "      <td>0.879173</td>\n",
              "      <td>-0.457445</td>\n",
              "      <td>-0.379560</td>\n",
              "      <td>-0.369289</td>\n",
              "      <td>50.798755</td>\n",
              "      <td>0.973142</td>\n",
              "      <td>-1.113051</td>\n",
              "    </tr>\n",
              "    <tr>\n",
              "      <th>481205</th>\n",
              "      <td>-0.222500</td>\n",
              "      <td>0.204727</td>\n",
              "      <td>0.879153</td>\n",
              "      <td>-0.520283</td>\n",
              "      <td>-0.407342</td>\n",
              "      <td>-0.406749</td>\n",
              "      <td>50.798755</td>\n",
              "      <td>0.973142</td>\n",
              "      <td>-1.113051</td>\n",
              "    </tr>\n",
              "    <tr>\n",
              "      <th>481206</th>\n",
              "      <td>-0.222500</td>\n",
              "      <td>0.210328</td>\n",
              "      <td>0.879113</td>\n",
              "      <td>-0.520283</td>\n",
              "      <td>-0.407342</td>\n",
              "      <td>-0.406749</td>\n",
              "      <td>50.798755</td>\n",
              "      <td>0.973142</td>\n",
              "      <td>-1.113051</td>\n",
              "    </tr>\n",
              "    <tr>\n",
              "      <th>481207</th>\n",
              "      <td>-0.222500</td>\n",
              "      <td>0.210328</td>\n",
              "      <td>0.879173</td>\n",
              "      <td>-0.520283</td>\n",
              "      <td>-0.435124</td>\n",
              "      <td>-0.425479</td>\n",
              "      <td>50.798755</td>\n",
              "      <td>0.973142</td>\n",
              "      <td>-1.113051</td>\n",
              "    </tr>\n",
              "  </tbody>\n",
              "</table>\n",
              "<p>481208 rows × 9 columns</p>\n",
              "</div>"
            ],
            "text/plain": [
              "        temperature  humidity  pressure  ...         id  latitude  longitude\n",
              "0         -0.821052  0.051634 -1.141784  ...  -2.486857 -0.264656   0.371199\n",
              "1         -0.821052  0.051634 -1.141784  ...  -2.486857 -0.264656   0.371199\n",
              "2         -0.821052  0.051634 -1.141784  ...  -2.486857 -0.264656   0.371199\n",
              "3         -0.821052  0.051634 -1.141784  ...  -2.486857 -0.264656   0.371199\n",
              "4         -0.821052  0.051634 -1.141784  ...  -2.486857 -0.264656   0.371199\n",
              "...             ...       ...       ...  ...        ...       ...        ...\n",
              "481203    -0.222500  0.210328  0.878339  ...  50.798755  0.973142  -1.113051\n",
              "481204    -0.222500  0.210328  0.879173  ...  50.798755  0.973142  -1.113051\n",
              "481205    -0.222500  0.204727  0.879153  ...  50.798755  0.973142  -1.113051\n",
              "481206    -0.222500  0.210328  0.879113  ...  50.798755  0.973142  -1.113051\n",
              "481207    -0.222500  0.210328  0.879173  ...  50.798755  0.973142  -1.113051\n",
              "\n",
              "[481208 rows x 9 columns]"
            ]
          },
          "metadata": {
            "tags": []
          },
          "execution_count": 90
        }
      ]
    },
    {
      "cell_type": "code",
      "metadata": {
        "id": "mF9BHPvW5z96"
      },
      "source": [
        "float_data1 = float_data.values"
      ],
      "execution_count": null,
      "outputs": []
    },
    {
      "cell_type": "code",
      "metadata": {
        "id": "GE8wSfiw6A7-"
      },
      "source": [
        "#  jest 481 tyś wierszy. Podzial: 200 tys wierszy na train_gen, 100 tys wierszy na val_gen, pozostale 181.208 wierszy na test_gen"
      ],
      "execution_count": null,
      "outputs": []
    },
    {
      "cell_type": "markdown",
      "metadata": {
        "id": "b4J0I6md76pZ"
      },
      "source": [
        "Cel: Przewidywanie stężenia pyłu pm10 na 24h do przodu\n",
        "Na podstawie danych sprzed 24h do tyłu\n",
        "steps = 1 bo jedna obserwacja na godzine\n",
        "lookback = 24 bo 24h do tylu patrzymy\n",
        "delay = 24 bo prognozujemy 24h do przodu"
      ]
    },
    {
      "cell_type": "markdown",
      "metadata": {
        "id": "gehTau379WW8"
      },
      "source": [
        "Wartosci z monitoringu wyrażone sa w innej skali (wartości temperatury wahają się od –20 do +30, a ciśnienie atmosferyczne jest wyrażane w milibarach i przyjmuje wartości oscylujące wokół 1000, wartosci pyłu w ppm i oscyluja wokoł....). Dlatego każdą z mierzonych wielkości poddano normalizacji w sposób niezależny. Dzięki temu będą one przyjmowały małe wartości z podobnych zakresów."
      ]
    },
    {
      "cell_type": "code",
      "metadata": {
        "id": "U8NfFN2G9uYa"
      },
      "source": [
        "mean = float_data1[:200000].mean(axis=0)\n",
        "float_data1 -= mean\n",
        "std = float_data1[:200000].std(axis=0)\n",
        "float_data1 /= std"
      ],
      "execution_count": null,
      "outputs": []
    },
    {
      "cell_type": "code",
      "metadata": {
        "id": "D7xrfRALhudT"
      },
      "source": [
        "# OBLICZENIE ODCHYLENIA STANDARDOWEGO DLA KOMUMNY PM10"
      ],
      "execution_count": null,
      "outputs": []
    },
    {
      "cell_type": "code",
      "metadata": {
        "id": "09Mgi8WPh2w_"
      },
      "source": [
        "pm10 = geo_df['pm10']\n",
        "std = pm10.std()\n",
        "# std = 52,53"
      ],
      "execution_count": null,
      "outputs": []
    },
    {
      "cell_type": "code",
      "metadata": {
        "id": "AXEkK2lj-TDj"
      },
      "source": [
        "def generator(data, lookback, delay, min_index, max_index,\n",
        "              shuffle=False, batch_size=128, step=1):\n",
        "    if max_index is None:\n",
        "        max_index = len(data) - delay - 1\n",
        "    i = min_index + lookback\n",
        "    while 1:\n",
        "        if shuffle:\n",
        "            rows = np.random.randint(\n",
        "                min_index + lookback, max_index, size=batch_size)\n",
        "        else:\n",
        "            if i + batch_size >= max_index:\n",
        "                i = min_index + lookback\n",
        "            rows = np.arange(i, min(i + batch_size, max_index))\n",
        "            i += len(rows)\n",
        "\n",
        "        samples = np.zeros((len(rows),\n",
        "                           lookback // step,\n",
        "                           data.shape[-1]))\n",
        "        targets = np.zeros((len(rows),))\n",
        "        for j, row in enumerate(rows):\n",
        "            indices = range(rows[j] - lookback, rows[j], step)\n",
        "            samples[j] = data[indices]\n",
        "            targets[j] = data[rows[j] + delay][5]\n",
        "        yield samples, targets"
      ],
      "execution_count": null,
      "outputs": []
    },
    {
      "cell_type": "code",
      "metadata": {
        "id": "XbXZOB4M-3WF"
      },
      "source": [
        "lookback = 24\n",
        "step = 1\n",
        "delay = 24\n",
        "batch_size = 128\n",
        "\n",
        "train_gen = generator(float_data1,\n",
        "                      lookback=lookback,\n",
        "                      delay=delay,\n",
        "                      min_index=0,\n",
        "                      max_index=200000,\n",
        "                      shuffle=True,\n",
        "                      step=step, \n",
        "                      batch_size=batch_size)\n",
        "val_gen = generator(float_data1,\n",
        "                    lookback=lookback,\n",
        "                    delay=delay,\n",
        "                    min_index=200001,\n",
        "                    max_index=300000,\n",
        "                    step=step,\n",
        "                    batch_size=batch_size)\n",
        "test_gen = generator(float_data1,\n",
        "                     lookback=lookback,\n",
        "                     delay=delay,\n",
        "                     min_index=300001,\n",
        "                     max_index=None,\n",
        "                     step=step,\n",
        "                     batch_size=batch_size)"
      ],
      "execution_count": null,
      "outputs": []
    },
    {
      "cell_type": "code",
      "metadata": {
        "id": "26hLtRq7_K6X"
      },
      "source": [
        "# Liczba kroków pobierania danych z obiektu val_gen \n",
        "# zapewniających przetworzenie całego walidacyjnego zbioru danych.\n",
        "val_steps = (300000 - 200001 - lookback) // batch_size\n",
        "\n",
        "# Liczba kroków pobierania danych z obiektu test_gen, \n",
        "# przy której przetworzony zostanie cały testowy zbiór danych.\n",
        "test_steps = (len(float_data) - 300001 - lookback) // batch_size"
      ],
      "execution_count": null,
      "outputs": []
    },
    {
      "cell_type": "code",
      "metadata": {
        "colab": {
          "base_uri": "https://localhost:8080/"
        },
        "id": "3vEE3aG4G-8c",
        "outputId": "fc7d5c16-7d98-4c75-90ed-a342b16f5cfd"
      },
      "source": [
        "def evaluate_naive_method():\n",
        "    batch_maes = []\n",
        "    for step in range(val_steps):\n",
        "        samples, targets = next(val_gen)\n",
        "        preds = samples[:, -1, 1]\n",
        "        mae = np.mean(np.abs(preds - targets))\n",
        "        batch_maes.append(mae)\n",
        "    print(np.mean(batch_maes))\n",
        "    # print(samples)\n",
        "    \n",
        "evaluate_naive_method()"
      ],
      "execution_count": null,
      "outputs": [
        {
          "output_type": "stream",
          "text": [
            "0.706204177558389\n"
          ],
          "name": "stdout"
        }
      ]
    },
    {
      "cell_type": "markdown",
      "metadata": {
        "id": "KaTnsqi5i20W"
      },
      "source": [
        "Uzyskano wartość równą 0,70.  Uzyskana średnia bezwzględna wartość błędu odpowiada wartosci 36,7ppm (0,70 x pm10_std = 36,7). To bardzo duża średnia wartość błędu. WYDAJE MI SIE ZE TO ODCHYLENIE STANDARDOWE JEST BARDZO DUZE I MUSZA BYC JAKIES WARTOSCI ODSTAJACE NO I WARTOSC ODCHYLENIA STANDARDOWEGO BARDZO ZWIEKSZAJA ZERA  W DANYCH. DO TYCH ANALIZ ALBO TRZEBA USUNAC ZERA ALBO JE USREDNIC"
      ]
    },
    {
      "cell_type": "code",
      "metadata": {
        "id": "ZH_rhzkw_rDo",
        "colab": {
          "base_uri": "https://localhost:8080/",
          "height": 35
        },
        "outputId": "39625726-65ba-4523-d40f-dd71ecef4aac"
      },
      "source": [
        "import keras\n",
        "keras.__version__"
      ],
      "execution_count": null,
      "outputs": [
        {
          "output_type": "execute_result",
          "data": {
            "application/vnd.google.colaboratory.intrinsic+json": {
              "type": "string"
            },
            "text/plain": [
              "'2.4.3'"
            ]
          },
          "metadata": {
            "tags": []
          },
          "execution_count": 102
        }
      ]
    },
    {
      "cell_type": "code",
      "metadata": {
        "id": "4CLpHo8oARz4",
        "colab": {
          "base_uri": "https://localhost:8080/"
        },
        "outputId": "cb77508e-c5a5-4601-be24-def7552305d6"
      },
      "source": [
        "from keras.models import Sequential\n",
        "from keras import layers\n",
        "from keras.optimizers import RMSprop\n",
        "\n",
        "model = Sequential()\n",
        "model.add(layers.Flatten(input_shape=(lookback // step, float_data.shape[-1])))\n",
        "model.add(layers.Dense(32, activation='relu'))\n",
        "model.add(layers.Dense(1))\n",
        "\n",
        "model.compile(optimizer=RMSprop(), loss='mae')\n",
        "history = model.fit_generator(train_gen,\n",
        "                              steps_per_epoch=500,\n",
        "                              epochs=20,\n",
        "                              validation_data=val_gen,\n",
        "                              validation_steps=val_steps)"
      ],
      "execution_count": null,
      "outputs": [
        {
          "output_type": "stream",
          "text": [
            "/usr/local/lib/python3.7/dist-packages/tensorflow/python/keras/engine/training.py:1844: UserWarning: `Model.fit_generator` is deprecated and will be removed in a future version. Please use `Model.fit`, which supports generators.\n",
            "  warnings.warn('`Model.fit_generator` is deprecated and '\n"
          ],
          "name": "stderr"
        },
        {
          "output_type": "stream",
          "text": [
            "Epoch 1/20\n",
            "500/500 [==============================] - 8s 15ms/step - loss: 0.4798 - val_loss: 0.4041\n",
            "Epoch 2/20\n",
            "500/500 [==============================] - 7s 14ms/step - loss: 0.4210 - val_loss: 0.4264\n",
            "Epoch 3/20\n",
            "500/500 [==============================] - 7s 14ms/step - loss: 0.4076 - val_loss: 0.4207\n",
            "Epoch 4/20\n",
            "500/500 [==============================] - 7s 14ms/step - loss: 0.4066 - val_loss: 0.4454\n",
            "Epoch 5/20\n",
            "500/500 [==============================] - 7s 14ms/step - loss: 0.4006 - val_loss: 0.3907\n",
            "Epoch 6/20\n",
            "500/500 [==============================] - 7s 14ms/step - loss: 0.3907 - val_loss: 0.3743\n",
            "Epoch 7/20\n",
            "500/500 [==============================] - 7s 14ms/step - loss: 0.3902 - val_loss: 0.3685\n",
            "Epoch 8/20\n",
            "500/500 [==============================] - 7s 14ms/step - loss: 0.3819 - val_loss: 0.3863\n",
            "Epoch 9/20\n",
            "500/500 [==============================] - 7s 14ms/step - loss: 0.3849 - val_loss: 0.3716\n",
            "Epoch 10/20\n",
            "500/500 [==============================] - 7s 14ms/step - loss: 0.3880 - val_loss: 0.3729\n",
            "Epoch 11/20\n",
            "500/500 [==============================] - 7s 14ms/step - loss: 0.3791 - val_loss: 0.3664\n",
            "Epoch 12/20\n",
            "500/500 [==============================] - 7s 14ms/step - loss: 0.3801 - val_loss: 0.3670\n",
            "Epoch 13/20\n",
            "500/500 [==============================] - 7s 14ms/step - loss: 0.3754 - val_loss: 0.3642\n",
            "Epoch 14/20\n",
            "500/500 [==============================] - 7s 14ms/step - loss: 0.3830 - val_loss: 0.3660\n",
            "Epoch 15/20\n",
            "500/500 [==============================] - 7s 14ms/step - loss: 0.3798 - val_loss: 0.3594\n",
            "Epoch 16/20\n",
            "500/500 [==============================] - 7s 14ms/step - loss: 0.3736 - val_loss: 0.3642\n",
            "Epoch 17/20\n",
            "500/500 [==============================] - 7s 14ms/step - loss: 0.3739 - val_loss: 0.3656\n",
            "Epoch 18/20\n",
            "500/500 [==============================] - 7s 15ms/step - loss: 0.3844 - val_loss: 0.3537\n",
            "Epoch 19/20\n",
            "500/500 [==============================] - 7s 14ms/step - loss: 0.3765 - val_loss: 0.3563\n",
            "Epoch 20/20\n",
            "500/500 [==============================] - 7s 14ms/step - loss: 0.3718 - val_loss: 0.3785\n"
          ],
          "name": "stdout"
        }
      ]
    },
    {
      "cell_type": "code",
      "metadata": {
        "colab": {
          "base_uri": "https://localhost:8080/",
          "height": 281
        },
        "id": "Xr4c85-yFxcx",
        "outputId": "2907dafd-905b-4a81-9f89-9a98fa5d82a7"
      },
      "source": [
        "loss = history.history['loss']\n",
        "val_loss = history.history['val_loss']\n",
        "\n",
        "epochs = range(len(loss))\n",
        "\n",
        "plt.figure()\n",
        "\n",
        "plt.plot(epochs, loss, 'bo', label='Strata trenowania')\n",
        "plt.plot(epochs, val_loss, 'b', label='Strata walidacji')\n",
        "plt.title('Strata trenowania i walidacji')\n",
        "plt.legend()\n",
        "\n",
        "plt.show()"
      ],
      "execution_count": null,
      "outputs": [
        {
          "output_type": "display_data",
          "data": {
            "image/png": "[encoded data removed]",
            "text/plain": [
              "<Figure size 432x288 with 1 Axes>"
            ]
          },
          "metadata": {
            "tags": [],
            "needs_background": "light"
          }
        }
      ]
    },
    {
      "cell_type": "code",
      "metadata": {
        "id": "zU0Gb28gkXAt"
      },
      "source": [
        ""
      ],
      "execution_count": null,
      "outputs": []
    },
    {
      "cell_type": "markdown",
      "metadata": {
        "id": "r-6veCG6km0U"
      },
      "source": [
        "Znacząco pokonaliśmy zdefiniowany wcześniej klasyfikator logiczny 0,7 będący naszym punktem odniesienia. Udowodniliśmy sensowność korzystania z uczenia maszynowego, a także wyższość w tego typu zadaniach sieci rekurencyjnych nad gęstymi sieciami spłaszczającymi sekwencje.\n",
        "\n",
        "Uzyskaliśmy średnią bezwzględna wartość błędu na poziomie ~0,4 (zanim model zaczął ulegać znacznemu przeuczeniu), co odpowiada średniej pomyłce o 0,4 X 52,52 = 21PPM. To wyraźna poprawa względem uzyskanej wcześniej wartości 36 PPM.\n"
      ]
    },
    {
      "cell_type": "markdown",
      "metadata": {
        "id": "4PLREqjXl1sw"
      },
      "source": [
        "PUNKT 7.3.2. GRU"
      ]
    },
    {
      "cell_type": "code",
      "metadata": {
        "colab": {
          "base_uri": "https://localhost:8080/"
        },
        "id": "1oT_jqO1GQIm",
        "outputId": "dab96b47-91f2-4c8c-e939-dfb5dac0bf07"
      },
      "source": [
        "from keras.models import Sequential\n",
        "from keras import layers\n",
        "from keras.optimizers import RMSprop\n",
        "\n",
        "model = Sequential()\n",
        "model.add(layers.GRU(32, input_shape=(None, float_data.shape[-1])))\n",
        "model.add(layers.Dense(1))\n",
        "\n",
        "model.compile(optimizer=RMSprop(), loss='mae')\n",
        "history = model.fit_generator(train_gen,\n",
        "                              steps_per_epoch=500,\n",
        "                              epochs=20,\n",
        "                              validation_data=val_gen,\n",
        "                              validation_steps=val_steps)"
      ],
      "execution_count": null,
      "outputs": [
        {
          "output_type": "stream",
          "text": [
            "/usr/local/lib/python3.7/dist-packages/tensorflow/python/keras/engine/training.py:1844: UserWarning: `Model.fit_generator` is deprecated and will be removed in a future version. Please use `Model.fit`, which supports generators.\n",
            "  warnings.warn('`Model.fit_generator` is deprecated and '\n"
          ],
          "name": "stderr"
        },
        {
          "output_type": "stream",
          "text": [
            "Epoch 1/20\n",
            "500/500 [==============================] - 36s 16ms/step - loss: 0.4375 - val_loss: 0.3840\n",
            "Epoch 2/20\n",
            "500/500 [==============================] - 7s 15ms/step - loss: 0.3995 - val_loss: 0.3789\n",
            "Epoch 3/20\n",
            "500/500 [==============================] - 7s 15ms/step - loss: 0.3884 - val_loss: 0.3733\n",
            "Epoch 4/20\n",
            "500/500 [==============================] - 7s 15ms/step - loss: 0.3810 - val_loss: 0.3786\n",
            "Epoch 5/20\n",
            "500/500 [==============================] - 7s 15ms/step - loss: 0.3810 - val_loss: 0.3746\n",
            "Epoch 6/20\n",
            "500/500 [==============================] - 7s 15ms/step - loss: 0.3794 - val_loss: 0.3743\n",
            "Epoch 7/20\n",
            "500/500 [==============================] - 7s 15ms/step - loss: 0.3800 - val_loss: 0.3733\n",
            "Epoch 8/20\n",
            "500/500 [==============================] - 7s 15ms/step - loss: 0.3727 - val_loss: 0.3650\n",
            "Epoch 9/20\n",
            "500/500 [==============================] - 8s 15ms/step - loss: 0.3691 - val_loss: 0.3714\n",
            "Epoch 10/20\n",
            "500/500 [==============================] - 7s 15ms/step - loss: 0.3662 - val_loss: 0.3699\n",
            "Epoch 11/20\n",
            "500/500 [==============================] - 8s 15ms/step - loss: 0.3707 - val_loss: 0.3621\n",
            "Epoch 12/20\n",
            "500/500 [==============================] - 8s 16ms/step - loss: 0.3641 - val_loss: 0.3675\n",
            "Epoch 13/20\n",
            "500/500 [==============================] - 8s 16ms/step - loss: 0.3624 - val_loss: 0.3667\n",
            "Epoch 14/20\n",
            "500/500 [==============================] - 8s 16ms/step - loss: 0.3631 - val_loss: 0.3568\n",
            "Epoch 15/20\n",
            "500/500 [==============================] - 8s 16ms/step - loss: 0.3590 - val_loss: 0.3552\n",
            "Epoch 16/20\n",
            "500/500 [==============================] - 8s 16ms/step - loss: 0.3519 - val_loss: 0.3571\n",
            "Epoch 17/20\n",
            "500/500 [==============================] - 8s 16ms/step - loss: 0.3512 - val_loss: 0.3557\n",
            "Epoch 18/20\n",
            "500/500 [==============================] - 8s 16ms/step - loss: 0.3491 - val_loss: 0.3568\n",
            "Epoch 19/20\n",
            "500/500 [==============================] - 8s 16ms/step - loss: 0.3533 - val_loss: 0.3524\n",
            "Epoch 20/20\n",
            "500/500 [==============================] - 8s 16ms/step - loss: 0.3449 - val_loss: 0.3547\n"
          ],
          "name": "stdout"
        }
      ]
    },
    {
      "cell_type": "code",
      "metadata": {
        "colab": {
          "base_uri": "https://localhost:8080/",
          "height": 281
        },
        "id": "KtTTUq_JHnRk",
        "outputId": "ca8b1357-b9dd-4e76-cb66-dc08b6483708"
      },
      "source": [
        "loss = history.history['loss']\n",
        "val_loss = history.history['val_loss']\n",
        "\n",
        "epochs = range(len(loss))\n",
        "\n",
        "plt.figure()\n",
        "\n",
        "plt.plot(epochs, loss, 'bo', label='Strata trenowania')\n",
        "plt.plot(epochs, val_loss, 'b', label='Strata walidacji')\n",
        "plt.title('Strata trenowania i walidacji')\n",
        "plt.legend()\n",
        "\n",
        "plt.show()"
      ],
      "execution_count": null,
      "outputs": [
        {
          "output_type": "display_data",
          "data": {
            "image/png": "[encoded data removed]",
            "text/plain": [
              "<Figure size 432x288 with 1 Axes>"
            ]
          },
          "metadata": {
            "tags": [],
            "needs_background": "light"
          }
        }
      ]
    },
    {
      "cell_type": "markdown",
      "metadata": {
        "id": "nhac8FPimNSd"
      },
      "source": [
        "WNIOSKI: FUNKCJA STRATY DLA WALODACJI I TRENOWANIA JEST ZBLIZONA, NIE DOCHODZI DO ZBYTNIEGO PRZEUCZENIA"
      ]
    },
    {
      "cell_type": "code",
      "metadata": {
        "colab": {
          "base_uri": "https://localhost:8080/"
        },
        "id": "W1-Uu4BsH4aU",
        "outputId": "58dada58-9eb4-4d5c-c955-87ab3f9a3f44"
      },
      "source": [
        "from keras.models import Sequential\n",
        "from keras import layers\n",
        "from keras.optimizers import RMSprop\n",
        "\n",
        "model = Sequential()\n",
        "model.add(layers.GRU(32,\n",
        "                     dropout=0.2,\n",
        "                     recurrent_dropout=0.2,\n",
        "                     input_shape=(None, float_data.shape[-1])))\n",
        "model.add(layers.Dense(1))\n",
        "\n",
        "model.compile(optimizer=RMSprop(), loss='mae')\n",
        "history = model.fit_generator(train_gen,\n",
        "                              steps_per_epoch=500,\n",
        "                              epochs=40,\n",
        "                              validation_data=val_gen,\n",
        "                              validation_steps=val_steps)"
      ],
      "execution_count": null,
      "outputs": [
        {
          "output_type": "stream",
          "text": [
            "WARNING:tensorflow:Layer gru_1 will not use cuDNN kernel since it doesn't meet the cuDNN kernel criteria. It will use generic GPU kernel as fallback when running on GPU\n"
          ],
          "name": "stdout"
        },
        {
          "output_type": "stream",
          "text": [
            "/usr/local/lib/python3.7/dist-packages/tensorflow/python/keras/engine/training.py:1844: UserWarning: `Model.fit_generator` is deprecated and will be removed in a future version. Please use `Model.fit`, which supports generators.\n",
            "  warnings.warn('`Model.fit_generator` is deprecated and '\n"
          ],
          "name": "stderr"
        },
        {
          "output_type": "stream",
          "text": [
            "Epoch 1/40\n",
            "500/500 [==============================] - 65s 124ms/step - loss: 0.4443 - val_loss: 0.3928\n",
            "Epoch 2/40\n",
            "500/500 [==============================] - 62s 124ms/step - loss: 0.4254 - val_loss: 0.3779\n",
            "Epoch 3/40\n",
            "500/500 [==============================] - 61s 123ms/step - loss: 0.4062 - val_loss: 0.3715\n",
            "Epoch 4/40\n",
            "500/500 [==============================] - 61s 123ms/step - loss: 0.3980 - val_loss: 0.3647\n",
            "Epoch 5/40\n",
            "500/500 [==============================] - 61s 123ms/step - loss: 0.3925 - val_loss: 0.3624\n",
            "Epoch 6/40\n",
            "500/500 [==============================] - 61s 122ms/step - loss: 0.3970 - val_loss: 0.3597\n",
            "Epoch 7/40\n",
            "500/500 [==============================] - 61s 123ms/step - loss: 0.3839 - val_loss: 0.3662\n",
            "Epoch 8/40\n",
            "500/500 [==============================] - 62s 123ms/step - loss: 0.3882 - val_loss: 0.3582\n",
            "Epoch 9/40\n",
            "500/500 [==============================] - 62s 124ms/step - loss: 0.3826 - val_loss: 0.3550\n",
            "Epoch 10/40\n",
            "500/500 [==============================] - 62s 124ms/step - loss: 0.3860 - val_loss: 0.3561\n",
            "Epoch 11/40\n",
            "500/500 [==============================] - 62s 124ms/step - loss: 0.3830 - val_loss: 0.3594\n",
            "Epoch 12/40\n",
            "500/500 [==============================] - 62s 125ms/step - loss: 0.3779 - val_loss: 0.3528\n",
            "Epoch 13/40\n",
            "500/500 [==============================] - 62s 124ms/step - loss: 0.3794 - val_loss: 0.3451\n",
            "Epoch 14/40\n",
            "500/500 [==============================] - 62s 125ms/step - loss: 0.3746 - val_loss: 0.3485\n",
            "Epoch 15/40\n",
            "500/500 [==============================] - 63s 125ms/step - loss: 0.3766 - val_loss: 0.3456\n",
            "Epoch 16/40\n",
            "500/500 [==============================] - 63s 125ms/step - loss: 0.3771 - val_loss: 0.3484\n",
            "Epoch 17/40\n",
            "500/500 [==============================] - 62s 124ms/step - loss: 0.3706 - val_loss: 0.3506\n",
            "Epoch 18/40\n",
            "500/500 [==============================] - 62s 124ms/step - loss: 0.3682 - val_loss: 0.3441\n",
            "Epoch 19/40\n",
            "500/500 [==============================] - 62s 124ms/step - loss: 0.3703 - val_loss: 0.3451\n",
            "Epoch 20/40\n",
            "500/500 [==============================] - 62s 125ms/step - loss: 0.3691 - val_loss: 0.3472\n",
            "Epoch 21/40\n",
            "500/500 [==============================] - 62s 124ms/step - loss: 0.3687 - val_loss: 0.3407\n",
            "Epoch 22/40\n",
            "500/500 [==============================] - 62s 124ms/step - loss: 0.3680 - val_loss: 0.3410\n",
            "Epoch 23/40\n",
            "500/500 [==============================] - 62s 123ms/step - loss: 0.3628 - val_loss: 0.3412\n",
            "Epoch 24/40\n",
            "500/500 [==============================] - 62s 124ms/step - loss: 0.3717 - val_loss: 0.3433\n",
            "Epoch 25/40\n",
            "500/500 [==============================] - 62s 124ms/step - loss: 0.3707 - val_loss: 0.3396\n",
            "Epoch 26/40\n",
            "500/500 [==============================] - 62s 124ms/step - loss: 0.3656 - val_loss: 0.3361\n",
            "Epoch 27/40\n",
            "500/500 [==============================] - 62s 124ms/step - loss: 0.3610 - val_loss: 0.3388\n",
            "Epoch 28/40\n",
            "500/500 [==============================] - 62s 124ms/step - loss: 0.3620 - val_loss: 0.3371\n",
            "Epoch 29/40\n",
            "500/500 [==============================] - 62s 124ms/step - loss: 0.3629 - val_loss: 0.3380\n",
            "Epoch 30/40\n",
            "500/500 [==============================] - 62s 125ms/step - loss: 0.3630 - val_loss: 0.3370\n",
            "Epoch 31/40\n",
            "500/500 [==============================] - 62s 124ms/step - loss: 0.3645 - val_loss: 0.3373\n",
            "Epoch 32/40\n",
            "500/500 [==============================] - 62s 124ms/step - loss: 0.3669 - val_loss: 0.3312\n",
            "Epoch 33/40\n",
            "500/500 [==============================] - 62s 123ms/step - loss: 0.3594 - val_loss: 0.3318\n",
            "Epoch 34/40\n",
            "500/500 [==============================] - 62s 123ms/step - loss: 0.3614 - val_loss: 0.3310\n",
            "Epoch 35/40\n",
            "500/500 [==============================] - 62s 124ms/step - loss: 0.3539 - val_loss: 0.3391\n",
            "Epoch 36/40\n",
            "500/500 [==============================] - 61s 123ms/step - loss: 0.3553 - val_loss: 0.3298\n",
            "Epoch 37/40\n",
            "500/500 [==============================] - 62s 124ms/step - loss: 0.3591 - val_loss: 0.3324\n",
            "Epoch 38/40\n",
            "500/500 [==============================] - 62s 124ms/step - loss: 0.3572 - val_loss: 0.3322\n",
            "Epoch 39/40\n",
            "500/500 [==============================] - 62s 125ms/step - loss: 0.3550 - val_loss: 0.3350\n",
            "Epoch 40/40\n",
            "500/500 [==============================] - 63s 125ms/step - loss: 0.3573 - val_loss: 0.3271\n"
          ],
          "name": "stdout"
        }
      ]
    },
    {
      "cell_type": "code",
      "metadata": {
        "colab": {
          "base_uri": "https://localhost:8080/",
          "height": 281
        },
        "id": "pueTSu2KTZFn",
        "outputId": "69931d4f-318d-4459-d128-006027bf0c98"
      },
      "source": [
        "loss = history.history['loss']\n",
        "val_loss = history.history['val_loss']\n",
        "\n",
        "epochs = range(len(loss))\n",
        "\n",
        "plt.figure()\n",
        "\n",
        "plt.plot(epochs, loss, 'bo', label='Strata trenowania')\n",
        "plt.plot(epochs, val_loss, 'b', label='Strata walidacji')\n",
        "plt.title('Strata trenowania i walidacji')\n",
        "plt.legend()\n",
        "\n",
        "plt.show()"
      ],
      "execution_count": null,
      "outputs": [
        {
          "output_type": "display_data",
          "data": {
            "image/png": "[encoded data removed]",
            "text/plain": [
              "<Figure size 432x288 with 1 Axes>"
            ]
          },
          "metadata": {
            "tags": [],
            "needs_background": "light"
          }
        }
      ]
    }
  ]
}